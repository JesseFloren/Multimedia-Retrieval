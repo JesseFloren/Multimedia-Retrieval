{
 "cells": [
  {
   "cell_type": "code",
   "execution_count": 8,
   "metadata": {},
   "outputs": [],
   "source": [
    "import open3d as o3d\n",
    "import numpy as np"
   ]
  },
  {
   "cell_type": "code",
   "execution_count": 9,
   "metadata": {},
   "outputs": [
    {
     "name": "stdout",
     "output_type": "stream",
     "text": [
      "alpha=0.300\n",
      "[Open3D WARNING] GLFW Error: WGL: Failed to make context current: De ingang is ongeldig. \n"
     ]
    }
   ],
   "source": [
    "dbpath = r\"./resampledPML/\"\n",
    "mesh_path = dbpath + r\"AircraftBuoyant/m1342.obj\"\n",
    "\n",
    "mesh = o3d.io.read_triangle_mesh(mesh_path)\n",
    "mesh.compute_vertex_normals()\n",
    "\n",
    "pcd = mesh.sample_points_poisson_disk(750)\n",
    "alpha = 0.3\n",
    "print(f\"alpha={alpha:.3f}\")\n",
    "mesh = o3d.geometry.TriangleMesh.create_from_point_cloud_alpha_shape(pcd, alpha)\n",
    "mesh.compute_vertex_normals()\n",
    "o3d.visualization.draw_geometries([mesh], mesh_show_back_face=True)"
   ]
  },
  {
   "cell_type": "markdown",
   "metadata": {},
   "source": []
  },
  {
   "cell_type": "code",
   "execution_count": 10,
   "metadata": {},
   "outputs": [],
   "source": [
    "import open3d as o3d\n",
    "import numpy as np\n",
    "import os\n",
    "import glob\n",
    "import pandas as pd\n",
    "import pymeshlab as pml\n",
    "import time\n",
    "import matplotlib as plt\n",
    "import copy\n",
    "\n",
    "\n",
    "def o3d_to_pml(mesh):\n",
    "    tmp_file_name = \"temp.obj\"\n",
    "    o3d.io.write_triangle_mesh(tmp_file_name, mesh)\n",
    "    # if not os.path.exists(tmp_file_name):\n",
    "    #     print(f\"File '{tmp_file_name}' doesn't exist. Waiting for 1 second...\")\n",
    "    #     time.sleep(1)    \n",
    "    mesh_pml = pml.MeshSet()\n",
    "    mesh_pml.load_new_mesh(tmp_file_name)\n",
    "    os.remove(tmp_file_name)\n",
    "    return mesh_pml"
   ]
  },
  {
   "cell_type": "code",
   "execution_count": 11,
   "metadata": {},
   "outputs": [],
   "source": [
    "def consistent_normals(mesh_path):\n",
    "    mesh = o3d.io.read_triangle_mesh(mesh_path)\n",
    "    #o3d.visualization.draw_geometries([mesh], mesh_show_back_face=True)\n",
    "    # render normals and make them consisitent\n",
    "    pcd = mesh.sample_points_poisson_disk(7000)\n",
    "    pcd.normals = o3d.utility.Vector3dVector(np.zeros((1, 3)))  # invalidate existing normals\n",
    "    pcd.estimate_normals()\n",
    "    pcd.orient_normals_consistent_tangent_plane(100)\n",
    "    o3d.visualization.draw_geometries([pcd], point_show_normal=True)\n",
    "\n",
    "    #convert pointcloud back to mesh\n",
    "    #mesh, densities = o3d.geometry.TriangleMesh.create_from_point_cloud_poisson(pcd, depth=4)\n",
    "    \n",
    "    for i in range(4,12):\n",
    "        mesh = o3d.geometry.TriangleMesh.create_from_point_cloud_poisson(pcd, depth=i)[0]\n",
    "        if mesh.is_watertight() == True:\n",
    "            #o3d.visualization.draw_geometries([mesh], point_show_normal=True)\n",
    "            #mesh = remove_smallest(mesh)\n",
    "            return mesh\n",
    " \n"
   ]
  },
  {
   "cell_type": "code",
   "execution_count": 5,
   "metadata": {},
   "outputs": [
    {
     "name": "stdout",
     "output_type": "stream",
     "text": [
      "True\n",
      "0.028230478040506754\n"
     ]
    }
   ],
   "source": [
    "dbpath = r\"./resampledPML/\"\n",
    "mesh_path = dbpath + r\"AircraftBuoyant/m1340.obj\"\n",
    "mesh = consistent_normals(mesh_path)\n",
    "print(mesh.is_watertight())\n",
    "v = o3d.geometry.TriangleMesh.get_volume(mesh)\n",
    "print(v)"
   ]
  },
  {
   "cell_type": "code",
   "execution_count": 6,
   "metadata": {},
   "outputs": [],
   "source": [
    "def remove_smallest(mesh):\n",
    "    #o3d.visualization.draw_geometries([mesh])\n",
    "\n",
    "    with o3d.utility.VerbosityContextManager(\n",
    "            o3d.utility.VerbosityLevel.Debug) as cm:\n",
    "        triangle_clusters, cluster_n_triangles, cluster_area = (\n",
    "            mesh.cluster_connected_triangles())\n",
    "    triangle_clusters = np.asarray(triangle_clusters)\n",
    "    cluster_n_triangles = np.asarray(cluster_n_triangles)\n",
    "    cluster_area = np.asarray(cluster_area)\n",
    "\n",
    "    #remove smaller cluster\n",
    "    mesh_0 = copy.deepcopy(mesh)\n",
    "    triangles_to_remove = cluster_n_triangles[triangle_clusters] < 1000\n",
    "    mesh_0.remove_triangles_by_mask(triangles_to_remove)\n",
    "    #o3d.visualization.draw_geometries([mesh_0])\n",
    "    return mesh_0"
   ]
  },
  {
   "cell_type": "code",
   "execution_count": 7,
   "metadata": {},
   "outputs": [
    {
     "name": "stdout",
     "output_type": "stream",
     "text": [
      "0.028198002723665003\n"
     ]
    }
   ],
   "source": [
    "dbpath = r\"./resampledPML/\"\n",
    "mesh_path = dbpath + r\"AircraftBuoyant/m1340.obj\"\n",
    "mesh = consistent_normals(mesh_path)\n",
    "v = o3d.geometry.TriangleMesh.get_volume(mesh)\n",
    "print(v)\n",
    "dbpath = r\"./test_normals/\"\n",
    "new_path = dbpath + r\"m1356.obj\"\n",
    "mesh = o3d_to_pml(mesh)\n",
    "mesh.save_current_mesh(new_path)"
   ]
  },
  {
   "cell_type": "code",
   "execution_count": 43,
   "metadata": {},
   "outputs": [
    {
     "ename": "KeyboardInterrupt",
     "evalue": "",
     "output_type": "error",
     "traceback": [
      "\u001b[1;31m---------------------------------------------------------------------------\u001b[0m",
      "\u001b[1;31mKeyboardInterrupt\u001b[0m                         Traceback (most recent call last)",
      "\u001b[1;32mc:\\Users\\bas\\Desktop\\multimedia retrieval project\\Multimedia-Retrieval\\closing_holes_test.ipynb Cell 9\u001b[0m line \u001b[0;36m3\n\u001b[0;32m      <a href='vscode-notebook-cell:/c%3A/Users/bas/Desktop/multimedia%20retrieval%20project/Multimedia-Retrieval/closing_holes_test.ipynb#X23sZmlsZQ%3D%3D?line=0'>1</a>\u001b[0m dbpath \u001b[39m=\u001b[39m \u001b[39mr\u001b[39m\u001b[39m\"\u001b[39m\u001b[39m./test_normals/\u001b[39m\u001b[39m\"\u001b[39m\n\u001b[0;32m      <a href='vscode-notebook-cell:/c%3A/Users/bas/Desktop/multimedia%20retrieval%20project/Multimedia-Retrieval/closing_holes_test.ipynb#X23sZmlsZQ%3D%3D?line=1'>2</a>\u001b[0m mesh_path \u001b[39m=\u001b[39m dbpath \u001b[39m+\u001b[39m \u001b[39mr\u001b[39m\u001b[39m\"\u001b[39m\u001b[39mm1342.obj\u001b[39m\u001b[39m\"\u001b[39m\n\u001b[1;32m----> <a href='vscode-notebook-cell:/c%3A/Users/bas/Desktop/multimedia%20retrieval%20project/Multimedia-Retrieval/closing_holes_test.ipynb#X23sZmlsZQ%3D%3D?line=2'>3</a>\u001b[0m mesh \u001b[39m=\u001b[39m consistent_normals(mesh_path)\n",
      "\u001b[1;32mc:\\Users\\bas\\Desktop\\multimedia retrieval project\\Multimedia-Retrieval\\closing_holes_test.ipynb Cell 9\u001b[0m line \u001b[0;36m1\n\u001b[0;32m      <a href='vscode-notebook-cell:/c%3A/Users/bas/Desktop/multimedia%20retrieval%20project/Multimedia-Retrieval/closing_holes_test.ipynb#X23sZmlsZQ%3D%3D?line=8'>9</a>\u001b[0m \u001b[39m#o3d.visualization.draw_geometries([pcd], point_show_normal=True)\u001b[39;00m\n\u001b[0;32m     <a href='vscode-notebook-cell:/c%3A/Users/bas/Desktop/multimedia%20retrieval%20project/Multimedia-Retrieval/closing_holes_test.ipynb#X23sZmlsZQ%3D%3D?line=9'>10</a>\u001b[0m \n\u001b[0;32m     <a href='vscode-notebook-cell:/c%3A/Users/bas/Desktop/multimedia%20retrieval%20project/Multimedia-Retrieval/closing_holes_test.ipynb#X23sZmlsZQ%3D%3D?line=10'>11</a>\u001b[0m \u001b[39m#convert pointcloud back to mesh\u001b[39;00m\n\u001b[0;32m     <a href='vscode-notebook-cell:/c%3A/Users/bas/Desktop/multimedia%20retrieval%20project/Multimedia-Retrieval/closing_holes_test.ipynb#X23sZmlsZQ%3D%3D?line=11'>12</a>\u001b[0m \u001b[39m#mesh, densities = o3d.geometry.TriangleMesh.create_from_point_cloud_poisson(pcd, depth=4)\u001b[39;00m\n\u001b[0;32m     <a href='vscode-notebook-cell:/c%3A/Users/bas/Desktop/multimedia%20retrieval%20project/Multimedia-Retrieval/closing_holes_test.ipynb#X23sZmlsZQ%3D%3D?line=15'>16</a>\u001b[0m \u001b[39mfor\u001b[39;00m i \u001b[39min\u001b[39;00m \u001b[39mrange\u001b[39m(\u001b[39m4\u001b[39m,\u001b[39m12\u001b[39m):\n\u001b[1;32m---> <a href='vscode-notebook-cell:/c%3A/Users/bas/Desktop/multimedia%20retrieval%20project/Multimedia-Retrieval/closing_holes_test.ipynb#X23sZmlsZQ%3D%3D?line=16'>17</a>\u001b[0m     mesh \u001b[39m=\u001b[39m o3d\u001b[39m.\u001b[39mgeometry\u001b[39m.\u001b[39mTriangleMesh\u001b[39m.\u001b[39mcreate_from_point_cloud_poisson(pcd, depth\u001b[39m=\u001b[39mi\u001b[39m+\u001b[39m\u001b[39m2\u001b[39m)[\u001b[39m0\u001b[39m]\n\u001b[0;32m     <a href='vscode-notebook-cell:/c%3A/Users/bas/Desktop/multimedia%20retrieval%20project/Multimedia-Retrieval/closing_holes_test.ipynb#X23sZmlsZQ%3D%3D?line=17'>18</a>\u001b[0m     \u001b[39mif\u001b[39;00m mesh\u001b[39m.\u001b[39mis_watertight() \u001b[39m==\u001b[39m \u001b[39mTrue\u001b[39;00m:\n\u001b[0;32m     <a href='vscode-notebook-cell:/c%3A/Users/bas/Desktop/multimedia%20retrieval%20project/Multimedia-Retrieval/closing_holes_test.ipynb#X23sZmlsZQ%3D%3D?line=18'>19</a>\u001b[0m         o3d\u001b[39m.\u001b[39mvisualization\u001b[39m.\u001b[39mdraw_geometries([mesh], point_show_normal\u001b[39m=\u001b[39m\u001b[39mTrue\u001b[39;00m)\n",
      "\u001b[1;31mKeyboardInterrupt\u001b[0m: "
     ]
    }
   ],
   "source": [
    "dbpath = r\"./test_normals/\"\n",
    "mesh_path = dbpath + r\"m1342.obj\"\n",
    "mesh = consistent_normals(mesh_path)"
   ]
  },
  {
   "cell_type": "markdown",
   "metadata": {},
   "source": [
    "***make alpha hull***"
   ]
  },
  {
   "cell_type": "code",
   "execution_count": 23,
   "metadata": {},
   "outputs": [],
   "source": [
    "dbpath = r\"./resampledPML/\"\n",
    "mesh_path = dbpath + r\"AircraftBuoyant/m1339.obj\"\n",
    "\n",
    "def alpha_shape(mesh_path, alpha):\n",
    "    mesh = o3d.io.read_triangle_mesh(mesh_path)\n",
    "    pcd = gt_mesh.sample_points_poisson_disk(5000)\n",
    "    mesh = o3d.geometry.TriangleMesh.create_from_point_cloud_alpha_shape(pcd, alpha)\n",
    "    return mesh\n"
   ]
  },
  {
   "cell_type": "code",
   "execution_count": 24,
   "metadata": {},
   "outputs": [
    {
     "name": "stdout",
     "output_type": "stream",
     "text": [
      "[Open3D WARNING] GLFW Error: WGL: Failed to make context current: De ingang is ongeldig. \n",
      "[Open3D WARNING] GLFW Error: WGL: Failed to make context current: De aangevraagde overdrachtsbewerking wordt niet ondersteund. \n",
      "[Open3D WARNING] GLFW Error: WGL: Failed to make context current: De ingang is ongeldig. \n",
      "[Open3D WARNING] GLFW Error: WGL: Failed to make context current: De ingang is ongeldig. \n"
     ]
    }
   ],
   "source": [
    "alpha = 0.2\n",
    "dbpath = r\"./resampledPML/\"\n",
    "mesh_path = dbpath + r\"AircraftBuoyant/m1339.obj\"\n",
    "\n",
    "mesh = alpha_shape(mesh_path, 0.2)\n",
    "o3d.visualization.draw_geometries([mesh], mesh_show_back_face=False)"
   ]
  },
  {
   "cell_type": "code",
   "execution_count": 43,
   "metadata": {},
   "outputs": [],
   "source": [
    "import trimesh\n",
    "import scipy"
   ]
  },
  {
   "cell_type": "code",
   "execution_count": 64,
   "metadata": {},
   "outputs": [],
   "source": [
    "def fix_mesh(mesh_path):\n",
    "    mesh = o3d.io.read_triangle_mesh(mesh_path)\n",
    "    #o3d.visualization.draw_geometries([mesh], mesh_show_back_face=True)\n",
    "    # render normals and make them consisitent\n",
    "    pcd = mesh.sample_points_poisson_disk(7000)\n",
    "    pcd.normals = o3d.utility.Vector3dVector(np.zeros((1, 3)))  # invalidate existing normals\n",
    "    pcd.estimate_normals()\n",
    "    pcd.orient_normals_consistent_tangent_plane(100)\n",
    "    #radii = [0.005, 0.01, 0.02, 0.04]\n",
    "    radii = None\n",
    "\n",
    "\n",
    "    nn_distances = pcd.compute_nearest_neighbor_distance()\n",
    "    avg_nn_distance = np.mean(nn_distances)\n",
    "    radius_of_ball = 3 * avg_nn_distance\n",
    "    # heuristic to estimate the radius of a rolling ball\n",
    "    #if radii is None:\n",
    "    #    distances = pcd.compute_nearest_neighbor_distance()\n",
    "    #    avg_dist = np.mean(distances)\n",
    "    #    radius = 1.5 * avg_dist   \n",
    "    #    radii = [radius, radius * 2]\n",
    "\n",
    "    radii = [radius_of_ball, radius_of_ball]\n",
    "    #radii = [0.03, 0.04, 0.05, 0.1]\n",
    "    mesh = o3d.geometry.TriangleMesh.create_from_point_cloud_ball_pivoting(pcd, o3d.utility.DoubleVector(radii))\n",
    "    o3d.visualization.draw_geometries([mesh])\n",
    "    print(mesh)\n",
    "    mesh = mesh.fill_holes() #hole_size: float = 1000000.0\n",
    "    #mesh = trimesh.Trimesh(np.asarray(mesh.vertices), np.asarray(mesh.triangles), vertex_normals=np.asarray(mesh.vertex_normals))\n",
    "    # try to fix normals with Trimesh\n",
    "    #mesh.fix_normals()\n",
    "    # save mesh:\n",
    "    # mesh.export('../logs/mesh.obj')\n",
    "    \n",
    "    return mesh"
   ]
  },
  {
   "cell_type": "code",
   "execution_count": 65,
   "metadata": {},
   "outputs": [
    {
     "name": "stdout",
     "output_type": "stream",
     "text": [
      "[Open3D WARNING] GLFW Error: WGL: Failed to make context current: De aangevraagde overdrachtsbewerking wordt niet ondersteund. \n",
      "[Open3D WARNING] GLFW Error: WGL: Failed to make context current: De ingang is ongeldig. \n",
      "TriangleMesh with 7000 points and 9145 triangles.\n"
     ]
    },
    {
     "ename": "AttributeError",
     "evalue": "'open3d.cpu.pybind.geometry.TriangleMesh' object has no attribute 'fill_holes'",
     "output_type": "error",
     "traceback": [
      "\u001b[1;31m---------------------------------------------------------------------------\u001b[0m",
      "\u001b[1;31mAttributeError\u001b[0m                            Traceback (most recent call last)",
      "\u001b[1;32mc:\\Users\\bas\\Desktop\\multimedia retrieval project\\Multimedia-Retrieval\\closing_holes_test.ipynb Cell 15\u001b[0m line \u001b[0;36m4\n\u001b[0;32m      <a href='vscode-notebook-cell:/c%3A/Users/bas/Desktop/multimedia%20retrieval%20project/Multimedia-Retrieval/closing_holes_test.ipynb#X26sZmlsZQ%3D%3D?line=1'>2</a>\u001b[0m \u001b[39m#mesh_path = dbpath + r\"AircraftBuoyant/m1339.obj\"\u001b[39;00m\n\u001b[0;32m      <a href='vscode-notebook-cell:/c%3A/Users/bas/Desktop/multimedia%20retrieval%20project/Multimedia-Retrieval/closing_holes_test.ipynb#X26sZmlsZQ%3D%3D?line=2'>3</a>\u001b[0m mesh_path \u001b[39m=\u001b[39m dbpath \u001b[39m+\u001b[39m \u001b[39mr\u001b[39m\u001b[39m\"\u001b[39m\u001b[39mApartment/D00045.obj\u001b[39m\u001b[39m\"\u001b[39m\n\u001b[1;32m----> <a href='vscode-notebook-cell:/c%3A/Users/bas/Desktop/multimedia%20retrieval%20project/Multimedia-Retrieval/closing_holes_test.ipynb#X26sZmlsZQ%3D%3D?line=3'>4</a>\u001b[0m mesh \u001b[39m=\u001b[39m fix_mesh(mesh_path)\n\u001b[0;32m      <a href='vscode-notebook-cell:/c%3A/Users/bas/Desktop/multimedia%20retrieval%20project/Multimedia-Retrieval/closing_holes_test.ipynb#X26sZmlsZQ%3D%3D?line=4'>5</a>\u001b[0m \u001b[39mprint\u001b[39m(mesh\u001b[39m.\u001b[39mis_watertight())\n\u001b[0;32m      <a href='vscode-notebook-cell:/c%3A/Users/bas/Desktop/multimedia%20retrieval%20project/Multimedia-Retrieval/closing_holes_test.ipynb#X26sZmlsZQ%3D%3D?line=5'>6</a>\u001b[0m \u001b[39m#v = o3d.geometry.TriangleMesh.get_volume(mesh)\u001b[39;00m\n",
      "\u001b[1;32mc:\\Users\\bas\\Desktop\\multimedia retrieval project\\Multimedia-Retrieval\\closing_holes_test.ipynb Cell 15\u001b[0m line \u001b[0;36m2\n\u001b[0;32m     <a href='vscode-notebook-cell:/c%3A/Users/bas/Desktop/multimedia%20retrieval%20project/Multimedia-Retrieval/closing_holes_test.ipynb#X26sZmlsZQ%3D%3D?line=25'>26</a>\u001b[0m o3d\u001b[39m.\u001b[39mvisualization\u001b[39m.\u001b[39mdraw_geometries([mesh])\n\u001b[0;32m     <a href='vscode-notebook-cell:/c%3A/Users/bas/Desktop/multimedia%20retrieval%20project/Multimedia-Retrieval/closing_holes_test.ipynb#X26sZmlsZQ%3D%3D?line=26'>27</a>\u001b[0m \u001b[39mprint\u001b[39m(mesh)\n\u001b[1;32m---> <a href='vscode-notebook-cell:/c%3A/Users/bas/Desktop/multimedia%20retrieval%20project/Multimedia-Retrieval/closing_holes_test.ipynb#X26sZmlsZQ%3D%3D?line=27'>28</a>\u001b[0m mesh \u001b[39m=\u001b[39m mesh\u001b[39m.\u001b[39;49mfill_holes() \u001b[39m#hole_size: float = 1000000.0\u001b[39;00m\n\u001b[0;32m     <a href='vscode-notebook-cell:/c%3A/Users/bas/Desktop/multimedia%20retrieval%20project/Multimedia-Retrieval/closing_holes_test.ipynb#X26sZmlsZQ%3D%3D?line=28'>29</a>\u001b[0m \u001b[39m#mesh = trimesh.Trimesh(np.asarray(mesh.vertices), np.asarray(mesh.triangles), vertex_normals=np.asarray(mesh.vertex_normals))\u001b[39;00m\n\u001b[0;32m     <a href='vscode-notebook-cell:/c%3A/Users/bas/Desktop/multimedia%20retrieval%20project/Multimedia-Retrieval/closing_holes_test.ipynb#X26sZmlsZQ%3D%3D?line=29'>30</a>\u001b[0m \u001b[39m# try to fix normals with Trimesh\u001b[39;00m\n\u001b[0;32m     <a href='vscode-notebook-cell:/c%3A/Users/bas/Desktop/multimedia%20retrieval%20project/Multimedia-Retrieval/closing_holes_test.ipynb#X26sZmlsZQ%3D%3D?line=30'>31</a>\u001b[0m \u001b[39m#mesh.fix_normals()\u001b[39;00m\n\u001b[0;32m     <a href='vscode-notebook-cell:/c%3A/Users/bas/Desktop/multimedia%20retrieval%20project/Multimedia-Retrieval/closing_holes_test.ipynb#X26sZmlsZQ%3D%3D?line=31'>32</a>\u001b[0m \u001b[39m# save mesh:\u001b[39;00m\n\u001b[0;32m     <a href='vscode-notebook-cell:/c%3A/Users/bas/Desktop/multimedia%20retrieval%20project/Multimedia-Retrieval/closing_holes_test.ipynb#X26sZmlsZQ%3D%3D?line=32'>33</a>\u001b[0m \u001b[39m# mesh.export('../logs/mesh.obj')\u001b[39;00m\n\u001b[0;32m     <a href='vscode-notebook-cell:/c%3A/Users/bas/Desktop/multimedia%20retrieval%20project/Multimedia-Retrieval/closing_holes_test.ipynb#X26sZmlsZQ%3D%3D?line=34'>35</a>\u001b[0m \u001b[39mreturn\u001b[39;00m mesh\n",
      "\u001b[1;31mAttributeError\u001b[0m: 'open3d.cpu.pybind.geometry.TriangleMesh' object has no attribute 'fill_holes'"
     ]
    }
   ],
   "source": [
    "dbpath = r\"./resampledO3D/\"\n",
    "#mesh_path = dbpath + r\"AircraftBuoyant/m1339.obj\"\n",
    "mesh_path = dbpath + r\"Apartment/D00045.obj\"\n",
    "mesh = fix_mesh(mesh_path)\n",
    "print(mesh.is_watertight())\n",
    "#v = o3d.geometry.TriangleMesh.get_volume(mesh)\n",
    "print(v)"
   ]
  },
  {
   "cell_type": "code",
   "execution_count": null,
   "metadata": {},
   "outputs": [],
   "source": []
  },
  {
   "cell_type": "code",
   "execution_count": 68,
   "metadata": {},
   "outputs": [
    {
     "name": "stdout",
     "output_type": "stream",
     "text": [
      "TriangleMesh with 7363 points and 24692 triangles.\n",
      "False\n"
     ]
    },
    {
     "ename": "RuntimeError",
     "evalue": "[Open3D Error] (double __cdecl open3d::geometry::TriangleMesh::GetVolume(void) const) D:\\a\\Open3D\\Open3D\\cpp\\open3d\\geometry\\TriangleMesh.cpp:1201: The mesh is not watertight, and the volume cannot be computed.\n",
     "output_type": "error",
     "traceback": [
      "\u001b[1;31m---------------------------------------------------------------------------\u001b[0m",
      "\u001b[1;31mRuntimeError\u001b[0m                              Traceback (most recent call last)",
      "\u001b[1;32mc:\\Users\\bas\\Desktop\\multimedia retrieval project\\Multimedia-Retrieval\\closing_holes_test.ipynb Cell 17\u001b[0m line \u001b[0;36m8\n\u001b[0;32m      <a href='vscode-notebook-cell:/c%3A/Users/bas/Desktop/multimedia%20retrieval%20project/Multimedia-Retrieval/closing_holes_test.ipynb#X31sZmlsZQ%3D%3D?line=5'>6</a>\u001b[0m \u001b[39mprint\u001b[39m(mesh)\n\u001b[0;32m      <a href='vscode-notebook-cell:/c%3A/Users/bas/Desktop/multimedia%20retrieval%20project/Multimedia-Retrieval/closing_holes_test.ipynb#X31sZmlsZQ%3D%3D?line=6'>7</a>\u001b[0m \u001b[39mprint\u001b[39m(mesh\u001b[39m.\u001b[39mis_watertight())\n\u001b[1;32m----> <a href='vscode-notebook-cell:/c%3A/Users/bas/Desktop/multimedia%20retrieval%20project/Multimedia-Retrieval/closing_holes_test.ipynb#X31sZmlsZQ%3D%3D?line=7'>8</a>\u001b[0m v \u001b[39m=\u001b[39m o3d\u001b[39m.\u001b[39;49mgeometry\u001b[39m.\u001b[39;49mTriangleMesh\u001b[39m.\u001b[39;49mget_volume(mesh)\n\u001b[0;32m      <a href='vscode-notebook-cell:/c%3A/Users/bas/Desktop/multimedia%20retrieval%20project/Multimedia-Retrieval/closing_holes_test.ipynb#X31sZmlsZQ%3D%3D?line=8'>9</a>\u001b[0m \u001b[39mprint\u001b[39m(v)\n",
      "\u001b[1;31mRuntimeError\u001b[0m: [Open3D Error] (double __cdecl open3d::geometry::TriangleMesh::GetVolume(void) const) D:\\a\\Open3D\\Open3D\\cpp\\open3d\\geometry\\TriangleMesh.cpp:1201: The mesh is not watertight, and the volume cannot be computed.\n"
     ]
    }
   ],
   "source": [
    "dbpath = r\"./resampledO3D/\"\n",
    "mesh_path = dbpath + r\"AircraftBuoyant/m1339.obj\"\n",
    "#mesh_path = dbpath + r\"Apartment/D00045.obj\"\n",
    "\n",
    "mesh = o3d.io.read_triangle_mesh(mesh_path)\n",
    "print(mesh)\n",
    "print(mesh.is_watertight())\n",
    "v = o3d.geometry.TriangleMesh.get_volume(mesh)\n",
    "print(v)"
   ]
  },
  {
   "cell_type": "code",
   "execution_count": null,
   "metadata": {},
   "outputs": [],
   "source": []
  }
 ],
 "metadata": {
  "kernelspec": {
   "display_name": "mrproject",
   "language": "python",
   "name": "python3"
  },
  "language_info": {
   "codemirror_mode": {
    "name": "ipython",
    "version": 3
   },
   "file_extension": ".py",
   "mimetype": "text/x-python",
   "name": "python",
   "nbconvert_exporter": "python",
   "pygments_lexer": "ipython3",
   "version": "3.8.0"
  }
 },
 "nbformat": 4,
 "nbformat_minor": 2
}
