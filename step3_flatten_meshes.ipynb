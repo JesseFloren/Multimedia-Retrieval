{
 "cells": [
  {
   "cell_type": "code",
   "execution_count": 1,
   "metadata": {},
   "outputs": [
    {
     "name": "stdout",
     "output_type": "stream",
     "text": [
      "Jupyter environment detected. Enabling Open3D WebVisualizer.\n",
      "[Open3D INFO] WebRTC GUI backend enabled.\n",
      "[Open3D INFO] WebRTCWindowSystem: HTTP handshake server disabled.\n"
     ]
    }
   ],
   "source": [
    "import open3d as o3d\n",
    "import numpy as np\n",
    "import os\n",
    "import glob\n",
    "import pandas as pd\n",
    "import pymeshlab as pml\n",
    "import math\n",
    "import matplotlib.pyplot as plt"
   ]
  },
  {
   "cell_type": "code",
   "execution_count": 2,
   "metadata": {},
   "outputs": [],
   "source": [
    "def viz_mesh(obj_file_path, vis_option = \"world_axes\"):   \n",
    "        \n",
    "        if isinstance(obj_file_path, str):\n",
    "            mesh = o3d.io.read_triangle_mesh(obj_file_path)\n",
    "        else:\n",
    "             mesh = obj_file_path\n",
    "        mesh.compute_vertex_normals() \n",
    "        if vis_option == \"smoothshade\":\n",
    "            o3d.visualization.draw_geometries([mesh], width=1280, height=720)\n",
    "        elif vis_option == \"wireframe_on_shaded\":\n",
    "            o3d.visualization.draw_geometries([mesh], width=1280, height=720, mesh_show_wireframe=True)\n",
    "        elif vis_option == \"wireframe\":\n",
    "            # We first need to obtain a lineset of the wireframe if we don't want to render the mesh itself\n",
    "            wireframe = o3d.geometry.LineSet.create_from_triangle_mesh(mesh) \n",
    "            o3d.visualization.draw_geometries([wireframe], width=1280, height=720)\n",
    "        elif vis_option == \"world_axes\":\n",
    "            # Display the mesh including a world axis system.\n",
    "\n",
    "            # Create the endpoints of each line. Each line is unit-length.\n",
    "            # For the world axes, the origin is shared by all lines. So we have 4 endpoints in total\n",
    "            line_endpoints = [\n",
    "                [0, 0, 0],\n",
    "                [1, 0, 0],\n",
    "                [0, 1, 0],\n",
    "                [0, 0, 1]\n",
    "            ]\n",
    "\n",
    "            # List of indices into the 'line_endpoints' list, which describes which endpoints form which line\n",
    "            line_indices = [[0, 1], [0, 2], [0, 3]]\n",
    "\n",
    "            # Create a line set from the endpoints and indices\n",
    "            world_axes = o3d.geometry.LineSet(\n",
    "                points=o3d.utility.Vector3dVector(line_endpoints),\n",
    "                lines=o3d.utility.Vector2iVector(line_indices),\n",
    "            )\n",
    "\n",
    "            # Render the line set and the mesh\n",
    "            o3d.visualization.draw_geometries([mesh, world_axes], width=1280, height=720)\n",
    "        elif vis_option == \"black_background\":\n",
    "            # Create visualizer\n",
    "            vis = o3d.visualization.Visualizer()\n",
    "            vis.create_window()\n",
    "            vis.add_geometry(mesh)\n",
    "\n",
    "            # Set render options (e.g. background color)\n",
    "            opt = vis.get_render_option()\n",
    "            opt.background_color = np.asarray([0, 0, 0])\n",
    "\n",
    "            # Run the visualizer\n",
    "            vis.run()\n",
    "            vis.destroy_window()\n"
   ]
  },
  {
   "cell_type": "code",
   "execution_count": 5,
   "metadata": {},
   "outputs": [],
   "source": [
    "viz_mesh(\"./resampledO3D/House\\D00001.obj\")"
   ]
  },
  {
   "cell_type": "code",
   "execution_count": 6,
   "metadata": {},
   "outputs": [],
   "source": [
    "def flatten_mesh(mesh):\n",
    "    mesh.vertices = o3d.utility.Vector3dVector(np.asarray(mesh.vertices) * np.array([0, 1., 1.]) )\n",
    "    return mesh"
   ]
  },
  {
   "cell_type": "code",
   "execution_count": 8,
   "metadata": {},
   "outputs": [],
   "source": [
    "#flatten and visualize mesh\n",
    "mesh = o3d.io.read_triangle_mesh(\"./resampledO3D/House\\D00001.obj\")\n",
    "flatten_mesh(mesh)\n",
    "viz_mesh(mesh)"
   ]
  },
  {
   "cell_type": "code",
   "execution_count": 17,
   "metadata": {},
   "outputs": [
    {
     "data": {
      "text/plain": [
       "1.7266193447261242"
      ]
     },
     "execution_count": 17,
     "metadata": {},
     "output_type": "execute_result"
    }
   ],
   "source": [
    "# check surface area of mesh\n",
    "mesh.get_surface_area()"
   ]
  },
  {
   "cell_type": "code",
   "execution_count": 10,
   "metadata": {},
   "outputs": [
    {
     "name": "stdout",
     "output_type": "stream",
     "text": [
      "[[0, -0.5, -0.5], [0, -0.5, -0.5], [0, 0.5, -0.5], [0, 0.5, -0.5], [0, -0.5, 0.5], [0, -0.5, 0.5], [0, 0.5, 0.5], [0, 0.5, 0.5]]\n",
      "[Open3D WARNING] GLFW Error: WGL: Failed to make context current: De ingang is ongeldig. \n",
      "[Open3D WARNING] GLFW Error: WGL: Failed to make context current: De ingang is ongeldig. \n"
     ]
    }
   ],
   "source": [
    "\n",
    "mesh.compute_vertex_normals()\n",
    "aabb = mesh.get_axis_aligned_bounding_box()\n",
    "\n",
    "\n",
    "# Get the minimum and maximum coordinates of the AABB\n",
    "min_coords = aabb.get_min_bound()\n",
    "max_coords = aabb.get_max_bound()\n",
    "\n",
    "# Define the eight corners of the AABB\n",
    "\n",
    "vertices = [\n",
    "    [0, -.5, -.5],\n",
    "    [0, -.5, -.5],\n",
    "    [0, .5, -.5],\n",
    "    [0, .5, -.5],\n",
    "    [0, -.5, .5], \n",
    "    [0, -.5, .5],\n",
    "    [0, .5, .5],\n",
    "    [0, .5, .5]\n",
    "]\n",
    "\n",
    "print(vertices)\n",
    "# Define the edges of the AABB\n",
    "lines = [\n",
    "    [0, 1],\n",
    "    [1, 2],\n",
    "    [2, 3],\n",
    "    [3, 0],\n",
    "    [4, 5],\n",
    "    [5, 6],\n",
    "    [6, 7],\n",
    "    [7, 4],\n",
    "    [0, 4],\n",
    "    [1, 5],\n",
    "    [2, 6],\n",
    "    [3, 7]\n",
    "]\n",
    "\n",
    "# Create a LineSet to visualize the AABB\n",
    "aabb_line_set = o3d.geometry.LineSet()\n",
    "aabb_line_set.points = o3d.utility.Vector3dVector(vertices)\n",
    "aabb_line_set.lines = o3d.utility.Vector2iVector(lines)\n",
    "\n",
    "# Customize the bounding box appearance\n",
    "line_set_color = np.array([1.0, 0.0, 0.0])  # Red color (R, G, B)\n",
    "line_set_line_width = 5.0  # Adjust line width as needed\n",
    "\n",
    "# Set the line set's color and line width\n",
    "aabb_line_set.paint_uniform_color(line_set_color)\n",
    "# aabb_line_set.line_width = line_set_line_width\n",
    "\n",
    "# Visualize the object and its AABB\n",
    "o3d.visualization.draw_geometries([mesh, aabb_line_set])"
   ]
  },
  {
   "cell_type": "code",
   "execution_count": 12,
   "metadata": {},
   "outputs": [],
   "source": [
    "def get_surface(verticies, triangles):\n",
    "\n",
    "    S = 0\n",
    "\n",
    "    for t in triangles:\n",
    "\n",
    "        a, b, c = verticies[t]\n",
    "\n",
    "        S += get_triangle_surface(a - b, a - c)\n",
    "\n",
    "    return S\n",
    "\n",
    " \n",
    "\n",
    "def get_triangle_surface(v1, v2):\n",
    "\n",
    "    Xab, Yab, Zab = v1\n",
    "\n",
    "    Xac, Yac, Zac = v2\n",
    "\n",
    "    return (((Yab * Zac - Zab * Yac)**2 + (Zab * Xac - Xab * Zac)**2 + (Xab * Yac - Yab * Xac)**2)**0.5) / 2"
   ]
  },
  {
   "cell_type": "code",
   "execution_count": 13,
   "metadata": {},
   "outputs": [
    {
     "data": {
      "text/plain": [
       "2.0950639904215542"
      ]
     },
     "execution_count": 13,
     "metadata": {},
     "output_type": "execute_result"
    }
   ],
   "source": [
    "get_surface(np.asarray(mesh.vertices), np.asarray(mesh.triangles))"
   ]
  }
 ],
 "metadata": {
  "kernelspec": {
   "display_name": "mrproject",
   "language": "python",
   "name": "python3"
  },
  "language_info": {
   "codemirror_mode": {
    "name": "ipython",
    "version": 3
   },
   "file_extension": ".py",
   "mimetype": "text/x-python",
   "name": "python",
   "nbconvert_exporter": "python",
   "pygments_lexer": "ipython3",
   "version": "3.8.0"
  },
  "orig_nbformat": 4
 },
 "nbformat": 4,
 "nbformat_minor": 2
}
