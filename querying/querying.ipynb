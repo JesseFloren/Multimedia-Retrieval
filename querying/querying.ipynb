{
 "cells": [
  {
   "cell_type": "code",
   "execution_count": 2,
   "metadata": {},
   "outputs": [
    {
     "name": "stdout",
     "output_type": "stream",
     "text": [
      "Jupyter environment detected. Enabling Open3D WebVisualizer.\n",
      "[Open3D INFO] WebRTC GUI backend enabled.\n",
      "[Open3D INFO] WebRTCWindowSystem: HTTP handshake server disabled.\n"
     ]
    }
   ],
   "source": [
    "import open3d as o3d\n",
    "import numpy as np\n",
    "import os\n",
    "import glob\n",
    "import pandas as pd\n",
    "import pymeshlab as pml\n",
    "import time\n",
    "import matplotlib as plt"
   ]
  },
  {
   "cell_type": "code",
   "execution_count": 5,
   "metadata": {},
   "outputs": [],
   "source": [
    "from scipy.stats import wasserstein_distance\n",
    "from emd import get_emd"
   ]
  },
  {
   "cell_type": "code",
   "execution_count": 6,
   "metadata": {},
   "outputs": [
    {
     "data": {
      "text/plain": [
       "5.0"
      ]
     },
     "execution_count": 6,
     "metadata": {},
     "output_type": "execute_result"
    }
   ],
   "source": [
    "wasserstein_distance([0, 1, 3], [5, 6, 8])"
   ]
  },
  {
   "cell_type": "code",
   "execution_count": 7,
   "metadata": {},
   "outputs": [],
   "source": [
    "df = pd.read_pickle(\"./normalized_features_final.pkl\")\n",
    "df.reset_index(drop=True, inplace=True)"
   ]
  },
  {
   "cell_type": "code",
   "execution_count": 5,
   "metadata": {},
   "outputs": [
    {
     "data": {
      "text/html": [
       "<div>\n",
       "<style scoped>\n",
       "    .dataframe tbody tr th:only-of-type {\n",
       "        vertical-align: middle;\n",
       "    }\n",
       "\n",
       "    .dataframe tbody tr th {\n",
       "        vertical-align: top;\n",
       "    }\n",
       "\n",
       "    .dataframe thead th {\n",
       "        text-align: right;\n",
       "    }\n",
       "</style>\n",
       "<table border=\"1\" class=\"dataframe\">\n",
       "  <thead>\n",
       "    <tr style=\"text-align: right;\">\n",
       "      <th></th>\n",
       "      <th>class</th>\n",
       "      <th>path</th>\n",
       "      <th>V</th>\n",
       "      <th>S</th>\n",
       "      <th>c</th>\n",
       "      <th>D</th>\n",
       "      <th>R</th>\n",
       "      <th>E</th>\n",
       "      <th>C</th>\n",
       "      <th>A3</th>\n",
       "      <th>D1</th>\n",
       "      <th>D2</th>\n",
       "      <th>D3</th>\n",
       "      <th>D4</th>\n",
       "    </tr>\n",
       "  </thead>\n",
       "  <tbody>\n",
       "    <tr>\n",
       "      <th>1</th>\n",
       "      <td>AircraftBuoyant</td>\n",
       "      <td>./features/AircraftBuoyant\\m1337</td>\n",
       "      <td>4.100846</td>\n",
       "      <td>0.214806</td>\n",
       "      <td>-0.021151</td>\n",
       "      <td>-0.431171</td>\n",
       "      <td>1.524371</td>\n",
       "      <td>4.945361</td>\n",
       "      <td>1.790998</td>\n",
       "      <td>[0.000726, 0.002233, 0.003601, 0.004919, 0.006...</td>\n",
       "      <td>[0.0, 0.0001, 0.0001, 0.0001, 0.0001, 0.0001, ...</td>\n",
       "      <td>[0.0, 0.0004, 0.00058, 0.0012, 0.00102, 0.0015...</td>\n",
       "      <td>[2e-06, 5e-06, 1.9e-05, 5.7e-05, 0.000109, 0.0...</td>\n",
       "      <td>[8e-06, 5e-05, 0.000122, 0.000233, 0.000377, 0...</td>\n",
       "    </tr>\n",
       "    <tr>\n",
       "      <th>1</th>\n",
       "      <td>AircraftBuoyant</td>\n",
       "      <td>./features/AircraftBuoyant\\m1338</td>\n",
       "      <td>4.728118</td>\n",
       "      <td>0.540607</td>\n",
       "      <td>-0.021151</td>\n",
       "      <td>-0.117928</td>\n",
       "      <td>1.525120</td>\n",
       "      <td>3.309235</td>\n",
       "      <td>1.818866</td>\n",
       "      <td>[0.000905, 0.002401, 0.003699, 0.004898, 0.006...</td>\n",
       "      <td>[0.0, 0.0001, 0.0001, 0.0001, 0.0001, 0.0001, ...</td>\n",
       "      <td>[0.00013, 0.00038, 0.0006, 0.001, 0.00152, 0.0...</td>\n",
       "      <td>[3e-06, 1.6e-05, 4.9e-05, 0.000101, 0.000188, ...</td>\n",
       "      <td>[8e-06, 6.2e-05, 0.00014, 0.000303, 0.00046, 0...</td>\n",
       "    </tr>\n",
       "    <tr>\n",
       "      <th>1</th>\n",
       "      <td>AircraftBuoyant</td>\n",
       "      <td>./features/AircraftBuoyant\\m1339</td>\n",
       "      <td>0.087864</td>\n",
       "      <td>0.155798</td>\n",
       "      <td>-0.021151</td>\n",
       "      <td>-0.690660</td>\n",
       "      <td>0.052891</td>\n",
       "      <td>0.829243</td>\n",
       "      <td>0.072976</td>\n",
       "      <td>[0.002045, 0.005137, 0.007327, 0.009413, 0.011...</td>\n",
       "      <td>[0.0, 0.0001, 0.0001, 0.0001, 0.0001, 0.0001, ...</td>\n",
       "      <td>[0.00013, 0.0008, 0.00136, 0.00168, 0.0022, 0....</td>\n",
       "      <td>[6e-06, 1.8e-05, 5.9e-05, 0.000113, 0.00024, 0...</td>\n",
       "      <td>[1.1e-05, 8.1e-05, 0.000217, 0.000387, 0.00064...</td>\n",
       "    </tr>\n",
       "    <tr>\n",
       "      <th>1</th>\n",
       "      <td>AircraftBuoyant</td>\n",
       "      <td>./features/AircraftBuoyant\\m1340</td>\n",
       "      <td>0.219291</td>\n",
       "      <td>-0.646455</td>\n",
       "      <td>-0.021151</td>\n",
       "      <td>-0.689441</td>\n",
       "      <td>0.445397</td>\n",
       "      <td>-0.294062</td>\n",
       "      <td>0.667100</td>\n",
       "      <td>[0.006895, 0.012267, 0.016517, 0.020126, 0.023...</td>\n",
       "      <td>[0.0, 0.0001, 0.0001, 0.0001, 0.0001, 0.0001, ...</td>\n",
       "      <td>[0.00068, 0.00277, 0.00381, 0.00512, 0.00633, ...</td>\n",
       "      <td>[4e-06, 6.5e-05, 0.000188, 0.000423, 0.000712,...</td>\n",
       "      <td>[1.8e-05, 0.000131, 0.000289, 0.000515, 0.0009...</td>\n",
       "    </tr>\n",
       "    <tr>\n",
       "      <th>1</th>\n",
       "      <td>AircraftBuoyant</td>\n",
       "      <td>./features/AircraftBuoyant\\m1341</td>\n",
       "      <td>-0.458655</td>\n",
       "      <td>-0.605102</td>\n",
       "      <td>-0.021151</td>\n",
       "      <td>-0.691012</td>\n",
       "      <td>-1.082039</td>\n",
       "      <td>-0.191202</td>\n",
       "      <td>-1.437485</td>\n",
       "      <td>[0.004708, 0.010527, 0.014929, 0.01883, 0.0220...</td>\n",
       "      <td>[0.0, 0.0024, 0.0046, 0.0049, 0.0032, 0.0064, ...</td>\n",
       "      <td>[0.00058, 0.0018, 0.00276, 0.00355, 0.00449, 0...</td>\n",
       "      <td>[8e-06, 3.7e-05, 0.000104, 0.000253, 0.000482,...</td>\n",
       "      <td>[2e-05, 9.4e-05, 0.000278, 0.000535, 0.000875,...</td>\n",
       "    </tr>\n",
       "    <tr>\n",
       "      <th>...</th>\n",
       "      <td>...</td>\n",
       "      <td>...</td>\n",
       "      <td>...</td>\n",
       "      <td>...</td>\n",
       "      <td>...</td>\n",
       "      <td>...</td>\n",
       "      <td>...</td>\n",
       "      <td>...</td>\n",
       "      <td>...</td>\n",
       "      <td>...</td>\n",
       "      <td>...</td>\n",
       "      <td>...</td>\n",
       "      <td>...</td>\n",
       "      <td>...</td>\n",
       "    </tr>\n",
       "    <tr>\n",
       "      <th>1</th>\n",
       "      <td>WheelChair</td>\n",
       "      <td>./features/WheelChair\\D00687</td>\n",
       "      <td>-0.257985</td>\n",
       "      <td>-0.136291</td>\n",
       "      <td>-0.021151</td>\n",
       "      <td>-0.318480</td>\n",
       "      <td>-0.355524</td>\n",
       "      <td>0.236439</td>\n",
       "      <td>-0.413690</td>\n",
       "      <td>[0.010272, 0.014989, 0.015033, 0.013491, 0.013...</td>\n",
       "      <td>[0.0, 0.0001, 0.0001, 0.0001, 0.0001, 0.0001, ...</td>\n",
       "      <td>[0.00213, 0.00465, 0.00622, 0.00658, 0.00785, ...</td>\n",
       "      <td>[4.5e-05, 0.000309, 0.000829, 0.001534, 0.0022...</td>\n",
       "      <td>[5.6e-05, 0.000388, 0.000926, 0.001629, 0.0025...</td>\n",
       "    </tr>\n",
       "    <tr>\n",
       "      <th>1</th>\n",
       "      <td>WheelChair</td>\n",
       "      <td>./features/WheelChair\\D00720</td>\n",
       "      <td>0.415856</td>\n",
       "      <td>-0.265226</td>\n",
       "      <td>-0.021151</td>\n",
       "      <td>-0.563298</td>\n",
       "      <td>0.443687</td>\n",
       "      <td>0.331357</td>\n",
       "      <td>0.558552</td>\n",
       "      <td>[0.00313, 0.006494, 0.008935, 0.010701, 0.0120...</td>\n",
       "      <td>[0.0, 0.0001, 0.0001, 0.0001, 0.0001, 0.0003, ...</td>\n",
       "      <td>[0.00059, 0.00119, 0.00229, 0.0039, 0.0037, 0....</td>\n",
       "      <td>[1e-05, 5.1e-05, 0.000166, 0.000381, 0.000644,...</td>\n",
       "      <td>[2.9e-05, 0.000155, 0.000435, 0.000801, 0.0013...</td>\n",
       "    </tr>\n",
       "    <tr>\n",
       "      <th>1</th>\n",
       "      <td>WheelChair</td>\n",
       "      <td>./features/WheelChair\\D00782</td>\n",
       "      <td>0.330954</td>\n",
       "      <td>-0.270341</td>\n",
       "      <td>-0.021151</td>\n",
       "      <td>-0.133080</td>\n",
       "      <td>0.251680</td>\n",
       "      <td>0.460616</td>\n",
       "      <td>0.345153</td>\n",
       "      <td>[0.001609, 0.002788, 0.003763, 0.004353, 0.004...</td>\n",
       "      <td>[0.0, 0.0002, 0.0001, 0.0001, 0.0001, 0.0001, ...</td>\n",
       "      <td>[0.00031, 0.00155, 0.00234, 0.00289, 0.00334, ...</td>\n",
       "      <td>[7e-06, 4.4e-05, 0.00016, 0.00035, 0.000593, 0...</td>\n",
       "      <td>[3.3e-05, 0.000174, 0.000441, 0.000865, 0.0014...</td>\n",
       "    </tr>\n",
       "    <tr>\n",
       "      <th>1</th>\n",
       "      <td>WheelChair</td>\n",
       "      <td>./features/WheelChair\\D00821</td>\n",
       "      <td>0.315740</td>\n",
       "      <td>-0.136219</td>\n",
       "      <td>-0.021151</td>\n",
       "      <td>-0.316797</td>\n",
       "      <td>0.369517</td>\n",
       "      <td>0.233050</td>\n",
       "      <td>0.444380</td>\n",
       "      <td>[0.010325, 0.015111, 0.014943, 0.013719, 0.012...</td>\n",
       "      <td>[0.0, 0.0001, 0.0001, 0.0001, 0.0001, 0.0001, ...</td>\n",
       "      <td>[0.00276, 0.00394, 0.00617, 0.00705, 0.00779, ...</td>\n",
       "      <td>[5.5e-05, 0.000291, 0.000837, 0.001494, 0.0021...</td>\n",
       "      <td>[6.4e-05, 0.000409, 0.000957, 0.001821, 0.0026...</td>\n",
       "    </tr>\n",
       "    <tr>\n",
       "      <th>1</th>\n",
       "      <td>WheelChair</td>\n",
       "      <td>./features/WheelChair\\D00846</td>\n",
       "      <td>0.174475</td>\n",
       "      <td>-0.376880</td>\n",
       "      <td>-0.021151</td>\n",
       "      <td>-0.357894</td>\n",
       "      <td>0.125495</td>\n",
       "      <td>0.981745</td>\n",
       "      <td>0.168650</td>\n",
       "      <td>[0.006151, 0.01067, 0.011006, 0.010847, 0.0106...</td>\n",
       "      <td>[0.0, 0.0001, 0.0001, 0.0002, 0.0007, 0.0005, ...</td>\n",
       "      <td>[0.00121, 0.00299, 0.00463, 0.00596, 0.00696, ...</td>\n",
       "      <td>[1.4e-05, 0.000131, 0.000406, 0.000804, 0.0011...</td>\n",
       "      <td>[3.2e-05, 0.000208, 0.000544, 0.001061, 0.0016...</td>\n",
       "    </tr>\n",
       "  </tbody>\n",
       "</table>\n",
       "<p>2475 rows × 14 columns</p>\n",
       "</div>"
      ],
      "text/plain": [
       "              class                              path         V         S  \\\n",
       "1   AircraftBuoyant  ./features/AircraftBuoyant\\m1337  4.100846  0.214806   \n",
       "1   AircraftBuoyant  ./features/AircraftBuoyant\\m1338  4.728118  0.540607   \n",
       "1   AircraftBuoyant  ./features/AircraftBuoyant\\m1339  0.087864  0.155798   \n",
       "1   AircraftBuoyant  ./features/AircraftBuoyant\\m1340  0.219291 -0.646455   \n",
       "1   AircraftBuoyant  ./features/AircraftBuoyant\\m1341 -0.458655 -0.605102   \n",
       "..              ...                               ...       ...       ...   \n",
       "1        WheelChair      ./features/WheelChair\\D00687 -0.257985 -0.136291   \n",
       "1        WheelChair      ./features/WheelChair\\D00720  0.415856 -0.265226   \n",
       "1        WheelChair      ./features/WheelChair\\D00782  0.330954 -0.270341   \n",
       "1        WheelChair      ./features/WheelChair\\D00821  0.315740 -0.136219   \n",
       "1        WheelChair      ./features/WheelChair\\D00846  0.174475 -0.376880   \n",
       "\n",
       "           c         D         R         E         C  \\\n",
       "1  -0.021151 -0.431171  1.524371  4.945361  1.790998   \n",
       "1  -0.021151 -0.117928  1.525120  3.309235  1.818866   \n",
       "1  -0.021151 -0.690660  0.052891  0.829243  0.072976   \n",
       "1  -0.021151 -0.689441  0.445397 -0.294062  0.667100   \n",
       "1  -0.021151 -0.691012 -1.082039 -0.191202 -1.437485   \n",
       "..       ...       ...       ...       ...       ...   \n",
       "1  -0.021151 -0.318480 -0.355524  0.236439 -0.413690   \n",
       "1  -0.021151 -0.563298  0.443687  0.331357  0.558552   \n",
       "1  -0.021151 -0.133080  0.251680  0.460616  0.345153   \n",
       "1  -0.021151 -0.316797  0.369517  0.233050  0.444380   \n",
       "1  -0.021151 -0.357894  0.125495  0.981745  0.168650   \n",
       "\n",
       "                                                   A3  \\\n",
       "1   [0.000726, 0.002233, 0.003601, 0.004919, 0.006...   \n",
       "1   [0.000905, 0.002401, 0.003699, 0.004898, 0.006...   \n",
       "1   [0.002045, 0.005137, 0.007327, 0.009413, 0.011...   \n",
       "1   [0.006895, 0.012267, 0.016517, 0.020126, 0.023...   \n",
       "1   [0.004708, 0.010527, 0.014929, 0.01883, 0.0220...   \n",
       "..                                                ...   \n",
       "1   [0.010272, 0.014989, 0.015033, 0.013491, 0.013...   \n",
       "1   [0.00313, 0.006494, 0.008935, 0.010701, 0.0120...   \n",
       "1   [0.001609, 0.002788, 0.003763, 0.004353, 0.004...   \n",
       "1   [0.010325, 0.015111, 0.014943, 0.013719, 0.012...   \n",
       "1   [0.006151, 0.01067, 0.011006, 0.010847, 0.0106...   \n",
       "\n",
       "                                                   D1  \\\n",
       "1   [0.0, 0.0001, 0.0001, 0.0001, 0.0001, 0.0001, ...   \n",
       "1   [0.0, 0.0001, 0.0001, 0.0001, 0.0001, 0.0001, ...   \n",
       "1   [0.0, 0.0001, 0.0001, 0.0001, 0.0001, 0.0001, ...   \n",
       "1   [0.0, 0.0001, 0.0001, 0.0001, 0.0001, 0.0001, ...   \n",
       "1   [0.0, 0.0024, 0.0046, 0.0049, 0.0032, 0.0064, ...   \n",
       "..                                                ...   \n",
       "1   [0.0, 0.0001, 0.0001, 0.0001, 0.0001, 0.0001, ...   \n",
       "1   [0.0, 0.0001, 0.0001, 0.0001, 0.0001, 0.0003, ...   \n",
       "1   [0.0, 0.0002, 0.0001, 0.0001, 0.0001, 0.0001, ...   \n",
       "1   [0.0, 0.0001, 0.0001, 0.0001, 0.0001, 0.0001, ...   \n",
       "1   [0.0, 0.0001, 0.0001, 0.0002, 0.0007, 0.0005, ...   \n",
       "\n",
       "                                                   D2  \\\n",
       "1   [0.0, 0.0004, 0.00058, 0.0012, 0.00102, 0.0015...   \n",
       "1   [0.00013, 0.00038, 0.0006, 0.001, 0.00152, 0.0...   \n",
       "1   [0.00013, 0.0008, 0.00136, 0.00168, 0.0022, 0....   \n",
       "1   [0.00068, 0.00277, 0.00381, 0.00512, 0.00633, ...   \n",
       "1   [0.00058, 0.0018, 0.00276, 0.00355, 0.00449, 0...   \n",
       "..                                                ...   \n",
       "1   [0.00213, 0.00465, 0.00622, 0.00658, 0.00785, ...   \n",
       "1   [0.00059, 0.00119, 0.00229, 0.0039, 0.0037, 0....   \n",
       "1   [0.00031, 0.00155, 0.00234, 0.00289, 0.00334, ...   \n",
       "1   [0.00276, 0.00394, 0.00617, 0.00705, 0.00779, ...   \n",
       "1   [0.00121, 0.00299, 0.00463, 0.00596, 0.00696, ...   \n",
       "\n",
       "                                                   D3  \\\n",
       "1   [2e-06, 5e-06, 1.9e-05, 5.7e-05, 0.000109, 0.0...   \n",
       "1   [3e-06, 1.6e-05, 4.9e-05, 0.000101, 0.000188, ...   \n",
       "1   [6e-06, 1.8e-05, 5.9e-05, 0.000113, 0.00024, 0...   \n",
       "1   [4e-06, 6.5e-05, 0.000188, 0.000423, 0.000712,...   \n",
       "1   [8e-06, 3.7e-05, 0.000104, 0.000253, 0.000482,...   \n",
       "..                                                ...   \n",
       "1   [4.5e-05, 0.000309, 0.000829, 0.001534, 0.0022...   \n",
       "1   [1e-05, 5.1e-05, 0.000166, 0.000381, 0.000644,...   \n",
       "1   [7e-06, 4.4e-05, 0.00016, 0.00035, 0.000593, 0...   \n",
       "1   [5.5e-05, 0.000291, 0.000837, 0.001494, 0.0021...   \n",
       "1   [1.4e-05, 0.000131, 0.000406, 0.000804, 0.0011...   \n",
       "\n",
       "                                                   D4  \n",
       "1   [8e-06, 5e-05, 0.000122, 0.000233, 0.000377, 0...  \n",
       "1   [8e-06, 6.2e-05, 0.00014, 0.000303, 0.00046, 0...  \n",
       "1   [1.1e-05, 8.1e-05, 0.000217, 0.000387, 0.00064...  \n",
       "1   [1.8e-05, 0.000131, 0.000289, 0.000515, 0.0009...  \n",
       "1   [2e-05, 9.4e-05, 0.000278, 0.000535, 0.000875,...  \n",
       "..                                                ...  \n",
       "1   [5.6e-05, 0.000388, 0.000926, 0.001629, 0.0025...  \n",
       "1   [2.9e-05, 0.000155, 0.000435, 0.000801, 0.0013...  \n",
       "1   [3.3e-05, 0.000174, 0.000441, 0.000865, 0.0014...  \n",
       "1   [6.4e-05, 0.000409, 0.000957, 0.001821, 0.0026...  \n",
       "1   [3.2e-05, 0.000208, 0.000544, 0.001061, 0.0016...  \n",
       "\n",
       "[2475 rows x 14 columns]"
      ]
     },
     "execution_count": 5,
     "metadata": {},
     "output_type": "execute_result"
    }
   ],
   "source": [
    "df"
   ]
  },
  {
   "cell_type": "code",
   "execution_count": 8,
   "metadata": {},
   "outputs": [],
   "source": [
    "def w_dist(a,b):\n",
    "    return wasserstein_distance(a,b)*1000"
   ]
  },
  {
   "cell_type": "code",
   "execution_count": 9,
   "metadata": {},
   "outputs": [],
   "source": [
    "valdf = df[['A3', 'D1', 'D2', 'D3', 'D4']]"
   ]
  },
  {
   "cell_type": "code",
   "execution_count": 10,
   "metadata": {},
   "outputs": [
    {
     "data": {
      "text/plain": [
       "A3    [0.005445, 0.012587, 0.016992, 0.020727, 0.023...\n",
       "D1    [0.0, 0.0006, 0.0032, 0.0038, 0.0045, 0.0036, ...\n",
       "D2    [0.00047, 0.0017, 0.0029, 0.00443, 0.00618, 0....\n",
       "D3    [2.4e-05, 0.000276, 0.000935, 0.002035, 0.0036...\n",
       "D4    [5e-05, 0.000375, 0.00089, 0.001752, 0.002815,...\n",
       "Name: 1300, dtype: object"
      ]
     },
     "execution_count": 10,
     "metadata": {},
     "output_type": "execute_result"
    }
   ],
   "source": [
    "newobj = df.iloc()[1300][['A3', 'D1', 'D2', 'D3', 'D4']]\n",
    "newobj"
   ]
  },
  {
   "cell_type": "code",
   "execution_count": 69,
   "metadata": {},
   "outputs": [],
   "source": [
    "w1=1;w2=1;w3=1;w4=1;w5=1\n",
    "weights = np.array([w1,w2,w3,w4,w5])"
   ]
  },
  {
   "cell_type": "code",
   "execution_count": 70,
   "metadata": {},
   "outputs": [],
   "source": [
    "weighted_sums = np.array([])\n",
    "for index, row in valdf.iterrows():\n",
    "        # print(valdf.columns[0])\n",
    "        values = np.array([])\n",
    "        for col in valdf.columns:\n",
    "            dist = w_dist(newobj[col],row[col])\n",
    "            # dist = get_emd(newobj[col],row[col])\n",
    "\n",
    "            values = np.append(values, dist)\n",
    "        weighted_sum = np.dot(values, weights)\n",
    "        weighted_sums = np.append(weighted_sums, weighted_sum)\n",
    "        # print(weighted_sum)"
   ]
  },
  {
   "cell_type": "code",
   "execution_count": 71,
   "metadata": {},
   "outputs": [
    {
     "name": "stdout",
     "output_type": "stream",
     "text": [
      "5 Lowest Values: [0.         2.11851115 2.97657638 3.08118894 3.20097564 3.38957091\n",
      " 3.42135312 3.63629361 3.72862602 3.84290286]\n",
      "Indices of the 5 Lowest Values: [1300 1318 1309 1351 1364 1335  918 1310 1284 1361]\n"
     ]
    }
   ],
   "source": [
    "lowest_indices = np.argsort(weighted_sums)[:10]\n",
    "\n",
    "lowest_values = weighted_sums[lowest_indices]\n",
    "\n",
    "print(\"5 Lowest Values:\", lowest_values)\n",
    "print(\"Indices of the 5 Lowest Values:\", lowest_indices)\n"
   ]
  },
  {
   "cell_type": "code",
   "execution_count": 72,
   "metadata": {},
   "outputs": [
    {
     "data": {
      "text/plain": [
       "1           Jet\n",
       "1           Jet\n",
       "1           Jet\n",
       "1           Jet\n",
       "1           Jet\n",
       "1           Jet\n",
       "1    Helicopter\n",
       "1           Jet\n",
       "1           Jet\n",
       "1           Jet\n",
       "Name: class, dtype: object"
      ]
     },
     "execution_count": 72,
     "metadata": {},
     "output_type": "execute_result"
    }
   ],
   "source": [
    "df.iloc[lowest_indices][\"class\"]"
   ]
  },
  {
   "cell_type": "code",
   "execution_count": null,
   "metadata": {},
   "outputs": [],
   "source": [
    "df[df[\"class\"]==\"Vase\"]"
   ]
  },
  {
   "cell_type": "code",
   "execution_count": 10,
   "metadata": {},
   "outputs": [
    {
     "data": {
      "text/html": [
       "<div>\n",
       "<style scoped>\n",
       "    .dataframe tbody tr th:only-of-type {\n",
       "        vertical-align: middle;\n",
       "    }\n",
       "\n",
       "    .dataframe tbody tr th {\n",
       "        vertical-align: top;\n",
       "    }\n",
       "\n",
       "    .dataframe thead th {\n",
       "        text-align: right;\n",
       "    }\n",
       "</style>\n",
       "<table border=\"1\" class=\"dataframe\">\n",
       "  <thead>\n",
       "    <tr style=\"text-align: right;\">\n",
       "      <th></th>\n",
       "      <th>class</th>\n",
       "      <th>path</th>\n",
       "      <th>V</th>\n",
       "      <th>S</th>\n",
       "      <th>c</th>\n",
       "      <th>D</th>\n",
       "      <th>R</th>\n",
       "      <th>E</th>\n",
       "      <th>C</th>\n",
       "      <th>A3</th>\n",
       "      <th>D1</th>\n",
       "      <th>D2</th>\n",
       "      <th>D3</th>\n",
       "      <th>D4</th>\n",
       "    </tr>\n",
       "  </thead>\n",
       "  <tbody>\n",
       "  </tbody>\n",
       "</table>\n",
       "</div>"
      ],
      "text/plain": [
       "Empty DataFrame\n",
       "Columns: [class, path, V, S, c, D, R, E, C, A3, D1, D2, D3, D4]\n",
       "Index: []"
      ]
     },
     "execution_count": 10,
     "metadata": {},
     "output_type": "execute_result"
    }
   ],
   "source": [
    "df[df.apply(lambda x: x.isnull().any(), axis=1)]\n"
   ]
  },
  {
   "cell_type": "code",
   "execution_count": 11,
   "metadata": {},
   "outputs": [
    {
     "data": {
      "text/html": [
       "<div>\n",
       "<style scoped>\n",
       "    .dataframe tbody tr th:only-of-type {\n",
       "        vertical-align: middle;\n",
       "    }\n",
       "\n",
       "    .dataframe tbody tr th {\n",
       "        vertical-align: top;\n",
       "    }\n",
       "\n",
       "    .dataframe thead th {\n",
       "        text-align: right;\n",
       "    }\n",
       "</style>\n",
       "<table border=\"1\" class=\"dataframe\">\n",
       "  <thead>\n",
       "    <tr style=\"text-align: right;\">\n",
       "      <th></th>\n",
       "      <th>class</th>\n",
       "      <th>path</th>\n",
       "      <th>V</th>\n",
       "      <th>S</th>\n",
       "      <th>c</th>\n",
       "      <th>D</th>\n",
       "      <th>R</th>\n",
       "      <th>E</th>\n",
       "      <th>C</th>\n",
       "      <th>A3</th>\n",
       "      <th>D1</th>\n",
       "      <th>D2</th>\n",
       "      <th>D3</th>\n",
       "      <th>D4</th>\n",
       "    </tr>\n",
       "  </thead>\n",
       "  <tbody>\n",
       "  </tbody>\n",
       "</table>\n",
       "</div>"
      ],
      "text/plain": [
       "Empty DataFrame\n",
       "Columns: [class, path, V, S, c, D, R, E, C, A3, D1, D2, D3, D4]\n",
       "Index: []"
      ]
     },
     "execution_count": 11,
     "metadata": {},
     "output_type": "execute_result"
    }
   ],
   "source": [
    "def has_nan_in_list(row):\n",
    "    return any(pd.isna(x) for x in row['D1'])\n",
    "df_has_nan = df.apply(has_nan_in_list, axis=1)\n",
    "df[df_has_nan]"
   ]
  },
  {
   "cell_type": "code",
   "execution_count": 65,
   "metadata": {},
   "outputs": [],
   "source": [
    "import sys\n",
    "sys.path.append('../preprocessing')\n",
    "from viz import viz_mesh"
   ]
  },
  {
   "cell_type": "code",
   "execution_count": 85,
   "metadata": {},
   "outputs": [],
   "source": [
    "viz_mesh(\"../resampledPML//Chess\\m1591.obj\"\t)"
   ]
  },
  {
   "cell_type": "code",
   "execution_count": 75,
   "metadata": {},
   "outputs": [
    {
     "data": {
      "text/plain": [
       "array([[756, 820, 553],\n",
       "       [ 86, 287,  27],\n",
       "       [226, 402, 564],\n",
       "       ...,\n",
       "       [355, 783, 267],\n",
       "       [586,  81, 968],\n",
       "       [387, 647, 719]])"
      ]
     },
     "execution_count": 75,
     "metadata": {},
     "output_type": "execute_result"
    }
   ],
   "source": [
    "def give_random_triplets(input=range(10), samples=10):\n",
    "    return np.random.choice(input, size=(samples, 3), replace=True)\n",
    "\n",
    "random_triplets = give_random_triplets(input=range(1000), samples=1000000)\n",
    "random_triplets"
   ]
  },
  {
   "cell_type": "code",
   "execution_count": 76,
   "metadata": {},
   "outputs": [
    {
     "data": {
      "text/plain": [
       "array([   454,    519,    583, ..., 999291, 999627, 999783], dtype=int64)"
      ]
     },
     "execution_count": 76,
     "metadata": {},
     "output_type": "execute_result"
    }
   ],
   "source": [
    "equal_indices = np.where((random_triplets[:, 0] == random_triplets[:, 1]) | (random_triplets[:, 1] == random_triplets[:, 2]) | (random_triplets[:, 0] == random_triplets[:, 2]))\n",
    "equal_indices[0]"
   ]
  },
  {
   "cell_type": "code",
   "execution_count": 77,
   "metadata": {},
   "outputs": [],
   "source": [
    "random_triplets[equal_indices] = give_random_triplets(samples=random_triplets[equal_indices].shape[0] )\n"
   ]
  },
  {
   "cell_type": "code",
   "execution_count": 194,
   "metadata": {},
   "outputs": [
    {
     "name": "stdout",
     "output_type": "stream",
     "text": [
      "58.2 ms ± 4.05 ms per loop (mean ± std. dev. of 7 runs, 10 loops each)\n"
     ]
    }
   ],
   "source": [
    "random_triplets = give_random_triplets(input=range(7000), samples=1000000)\n",
    "equal_indices = np.where((random_triplets[:, 0] == random_triplets[:, 1]) | (random_triplets[:, 1] == random_triplets[:, 2]) | (random_triplets[:, 0] == random_triplets[:, 2]))\n",
    "while equal_indices[0].size > 0:\n",
    "    random_triplets[equal_indices] = give_random_triplets(samples=random_triplets[equal_indices].shape[0] )\n",
    "    equal_indices = np.where((random_triplets[:, 0] == random_triplets[:, 1]) | (random_triplets[:, 1] == random_triplets[:, 2]) | (random_triplets[:, 0] == random_triplets[:, 2]))\n",
    "\n",
    "random_triplets\n"
   ]
  },
  {
   "cell_type": "markdown",
   "metadata": {},
   "source": [
    "### Accuracy measures"
   ]
  },
  {
   "cell_type": "code",
   "execution_count": 196,
   "metadata": {},
   "outputs": [],
   "source": [
    "def get_top_k_results(newobj, k=10):\n",
    "    w1=1;w2=1;w3=1;w4=4;w5=3\n",
    "    weights = np.array([w1,w2,w3,w4,w5])\n",
    "    weighted_sums = np.array([])\n",
    "    for index, row in valdf.iterrows():\n",
    "        # print(valdf.columns[0])\n",
    "        values = np.array([])\n",
    "        for col in valdf.columns:\n",
    "            dist = w_dist(newobj[col],row[col])\n",
    "            # dist = get_emd(newobj[col],row[col])\n",
    "\n",
    "            values = np.append(values, dist)\n",
    "        weighted_sum = np.dot(values, weights)\n",
    "        weighted_sums = np.append(weighted_sums, weighted_sum)\n",
    "        # print(weighted_sum)\n",
    "        lowest_indices = np.argsort(weighted_sums)[:k+1]\n",
    "\n",
    "        lowest_values = weighted_sums[lowest_indices]\n",
    "\n",
    "    print(\"5 Lowest Values:\", lowest_values)\n",
    "    print(\"Indices of the 5 Lowest Values:\", lowest_indices)\n",
    "    return lowest_indices, lowest_values\n"
   ]
  },
  {
   "cell_type": "code",
   "execution_count": 15,
   "metadata": {},
   "outputs": [
    {
     "data": {
      "text/plain": [
       "Index(['A3', 'D1', 'D2', 'D3', 'D4'], dtype='object')"
      ]
     },
     "execution_count": 15,
     "metadata": {},
     "output_type": "execute_result"
    }
   ],
   "source": [
    "df.columns[9:]"
   ]
  },
  {
   "cell_type": "code",
   "execution_count": 97,
   "metadata": {},
   "outputs": [],
   "source": [
    "def get_top_k_results_allfeatures(newobj, k=10):\n",
    "    w0=5;w1=1;w2=1;w3=1;w4=1;w5=1\n",
    "    weights = np.array([w0,w1,w2,w3,w4,w5])\n",
    "    weighted_sums = np.array([])\n",
    "    for index, row in df.iterrows():\n",
    "        # print(valdf.columns[0])\n",
    "        values = np.array([])\n",
    "        # dist = euclidean_distance(newobj,row)\n",
    "        # values = np.append(values, dist)\n",
    "        dist2 = cosine_distance(newobj,row)\n",
    "        values = np.append(values, dist2)\n",
    "            \n",
    "        for col in df.columns[9:]:\n",
    "            dist3 = w_dist(newobj[col],row[col])\n",
    "            # dist = get_emd(newobj[col],row[col])\n",
    "\n",
    "            values = np.append(values, dist3)\n",
    "        weighted_sum = np.dot(values, weights)\n",
    "        weighted_sums = np.append(weighted_sums, weighted_sum)\n",
    "        # print(weighted_sum)\n",
    "        lowest_indices = np.argsort(weighted_sums)[:k+1]\n",
    "\n",
    "        lowest_values = weighted_sums[lowest_indices]\n",
    "\n",
    "    print(\"5 Lowest Values:\", lowest_values)\n",
    "    print(\"Indices of the 5 Lowest Values:\", lowest_indices)\n",
    "    return lowest_indices, lowest_values\n"
   ]
  },
  {
   "cell_type": "code",
   "execution_count": 94,
   "metadata": {},
   "outputs": [
    {
     "data": {
      "text/plain": [
       "class                                              Biplane\n",
       "path                             ./features/Biplane\\D00410\n",
       "V                                                -0.073661\n",
       "S                                                -0.498022\n",
       "c                                                -0.021151\n",
       "D                                                -0.654631\n",
       "R                                                -0.269601\n",
       "E                                                -0.535418\n",
       "C                                                -0.374068\n",
       "A3       [0.00518, 0.011636, 0.014856, 0.018058, 0.0208...\n",
       "D1       [0.0001, 0.0001, 0.0003, 0.0008, 0.0021, 0.001...\n",
       "D2       [0.00052, 0.00179, 0.0035, 0.00489, 0.00652, 0...\n",
       "D3       [1.7e-05, 0.0001, 0.000383, 0.000934, 0.001647...\n",
       "D4       [0.000216, 0.00022, 0.000556, 0.001181, 0.0018...\n",
       "Name: 130, dtype: object"
      ]
     },
     "execution_count": 94,
     "metadata": {},
     "output_type": "execute_result"
    }
   ],
   "source": [
    "\n",
    "newobj = df.iloc()[130]#[['A3', 'D1', 'D2', 'D3', 'D4']]\n",
    "newobj"
   ]
  },
  {
   "cell_type": "code",
   "execution_count": 95,
   "metadata": {},
   "outputs": [
    {
     "name": "stdout",
     "output_type": "stream",
     "text": [
      "5 Lowest Values: [0.         3.20105525 3.23270059 3.2584804  3.38854713 3.51740614\n",
      " 3.59079407 3.64372214 3.67745789 3.75281822 3.91014752]\n",
      "Indices of the 5 Lowest Values: [ 130 1216 1224  994 1131 2271  962  146  645 1201 1002]\n"
     ]
    }
   ],
   "source": [
    "lowest_indices, lowest_values = get_top_k_results_allfeatures(newobj=newobj)"
   ]
  },
  {
   "cell_type": "code",
   "execution_count": 96,
   "metadata": {},
   "outputs": [
    {
     "data": {
      "text/plain": [
       "130        Biplane\n",
       "1216        Insect\n",
       "1224        Insect\n",
       "994          House\n",
       "1131      Humanoid\n",
       "2271          Tool\n",
       "962     Helicopter\n",
       "146        Biplane\n",
       "645      DeskPhone\n",
       "1201      Humanoid\n",
       "1002         House\n",
       "Name: class, dtype: object"
      ]
     },
     "execution_count": 96,
     "metadata": {},
     "output_type": "execute_result"
    }
   ],
   "source": [
    "df.iloc[lowest_indices][\"class\"]"
   ]
  },
  {
   "cell_type": "code",
   "execution_count": 99,
   "metadata": {},
   "outputs": [
    {
     "name": "stdout",
     "output_type": "stream",
     "text": [
      "{'AircraftBuoyant': [3, 7], 'Apartment': [17, 21], 'AquaticAnimal': [40, 65], 'Bed': [78, 81], 'Bicycle': [104, 99], 'Biplane': [160, 147], 'Bird': [208, 193], 'Bookset': [217, 218], 'Bottle': [242, 258], 'BuildingNonResidential': [271, 276], 'Bus': [308, 318], 'Car': [387, 359], 'Cellphone': [420, 417], 'Chess': [469, 442], 'City': [484, 496], 'ClassicPiano': [514, 508], 'Computer': [548, 540], 'ComputerKeyboard': [563, 557], 'Cup': [586, 587], 'DeskLamp': [609, 632], 'DeskPhone': [639, 636], 'Door': [663, 673], 'Drum': [698, 702], 'Fish': [717, 735], 'FloorLamp': [744, 754], 'Glasses': [773, 775], 'Guitar': [799, 796], 'Gun': [847, 842], 'Hand': [864, 863], 'Hat': [912, 899], 'Helicopter': [943, 935], 'House': [971, 991], 'HumanHead': [1040, 1019], 'Humanoid': [1188, 1176], 'Insect': [1230, 1222], 'Jet': [1364, 1290], 'Knife': [1411, 1422], 'MilitaryVehicle': [1452, 1446], 'Monitor': [1464, 1474], 'Monoplane': [1481, 1496], 'Motorcycle': [1522, 1500], 'Mug': [1549, 1527], 'MultiSeat': [1551, 1556], 'Musical_Instrument': [1613, 1601], 'NonWheelChair': [1651, 1628], 'PianoBoard': [1684, 1689], 'PlantIndoors': [1756, 1731], 'PlantWildNonTree': [1773, 1768], 'Quadruped': [1812, 1811], 'RectangleTable': [1903, 1881], 'Rocket': [1915, 1925], 'RoundTable': [1957, 1962], 'Shelf': [1974, 1979], 'Ship': [2051, 2031], 'Sign': [2082, 2071], 'Skyscraper': [2096, 2088], 'Spoon': [2117, 2113], 'Starship': [2128, 2131], 'SubmachineGun': [2170, 2174], 'Sword': [2218, 2180], 'Tool': [2249, 2237], 'Train': [2293, 2291], 'Tree': [2342, 2339], 'Truck': [2369, 2360], 'TruckNonContainer': [2386, 2387], 'Vase': [2404, 2411], 'Violin': [2437, 2425], 'Wheel': [2444, 2443], 'WheelChair': [2473, 2467]}\n",
      "[   3    7   17   21   40   65   78   81  104   99  160  147  208  193\n",
      "  217  218  242  258  271  276  308  318  387  359  420  417  469  442\n",
      "  484  496  514  508  548  540  563  557  586  587  609  632  639  636\n",
      "  663  673  698  702  717  735  744  754  773  775  799  796  847  842\n",
      "  864  863  912  899  943  935  971  991 1040 1019 1188 1176 1230 1222\n",
      " 1364 1290 1411 1422 1452 1446 1464 1474 1481 1496 1522 1500 1549 1527\n",
      " 1551 1556 1613 1601 1651 1628 1684 1689 1756 1731 1773 1768 1812 1811\n",
      " 1903 1881 1915 1925 1957 1962 1974 1979 2051 2031 2082 2071 2096 2088\n",
      " 2117 2113 2128 2131 2170 2174 2218 2180 2249 2237 2293 2291 2342 2339\n",
      " 2369 2360 2386 2387 2404 2411 2437 2425 2444 2443 2473 2467]\n"
     ]
    }
   ],
   "source": [
    "import pandas as pd\n",
    "import random\n",
    "\n",
    "# Create an empty dictionary to store the random indices\n",
    "random_indices_dict = {}\n",
    "indices_arr = np.array([],dtype=int)\n",
    "# Group the DataFrame by the \"class\" column\n",
    "grouped = df.groupby('class')\n",
    "\n",
    "# Iterate over each group and select two different random indices for each\n",
    "for name, group in grouped:\n",
    "    indices = group.index.tolist()\n",
    "    newvals = random.sample(indices, min(2, len(indices)))\n",
    "    random_indices_dict[name] = newvals\n",
    "    indices_arr = np.append(indices_arr,newvals)\n",
    "\n",
    "# Display the random indices for each distinct class\n",
    "print(random_indices_dict)\n",
    "print(indices_arr)\n"
   ]
  },
  {
   "cell_type": "code",
   "execution_count": 195,
   "metadata": {},
   "outputs": [
    {
     "name": "stdout",
     "output_type": "stream",
     "text": [
      "5 Lowest Values: [0.         2.6673     3.0845001  3.16317584 3.19272594 3.20122\n",
      " 3.26587334 3.29074614 3.32684614 3.39054438 3.39365327]\n",
      "Indices of the 5 Lowest Values: [2461 2458 2334 1982 1984  876 1974  897 1633 1555 1590]\n"
     ]
    },
    {
     "data": {
      "text/plain": [
       "(array([2461, 2458, 2334, 1982, 1984,  876, 1974,  897, 1633, 1555, 1590],\n",
       "       dtype=int64),\n",
       " array([0.        , 2.6673    , 3.0845001 , 3.16317584, 3.19272594,\n",
       "        3.20122   , 3.26587334, 3.29074614, 3.32684614, 3.39054438,\n",
       "        3.39365327]))"
      ]
     },
     "execution_count": 195,
     "metadata": {},
     "output_type": "execute_result"
    }
   ],
   "source": [
    "get_top_k_results(newobj, k = 10)"
   ]
  },
  {
   "cell_type": "code",
   "execution_count": 100,
   "metadata": {},
   "outputs": [
    {
     "name": "stdout",
     "output_type": "stream",
     "text": [
      "5 Lowest Values: [5.55111512e-16 5.36048538e+00 5.79973190e+00 6.04039481e+00\n",
      " 6.33432575e+00 6.46676380e+00 6.48293472e+00 6.57762047e+00\n",
      " 6.60892444e+00 6.62413100e+00 6.65529732e+00]\n",
      "Indices of the 5 Lowest Values: [   3  630 1746  752 1842 1843 1108  748 2399 2070  625]\n",
      "5 Lowest Values: [1.11022302e-15 8.03586726e+00 8.17512321e+00 8.76033016e+00\n",
      " 9.03558292e+00 9.61681450e+00 9.75431794e+00 9.76984376e+00\n",
      " 9.90122452e+00 9.95181537e+00 1.00554046e+01]\n",
      "Indices of the 5 Lowest Values: [   7 2411 1031 2413 2446  744    8 1038 1054  273    6]\n",
      "5 Lowest Values: [-1.11022302e-15  5.65548191e+00  5.69391318e+00  5.97937661e+00\n",
      "  6.41464277e+00  6.43408520e+00  6.45475202e+00  6.46951514e+00\n",
      "  6.57519949e+00  6.60154189e+00  6.65202777e+00]\n",
      "Indices of the 5 Lowest Values: [  17 2453 1828 1505  893  433  469 1001  865  457  438]\n",
      "5 Lowest Values: [-1.11022302e-15  6.40974751e+00  6.92660803e+00  7.39312765e+00\n",
      "  7.42837362e+00  7.51787565e+00  7.57628106e+00  7.74173274e+00\n",
      "  7.83010295e+00  7.83271720e+00  7.83803850e+00]\n",
      "Indices of the 5 Lowest Values: [  21  638  302  633 1214  285 1583 1830  226  227 2270]\n",
      "5 Lowest Values: [0.         3.68178066 4.1636312  4.36745626 4.57349282 4.65123887\n",
      " 4.68267616 4.75356645 4.82752978 4.84652475 4.91909941]\n",
      "Indices of the 5 Lowest Values: [  40   39   43 1149 1102  874 1084 1109 1076   42  716]\n",
      "5 Lowest Values: [5.55111512e-16 4.41242804e+00 4.49163707e+00 4.97049562e+00\n",
      " 5.42185408e+00 5.46719575e+00 5.51076618e+00 5.60062373e+00\n",
      " 5.64786656e+00 5.80105943e+00 5.80307685e+00]\n",
      "Indices of the 5 Lowest Values: [  65   67   66   64 1316  934  819  858 2341 2034 1312]\n",
      "5 Lowest Values: [5.55111512e-16 7.85827304e+00 1.10529234e+01 1.11812285e+01\n",
      " 1.12427471e+01 1.28877494e+01 1.34416220e+01 1.35953252e+01\n",
      " 1.48899959e+01 1.49776576e+01 1.55867559e+01]\n",
      "Indices of the 5 Lowest Values: [  78 1878 1905   74 1867 1860 1877  973 1903 1875 1879]\n",
      "5 Lowest Values: [0.         4.48236497 5.16573609 5.50838516 5.64483346 5.93717159\n",
      " 6.09605501 6.10835285 6.33204102 6.48018922 6.49680322]\n",
      "Indices of the 5 Lowest Values: [  81 1889   68   73 2084   83   87   82 1567 1469   69]\n",
      "5 Lowest Values: [0.         2.86970517 3.16706659 3.30399182 3.60691371 3.66090067\n",
      " 3.76741845 3.81381149 3.9411643  4.3738979  4.44626485]\n",
      "Indices of the 5 Lowest Values: [104 103  98 113  96 114 107 109 118 112 115]\n",
      "5 Lowest Values: [-1.11022302e-15  9.82241688e-01  1.21316944e+00  3.59837790e+00\n",
      "  3.64599553e+00  4.10716942e+00  4.37283787e+00  4.65222517e+00\n",
      "  4.75056856e+00  4.84321577e+00  4.87262455e+00]\n",
      "Indices of the 5 Lowest Values: [  99  110  119  102  114  103 1280  117  104  113  100]\n",
      "5 Lowest Values: [-1.11022302e-15  2.86608331e+00  3.87970368e+00  4.19056569e+00\n",
      "  4.43541031e+00  4.48964359e+00  4.74427409e+00  4.83690998e+00\n",
      "  5.26627975e+00  5.45908807e+00  5.46349266e+00]\n",
      "Indices of the 5 Lowest Values: [ 160  132 2059 1268  144  148  146  183  879  962  197]\n",
      "5 Lowest Values: [0.         2.51778257 2.89859636 3.73014206 3.77353793 3.78107591\n",
      " 3.99284414 4.03931018 4.44363596 4.52992886 4.63655832]\n",
      "Indices of the 5 Lowest Values: [ 147  153 1478 1216  151  149 1356  137  156  963  161]\n",
      "5 Lowest Values: [-1.11022302e-15  4.65497787e+00  4.77588060e+00  5.17346091e+00\n",
      "  5.22453085e+00  5.29866710e+00  5.30578630e+00  5.41131853e+00\n",
      "  5.82095952e+00  5.82352990e+00  5.85123576e+00]\n",
      "Indices of the 5 Lowest Values: [ 208  344  388  343 1447  528 1553  401  550  373  385]\n",
      "5 Lowest Values: [0.         3.62026639 4.03439594 4.3412943  4.40229491 4.81658926\n",
      " 5.06565057 5.09854202 5.12553608 5.15708012 5.19035258]\n",
      "Indices of the 5 Lowest Values: [ 193  517  602   22 1630 1995 1752  229  525  551  215]\n",
      "5 Lowest Values: [-1.11022302e-15  3.89278561e+00  4.61862709e+00  4.77321395e+00\n",
      "  4.82685338e+00  4.91334301e+00  5.11209515e+00  5.15983272e+00\n",
      "  5.18037907e+00  5.20696074e+00  5.23759145e+00]\n",
      "Indices of the 5 Lowest Values: [ 217 1979  976 1694 1970  223  220 1667 1977 1973   26]\n",
      "5 Lowest Values: [1.11022302e-15 3.04698869e+00 3.66377747e+00 4.36847127e+00\n",
      " 4.91680440e+00 4.97538640e+00 5.03485761e+00 5.05864390e+00\n",
      " 5.21288443e+00 5.30565153e+00 5.35623684e+00]\n",
      "Indices of the 5 Lowest Values: [ 218  972  220 1967 1704  987  976 1762 1004  262 1000]\n",
      "5 Lowest Values: [ 0.          7.8161127   7.85069797  8.7581113   9.07428508  9.0784995\n",
      "  9.35444417  9.87733421  9.91013988  9.95198964 10.1354028 ]\n",
      "Indices of the 5 Lowest Values: [ 242  336 2381 2390 2288 1710 1796  329 2102  325  340]\n",
      "5 Lowest Values: [0.         3.76011431 4.00085078 4.54124036 4.7233108  4.74374211\n",
      " 4.94276213 5.00097872 5.12106639 5.22354551 5.2437527 ]\n",
      "Indices of the 5 Lowest Values: [ 258 1911 1810   10  388  344  259  230 1447 2088 2470]\n",
      "5 Lowest Values: [-1.11022302e-15  3.87153234e+00  3.88560151e+00  3.92576187e+00\n",
      "  4.39011611e+00  4.43513032e+00  4.61776187e+00  4.69473923e+00\n",
      "  4.84031569e+00  4.87284900e+00  4.96311203e+00]\n",
      "Indices of the 5 Lowest Values: [ 271  284 1029 1539  712 1538 2408 1868 1024 1524  206]\n",
      "5 Lowest Values: [ 0.          7.2255488   7.28719824  7.89264873  9.09627543  9.52280314\n",
      "  9.97086596 11.33455939 11.53974161 11.70733064 12.07347869]\n",
      "Indices of the 5 Lowest Values: [ 276  702   49    8  738 1036 1622  275  705 1744 2314]\n",
      "5 Lowest Values: [1.11022302e-15 7.48099807e+00 7.52783838e+00 7.75046768e+00\n",
      " 7.76592638e+00 8.36474105e+00 8.43588485e+00 8.60332785e+00\n",
      " 8.73984482e+00 8.74506340e+00 9.14670568e+00]\n",
      "Indices of the 5 Lowest Values: [ 308 2149  554  311 2384 2354  996 2366   20 1980 2394]\n",
      "5 Lowest Values: [-1.11022302e-15  5.31579437e+00  5.78742997e+00  6.20762794e+00\n",
      "  6.31501450e+00  6.45447666e+00  6.56889226e+00  6.57478256e+00\n",
      "  6.87078059e+00  7.18562686e+00  7.32530443e+00]\n",
      "Indices of the 5 Lowest Values: [ 318 2361 2357 2367  307 1562 1121 1594 2359 2281 2100]\n",
      "5 Lowest Values: [0.         3.15927621 4.32263834 4.37877676 4.38189344 4.51422604\n",
      " 4.56360848 4.75483281 4.81665682 4.86082962 4.91245321]\n",
      "Indices of the 5 Lowest Values: [ 387  373  413  389  376  352  353 1589 1553  371  400]\n",
      "5 Lowest Values: [-1.11022302e-15  4.22386195e+00  5.15501109e+00  5.45501164e+00\n",
      "  5.89089653e+00  5.89889986e+00  6.05654668e+00  6.16520623e+00\n",
      "  6.18471924e+00  6.32742195e+00  6.35081216e+00]\n",
      "Indices of the 5 Lowest Values: [ 359  362  361  406  353 1839  236 1522 1589 2370 1615]\n",
      "5 Lowest Values: [5.55111512e-16 4.02421596e+00 5.39281452e+00 5.52232977e+00\n",
      " 5.57501261e+00 5.84580704e+00 6.10778902e+00 6.38985836e+00\n",
      " 6.66215982e+00 6.70436758e+00 6.77624813e+00]\n",
      "Indices of the 5 Lowest Values: [ 420  421  258 1911   10 1918  237 2303 2371 1810 1045]\n",
      "5 Lowest Values: [1.11022302e-15 4.15164897e+00 4.15283161e+00 4.98006772e+00\n",
      " 5.07300199e+00 5.14134640e+00 5.17358202e+00 5.53647942e+00\n",
      " 5.54540240e+00 5.62068192e+00 5.83848815e+00]\n",
      "Indices of the 5 Lowest Values: [ 417  680  655 1854  379  384  383  395  392 1448  260]\n",
      "5 Lowest Values: [0.         1.09901061 4.86179292 5.21200885 5.25960432 5.35550049\n",
      " 5.36777443 5.46068416 5.57215263 5.59518358 5.60352269]\n",
      "Indices of the 5 Lowest Values: [ 469  433 1819  431 1645  259 1792 2453 1791  269   44]\n",
      "5 Lowest Values: [1.11022302e-15 1.10859952e+00 3.06259599e+00 3.32808054e+00\n",
      " 4.71480160e+00 4.82385625e+00 5.02856003e+00 5.41331353e+00\n",
      " 5.50689217e+00 5.60534324e+00 5.64090373e+00]\n",
      "Indices of the 5 Lowest Values: [ 442  456  460  435  445  470  369 1107 1086  947  587]\n",
      "5 Lowest Values: [0.         6.12489564 8.03871328 8.35359855 8.39982817 8.90565084\n",
      " 9.18117626 9.34904085 9.46151293 9.4634363  9.81153746]\n",
      "Indices of the 5 Lowest Values: [ 484 1888 2000 1992 1464   28 1988 1986  212 1477 1991]\n",
      "5 Lowest Values: [ 0.          9.62494342  9.71892354 10.3056052  10.95658024 11.04331979\n",
      " 11.37935868 11.48066318 11.51682714 11.65211376 11.66420979]\n",
      "Indices of the 5 Lowest Values: [ 496  123  139  125 1315 1296 1362 2149   97  810  798]\n",
      "5 Lowest Values: [1.11022302e-15 4.25933590e+00 4.35016963e+00 4.71159205e+00\n",
      " 5.16381494e+00 5.24353684e+00 5.36806198e+00 5.44663796e+00\n",
      " 5.63924027e+00 5.78133564e+00 5.90554569e+00]\n",
      "Indices of the 5 Lowest Values: [ 514  536  545 1551 1928 1621  525  551  500  265   33]\n",
      "5 Lowest Values: [1.11022302e-15 9.23349085e+00 9.97453627e+00 1.01487713e+01\n",
      " 1.11035255e+01 1.13546241e+01 1.25859452e+01 1.28536770e+01\n",
      " 1.29613423e+01 1.32049654e+01 1.32215381e+01]\n",
      "Indices of the 5 Lowest Values: [ 508 1725  513   94 1223  945  490  944 1227  225 1692]\n",
      "5 Lowest Values: [1.11022302e-15 1.95664672e+00 5.05210848e+00 5.37442485e+00\n",
      " 5.70413901e+00 5.87419343e+00 5.97370136e+00 6.02771433e+00\n",
      " 6.14399992e+00 6.22166074e+00 6.22415992e+00]\n",
      "Indices of the 5 Lowest Values: [ 548  521 2323 2307 1014 1741 1614 2460  222 1632  618]\n",
      "5 Lowest Values: [-1.11022302e-15  1.25497227e+00  8.15763627e+00  9.55927083e+00\n",
      "  1.00619109e+01  1.01492357e+01  1.03953127e+01  1.06717018e+01\n",
      "  1.09834448e+01  1.11952647e+01  1.17174303e+01]\n",
      "Indices of the 5 Lowest Values: [ 540  534  492  263  657  483 1222  687 1257 1236 1261]\n",
      "5 Lowest Values: [0.         3.48346024 4.26168131 4.37236447 4.48155144 4.66552019\n",
      " 5.00345949 5.49854498 5.55678328 5.57052399 5.74889926]\n",
      "Indices of the 5 Lowest Values: [ 563  985 2231 2099 2236 2243  568 1435 1582  565 1118]\n",
      "5 Lowest Values: [0.         3.91087091 4.11200978 4.41489346 4.99889267 5.86135436\n",
      " 5.91833534 6.06491518 6.41589766 6.49817748 6.63708858]\n",
      "Indices of the 5 Lowest Values: [ 557  571  569  556   38  896  561  880 2039  784 1141]\n",
      "5 Lowest Values: [0.         5.20086311 5.94147397 6.22776828 6.37119281 6.50417299\n",
      " 6.58999881 6.68453211 6.69248503 6.9193361  6.9987997 ]\n",
      "Indices of the 5 Lowest Values: [ 586  575  590 1567 1593  588 1901 1904  599 1570 1947]\n",
      "5 Lowest Values: [-1.11022302e-15  3.96615564e+00  4.23600096e+00  4.32984129e+00\n",
      "  4.33869386e+00  4.46780175e+00  4.71713481e+00  4.71980269e+00\n",
      "  4.85594131e+00  4.86126924e+00  4.99261249e+00]\n",
      "Indices of the 5 Lowest Values: [ 587 1099 1070  726 2429 1133  734 2145  936  723 1085]\n",
      "5 Lowest Values: [0.         5.18736912 5.57071767 5.67709634 5.75532363 5.82487795\n",
      " 6.15577327 6.20738198 6.43726383 6.45466505 6.60118147]\n",
      "Indices of the 5 Lowest Values: [ 609   53  373 1839  739 1436 1806  694  827 1163  359]\n",
      "5 Lowest Values: [0.         7.15875791 7.82742624 7.87162982 8.34805422 8.49740235\n",
      " 8.5695304  8.60720864 8.63484303 8.68456403 8.77159923]\n",
      "Indices of the 5 Lowest Values: [ 632 1399 1189  117  101  625 2418 1397 1747  467 2160]\n",
      "5 Lowest Values: [-1.11022302e-15  8.24210380e+00  1.16686327e+01  1.16933795e+01\n",
      "  1.19843628e+01  1.22008791e+01  1.22344878e+01  1.23335072e+01\n",
      "  1.24220514e+01  1.27616853e+01  1.32483640e+01]\n",
      "Indices of the 5 Lowest Values: [ 639 1872  578 1154  467  194  449 1473 2374  285 1609]\n",
      "5 Lowest Values: [0.         3.58779941 4.06274867 4.51432723 5.20101205 5.2325782\n",
      " 5.78381139 5.87949832 6.04561537 6.09337901 6.33473885]\n",
      "Indices of the 5 Lowest Values: [ 636  648  645  642 1267 1832   88 1967 1614 1462 2311]\n",
      "5 Lowest Values: [5.55111512e-16 1.36937341e+00 7.71418805e+00 8.62569100e+00\n",
      " 9.10628755e+00 1.07583450e+01 1.08142476e+01 1.15470847e+01\n",
      " 1.18475768e+01 1.25962555e+01 1.27183250e+01]\n",
      "Indices of the 5 Lowest Values: [ 663  684 1883  682  656  691  671 1885 2084 1845 1889]\n",
      "5 Lowest Values: [0.         1.40476347 5.88485883 6.00752236 6.18306034 6.58679225\n",
      " 6.76350905 6.83197055 6.84102333 7.07319676 7.08912793]\n",
      "Indices of the 5 Lowest Values: [ 673  654 1245 1847  668 1220 1218  662  683 1243  994]\n",
      "5 Lowest Values: [0.         3.84797295 4.39643656 4.47226329 4.51543981 4.7196837\n",
      " 4.95960014 5.07856302 5.77102399 5.78032016 5.83493546]\n",
      "Indices of the 5 Lowest Values: [ 698 1050 1023 1028 1032  707 1045  268 1024 1524 1549]\n",
      "5 Lowest Values: [5.55111512e-16 5.44868954e+00 6.31174680e+00 6.39698744e+00\n",
      " 6.61516271e+00 7.22554880e+00 8.14785038e+00 8.17076185e+00\n",
      " 9.04365651e+00 9.10704104e+00 9.18468763e+00]\n",
      "Indices of the 5 Lowest Values: [ 702    8   49  705 1036  276  908 1547  911 1744  280]\n",
      "5 Lowest Values: [0.         2.99028699 3.5423972  3.63861086 3.72915519 3.84033143\n",
      " 3.92287389 4.03847135 4.04458824 4.11291792 4.15111456]\n",
      "Indices of the 5 Lowest Values: [ 717  718  725  721 2021 1103 2014 1065 2008 1137   57]\n",
      "5 Lowest Values: [1.11022302e-15 4.38021608e+00 4.44177077e+00 4.59215774e+00\n",
      " 4.74234681e+00 5.07210119e+00 5.15271796e+00 5.45940248e+00\n",
      " 5.48214707e+00 5.48842011e+00 5.49098459e+00]\n",
      "Indices of the 5 Lowest Values: [ 735  731  721 1244 1322 1303   63  730 1298 1295  717]\n",
      "5 Lowest Values: [-1.11022302e-15  3.69262505e+00  4.83861561e+00  5.05545142e+00\n",
      "  5.46900406e+00  6.10576932e+00  6.19297078e+00  6.40855486e+00\n",
      "  6.46193704e+00  6.52380765e+00  6.53776059e+00]\n",
      "Indices of the 5 Lowest Values: [ 744  743  741  909  904 1031  737  891  875  275  284]\n",
      "5 Lowest Values: [1.11022302e-15 1.03164971e+01 1.38309766e+01 1.38956616e+01\n",
      " 1.56929704e+01 1.57357293e+01 1.58749186e+01 1.62790946e+01\n",
      " 1.68674695e+01 1.70277139e+01 1.71294429e+01]\n",
      "Indices of the 5 Lowest Values: [ 754  689 2179  824  859  607 2196  944 2218 1774 2312]\n",
      "5 Lowest Values: [ 0.         11.73937738 12.85797685 13.86431728 14.06724695 14.43938019\n",
      " 14.84771032 15.03191347 15.07442422 15.25369227 15.52051546]\n",
      "Indices of the 5 Lowest Values: [ 773  277  635  775  526 1369  771  487 1691 1846  358]\n",
      "5 Lowest Values: [ 0.         11.80521329 12.81121902 13.00295784 13.10238963 13.60742327\n",
      " 13.77901196 13.86431728 14.00158585 14.26967694 14.30148647]\n",
      "Indices of the 5 Lowest Values: [ 775 1477 1848  779 1464 1888  278  773  526  610 2000]\n",
      "5 Lowest Values: [5.55111512e-16 1.29893086e+00 6.31235136e+00 6.41604782e+00\n",
      " 7.06787635e+00 7.30124635e+00 7.31839618e+00 7.33288469e+00\n",
      " 7.52445581e+00 7.52622450e+00 7.58158765e+00]\n",
      "Indices of the 5 Lowest Values: [ 799 1598 1601 2252 1922 2423 2109  785 1412 2092 2256]\n",
      "5 Lowest Values: [0.         3.57574809 3.78789337 3.89157774 4.35852679 4.70305523\n",
      " 4.75197009 4.75641897 4.80075618 4.81987165 4.82115844]\n",
      "Indices of the 5 Lowest Values: [ 796  787 2425 2433 1610 2420  816 1110 2421  793 2175]\n",
      "5 Lowest Values: [0.         3.77775924 3.8354387  4.26699491 4.41755511 4.55807034\n",
      " 4.67239649 4.99019345 5.09062525 5.24868392 5.39386211]\n",
      "Indices of the 5 Lowest Values: [ 847 2026 1423 2158 2071 2183 2257  794 2067 2171 2229]\n",
      "5 Lowest Values: [ 0.          8.26906146  9.80425819 10.14041466 10.71614945 10.72363447\n",
      " 11.00677874 11.05780802 11.06921389 11.0692738  11.57118258]\n",
      "Indices of the 5 Lowest Values: [ 842 2036  416  134  992  486  281  810  241 2385  495]\n",
      "5 Lowest Values: [-1.11022302e-15  1.08206485e+00  5.38880175e+00  5.40777571e+00\n",
      "  5.74318184e+00  5.94128376e+00  6.01198850e+00  6.16359540e+00\n",
      "  6.17957100e+00  6.18834382e+00  6.28415667e+00]\n",
      "Indices of the 5 Lowest Values: [ 864  889  862  894   44  750 2344  441 1615 1803  471]\n",
      "5 Lowest Values: [0.         4.00679364 4.30702222 4.35517921 4.43612619 4.50618442\n",
      " 4.52620212 4.57515237 4.5889132  4.71224103 4.80824357]\n",
      "Indices of the 5 Lowest Values: [ 863  724  866  729 2144 1645 1096 1067  186  884 1088]\n",
      "5 Lowest Values: [0.         3.36833694 3.52610163 3.57659797 4.53477739 4.93259414\n",
      " 5.01819328 5.1062349  5.18103361 5.35011088 5.50497982]\n",
      "Indices of the 5 Lowest Values: [ 912 1539 1538 2417 1536 1525 1057 1041  909    2  712]\n",
      "5 Lowest Values: [0.         3.13237436 3.41049782 4.02428532 4.118804   4.45342295\n",
      " 4.61601489 4.67029185 4.79300265 4.85606519 4.86200847]\n",
      "Indices of the 5 Lowest Values: [ 899 2453  903 1825  516  209  205 1819  618 1030  878]\n",
      "5 Lowest Values: [1.11022302e-15 5.63698701e+00 6.02088844e+00 6.26525505e+00\n",
      " 6.61490624e+00 6.68413002e+00 6.69883794e+00 6.75027244e+00\n",
      " 6.83650095e+00 6.84152823e+00 6.89567315e+00]\n",
      "Indices of the 5 Lowest Values: [ 943  928  917  930 1373  948  949 1273 1279  932   62]\n",
      "5 Lowest Values: [-1.11022302e-15  3.99143361e+00  4.30128962e+00  4.35764168e+00\n",
      "  4.42621329e+00  4.42876117e+00  4.64322518e+00  4.66210629e+00\n",
      "  4.71465278e+00  4.80485898e+00  4.91004545e+00]\n",
      "Indices of the 5 Lowest Values: [ 935  729   48   12 1088 1840 1812  804 1096 1117  649]\n",
      "5 Lowest Values: [0.         5.35483279 5.5452784  6.42363325 6.44265395 6.58183617\n",
      " 6.59884391 6.63597766 6.7760894  6.79559699 6.81261575]\n",
      "Indices of the 5 Lowest Values: [ 971  969  980 1616  291  218 1000  289  521 1613  981]\n",
      "5 Lowest Values: [ 0.         46.06594216 46.4892679  46.57940918 47.01895034 47.94080846\n",
      " 48.88159427 48.92193658 48.96773641 49.27323342 49.35382615]\n",
      "Indices of the 5 Lowest Values: [ 991  270 2205 1222 1223 1249 1727  296  989  490  476]\n",
      "5 Lowest Values: [1.11022302e-15 2.82359059e+00 3.63341204e+00 4.21531543e+00\n",
      " 4.91409148e+00 4.93847704e+00 5.38583610e+00 5.50968712e+00\n",
      " 5.53064039e+00 5.54110489e+00 5.55659395e+00]\n",
      "Indices of the 5 Lowest Values: [1040 1537 1021 1011  240  705 1017 2416 1025 1046 1055]\n",
      "5 Lowest Values: [1.11022302e-15 3.83152506e+00 3.93802732e+00 4.08043675e+00\n",
      " 4.20105776e+00 4.61966229e+00 4.68828764e+00 4.72742029e+00\n",
      " 4.86171972e+00 5.07609248e+00 5.69600501e+00]\n",
      "Indices of the 5 Lowest Values: [1019 1018 1016    6 1038 2414 1031 1054  707 2446 1026]\n",
      "5 Lowest Values: [5.55111512e-16 6.08916665e+00 6.33242855e+00 6.37072666e+00\n",
      " 7.04724378e+00 7.05705640e+00 7.08118877e+00 7.19969686e+00\n",
      " 7.40166807e+00 7.41574044e+00 7.42077285e+00]\n",
      "Indices of the 5 Lowest Values: [1188  399 1854   13 1746  621 1799  608  655  630 2292]\n",
      "5 Lowest Values: [-1.11022302e-15  3.09878567e+00  3.34282127e+00  3.93309147e+00\n",
      "  4.13762393e+00  4.25397105e+00  4.50512039e+00  4.51015317e+00\n",
      "  4.79186494e+00  4.87723402e+00  4.89022166e+00]\n",
      "Indices of the 5 Lowest Values: [1176 1183 1171 1348 1175 1270 1322 1272 1298 1314 1101]\n",
      "5 Lowest Values: [0.         4.91573377 5.43375511 5.54472886 5.96449002 5.96790273\n",
      " 5.97817342 5.99281194 6.27448742 6.28873291 6.44238804]\n",
      "Indices of the 5 Lowest Values: [1230 1255 1233 1832 1814 1847 1462 1679 1169 1245  648]\n",
      "5 Lowest Values: [0.         4.57054906 5.35005709 7.15729614 7.58790675 7.81225253\n",
      " 7.95491715 8.03492179 8.06278047 8.06780318 8.89985358]\n",
      "Indices of the 5 Lowest Values: [1222 1223 1256 1249 1261 1251  263  492 1257  989  490]\n",
      "5 Lowest Values: [-1.11022302e-15  2.90484546e+00  3.13075463e+00  3.35520841e+00\n",
      "  3.42771880e+00  3.57299404e+00  3.81037578e+00  3.81628651e+00\n",
      "  3.87686149e+00  3.99540502e+00  4.01912071e+00]\n",
      "Indices of the 5 Lowest Values: [1364 1363 1310 1371 1338 1335 1297 1353 1354 1485 1361]\n"
     ]
    }
   ],
   "source": [
    "totalcorrect = 0\n",
    "total = 0\n",
    "for i in indices_arr:\n",
    "    newobj = df.iloc()[i]\n",
    "    # lowest_indices, lowest_values = get_top_k_results(newobj, k = 10)\n",
    "    lowest_indices, lowest_values = get_top_k_results_allfeatures(newobj, k = 10)\n",
    "\n",
    "    y = df.iloc[lowest_indices[0]][\"class\"]\n",
    "    correct = 0\n",
    "    for ind in lowest_indices[1:]:\n",
    "        if df.iloc[ind][\"class\"] == y:\n",
    "            correct += 1 \n",
    "    totalcorrect += correct\n",
    "    total += len(lowest_indices[1:])"
   ]
  },
  {
   "cell_type": "code",
   "execution_count": null,
   "metadata": {},
   "outputs": [],
   "source": [
    "totalcorrect, total, totalcorrect/ total"
   ]
  },
  {
   "cell_type": "code",
   "execution_count": 199,
   "metadata": {},
   "outputs": [
    {
     "data": {
      "text/plain": [
       "(209, 1380, 0.15144927536231884)"
      ]
     },
     "execution_count": 199,
     "metadata": {},
     "output_type": "execute_result"
    }
   ],
   "source": [
    "totalcorrect, total, totalcorrect/ total"
   ]
  },
  {
   "cell_type": "code",
   "execution_count": 192,
   "metadata": {},
   "outputs": [
    {
     "data": {
      "text/plain": [
       "(238, 1380, 0.17246376811594202)"
      ]
     },
     "execution_count": 192,
     "metadata": {},
     "output_type": "execute_result"
    }
   ],
   "source": [
    "totalcorrect, total, totalcorrect/ total"
   ]
  },
  {
   "cell_type": "code",
   "execution_count": 188,
   "metadata": {},
   "outputs": [
    {
     "data": {
      "text/html": [
       "<div>\n",
       "<style scoped>\n",
       "    .dataframe tbody tr th:only-of-type {\n",
       "        vertical-align: middle;\n",
       "    }\n",
       "\n",
       "    .dataframe tbody tr th {\n",
       "        vertical-align: top;\n",
       "    }\n",
       "\n",
       "    .dataframe thead th {\n",
       "        text-align: right;\n",
       "    }\n",
       "</style>\n",
       "<table border=\"1\" class=\"dataframe\">\n",
       "  <thead>\n",
       "    <tr style=\"text-align: right;\">\n",
       "      <th></th>\n",
       "      <th>class</th>\n",
       "      <th>path</th>\n",
       "      <th>V</th>\n",
       "      <th>S</th>\n",
       "      <th>c</th>\n",
       "      <th>D</th>\n",
       "      <th>R</th>\n",
       "      <th>E</th>\n",
       "      <th>C</th>\n",
       "      <th>A3</th>\n",
       "      <th>D1</th>\n",
       "      <th>D2</th>\n",
       "      <th>D3</th>\n",
       "      <th>D4</th>\n",
       "    </tr>\n",
       "  </thead>\n",
       "  <tbody>\n",
       "    <tr>\n",
       "      <th>100</th>\n",
       "      <td>Bicycle</td>\n",
       "      <td>./features/Bicycle\\D00462</td>\n",
       "      <td>0.015860</td>\n",
       "      <td>-0.558199</td>\n",
       "      <td>-0.021151</td>\n",
       "      <td>-0.530023</td>\n",
       "      <td>-0.014967</td>\n",
       "      <td>-0.675910</td>\n",
       "      <td>-0.021856</td>\n",
       "      <td>[0.013414, 0.021464, 0.02267, 0.022876, 0.0231...</td>\n",
       "      <td>[0.0, 0.0001, 0.0001, 0.0001, 0.0001, 0.0001, ...</td>\n",
       "      <td>[0.00175, 0.00451, 0.00605, 0.00585, 0.00708, ...</td>\n",
       "      <td>[0.00012, 0.000591, 0.001199, 0.001893, 0.0027...</td>\n",
       "      <td>[0.000103, 0.000612, 0.001531, 0.002789, 0.004...</td>\n",
       "    </tr>\n",
       "    <tr>\n",
       "      <th>102</th>\n",
       "      <td>Bicycle</td>\n",
       "      <td>./features/Bicycle\\D00536</td>\n",
       "      <td>-0.003958</td>\n",
       "      <td>-0.594845</td>\n",
       "      <td>-0.021151</td>\n",
       "      <td>-0.509049</td>\n",
       "      <td>-0.024217</td>\n",
       "      <td>-0.458325</td>\n",
       "      <td>-0.038430</td>\n",
       "      <td>[0.011727, 0.017246, 0.021203, 0.021615, 0.021...</td>\n",
       "      <td>[0.0, 0.0001, 0.0001, 0.0001, 0.0002, 0.0001, ...</td>\n",
       "      <td>[0.00227, 0.0065, 0.00635, 0.00573, 0.00592, 0...</td>\n",
       "      <td>[0.00015, 0.000766, 0.001386, 0.002328, 0.0032...</td>\n",
       "      <td>[0.000144, 0.000953, 0.002239, 0.003976, 0.006...</td>\n",
       "    </tr>\n",
       "    <tr>\n",
       "      <th>1465</th>\n",
       "      <td>Monitor</td>\n",
       "      <td>./features/Monitor\\D00391</td>\n",
       "      <td>-0.179488</td>\n",
       "      <td>1.204441</td>\n",
       "      <td>-0.021151</td>\n",
       "      <td>0.852796</td>\n",
       "      <td>-0.389738</td>\n",
       "      <td>-0.702152</td>\n",
       "      <td>-0.545376</td>\n",
       "      <td>[0.009992, 0.01945, 0.021982, 0.022273, 0.0224...</td>\n",
       "      <td>[0.0, 0.001, 0.0011, 0.0019, 0.001, 0.0011, 0....</td>\n",
       "      <td>[0.00073, 0.002, 0.00271, 0.0033, 0.00487, 0.0...</td>\n",
       "      <td>[3.2e-05, 0.000166, 0.000468, 0.000992, 0.0016...</td>\n",
       "      <td>[0.000744, 0.000818, 0.001055, 0.001956, 0.002...</td>\n",
       "    </tr>\n",
       "    <tr>\n",
       "      <th>108</th>\n",
       "      <td>Bicycle</td>\n",
       "      <td>./features/Bicycle\\D00750</td>\n",
       "      <td>0.100926</td>\n",
       "      <td>-0.272764</td>\n",
       "      <td>-0.021151</td>\n",
       "      <td>-0.372126</td>\n",
       "      <td>0.098439</td>\n",
       "      <td>-0.604313</td>\n",
       "      <td>0.151024</td>\n",
       "      <td>[0.009781, 0.019754, 0.023327, 0.023564, 0.023...</td>\n",
       "      <td>[0.0, 0.0001, 0.0001, 0.0001, 0.0001, 0.0001, ...</td>\n",
       "      <td>[0.00054, 0.00234, 0.00401, 0.00534, 0.00647, ...</td>\n",
       "      <td>[1.4e-05, 0.000117, 0.000433, 0.001004, 0.0017...</td>\n",
       "      <td>[6.6e-05, 0.000416, 0.001103, 0.001944, 0.0033...</td>\n",
       "    </tr>\n",
       "    <tr>\n",
       "      <th>114</th>\n",
       "      <td>Bicycle</td>\n",
       "      <td>./features/Bicycle\\D00974</td>\n",
       "      <td>-0.024465</td>\n",
       "      <td>-0.548177</td>\n",
       "      <td>-0.021151</td>\n",
       "      <td>-0.498631</td>\n",
       "      <td>-0.117300</td>\n",
       "      <td>-0.688648</td>\n",
       "      <td>-0.187253</td>\n",
       "      <td>[0.011226, 0.021829, 0.026766, 0.02798, 0.0269...</td>\n",
       "      <td>[0.0, 0.0001, 0.0001, 0.0001, 0.0001, 0.0001, ...</td>\n",
       "      <td>[0.00158, 0.00473, 0.00715, 0.00809, 0.00925, ...</td>\n",
       "      <td>[3.7e-05, 0.000395, 0.000988, 0.001959, 0.0030...</td>\n",
       "      <td>[7.6e-05, 0.000494, 0.001341, 0.002521, 0.0039...</td>\n",
       "    </tr>\n",
       "    <tr>\n",
       "      <th>96</th>\n",
       "      <td>Bicycle</td>\n",
       "      <td>./features/Bicycle\\D00033</td>\n",
       "      <td>0.011966</td>\n",
       "      <td>-0.672358</td>\n",
       "      <td>-0.021151</td>\n",
       "      <td>-0.687026</td>\n",
       "      <td>-0.021327</td>\n",
       "      <td>-0.704064</td>\n",
       "      <td>-0.034429</td>\n",
       "      <td>[0.012993, 0.022425, 0.024989, 0.025044, 0.026...</td>\n",
       "      <td>[0.0, 0.0001, 0.0001, 0.0004, 0.0002, 0.0003, ...</td>\n",
       "      <td>[0.00169, 0.00331, 0.00459, 0.00462, 0.00762, ...</td>\n",
       "      <td>[8.7e-05, 0.00057, 0.001067, 0.001509, 0.00225...</td>\n",
       "      <td>[0.000108, 0.000687, 0.001729, 0.00331, 0.0050...</td>\n",
       "    </tr>\n",
       "    <tr>\n",
       "      <th>115</th>\n",
       "      <td>Bicycle</td>\n",
       "      <td>./features/Bicycle\\m1472</td>\n",
       "      <td>0.001595</td>\n",
       "      <td>-0.627271</td>\n",
       "      <td>-0.021151</td>\n",
       "      <td>-0.647436</td>\n",
       "      <td>-0.019638</td>\n",
       "      <td>-0.642163</td>\n",
       "      <td>-0.038314</td>\n",
       "      <td>[0.011378, 0.022022, 0.024566, 0.024305, 0.023...</td>\n",
       "      <td>[0.0, 0.0001, 0.0001, 0.0001, 0.0012, 0.0005, ...</td>\n",
       "      <td>[0.00138, 0.00399, 0.00619, 0.00623, 0.00645, ...</td>\n",
       "      <td>[2.6e-05, 0.000247, 0.000791, 0.00152, 0.00252...</td>\n",
       "      <td>[0.000117, 0.000755, 0.001949, 0.003755, 0.005...</td>\n",
       "    </tr>\n",
       "    <tr>\n",
       "      <th>106</th>\n",
       "      <td>Bicycle</td>\n",
       "      <td>./features/Bicycle\\D00621</td>\n",
       "      <td>0.045538</td>\n",
       "      <td>-0.656544</td>\n",
       "      <td>-0.021151</td>\n",
       "      <td>-0.634887</td>\n",
       "      <td>0.044704</td>\n",
       "      <td>-0.723747</td>\n",
       "      <td>0.060357</td>\n",
       "      <td>[0.016849, 0.026814, 0.029573, 0.028311, 0.027...</td>\n",
       "      <td>[0.0, 0.0001, 0.0001, 0.0001, 0.0005, 0.0009, ...</td>\n",
       "      <td>[0.00165, 0.00388, 0.00539, 0.00654, 0.00796, ...</td>\n",
       "      <td>[0.000116, 0.000666, 0.001466, 0.00253, 0.0038...</td>\n",
       "      <td>[0.000143, 0.001057, 0.002642, 0.004558, 0.007...</td>\n",
       "    </tr>\n",
       "    <tr>\n",
       "      <th>104</th>\n",
       "      <td>Bicycle</td>\n",
       "      <td>./features/Bicycle\\D00558</td>\n",
       "      <td>-0.014542</td>\n",
       "      <td>-0.538586</td>\n",
       "      <td>-0.021151</td>\n",
       "      <td>-0.656887</td>\n",
       "      <td>-0.077964</td>\n",
       "      <td>-0.676072</td>\n",
       "      <td>-0.103970</td>\n",
       "      <td>[0.009977, 0.019977, 0.023832, 0.024862, 0.024...</td>\n",
       "      <td>[0.0, 0.0001, 0.0001, 0.0001, 0.0001, 0.0001, ...</td>\n",
       "      <td>[0.00107, 0.00332, 0.00505, 0.006, 0.00729, 0....</td>\n",
       "      <td>[3.2e-05, 0.000223, 0.00072, 0.001249, 0.00209...</td>\n",
       "      <td>[7e-05, 0.00045, 0.001221, 0.002446, 0.00398, ...</td>\n",
       "    </tr>\n",
       "    <tr>\n",
       "      <th>99</th>\n",
       "      <td>Bicycle</td>\n",
       "      <td>./features/Bicycle\\D00078</td>\n",
       "      <td>0.067563</td>\n",
       "      <td>-0.551459</td>\n",
       "      <td>-0.021151</td>\n",
       "      <td>-0.280044</td>\n",
       "      <td>0.052743</td>\n",
       "      <td>-0.578388</td>\n",
       "      <td>0.088031</td>\n",
       "      <td>[0.008261, 0.015829, 0.019215, 0.021177, 0.021...</td>\n",
       "      <td>[0.0, 0.0001, 0.0001, 0.0001, 0.0001, 0.0001, ...</td>\n",
       "      <td>[0.00165, 0.00433, 0.00711, 0.00694, 0.00803, ...</td>\n",
       "      <td>[4.8e-05, 0.000358, 0.000952, 0.001911, 0.0029...</td>\n",
       "      <td>[7.2e-05, 0.000499, 0.001296, 0.002559, 0.0040...</td>\n",
       "    </tr>\n",
       "    <tr>\n",
       "      <th>95</th>\n",
       "      <td>Bicycle</td>\n",
       "      <td>./features/Bicycle\\D00016</td>\n",
       "      <td>0.013289</td>\n",
       "      <td>-0.658291</td>\n",
       "      <td>-0.021151</td>\n",
       "      <td>-0.644503</td>\n",
       "      <td>-0.026673</td>\n",
       "      <td>-0.723745</td>\n",
       "      <td>-0.026728</td>\n",
       "      <td>[0.017352, 0.027657, 0.030311, 0.028882, 0.027...</td>\n",
       "      <td>[0.0, 0.0003, 0.0004, 0.0009, 0.0004, 0.0002, ...</td>\n",
       "      <td>[0.00167, 0.00406, 0.00534, 0.00686, 0.00906, ...</td>\n",
       "      <td>[0.00011, 0.000712, 0.001696, 0.002875, 0.0041...</td>\n",
       "      <td>[0.000173, 0.00119, 0.003027, 0.00522, 0.00820...</td>\n",
       "    </tr>\n",
       "  </tbody>\n",
       "</table>\n",
       "</div>"
      ],
      "text/plain": [
       "        class                       path         V         S         c  \\\n",
       "100   Bicycle  ./features/Bicycle\\D00462  0.015860 -0.558199 -0.021151   \n",
       "102   Bicycle  ./features/Bicycle\\D00536 -0.003958 -0.594845 -0.021151   \n",
       "1465  Monitor  ./features/Monitor\\D00391 -0.179488  1.204441 -0.021151   \n",
       "108   Bicycle  ./features/Bicycle\\D00750  0.100926 -0.272764 -0.021151   \n",
       "114   Bicycle  ./features/Bicycle\\D00974 -0.024465 -0.548177 -0.021151   \n",
       "96    Bicycle  ./features/Bicycle\\D00033  0.011966 -0.672358 -0.021151   \n",
       "115   Bicycle   ./features/Bicycle\\m1472  0.001595 -0.627271 -0.021151   \n",
       "106   Bicycle  ./features/Bicycle\\D00621  0.045538 -0.656544 -0.021151   \n",
       "104   Bicycle  ./features/Bicycle\\D00558 -0.014542 -0.538586 -0.021151   \n",
       "99    Bicycle  ./features/Bicycle\\D00078  0.067563 -0.551459 -0.021151   \n",
       "95    Bicycle  ./features/Bicycle\\D00016  0.013289 -0.658291 -0.021151   \n",
       "\n",
       "             D         R         E         C  \\\n",
       "100  -0.530023 -0.014967 -0.675910 -0.021856   \n",
       "102  -0.509049 -0.024217 -0.458325 -0.038430   \n",
       "1465  0.852796 -0.389738 -0.702152 -0.545376   \n",
       "108  -0.372126  0.098439 -0.604313  0.151024   \n",
       "114  -0.498631 -0.117300 -0.688648 -0.187253   \n",
       "96   -0.687026 -0.021327 -0.704064 -0.034429   \n",
       "115  -0.647436 -0.019638 -0.642163 -0.038314   \n",
       "106  -0.634887  0.044704 -0.723747  0.060357   \n",
       "104  -0.656887 -0.077964 -0.676072 -0.103970   \n",
       "99   -0.280044  0.052743 -0.578388  0.088031   \n",
       "95   -0.644503 -0.026673 -0.723745 -0.026728   \n",
       "\n",
       "                                                     A3  \\\n",
       "100   [0.013414, 0.021464, 0.02267, 0.022876, 0.0231...   \n",
       "102   [0.011727, 0.017246, 0.021203, 0.021615, 0.021...   \n",
       "1465  [0.009992, 0.01945, 0.021982, 0.022273, 0.0224...   \n",
       "108   [0.009781, 0.019754, 0.023327, 0.023564, 0.023...   \n",
       "114   [0.011226, 0.021829, 0.026766, 0.02798, 0.0269...   \n",
       "96    [0.012993, 0.022425, 0.024989, 0.025044, 0.026...   \n",
       "115   [0.011378, 0.022022, 0.024566, 0.024305, 0.023...   \n",
       "106   [0.016849, 0.026814, 0.029573, 0.028311, 0.027...   \n",
       "104   [0.009977, 0.019977, 0.023832, 0.024862, 0.024...   \n",
       "99    [0.008261, 0.015829, 0.019215, 0.021177, 0.021...   \n",
       "95    [0.017352, 0.027657, 0.030311, 0.028882, 0.027...   \n",
       "\n",
       "                                                     D1  \\\n",
       "100   [0.0, 0.0001, 0.0001, 0.0001, 0.0001, 0.0001, ...   \n",
       "102   [0.0, 0.0001, 0.0001, 0.0001, 0.0002, 0.0001, ...   \n",
       "1465  [0.0, 0.001, 0.0011, 0.0019, 0.001, 0.0011, 0....   \n",
       "108   [0.0, 0.0001, 0.0001, 0.0001, 0.0001, 0.0001, ...   \n",
       "114   [0.0, 0.0001, 0.0001, 0.0001, 0.0001, 0.0001, ...   \n",
       "96    [0.0, 0.0001, 0.0001, 0.0004, 0.0002, 0.0003, ...   \n",
       "115   [0.0, 0.0001, 0.0001, 0.0001, 0.0012, 0.0005, ...   \n",
       "106   [0.0, 0.0001, 0.0001, 0.0001, 0.0005, 0.0009, ...   \n",
       "104   [0.0, 0.0001, 0.0001, 0.0001, 0.0001, 0.0001, ...   \n",
       "99    [0.0, 0.0001, 0.0001, 0.0001, 0.0001, 0.0001, ...   \n",
       "95    [0.0, 0.0003, 0.0004, 0.0009, 0.0004, 0.0002, ...   \n",
       "\n",
       "                                                     D2  \\\n",
       "100   [0.00175, 0.00451, 0.00605, 0.00585, 0.00708, ...   \n",
       "102   [0.00227, 0.0065, 0.00635, 0.00573, 0.00592, 0...   \n",
       "1465  [0.00073, 0.002, 0.00271, 0.0033, 0.00487, 0.0...   \n",
       "108   [0.00054, 0.00234, 0.00401, 0.00534, 0.00647, ...   \n",
       "114   [0.00158, 0.00473, 0.00715, 0.00809, 0.00925, ...   \n",
       "96    [0.00169, 0.00331, 0.00459, 0.00462, 0.00762, ...   \n",
       "115   [0.00138, 0.00399, 0.00619, 0.00623, 0.00645, ...   \n",
       "106   [0.00165, 0.00388, 0.00539, 0.00654, 0.00796, ...   \n",
       "104   [0.00107, 0.00332, 0.00505, 0.006, 0.00729, 0....   \n",
       "99    [0.00165, 0.00433, 0.00711, 0.00694, 0.00803, ...   \n",
       "95    [0.00167, 0.00406, 0.00534, 0.00686, 0.00906, ...   \n",
       "\n",
       "                                                     D3  \\\n",
       "100   [0.00012, 0.000591, 0.001199, 0.001893, 0.0027...   \n",
       "102   [0.00015, 0.000766, 0.001386, 0.002328, 0.0032...   \n",
       "1465  [3.2e-05, 0.000166, 0.000468, 0.000992, 0.0016...   \n",
       "108   [1.4e-05, 0.000117, 0.000433, 0.001004, 0.0017...   \n",
       "114   [3.7e-05, 0.000395, 0.000988, 0.001959, 0.0030...   \n",
       "96    [8.7e-05, 0.00057, 0.001067, 0.001509, 0.00225...   \n",
       "115   [2.6e-05, 0.000247, 0.000791, 0.00152, 0.00252...   \n",
       "106   [0.000116, 0.000666, 0.001466, 0.00253, 0.0038...   \n",
       "104   [3.2e-05, 0.000223, 0.00072, 0.001249, 0.00209...   \n",
       "99    [4.8e-05, 0.000358, 0.000952, 0.001911, 0.0029...   \n",
       "95    [0.00011, 0.000712, 0.001696, 0.002875, 0.0041...   \n",
       "\n",
       "                                                     D4  \n",
       "100   [0.000103, 0.000612, 0.001531, 0.002789, 0.004...  \n",
       "102   [0.000144, 0.000953, 0.002239, 0.003976, 0.006...  \n",
       "1465  [0.000744, 0.000818, 0.001055, 0.001956, 0.002...  \n",
       "108   [6.6e-05, 0.000416, 0.001103, 0.001944, 0.0033...  \n",
       "114   [7.6e-05, 0.000494, 0.001341, 0.002521, 0.0039...  \n",
       "96    [0.000108, 0.000687, 0.001729, 0.00331, 0.0050...  \n",
       "115   [0.000117, 0.000755, 0.001949, 0.003755, 0.005...  \n",
       "106   [0.000143, 0.001057, 0.002642, 0.004558, 0.007...  \n",
       "104   [7e-05, 0.00045, 0.001221, 0.002446, 0.00398, ...  \n",
       "99    [7.2e-05, 0.000499, 0.001296, 0.002559, 0.0040...  \n",
       "95    [0.000173, 0.00119, 0.003027, 0.00522, 0.00820...  "
      ]
     },
     "execution_count": 188,
     "metadata": {},
     "output_type": "execute_result"
    }
   ],
   "source": [
    "df.iloc[lowest_indices]"
   ]
  },
  {
   "cell_type": "code",
   "execution_count": 11,
   "metadata": {},
   "outputs": [],
   "source": [
    "df2 = df"
   ]
  },
  {
   "cell_type": "code",
   "execution_count": 21,
   "metadata": {},
   "outputs": [
    {
     "data": {
      "text/plain": [
       "12"
      ]
     },
     "execution_count": 21,
     "metadata": {},
     "output_type": "execute_result"
    }
   ],
   "source": [
    "min(df[['A3', 'D1', 'D2', 'D3', 'D4']].applymap(len).min())"
   ]
  },
  {
   "cell_type": "code",
   "execution_count": 29,
   "metadata": {},
   "outputs": [
    {
     "name": "stdout",
     "output_type": "stream",
     "text": [
      "Row with the highest list length (Row Index: 126 )\n",
      "class                                              Biplane\n",
      "path                             ./features/Biplane\\D00276\n",
      "V                                                 0.317499\n",
      "S                                                -0.242264\n",
      "c                                                -0.021151\n",
      "D                                                -0.455042\n",
      "R                                                 0.235541\n",
      "E                                                 0.305287\n",
      "C                                                 0.297418\n",
      "A3       [0.004609, 0.009604, 0.012367, 0.01425, 0.0157...\n",
      "D1       [0.0, 0.0001, 0.0001, 0.0001, 0.0001, 0.0001, ...\n",
      "D2       [0.0004, 0.00167, 0.00304, 0.00375, 0.00485, 0...\n",
      "D3       [1.5e-05, 0.000133, 0.000491, 0.001019, 0.0017...\n",
      "D4       [7.7e-05, 0.000313, 0.000951, 0.001741, 0.0027...\n",
      "Name: 126, dtype: object\n",
      "Columns with the highest list length: D1\n",
      "Length: 101\n",
      "\n",
      "Row with the lowest list length (Row Index: 364 )\n",
      "class                                                  Car\n",
      "path                                  ./features/Car\\m1510\n",
      "V                                                  0.02836\n",
      "S                                                -0.836136\n",
      "c                                                -0.021151\n",
      "D                                                 0.478507\n",
      "R                                                 0.004168\n",
      "E                                                -0.181111\n",
      "C                                                 0.008611\n",
      "A3       [0.009122, 0.015618, 0.018152, 0.020906, 0.023...\n",
      "D1       [0.0, 0.0204, 0.0711, 0.1141, 0.1147, 0.1297, ...\n",
      "D2       [0.02678, 0.06395, 0.08454, 0.09699, 0.08368, ...\n",
      "D3       [0.015118, 0.073838, 0.130131, 0.15169, 0.1524...\n",
      "D4       [0.002563, 0.015944, 0.035964, 0.056342, 0.073...\n",
      "Name: 364, dtype: object\n",
      "Columns with the lowest list length: D1\n",
      "Length: 23\n"
     ]
    }
   ],
   "source": [
    "list_lengths = df[['A3', 'D1', 'D2', 'D3', 'D4']].applymap(len)\n",
    "\n",
    "# Find the row indices with the maximum and minimum list lengths\n",
    "row_with_max_length = list_lengths.sum(axis=1).idxmax()\n",
    "row_with_min_length = list_lengths.sum(axis=1).idxmin()\n",
    "\n",
    "# Get the corresponding rows from the original DataFrame\n",
    "row_with_max_length_data = df.iloc[row_with_max_length]\n",
    "row_with_min_length_data = df.iloc[row_with_min_length]\n",
    "\n",
    "# Find the columns with the maximum and minimum list lengths\n",
    "max_length_columns = list_lengths.loc[row_with_max_length].idxmax()\n",
    "min_length_columns = list_lengths.loc[row_with_min_length].idxmin()\n",
    "\n",
    "# Get the respective lengths of the maximum and minimum list lengths\n",
    "max_length = list_lengths.loc[row_with_max_length, max_length_columns]\n",
    "min_length = list_lengths.loc[row_with_min_length, min_length_columns]\n",
    "\n",
    "print(\"Row with the highest list length (Row Index:\", row_with_max_length, \")\")\n",
    "print(row_with_max_length_data)\n",
    "print(\"Columns with the highest list length:\", max_length_columns)\n",
    "print(\"Length:\", max_length)\n",
    "\n",
    "print(\"\\nRow with the lowest list length (Row Index:\", row_with_min_length, \")\")\n",
    "print(row_with_min_length_data)\n",
    "print(\"Columns with the lowest list length:\", min_length_columns)\n",
    "print(\"Length:\", min_length)"
   ]
  },
  {
   "cell_type": "code",
   "execution_count": 37,
   "metadata": {},
   "outputs": [
    {
     "data": {
      "text/plain": [
       "array([0.000e+00, 2.040e-02, 7.110e-02, 1.141e-01, 1.147e-01, 1.297e-01,\n",
       "       1.772e-01, 1.856e-01, 1.369e-01, 3.200e-02, 1.340e-02, 3.800e-03,\n",
       "       1.000e-04, 1.000e-04, 1.000e-04, 1.000e-04, 1.000e-04, 1.000e-04,\n",
       "       1.000e-04, 1.000e-04, 1.000e-04, 1.000e-04, 1.000e-04])"
      ]
     },
     "execution_count": 37,
     "metadata": {},
     "output_type": "execute_result"
    },
    {
     "ename": "",
     "evalue": "",
     "output_type": "error",
     "traceback": [
      "\u001b[1;31mThe Kernel crashed while executing code in the the current cell or a previous cell. Please review the code in the cell(s) to identify a possible cause of the failure. Click <a href='https://aka.ms/vscodeJupyterKernelCrash'>here</a> for more info. View Jupyter <a href='command:jupyter.viewOutput'>log</a> for further details."
     ]
    }
   ],
   "source": [
    "df[df[\"path\"] == \"./features/Car\\m1510\"][\"D1\"].iloc[0]"
   ]
  },
  {
   "cell_type": "code",
   "execution_count": 16,
   "metadata": {},
   "outputs": [
    {
     "ename": "TypeError",
     "evalue": "can only concatenate str (not \"list\") to str",
     "output_type": "error",
     "traceback": [
      "\u001b[1;31m---------------------------------------------------------------------------\u001b[0m",
      "\u001b[1;31mTypeError\u001b[0m                                 Traceback (most recent call last)",
      "\u001b[1;32mg:\\Meine Ablage\\UU\\MR\\Project\\Multimedia-Retrieval\\querying\\querying.ipynb Cell 34\u001b[0m line \u001b[0;36m6\n\u001b[0;32m      <a href='vscode-notebook-cell:/g%3A/Meine%20Ablage/UU/MR/Project/Multimedia-Retrieval/querying/querying.ipynb#Y104sZmlsZQ%3D%3D?line=3'>4</a>\u001b[0m \u001b[39m# Expand lists to have the same length\u001b[39;00m\n\u001b[0;32m      <a href='vscode-notebook-cell:/g%3A/Meine%20Ablage/UU/MR/Project/Multimedia-Retrieval/querying/querying.ipynb#Y104sZmlsZQ%3D%3D?line=4'>5</a>\u001b[0m \u001b[39mfor\u001b[39;00m col \u001b[39min\u001b[39;00m df\u001b[39m.\u001b[39mcolumns:\n\u001b[1;32m----> <a href='vscode-notebook-cell:/g%3A/Meine%20Ablage/UU/MR/Project/Multimedia-Retrieval/querying/querying.ipynb#Y104sZmlsZQ%3D%3D?line=5'>6</a>\u001b[0m     df[col] \u001b[39m=\u001b[39m df[col]\u001b[39m.\u001b[39;49mapply(\u001b[39mlambda\u001b[39;49;00m x: x \u001b[39m+\u001b[39;49m [\u001b[39mNone\u001b[39;49;00m] \u001b[39m*\u001b[39;49m (max_length \u001b[39m-\u001b[39;49m \u001b[39mlen\u001b[39;49m(x)))\n\u001b[0;32m      <a href='vscode-notebook-cell:/g%3A/Meine%20Ablage/UU/MR/Project/Multimedia-Retrieval/querying/querying.ipynb#Y104sZmlsZQ%3D%3D?line=7'>8</a>\u001b[0m \u001b[39m# Create new columns for each element in the lists\u001b[39;00m\n\u001b[0;32m      <a href='vscode-notebook-cell:/g%3A/Meine%20Ablage/UU/MR/Project/Multimedia-Retrieval/querying/querying.ipynb#Y104sZmlsZQ%3D%3D?line=8'>9</a>\u001b[0m \u001b[39mfor\u001b[39;00m i \u001b[39min\u001b[39;00m \u001b[39mrange\u001b[39m(max_length):\n",
      "File \u001b[1;32mc:\\Users\\marce\\anaconda3\\envs\\mrproject\\lib\\site-packages\\pandas\\core\\series.py:4630\u001b[0m, in \u001b[0;36mSeries.apply\u001b[1;34m(self, func, convert_dtype, args, **kwargs)\u001b[0m\n\u001b[0;32m   4520\u001b[0m \u001b[39mdef\u001b[39;00m \u001b[39mapply\u001b[39m(\n\u001b[0;32m   4521\u001b[0m     \u001b[39mself\u001b[39m,\n\u001b[0;32m   4522\u001b[0m     func: AggFuncType,\n\u001b[1;32m   (...)\u001b[0m\n\u001b[0;32m   4525\u001b[0m     \u001b[39m*\u001b[39m\u001b[39m*\u001b[39mkwargs,\n\u001b[0;32m   4526\u001b[0m ) \u001b[39m-\u001b[39m\u001b[39m>\u001b[39m DataFrame \u001b[39m|\u001b[39m Series:\n\u001b[0;32m   4527\u001b[0m \u001b[39m    \u001b[39m\u001b[39m\"\"\"\u001b[39;00m\n\u001b[0;32m   4528\u001b[0m \u001b[39m    Invoke function on values of Series.\u001b[39;00m\n\u001b[0;32m   4529\u001b[0m \n\u001b[1;32m   (...)\u001b[0m\n\u001b[0;32m   4628\u001b[0m \u001b[39m    dtype: float64\u001b[39;00m\n\u001b[0;32m   4629\u001b[0m \u001b[39m    \"\"\"\u001b[39;00m\n\u001b[1;32m-> 4630\u001b[0m     \u001b[39mreturn\u001b[39;00m SeriesApply(\u001b[39mself\u001b[39;49m, func, convert_dtype, args, kwargs)\u001b[39m.\u001b[39;49mapply()\n",
      "File \u001b[1;32mc:\\Users\\marce\\anaconda3\\envs\\mrproject\\lib\\site-packages\\pandas\\core\\apply.py:1025\u001b[0m, in \u001b[0;36mSeriesApply.apply\u001b[1;34m(self)\u001b[0m\n\u001b[0;32m   1022\u001b[0m     \u001b[39mreturn\u001b[39;00m \u001b[39mself\u001b[39m\u001b[39m.\u001b[39mapply_str()\n\u001b[0;32m   1024\u001b[0m \u001b[39m# self.f is Callable\u001b[39;00m\n\u001b[1;32m-> 1025\u001b[0m \u001b[39mreturn\u001b[39;00m \u001b[39mself\u001b[39;49m\u001b[39m.\u001b[39;49mapply_standard()\n",
      "File \u001b[1;32mc:\\Users\\marce\\anaconda3\\envs\\mrproject\\lib\\site-packages\\pandas\\core\\apply.py:1076\u001b[0m, in \u001b[0;36mSeriesApply.apply_standard\u001b[1;34m(self)\u001b[0m\n\u001b[0;32m   1074\u001b[0m     \u001b[39melse\u001b[39;00m:\n\u001b[0;32m   1075\u001b[0m         values \u001b[39m=\u001b[39m obj\u001b[39m.\u001b[39mastype(\u001b[39mobject\u001b[39m)\u001b[39m.\u001b[39m_values\n\u001b[1;32m-> 1076\u001b[0m         mapped \u001b[39m=\u001b[39m lib\u001b[39m.\u001b[39;49mmap_infer(\n\u001b[0;32m   1077\u001b[0m             values,\n\u001b[0;32m   1078\u001b[0m             f,\n\u001b[0;32m   1079\u001b[0m             convert\u001b[39m=\u001b[39;49m\u001b[39mself\u001b[39;49m\u001b[39m.\u001b[39;49mconvert_dtype,\n\u001b[0;32m   1080\u001b[0m         )\n\u001b[0;32m   1082\u001b[0m \u001b[39mif\u001b[39;00m \u001b[39mlen\u001b[39m(mapped) \u001b[39mand\u001b[39;00m \u001b[39misinstance\u001b[39m(mapped[\u001b[39m0\u001b[39m], ABCSeries):\n\u001b[0;32m   1083\u001b[0m     \u001b[39m# GH#43986 Need to do list(mapped) in order to get treated as nested\u001b[39;00m\n\u001b[0;32m   1084\u001b[0m     \u001b[39m#  See also GH#25959 regarding EA support\u001b[39;00m\n\u001b[0;32m   1085\u001b[0m     \u001b[39mreturn\u001b[39;00m obj\u001b[39m.\u001b[39m_constructor_expanddim(\u001b[39mlist\u001b[39m(mapped), index\u001b[39m=\u001b[39mobj\u001b[39m.\u001b[39mindex)\n",
      "File \u001b[1;32mc:\\Users\\marce\\anaconda3\\envs\\mrproject\\lib\\site-packages\\pandas\\_libs\\lib.pyx:2834\u001b[0m, in \u001b[0;36mpandas._libs.lib.map_infer\u001b[1;34m()\u001b[0m\n",
      "\u001b[1;32mg:\\Meine Ablage\\UU\\MR\\Project\\Multimedia-Retrieval\\querying\\querying.ipynb Cell 34\u001b[0m line \u001b[0;36m6\n\u001b[0;32m      <a href='vscode-notebook-cell:/g%3A/Meine%20Ablage/UU/MR/Project/Multimedia-Retrieval/querying/querying.ipynb#Y104sZmlsZQ%3D%3D?line=3'>4</a>\u001b[0m \u001b[39m# Expand lists to have the same length\u001b[39;00m\n\u001b[0;32m      <a href='vscode-notebook-cell:/g%3A/Meine%20Ablage/UU/MR/Project/Multimedia-Retrieval/querying/querying.ipynb#Y104sZmlsZQ%3D%3D?line=4'>5</a>\u001b[0m \u001b[39mfor\u001b[39;00m col \u001b[39min\u001b[39;00m df\u001b[39m.\u001b[39mcolumns:\n\u001b[1;32m----> <a href='vscode-notebook-cell:/g%3A/Meine%20Ablage/UU/MR/Project/Multimedia-Retrieval/querying/querying.ipynb#Y104sZmlsZQ%3D%3D?line=5'>6</a>\u001b[0m     df[col] \u001b[39m=\u001b[39m df[col]\u001b[39m.\u001b[39mapply(\u001b[39mlambda\u001b[39;00m x: x \u001b[39m+\u001b[39;49m [\u001b[39mNone\u001b[39;49;00m] \u001b[39m*\u001b[39;49m (max_length \u001b[39m-\u001b[39;49m \u001b[39mlen\u001b[39;49m(x)))\n\u001b[0;32m      <a href='vscode-notebook-cell:/g%3A/Meine%20Ablage/UU/MR/Project/Multimedia-Retrieval/querying/querying.ipynb#Y104sZmlsZQ%3D%3D?line=7'>8</a>\u001b[0m \u001b[39m# Create new columns for each element in the lists\u001b[39;00m\n\u001b[0;32m      <a href='vscode-notebook-cell:/g%3A/Meine%20Ablage/UU/MR/Project/Multimedia-Retrieval/querying/querying.ipynb#Y104sZmlsZQ%3D%3D?line=8'>9</a>\u001b[0m \u001b[39mfor\u001b[39;00m i \u001b[39min\u001b[39;00m \u001b[39mrange\u001b[39m(max_length):\n",
      "\u001b[1;31mTypeError\u001b[0m: can only concatenate str (not \"list\") to str"
     ]
    }
   ],
   "source": [
    "# Determine the maximum number of elements in any list\n",
    "max_length = 100#max(df.applymap(len).max())\n",
    "\n",
    "# Expand lists to have the same length\n",
    "for col in df.columns:\n",
    "    df[col] = df[col].apply(lambda x: x + [None] * (max_length - len(x)))\n",
    "\n",
    "# Create new columns for each element in the lists\n",
    "for i in range(max_length):\n",
    "    df[f\"A3_{i+1}\"] = df['A3'].apply(lambda x: x[i])\n",
    "    df[f\"D1_{i+1}\"] = df['D1'].apply(lambda x: x[i])\n",
    "    df[f\"D2_{i+1}\"] = df['D2'].apply(lambda x: x[i])\n",
    "    df[f\"D3_{i+1}\"] = df['D3'].apply(lambda x: x[i])\n",
    "    df[f\"D4_{i+1}\"] = df['D4'].apply(lambda x: x[i])\n",
    "\n",
    "# Drop the original columns with lists\n",
    "df = df.drop(columns=['A3', 'D1', 'D2', 'D3', 'D4'])"
   ]
  },
  {
   "cell_type": "code",
   "execution_count": 73,
   "metadata": {},
   "outputs": [],
   "source": [
    "#computes euclidean distance between 2 vectors\n",
    "def euclidean_distance(vector1, vector2):\n",
    "    euclidean = np.linalg.norm(np.asarray(vector1[2:9]) - np.asarray(vector2[2:9]))\n",
    "    return euclidean\n",
    "\n",
    "#computes cosine distance between 2 vectors\n",
    "def cosine_distance(vector1, vector2):\n",
    "    one_arr = np.asarray(vector1)\n",
    "    two_arr = np.asarray(vector2)\n",
    "    cosine = 1 - ((one_arr @ two_arr) / (np.linalg.norm(one_arr) * np.linalg.norm(two_arr)))\n",
    "    return cosine"
   ]
  },
  {
   "cell_type": "code",
   "execution_count": 234,
   "metadata": {},
   "outputs": [],
   "source": [
    "\n",
    "from scipy.spatial.distance import pdist, squareform\n",
    "from scipy.stats import wasserstein_distance\n",
    "\n",
    "data = []\n",
    "data_path = []\n",
    "\n",
    "dbpath = r\"../features/\"\n",
    "for class_folder in os.listdir(dbpath):\n",
    "    class_folder_path = os.path.join(dbpath, class_folder)\n",
    "    for obj_file_path in glob.glob(os.path.join(class_folder_path, '*')):\n",
    "        data.append(np.load(obj_file_path, allow_pickle=True))\n",
    "        data_path.append(obj_file_path)\n",
    "\n",
    "def flatten(ndarray):\n",
    "    new = ndarray[0:7]\n",
    "    for i in ndarray[7:12]:\n",
    "        new = np.append(new, i)\n",
    "    return new\n",
    "\n",
    "def calculate_distances(target_index, weights1, weights2):\n",
    "    target = data[target_index]\n",
    "    target_path = data_path[target_index]\n",
    "\n",
    "    distances = []\n",
    "    for i in range(len(data)):\n",
    "        compare = np.array([target[:7], data[i][:7]])\n",
    "        cosine_distance = pdist(compare, metric='cosine', w=weights1)[0]\n",
    "        a3_distance = wasserstein_distance(target[7], data[i][7])\n",
    "        d1_distance = wasserstein_distance(target[8], data[i][8])\n",
    "        d2_distance = wasserstein_distance(target[9], data[i][9])\n",
    "        d3_distance = wasserstein_distance(target[10], data[i][10])\n",
    "        d4_distance = wasserstein_distance(target[11], data[i][11])\n",
    "        data_tuple = [data_path[i], np.array([cosine_distance, a3_distance, d1_distance, d2_distance, d3_distance, d4_distance])]\n",
    "        distances.append(data_tuple)\n",
    "\n",
    "    norm = [max([x[i] for _, x in distances]) for i in range(6)]\n",
    "    res = []\n",
    "    for name, x in distances:\n",
    "        res.append([name, sum((x / norm) * weights2)])\n",
    "    res.sort(key=lambda a: a[1])\n",
    "    return res\n",
    "\n"
   ]
  },
  {
   "cell_type": "code",
   "execution_count": 218,
   "metadata": {},
   "outputs": [],
   "source": [
    "def get_class_val(res, class_name):\n",
    "    weighting = np.arange(len(res))\n",
    "    has_jet = np.array([(1 if class_name in n else 0) for n, _ in res])\n",
    "    jet_val = sum(has_jet * weighting) / len(weighting)\n",
    "    return jet_val"
   ]
  },
  {
   "cell_type": "code",
   "execution_count": 329,
   "metadata": {},
   "outputs": [
    {
     "name": "stdout",
     "output_type": "stream",
     "text": [
      "[0.09 0.91 0.06 0.02 0.04 0.11 0.94]\n",
      "[0.73 0.98 0.66 0.2  0.64 0.24]\n",
      "57.012121212121215\n"
     ]
    }
   ],
   "source": [
    "weights1 = None\n",
    "weights2 = None\n",
    "val = 50\n",
    "\n",
    "while val > 45:\n",
    "    weights1 = np.random.randint(0, 100, size=(7)) / 100\n",
    "    weights2 = np.random.randint(0, 100, size=(6)) / 100\n",
    "\n",
    "    results = []\n",
    "    plane_indexes = range(1269, 1410)[:10]\n",
    "    for i in plane_indexes:\n",
    "        results.append(get_class_val(calculate_distances(1400, weights1, weights2), \"Jet\"))\n",
    "\n",
    "    val = sum(results) / len(plane_indexes)\n",
    "\n",
    "print(weights1)\n",
    "print(weights2)"
   ]
  },
  {
   "cell_type": "code",
   "execution_count": 319,
   "metadata": {},
   "outputs": [
    {
     "name": "stdout",
     "output_type": "stream",
     "text": [
      "[['../features/Jet\\\\m1293', 0.0], ['../features/PlantIndoors\\\\m1009', 0.34378351466052764], ['../features/PlantIndoors\\\\m1021', 0.36244850729123607], ['../features/Jet\\\\m1295', 0.37265108180524664], ['../features/Helicopter\\\\m1313', 0.3861098753961846], ['../features/Helicopter\\\\D00502', 0.3915719181449423], ['../features/Cellphone\\\\D00018', 0.405141707725938], ['../features/Jet\\\\m1294', 0.4129270729816663], ['../features/Bird\\\\m43', 0.4250072788866744], ['../features/Jet\\\\m1252', 0.4250180417808172]]\n"
     ]
    }
   ],
   "source": [
    "res = calculate_distances(1402, weights1, weights2)\n",
    "print(res[:10])"
   ]
  },
  {
   "cell_type": "code",
   "execution_count": 104,
   "metadata": {},
   "outputs": [
    {
     "name": "stdout",
     "output_type": "stream",
     "text": [
      "[0.04331923]\n"
     ]
    },
    {
     "data": {
      "text/plain": [
       "array([[0.        , 0.04331923],\n",
       "       [0.04331923, 0.        ]])"
      ]
     },
     "execution_count": 104,
     "metadata": {},
     "output_type": "execute_result"
    }
   ],
   "source": [
    "import numpy as np\n",
    "\n",
    "X = np.array([[5, 4, 3], [4, 2, 1]])\n",
    "w = [2, 2, 2]\n",
    "\n",
    "distances = pdist(X, metric='cosine', w=w)\n",
    "\n",
    "print(distances)\n",
    "# change the result to a square matrix\n",
    "distances = squareform(distances) \n",
    "distances"
   ]
  },
  {
   "cell_type": "code",
   "execution_count": null,
   "metadata": {},
   "outputs": [],
   "source": [
    "from sklearn.linear_model import LinearRegression\n",
    "\n",
    "predictor = LinearRegression(n_jobs=-1)\n",
    "predictor.fit(X=TRAIN_INPUT, y=TRAIN_OUTPUT)\n",
    "\n",
    "X_TEST = [[10, 20, 30]]\n",
    "outcome = predictor.predict(X=X_TEST)\n",
    "coefficients = predictor.coef_\n",
    "\n",
    "print('Outcome : {}\\nCoefficients : {}'.format(outcome, coefficients))"
   ]
  }
 ],
 "metadata": {
  "kernelspec": {
   "display_name": "mrproject",
   "language": "python",
   "name": "python3"
  },
  "language_info": {
   "codemirror_mode": {
    "name": "ipython",
    "version": 3
   },
   "file_extension": ".py",
   "mimetype": "text/x-python",
   "name": "python",
   "nbconvert_exporter": "python",
   "pygments_lexer": "ipython3",
   "version": "3.8.10"
  }
 },
 "nbformat": 4,
 "nbformat_minor": 2
}
