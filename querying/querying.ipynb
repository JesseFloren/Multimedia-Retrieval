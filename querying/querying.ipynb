{
 "cells": [
  {
   "cell_type": "code",
   "execution_count": 4,
   "metadata": {},
   "outputs": [
    {
     "name": "stdout",
     "output_type": "stream",
     "text": [
      "Jupyter environment detected. Enabling Open3D WebVisualizer.\n",
      "[Open3D INFO] WebRTC GUI backend enabled.\n",
      "[Open3D INFO] WebRTCWindowSystem: HTTP handshake server disabled.\n"
     ]
    }
   ],
   "source": [
    "import open3d as o3d\n",
    "import numpy as np\n",
    "import os\n",
    "import glob\n",
    "import pandas as pd\n",
    "import pymeshlab as pml\n",
    "import time\n",
    "import matplotlib as plt"
   ]
  },
  {
   "cell_type": "code",
   "execution_count": 5,
   "metadata": {},
   "outputs": [],
   "source": [
    "from scipy.stats import wasserstein_distance\n",
    "from emd import get_emd"
   ]
  },
  {
   "cell_type": "code",
   "execution_count": 6,
   "metadata": {},
   "outputs": [
    {
     "data": {
      "text/plain": [
       "5.0"
      ]
     },
     "execution_count": 6,
     "metadata": {},
     "output_type": "execute_result"
    }
   ],
   "source": [
    "wasserstein_distance([0, 1, 3], [5, 6, 8])"
   ]
  },
  {
   "cell_type": "code",
   "execution_count": 144,
   "metadata": {},
   "outputs": [],
   "source": [
    "df = pd.read_pickle(\"./normalized_features_final.pkl\")\n",
    "df.reset_index(drop=True, inplace=True)"
   ]
  },
  {
   "cell_type": "code",
   "execution_count": 145,
   "metadata": {},
   "outputs": [
    {
     "data": {
      "text/html": [
       "<div>\n",
       "<style scoped>\n",
       "    .dataframe tbody tr th:only-of-type {\n",
       "        vertical-align: middle;\n",
       "    }\n",
       "\n",
       "    .dataframe tbody tr th {\n",
       "        vertical-align: top;\n",
       "    }\n",
       "\n",
       "    .dataframe thead th {\n",
       "        text-align: right;\n",
       "    }\n",
       "</style>\n",
       "<table border=\"1\" class=\"dataframe\">\n",
       "  <thead>\n",
       "    <tr style=\"text-align: right;\">\n",
       "      <th></th>\n",
       "      <th>class</th>\n",
       "      <th>path</th>\n",
       "      <th>V</th>\n",
       "      <th>S</th>\n",
       "      <th>c</th>\n",
       "      <th>D</th>\n",
       "      <th>R</th>\n",
       "      <th>E</th>\n",
       "      <th>C</th>\n",
       "      <th>A3</th>\n",
       "      <th>D1</th>\n",
       "      <th>D2</th>\n",
       "      <th>D3</th>\n",
       "      <th>D4</th>\n",
       "    </tr>\n",
       "  </thead>\n",
       "  <tbody>\n",
       "    <tr>\n",
       "      <th>0</th>\n",
       "      <td>AircraftBuoyant</td>\n",
       "      <td>./features/AircraftBuoyant\\m1337</td>\n",
       "      <td>4.100846</td>\n",
       "      <td>0.214806</td>\n",
       "      <td>-0.021151</td>\n",
       "      <td>-0.431171</td>\n",
       "      <td>1.524371</td>\n",
       "      <td>4.945361</td>\n",
       "      <td>1.790998</td>\n",
       "      <td>[0.000719, 0.002245, 0.003637, 0.004885, 0.006...</td>\n",
       "      <td>[0.0, 0.0, 0.0, 0.0, 0.0, 0.0, 0.0, 0.0, 0.0, ...</td>\n",
       "      <td>[0.0, 0.00048, 0.00051, 0.00104, 0.00095, 0.00...</td>\n",
       "      <td>[1e-06, 5e-06, 1.9e-05, 5.4e-05, 0.000111, 0.0...</td>\n",
       "      <td>[1e-05, 3.7e-05, 0.000109, 0.000236, 0.000379,...</td>\n",
       "    </tr>\n",
       "    <tr>\n",
       "      <th>1</th>\n",
       "      <td>AircraftBuoyant</td>\n",
       "      <td>./features/AircraftBuoyant\\m1338</td>\n",
       "      <td>4.728118</td>\n",
       "      <td>0.540607</td>\n",
       "      <td>-0.021151</td>\n",
       "      <td>-0.117928</td>\n",
       "      <td>1.525120</td>\n",
       "      <td>3.309235</td>\n",
       "      <td>1.818866</td>\n",
       "      <td>[0.000883, 0.002546, 0.003664, 0.004831, 0.006...</td>\n",
       "      <td>[0.0, 0.0, 0.0, 0.0, 0.0, 0.0, 0.0, 0.0, 0.0, ...</td>\n",
       "      <td>[9e-05, 0.00037, 0.00058, 0.00118, 0.00128, 0....</td>\n",
       "      <td>[1e-06, 1e-05, 4.8e-05, 0.000111, 0.000193, 0....</td>\n",
       "      <td>[5e-06, 4.4e-05, 0.000137, 0.000293, 0.000453,...</td>\n",
       "    </tr>\n",
       "    <tr>\n",
       "      <th>2</th>\n",
       "      <td>AircraftBuoyant</td>\n",
       "      <td>./features/AircraftBuoyant\\m1339</td>\n",
       "      <td>0.087864</td>\n",
       "      <td>0.155798</td>\n",
       "      <td>-0.021151</td>\n",
       "      <td>-0.690660</td>\n",
       "      <td>0.052891</td>\n",
       "      <td>0.829243</td>\n",
       "      <td>0.072976</td>\n",
       "      <td>[0.002071, 0.005089, 0.007236, 0.009431, 0.010...</td>\n",
       "      <td>[0.0, 0.0, 0.0, 0.0, 0.0, 0.0, 0.0, 0.0, 0.0, ...</td>\n",
       "      <td>[8.000080000800008e-05, 0.0007100071000710007,...</td>\n",
       "      <td>[2e-06, 1.6e-05, 5.8e-05, 0.000134, 0.000256, ...</td>\n",
       "      <td>[1.1e-05, 8.2e-05, 0.000193, 0.000388, 0.00063...</td>\n",
       "    </tr>\n",
       "    <tr>\n",
       "      <th>3</th>\n",
       "      <td>AircraftBuoyant</td>\n",
       "      <td>./features/AircraftBuoyant\\m1340</td>\n",
       "      <td>0.219291</td>\n",
       "      <td>-0.646455</td>\n",
       "      <td>-0.021151</td>\n",
       "      <td>-0.689441</td>\n",
       "      <td>0.445397</td>\n",
       "      <td>-0.294062</td>\n",
       "      <td>0.667100</td>\n",
       "      <td>[0.006885, 0.012406, 0.016479, 0.019964, 0.023...</td>\n",
       "      <td>[0.0, 0.0, 0.0, 0.0, 0.0, 0.0, 0.0, 0.0, 0.0, ...</td>\n",
       "      <td>[0.00081, 0.0025, 0.00407, 0.0057, 0.00623, 0....</td>\n",
       "      <td>[1e-06, 7e-05, 0.000194, 0.000365, 0.000693, 0...</td>\n",
       "      <td>[7.000007000007e-06, 0.000101000101000101, 0.0...</td>\n",
       "    </tr>\n",
       "    <tr>\n",
       "      <th>4</th>\n",
       "      <td>AircraftBuoyant</td>\n",
       "      <td>./features/AircraftBuoyant\\m1341</td>\n",
       "      <td>-0.458655</td>\n",
       "      <td>-0.605102</td>\n",
       "      <td>-0.021151</td>\n",
       "      <td>-0.691012</td>\n",
       "      <td>-1.082039</td>\n",
       "      <td>-0.191202</td>\n",
       "      <td>-1.437485</td>\n",
       "      <td>[0.004617, 0.010763, 0.015059, 0.018871, 0.021...</td>\n",
       "      <td>[0.0, 0.0028, 0.0054, 0.0038, 0.0047, 0.0062, ...</td>\n",
       "      <td>[0.0007400074000740007, 0.0014100141001410014,...</td>\n",
       "      <td>[3e-06, 4e-05, 9.9e-05, 0.000255, 0.000431, 0....</td>\n",
       "      <td>[2e-05, 9.6e-05, 0.000282, 0.000558, 0.000878,...</td>\n",
       "    </tr>\n",
       "    <tr>\n",
       "      <th>...</th>\n",
       "      <td>...</td>\n",
       "      <td>...</td>\n",
       "      <td>...</td>\n",
       "      <td>...</td>\n",
       "      <td>...</td>\n",
       "      <td>...</td>\n",
       "      <td>...</td>\n",
       "      <td>...</td>\n",
       "      <td>...</td>\n",
       "      <td>...</td>\n",
       "      <td>...</td>\n",
       "      <td>...</td>\n",
       "      <td>...</td>\n",
       "      <td>...</td>\n",
       "    </tr>\n",
       "    <tr>\n",
       "      <th>2470</th>\n",
       "      <td>WheelChair</td>\n",
       "      <td>./features/WheelChair\\D00687</td>\n",
       "      <td>-0.257985</td>\n",
       "      <td>-0.136291</td>\n",
       "      <td>-0.021151</td>\n",
       "      <td>-0.318480</td>\n",
       "      <td>-0.355524</td>\n",
       "      <td>0.236439</td>\n",
       "      <td>-0.413690</td>\n",
       "      <td>[0.010268, 0.014988, 0.014769, 0.013699, 0.012...</td>\n",
       "      <td>[0.0, 0.0, 0.0, 0.0, 0.0, 0.0, 0.0, 0.0, 0.0, ...</td>\n",
       "      <td>[0.00252, 0.00417, 0.00609, 0.00682, 0.00829, ...</td>\n",
       "      <td>[5.7e-05, 0.000282, 0.000791, 0.001575, 0.0022...</td>\n",
       "      <td>[6.6e-05, 0.000352, 0.000985, 0.001733, 0.0026...</td>\n",
       "    </tr>\n",
       "    <tr>\n",
       "      <th>2471</th>\n",
       "      <td>WheelChair</td>\n",
       "      <td>./features/WheelChair\\D00720</td>\n",
       "      <td>0.415856</td>\n",
       "      <td>-0.265226</td>\n",
       "      <td>-0.021151</td>\n",
       "      <td>-0.563298</td>\n",
       "      <td>0.443687</td>\n",
       "      <td>0.331357</td>\n",
       "      <td>0.558552</td>\n",
       "      <td>[0.003035003035003035, 0.006674006674006674, 0...</td>\n",
       "      <td>[0.0, 0.0002, 0.0, 0.0, 0.0, 0.0006, 0.0014, 0...</td>\n",
       "      <td>[0.00066, 0.00121, 0.00223, 0.00334, 0.00465, ...</td>\n",
       "      <td>[1.8e-05, 5.2e-05, 0.000175, 0.000367, 0.00055...</td>\n",
       "      <td>[1.9e-05, 0.000139, 0.000417, 0.000785, 0.0012...</td>\n",
       "    </tr>\n",
       "    <tr>\n",
       "      <th>2472</th>\n",
       "      <td>WheelChair</td>\n",
       "      <td>./features/WheelChair\\D00782</td>\n",
       "      <td>0.330954</td>\n",
       "      <td>-0.270341</td>\n",
       "      <td>-0.021151</td>\n",
       "      <td>-0.133080</td>\n",
       "      <td>0.251680</td>\n",
       "      <td>0.460616</td>\n",
       "      <td>0.345153</td>\n",
       "      <td>[0.003472, 0.00729, 0.009331, 0.011377, 0.0129...</td>\n",
       "      <td>[0.0, 0.0002, 0.0, 0.0001, 0.0003, 0.0, 0.0, 0...</td>\n",
       "      <td>[0.00034, 0.00147, 0.00244, 0.00295, 0.00331, ...</td>\n",
       "      <td>[1.4e-05, 4.6e-05, 0.000168, 0.000317, 0.0006,...</td>\n",
       "      <td>[3.9e-05, 0.000155, 0.000407, 0.000801, 0.0012...</td>\n",
       "    </tr>\n",
       "    <tr>\n",
       "      <th>2473</th>\n",
       "      <td>WheelChair</td>\n",
       "      <td>./features/WheelChair\\D00821</td>\n",
       "      <td>0.315740</td>\n",
       "      <td>-0.136219</td>\n",
       "      <td>-0.021151</td>\n",
       "      <td>-0.316797</td>\n",
       "      <td>0.369517</td>\n",
       "      <td>0.233050</td>\n",
       "      <td>0.444380</td>\n",
       "      <td>[0.010317, 0.014894, 0.015066, 0.01355, 0.0130...</td>\n",
       "      <td>[0.0, 0.0, 0.0, 0.0, 0.0, 0.0, 0.0, 0.0, 0.0, ...</td>\n",
       "      <td>[0.00252, 0.00428, 0.00618, 0.00689, 0.00781, ...</td>\n",
       "      <td>[4.6e-05, 0.000297, 0.000783, 0.001427, 0.0021...</td>\n",
       "      <td>[6.5e-05, 0.000346, 0.000939, 0.00174, 0.00262...</td>\n",
       "    </tr>\n",
       "    <tr>\n",
       "      <th>2474</th>\n",
       "      <td>WheelChair</td>\n",
       "      <td>./features/WheelChair\\D00846</td>\n",
       "      <td>0.174475</td>\n",
       "      <td>-0.376880</td>\n",
       "      <td>-0.021151</td>\n",
       "      <td>-0.357894</td>\n",
       "      <td>0.125495</td>\n",
       "      <td>0.981745</td>\n",
       "      <td>0.168650</td>\n",
       "      <td>[0.006239, 0.010639, 0.011222, 0.010883, 0.010...</td>\n",
       "      <td>[0.0, 0.0, 0.0, 0.0003, 0.0013, 0.001, 0.0011,...</td>\n",
       "      <td>[0.0012, 0.00306, 0.00479, 0.00626, 0.00691, 0...</td>\n",
       "      <td>[1.9e-05, 0.000165, 0.000403, 0.000784, 0.0011...</td>\n",
       "      <td>[2.7e-05, 0.000187, 0.00049, 0.000933, 0.00152...</td>\n",
       "    </tr>\n",
       "  </tbody>\n",
       "</table>\n",
       "<p>2475 rows × 14 columns</p>\n",
       "</div>"
      ],
      "text/plain": [
       "                class                              path         V         S  \\\n",
       "0     AircraftBuoyant  ./features/AircraftBuoyant\\m1337  4.100846  0.214806   \n",
       "1     AircraftBuoyant  ./features/AircraftBuoyant\\m1338  4.728118  0.540607   \n",
       "2     AircraftBuoyant  ./features/AircraftBuoyant\\m1339  0.087864  0.155798   \n",
       "3     AircraftBuoyant  ./features/AircraftBuoyant\\m1340  0.219291 -0.646455   \n",
       "4     AircraftBuoyant  ./features/AircraftBuoyant\\m1341 -0.458655 -0.605102   \n",
       "...               ...                               ...       ...       ...   \n",
       "2470       WheelChair      ./features/WheelChair\\D00687 -0.257985 -0.136291   \n",
       "2471       WheelChair      ./features/WheelChair\\D00720  0.415856 -0.265226   \n",
       "2472       WheelChair      ./features/WheelChair\\D00782  0.330954 -0.270341   \n",
       "2473       WheelChair      ./features/WheelChair\\D00821  0.315740 -0.136219   \n",
       "2474       WheelChair      ./features/WheelChair\\D00846  0.174475 -0.376880   \n",
       "\n",
       "             c         D         R         E         C  \\\n",
       "0    -0.021151 -0.431171  1.524371  4.945361  1.790998   \n",
       "1    -0.021151 -0.117928  1.525120  3.309235  1.818866   \n",
       "2    -0.021151 -0.690660  0.052891  0.829243  0.072976   \n",
       "3    -0.021151 -0.689441  0.445397 -0.294062  0.667100   \n",
       "4    -0.021151 -0.691012 -1.082039 -0.191202 -1.437485   \n",
       "...        ...       ...       ...       ...       ...   \n",
       "2470 -0.021151 -0.318480 -0.355524  0.236439 -0.413690   \n",
       "2471 -0.021151 -0.563298  0.443687  0.331357  0.558552   \n",
       "2472 -0.021151 -0.133080  0.251680  0.460616  0.345153   \n",
       "2473 -0.021151 -0.316797  0.369517  0.233050  0.444380   \n",
       "2474 -0.021151 -0.357894  0.125495  0.981745  0.168650   \n",
       "\n",
       "                                                     A3  \\\n",
       "0     [0.000719, 0.002245, 0.003637, 0.004885, 0.006...   \n",
       "1     [0.000883, 0.002546, 0.003664, 0.004831, 0.006...   \n",
       "2     [0.002071, 0.005089, 0.007236, 0.009431, 0.010...   \n",
       "3     [0.006885, 0.012406, 0.016479, 0.019964, 0.023...   \n",
       "4     [0.004617, 0.010763, 0.015059, 0.018871, 0.021...   \n",
       "...                                                 ...   \n",
       "2470  [0.010268, 0.014988, 0.014769, 0.013699, 0.012...   \n",
       "2471  [0.003035003035003035, 0.006674006674006674, 0...   \n",
       "2472  [0.003472, 0.00729, 0.009331, 0.011377, 0.0129...   \n",
       "2473  [0.010317, 0.014894, 0.015066, 0.01355, 0.0130...   \n",
       "2474  [0.006239, 0.010639, 0.011222, 0.010883, 0.010...   \n",
       "\n",
       "                                                     D1  \\\n",
       "0     [0.0, 0.0, 0.0, 0.0, 0.0, 0.0, 0.0, 0.0, 0.0, ...   \n",
       "1     [0.0, 0.0, 0.0, 0.0, 0.0, 0.0, 0.0, 0.0, 0.0, ...   \n",
       "2     [0.0, 0.0, 0.0, 0.0, 0.0, 0.0, 0.0, 0.0, 0.0, ...   \n",
       "3     [0.0, 0.0, 0.0, 0.0, 0.0, 0.0, 0.0, 0.0, 0.0, ...   \n",
       "4     [0.0, 0.0028, 0.0054, 0.0038, 0.0047, 0.0062, ...   \n",
       "...                                                 ...   \n",
       "2470  [0.0, 0.0, 0.0, 0.0, 0.0, 0.0, 0.0, 0.0, 0.0, ...   \n",
       "2471  [0.0, 0.0002, 0.0, 0.0, 0.0, 0.0006, 0.0014, 0...   \n",
       "2472  [0.0, 0.0002, 0.0, 0.0001, 0.0003, 0.0, 0.0, 0...   \n",
       "2473  [0.0, 0.0, 0.0, 0.0, 0.0, 0.0, 0.0, 0.0, 0.0, ...   \n",
       "2474  [0.0, 0.0, 0.0, 0.0003, 0.0013, 0.001, 0.0011,...   \n",
       "\n",
       "                                                     D2  \\\n",
       "0     [0.0, 0.00048, 0.00051, 0.00104, 0.00095, 0.00...   \n",
       "1     [9e-05, 0.00037, 0.00058, 0.00118, 0.00128, 0....   \n",
       "2     [8.000080000800008e-05, 0.0007100071000710007,...   \n",
       "3     [0.00081, 0.0025, 0.00407, 0.0057, 0.00623, 0....   \n",
       "4     [0.0007400074000740007, 0.0014100141001410014,...   \n",
       "...                                                 ...   \n",
       "2470  [0.00252, 0.00417, 0.00609, 0.00682, 0.00829, ...   \n",
       "2471  [0.00066, 0.00121, 0.00223, 0.00334, 0.00465, ...   \n",
       "2472  [0.00034, 0.00147, 0.00244, 0.00295, 0.00331, ...   \n",
       "2473  [0.00252, 0.00428, 0.00618, 0.00689, 0.00781, ...   \n",
       "2474  [0.0012, 0.00306, 0.00479, 0.00626, 0.00691, 0...   \n",
       "\n",
       "                                                     D3  \\\n",
       "0     [1e-06, 5e-06, 1.9e-05, 5.4e-05, 0.000111, 0.0...   \n",
       "1     [1e-06, 1e-05, 4.8e-05, 0.000111, 0.000193, 0....   \n",
       "2     [2e-06, 1.6e-05, 5.8e-05, 0.000134, 0.000256, ...   \n",
       "3     [1e-06, 7e-05, 0.000194, 0.000365, 0.000693, 0...   \n",
       "4     [3e-06, 4e-05, 9.9e-05, 0.000255, 0.000431, 0....   \n",
       "...                                                 ...   \n",
       "2470  [5.7e-05, 0.000282, 0.000791, 0.001575, 0.0022...   \n",
       "2471  [1.8e-05, 5.2e-05, 0.000175, 0.000367, 0.00055...   \n",
       "2472  [1.4e-05, 4.6e-05, 0.000168, 0.000317, 0.0006,...   \n",
       "2473  [4.6e-05, 0.000297, 0.000783, 0.001427, 0.0021...   \n",
       "2474  [1.9e-05, 0.000165, 0.000403, 0.000784, 0.0011...   \n",
       "\n",
       "                                                     D4  \n",
       "0     [1e-05, 3.7e-05, 0.000109, 0.000236, 0.000379,...  \n",
       "1     [5e-06, 4.4e-05, 0.000137, 0.000293, 0.000453,...  \n",
       "2     [1.1e-05, 8.2e-05, 0.000193, 0.000388, 0.00063...  \n",
       "3     [7.000007000007e-06, 0.000101000101000101, 0.0...  \n",
       "4     [2e-05, 9.6e-05, 0.000282, 0.000558, 0.000878,...  \n",
       "...                                                 ...  \n",
       "2470  [6.6e-05, 0.000352, 0.000985, 0.001733, 0.0026...  \n",
       "2471  [1.9e-05, 0.000139, 0.000417, 0.000785, 0.0012...  \n",
       "2472  [3.9e-05, 0.000155, 0.000407, 0.000801, 0.0012...  \n",
       "2473  [6.5e-05, 0.000346, 0.000939, 0.00174, 0.00262...  \n",
       "2474  [2.7e-05, 0.000187, 0.00049, 0.000933, 0.00152...  \n",
       "\n",
       "[2475 rows x 14 columns]"
      ]
     },
     "execution_count": 145,
     "metadata": {},
     "output_type": "execute_result"
    }
   ],
   "source": [
    "df"
   ]
  },
  {
   "cell_type": "code",
   "execution_count": 8,
   "metadata": {},
   "outputs": [],
   "source": [
    "def w_dist(a,b):\n",
    "    return wasserstein_distance(a,b)*1000"
   ]
  },
  {
   "cell_type": "code",
   "execution_count": 9,
   "metadata": {},
   "outputs": [],
   "source": [
    "valdf = df[['A3', 'D1', 'D2', 'D3', 'D4']]"
   ]
  },
  {
   "cell_type": "code",
   "execution_count": 10,
   "metadata": {},
   "outputs": [
    {
     "data": {
      "text/plain": [
       "A3    [0.005445, 0.012587, 0.016992, 0.020727, 0.023...\n",
       "D1    [0.0, 0.0006, 0.0032, 0.0038, 0.0045, 0.0036, ...\n",
       "D2    [0.00047, 0.0017, 0.0029, 0.00443, 0.00618, 0....\n",
       "D3    [2.4e-05, 0.000276, 0.000935, 0.002035, 0.0036...\n",
       "D4    [5e-05, 0.000375, 0.00089, 0.001752, 0.002815,...\n",
       "Name: 1300, dtype: object"
      ]
     },
     "execution_count": 10,
     "metadata": {},
     "output_type": "execute_result"
    }
   ],
   "source": [
    "newobj = df.iloc()[1300][['A3', 'D1', 'D2', 'D3', 'D4']]\n",
    "newobj"
   ]
  },
  {
   "cell_type": "code",
   "execution_count": 69,
   "metadata": {},
   "outputs": [],
   "source": [
    "w1=1;w2=1;w3=1;w4=1;w5=1\n",
    "weights = np.array([w1,w2,w3,w4,w5])"
   ]
  },
  {
   "cell_type": "code",
   "execution_count": 70,
   "metadata": {},
   "outputs": [],
   "source": [
    "weighted_sums = np.array([])\n",
    "for index, row in valdf.iterrows():\n",
    "        # print(valdf.columns[0])\n",
    "        values = np.array([])\n",
    "        for col in valdf.columns:\n",
    "            dist = w_dist(newobj[col],row[col])\n",
    "            # dist = get_emd(newobj[col],row[col])\n",
    "\n",
    "            values = np.append(values, dist)\n",
    "        weighted_sum = np.dot(values, weights)\n",
    "        weighted_sums = np.append(weighted_sums, weighted_sum)\n",
    "        # print(weighted_sum)"
   ]
  },
  {
   "cell_type": "code",
   "execution_count": 71,
   "metadata": {},
   "outputs": [
    {
     "name": "stdout",
     "output_type": "stream",
     "text": [
      "5 Lowest Values: [0.         2.11851115 2.97657638 3.08118894 3.20097564 3.38957091\n",
      " 3.42135312 3.63629361 3.72862602 3.84290286]\n",
      "Indices of the 5 Lowest Values: [1300 1318 1309 1351 1364 1335  918 1310 1284 1361]\n"
     ]
    }
   ],
   "source": [
    "lowest_indices = np.argsort(weighted_sums)[:10]\n",
    "\n",
    "lowest_values = weighted_sums[lowest_indices]\n",
    "\n",
    "print(\"5 Lowest Values:\", lowest_values)\n",
    "print(\"Indices of the 5 Lowest Values:\", lowest_indices)\n"
   ]
  },
  {
   "cell_type": "code",
   "execution_count": 72,
   "metadata": {},
   "outputs": [
    {
     "data": {
      "text/plain": [
       "1           Jet\n",
       "1           Jet\n",
       "1           Jet\n",
       "1           Jet\n",
       "1           Jet\n",
       "1           Jet\n",
       "1    Helicopter\n",
       "1           Jet\n",
       "1           Jet\n",
       "1           Jet\n",
       "Name: class, dtype: object"
      ]
     },
     "execution_count": 72,
     "metadata": {},
     "output_type": "execute_result"
    }
   ],
   "source": [
    "df.iloc[lowest_indices][\"class\"]"
   ]
  },
  {
   "cell_type": "code",
   "execution_count": null,
   "metadata": {},
   "outputs": [],
   "source": [
    "df[df[\"class\"]==\"Vase\"]"
   ]
  },
  {
   "cell_type": "code",
   "execution_count": 10,
   "metadata": {},
   "outputs": [
    {
     "data": {
      "text/html": [
       "<div>\n",
       "<style scoped>\n",
       "    .dataframe tbody tr th:only-of-type {\n",
       "        vertical-align: middle;\n",
       "    }\n",
       "\n",
       "    .dataframe tbody tr th {\n",
       "        vertical-align: top;\n",
       "    }\n",
       "\n",
       "    .dataframe thead th {\n",
       "        text-align: right;\n",
       "    }\n",
       "</style>\n",
       "<table border=\"1\" class=\"dataframe\">\n",
       "  <thead>\n",
       "    <tr style=\"text-align: right;\">\n",
       "      <th></th>\n",
       "      <th>class</th>\n",
       "      <th>path</th>\n",
       "      <th>V</th>\n",
       "      <th>S</th>\n",
       "      <th>c</th>\n",
       "      <th>D</th>\n",
       "      <th>R</th>\n",
       "      <th>E</th>\n",
       "      <th>C</th>\n",
       "      <th>A3</th>\n",
       "      <th>D1</th>\n",
       "      <th>D2</th>\n",
       "      <th>D3</th>\n",
       "      <th>D4</th>\n",
       "    </tr>\n",
       "  </thead>\n",
       "  <tbody>\n",
       "  </tbody>\n",
       "</table>\n",
       "</div>"
      ],
      "text/plain": [
       "Empty DataFrame\n",
       "Columns: [class, path, V, S, c, D, R, E, C, A3, D1, D2, D3, D4]\n",
       "Index: []"
      ]
     },
     "execution_count": 10,
     "metadata": {},
     "output_type": "execute_result"
    }
   ],
   "source": [
    "df[df.apply(lambda x: x.isnull().any(), axis=1)]\n"
   ]
  },
  {
   "cell_type": "code",
   "execution_count": 11,
   "metadata": {},
   "outputs": [
    {
     "data": {
      "text/html": [
       "<div>\n",
       "<style scoped>\n",
       "    .dataframe tbody tr th:only-of-type {\n",
       "        vertical-align: middle;\n",
       "    }\n",
       "\n",
       "    .dataframe tbody tr th {\n",
       "        vertical-align: top;\n",
       "    }\n",
       "\n",
       "    .dataframe thead th {\n",
       "        text-align: right;\n",
       "    }\n",
       "</style>\n",
       "<table border=\"1\" class=\"dataframe\">\n",
       "  <thead>\n",
       "    <tr style=\"text-align: right;\">\n",
       "      <th></th>\n",
       "      <th>class</th>\n",
       "      <th>path</th>\n",
       "      <th>V</th>\n",
       "      <th>S</th>\n",
       "      <th>c</th>\n",
       "      <th>D</th>\n",
       "      <th>R</th>\n",
       "      <th>E</th>\n",
       "      <th>C</th>\n",
       "      <th>A3</th>\n",
       "      <th>D1</th>\n",
       "      <th>D2</th>\n",
       "      <th>D3</th>\n",
       "      <th>D4</th>\n",
       "    </tr>\n",
       "  </thead>\n",
       "  <tbody>\n",
       "  </tbody>\n",
       "</table>\n",
       "</div>"
      ],
      "text/plain": [
       "Empty DataFrame\n",
       "Columns: [class, path, V, S, c, D, R, E, C, A3, D1, D2, D3, D4]\n",
       "Index: []"
      ]
     },
     "execution_count": 11,
     "metadata": {},
     "output_type": "execute_result"
    }
   ],
   "source": [
    "def has_nan_in_list(row):\n",
    "    return any(pd.isna(x) for x in row['D1'])\n",
    "df_has_nan = df.apply(has_nan_in_list, axis=1)\n",
    "df[df_has_nan]"
   ]
  },
  {
   "cell_type": "code",
   "execution_count": 65,
   "metadata": {},
   "outputs": [],
   "source": [
    "import sys\n",
    "sys.path.append('../preprocessing')\n",
    "from viz import viz_mesh"
   ]
  },
  {
   "cell_type": "code",
   "execution_count": 85,
   "metadata": {},
   "outputs": [],
   "source": [
    "viz_mesh(\"../resampledPML//Chess\\m1591.obj\"\t)"
   ]
  },
  {
   "cell_type": "code",
   "execution_count": 75,
   "metadata": {},
   "outputs": [
    {
     "data": {
      "text/plain": [
       "array([[756, 820, 553],\n",
       "       [ 86, 287,  27],\n",
       "       [226, 402, 564],\n",
       "       ...,\n",
       "       [355, 783, 267],\n",
       "       [586,  81, 968],\n",
       "       [387, 647, 719]])"
      ]
     },
     "execution_count": 75,
     "metadata": {},
     "output_type": "execute_result"
    }
   ],
   "source": [
    "def give_random_triplets(input=range(10), samples=10):\n",
    "    return np.random.choice(input, size=(samples, 3), replace=True)\n",
    "\n",
    "random_triplets = give_random_triplets(input=range(1000), samples=1000000)\n",
    "random_triplets"
   ]
  },
  {
   "cell_type": "code",
   "execution_count": 76,
   "metadata": {},
   "outputs": [
    {
     "data": {
      "text/plain": [
       "array([   454,    519,    583, ..., 999291, 999627, 999783], dtype=int64)"
      ]
     },
     "execution_count": 76,
     "metadata": {},
     "output_type": "execute_result"
    }
   ],
   "source": [
    "equal_indices = np.where((random_triplets[:, 0] == random_triplets[:, 1]) | (random_triplets[:, 1] == random_triplets[:, 2]) | (random_triplets[:, 0] == random_triplets[:, 2]))\n",
    "equal_indices[0]"
   ]
  },
  {
   "cell_type": "code",
   "execution_count": 77,
   "metadata": {},
   "outputs": [],
   "source": [
    "random_triplets[equal_indices] = give_random_triplets(samples=random_triplets[equal_indices].shape[0] )\n"
   ]
  },
  {
   "cell_type": "code",
   "execution_count": 194,
   "metadata": {},
   "outputs": [
    {
     "name": "stdout",
     "output_type": "stream",
     "text": [
      "58.2 ms ± 4.05 ms per loop (mean ± std. dev. of 7 runs, 10 loops each)\n"
     ]
    }
   ],
   "source": [
    "random_triplets = give_random_triplets(input=range(7000), samples=1000000)\n",
    "equal_indices = np.where((random_triplets[:, 0] == random_triplets[:, 1]) | (random_triplets[:, 1] == random_triplets[:, 2]) | (random_triplets[:, 0] == random_triplets[:, 2]))\n",
    "while equal_indices[0].size > 0:\n",
    "    random_triplets[equal_indices] = give_random_triplets(samples=random_triplets[equal_indices].shape[0] )\n",
    "    equal_indices = np.where((random_triplets[:, 0] == random_triplets[:, 1]) | (random_triplets[:, 1] == random_triplets[:, 2]) | (random_triplets[:, 0] == random_triplets[:, 2]))\n",
    "\n",
    "random_triplets\n"
   ]
  },
  {
   "cell_type": "markdown",
   "metadata": {},
   "source": [
    "### Accuracy measures"
   ]
  },
  {
   "cell_type": "code",
   "execution_count": 196,
   "metadata": {},
   "outputs": [],
   "source": [
    "def get_top_k_results(newobj, k=10):\n",
    "    w1=1;w2=1;w3=1;w4=4;w5=3\n",
    "    weights = np.array([w1,w2,w3,w4,w5])\n",
    "    weighted_sums = np.array([])\n",
    "    for index, row in valdf.iterrows():\n",
    "        # print(valdf.columns[0])\n",
    "        values = np.array([])\n",
    "        for col in valdf.columns:\n",
    "            dist = w_dist(newobj[col],row[col])\n",
    "            # dist = get_emd(newobj[col],row[col])\n",
    "\n",
    "            values = np.append(values, dist)\n",
    "        weighted_sum = np.dot(values, weights)\n",
    "        weighted_sums = np.append(weighted_sums, weighted_sum)\n",
    "        # print(weighted_sum)\n",
    "        lowest_indices = np.argsort(weighted_sums)[:k+1]\n",
    "\n",
    "        lowest_values = weighted_sums[lowest_indices]\n",
    "\n",
    "    print(\"5 Lowest Values:\", lowest_values)\n",
    "    print(\"Indices of the 5 Lowest Values:\", lowest_indices)\n",
    "    return lowest_indices, lowest_values\n"
   ]
  },
  {
   "cell_type": "code",
   "execution_count": 15,
   "metadata": {},
   "outputs": [
    {
     "data": {
      "text/plain": [
       "Index(['A3', 'D1', 'D2', 'D3', 'D4'], dtype='object')"
      ]
     },
     "execution_count": 15,
     "metadata": {},
     "output_type": "execute_result"
    }
   ],
   "source": [
    "df.columns[9:]"
   ]
  },
  {
   "cell_type": "code",
   "execution_count": 147,
   "metadata": {},
   "outputs": [],
   "source": [
    "def get_top_k_results_allfeatures(newobj, k=10, verbose=0):\n",
    "    w0=5;w1=1;w2=1;w3=1;w4=1;w5=1\n",
    "    weights = np.array([w0,w1,w2,w3,w4,w5])\n",
    "    weighted_sums = np.array([])\n",
    "    for index, row in df.iterrows():\n",
    "        # print(valdf.columns[0])\n",
    "        values = np.array([])\n",
    "        dist = euclidean_distance(newobj,row)\n",
    "        values = np.append(values, dist)\n",
    "        # dist2 = cosine_distance(newobj,row)\n",
    "        # values = np.append(values, dist2)\n",
    "            \n",
    "        for col in df.columns[9:]:\n",
    "            dist3 = w_dist(newobj[col],row[col])\n",
    "            # dist = get_emd(newobj[col],row[col])\n",
    "\n",
    "            values = np.append(values, dist3)\n",
    "        weighted_sum = np.dot(values, weights)\n",
    "        weighted_sums = np.append(weighted_sums, weighted_sum)\n",
    "        # print(weighted_sum)\n",
    "        lowest_indices = np.argsort(weighted_sums)[:k+1]\n",
    "\n",
    "        lowest_values = weighted_sums[lowest_indices]\n",
    "    if verbose==1:\n",
    "        print(\"5 Lowest Values:\", lowest_values)\n",
    "        print(\"Indices of the 5 Lowest Values:\", lowest_indices)\n",
    "    return lowest_indices, lowest_values\n"
   ]
  },
  {
   "cell_type": "code",
   "execution_count": 94,
   "metadata": {},
   "outputs": [
    {
     "data": {
      "text/plain": [
       "class                                              Biplane\n",
       "path                             ./features/Biplane\\D00410\n",
       "V                                                -0.073661\n",
       "S                                                -0.498022\n",
       "c                                                -0.021151\n",
       "D                                                -0.654631\n",
       "R                                                -0.269601\n",
       "E                                                -0.535418\n",
       "C                                                -0.374068\n",
       "A3       [0.00518, 0.011636, 0.014856, 0.018058, 0.0208...\n",
       "D1       [0.0001, 0.0001, 0.0003, 0.0008, 0.0021, 0.001...\n",
       "D2       [0.00052, 0.00179, 0.0035, 0.00489, 0.00652, 0...\n",
       "D3       [1.7e-05, 0.0001, 0.000383, 0.000934, 0.001647...\n",
       "D4       [0.000216, 0.00022, 0.000556, 0.001181, 0.0018...\n",
       "Name: 130, dtype: object"
      ]
     },
     "execution_count": 94,
     "metadata": {},
     "output_type": "execute_result"
    }
   ],
   "source": [
    "\n",
    "newobj = df.iloc()[130]#[['A3', 'D1', 'D2', 'D3', 'D4']]\n",
    "newobj"
   ]
  },
  {
   "cell_type": "code",
   "execution_count": 95,
   "metadata": {},
   "outputs": [
    {
     "name": "stdout",
     "output_type": "stream",
     "text": [
      "5 Lowest Values: [0.         3.20105525 3.23270059 3.2584804  3.38854713 3.51740614\n",
      " 3.59079407 3.64372214 3.67745789 3.75281822 3.91014752]\n",
      "Indices of the 5 Lowest Values: [ 130 1216 1224  994 1131 2271  962  146  645 1201 1002]\n"
     ]
    }
   ],
   "source": [
    "lowest_indices, lowest_values = get_top_k_results_allfeatures(newobj=newobj)"
   ]
  },
  {
   "cell_type": "code",
   "execution_count": 96,
   "metadata": {},
   "outputs": [
    {
     "data": {
      "text/plain": [
       "130        Biplane\n",
       "1216        Insect\n",
       "1224        Insect\n",
       "994          House\n",
       "1131      Humanoid\n",
       "2271          Tool\n",
       "962     Helicopter\n",
       "146        Biplane\n",
       "645      DeskPhone\n",
       "1201      Humanoid\n",
       "1002         House\n",
       "Name: class, dtype: object"
      ]
     },
     "execution_count": 96,
     "metadata": {},
     "output_type": "execute_result"
    }
   ],
   "source": [
    "df.iloc[lowest_indices][\"class\"]"
   ]
  },
  {
   "cell_type": "code",
   "execution_count": 99,
   "metadata": {},
   "outputs": [
    {
     "name": "stdout",
     "output_type": "stream",
     "text": [
      "{'AircraftBuoyant': [3, 7], 'Apartment': [17, 21], 'AquaticAnimal': [40, 65], 'Bed': [78, 81], 'Bicycle': [104, 99], 'Biplane': [160, 147], 'Bird': [208, 193], 'Bookset': [217, 218], 'Bottle': [242, 258], 'BuildingNonResidential': [271, 276], 'Bus': [308, 318], 'Car': [387, 359], 'Cellphone': [420, 417], 'Chess': [469, 442], 'City': [484, 496], 'ClassicPiano': [514, 508], 'Computer': [548, 540], 'ComputerKeyboard': [563, 557], 'Cup': [586, 587], 'DeskLamp': [609, 632], 'DeskPhone': [639, 636], 'Door': [663, 673], 'Drum': [698, 702], 'Fish': [717, 735], 'FloorLamp': [744, 754], 'Glasses': [773, 775], 'Guitar': [799, 796], 'Gun': [847, 842], 'Hand': [864, 863], 'Hat': [912, 899], 'Helicopter': [943, 935], 'House': [971, 991], 'HumanHead': [1040, 1019], 'Humanoid': [1188, 1176], 'Insect': [1230, 1222], 'Jet': [1364, 1290], 'Knife': [1411, 1422], 'MilitaryVehicle': [1452, 1446], 'Monitor': [1464, 1474], 'Monoplane': [1481, 1496], 'Motorcycle': [1522, 1500], 'Mug': [1549, 1527], 'MultiSeat': [1551, 1556], 'Musical_Instrument': [1613, 1601], 'NonWheelChair': [1651, 1628], 'PianoBoard': [1684, 1689], 'PlantIndoors': [1756, 1731], 'PlantWildNonTree': [1773, 1768], 'Quadruped': [1812, 1811], 'RectangleTable': [1903, 1881], 'Rocket': [1915, 1925], 'RoundTable': [1957, 1962], 'Shelf': [1974, 1979], 'Ship': [2051, 2031], 'Sign': [2082, 2071], 'Skyscraper': [2096, 2088], 'Spoon': [2117, 2113], 'Starship': [2128, 2131], 'SubmachineGun': [2170, 2174], 'Sword': [2218, 2180], 'Tool': [2249, 2237], 'Train': [2293, 2291], 'Tree': [2342, 2339], 'Truck': [2369, 2360], 'TruckNonContainer': [2386, 2387], 'Vase': [2404, 2411], 'Violin': [2437, 2425], 'Wheel': [2444, 2443], 'WheelChair': [2473, 2467]}\n",
      "[   3    7   17   21   40   65   78   81  104   99  160  147  208  193\n",
      "  217  218  242  258  271  276  308  318  387  359  420  417  469  442\n",
      "  484  496  514  508  548  540  563  557  586  587  609  632  639  636\n",
      "  663  673  698  702  717  735  744  754  773  775  799  796  847  842\n",
      "  864  863  912  899  943  935  971  991 1040 1019 1188 1176 1230 1222\n",
      " 1364 1290 1411 1422 1452 1446 1464 1474 1481 1496 1522 1500 1549 1527\n",
      " 1551 1556 1613 1601 1651 1628 1684 1689 1756 1731 1773 1768 1812 1811\n",
      " 1903 1881 1915 1925 1957 1962 1974 1979 2051 2031 2082 2071 2096 2088\n",
      " 2117 2113 2128 2131 2170 2174 2218 2180 2249 2237 2293 2291 2342 2339\n",
      " 2369 2360 2386 2387 2404 2411 2437 2425 2444 2443 2473 2467]\n"
     ]
    }
   ],
   "source": [
    "import pandas as pd\n",
    "import random\n",
    "\n",
    "# Create an empty dictionary to store the random indices\n",
    "random_indices_dict = {}\n",
    "indices_arr = np.array([],dtype=int)\n",
    "# Group the DataFrame by the \"class\" column\n",
    "grouped = df.groupby('class')\n",
    "\n",
    "# Iterate over each group and select two different random indices for each\n",
    "for name, group in grouped:\n",
    "    indices = group.index.tolist()\n",
    "    newvals = random.sample(indices, min(2, len(indices)))\n",
    "    random_indices_dict[name] = newvals\n",
    "    indices_arr = np.append(indices_arr,newvals)\n",
    "\n",
    "# Display the random indices for each distinct class\n",
    "print(random_indices_dict)\n",
    "print(indices_arr)\n"
   ]
  },
  {
   "cell_type": "code",
   "execution_count": 195,
   "metadata": {},
   "outputs": [
    {
     "name": "stdout",
     "output_type": "stream",
     "text": [
      "5 Lowest Values: [0.         2.6673     3.0845001  3.16317584 3.19272594 3.20122\n",
      " 3.26587334 3.29074614 3.32684614 3.39054438 3.39365327]\n",
      "Indices of the 5 Lowest Values: [2461 2458 2334 1982 1984  876 1974  897 1633 1555 1590]\n"
     ]
    },
    {
     "data": {
      "text/plain": [
       "(array([2461, 2458, 2334, 1982, 1984,  876, 1974,  897, 1633, 1555, 1590],\n",
       "       dtype=int64),\n",
       " array([0.        , 2.6673    , 3.0845001 , 3.16317584, 3.19272594,\n",
       "        3.20122   , 3.26587334, 3.29074614, 3.32684614, 3.39054438,\n",
       "        3.39365327]))"
      ]
     },
     "execution_count": 195,
     "metadata": {},
     "output_type": "execute_result"
    }
   ],
   "source": [
    "get_top_k_results(newobj, k = 10)"
   ]
  },
  {
   "cell_type": "code",
   "execution_count": 149,
   "metadata": {},
   "outputs": [
    {
     "name": "stderr",
     "output_type": "stream",
     "text": [
      "100%|██████████| 138/138 [07:36<00:00,  3.31s/it]\n"
     ]
    }
   ],
   "source": [
    "from tqdm import tqdm\n",
    "totalcorrect = 0\n",
    "total = 0\n",
    "for i in tqdm(indices_arr):\n",
    "    newobj = df.iloc()[i]\n",
    "    # lowest_indices, lowest_values = get_top_k_results(newobj, k = 10)\n",
    "    lowest_indices, lowest_values = get_top_k_results_allfeatures(newobj, k = 10, verbose=0)\n",
    "\n",
    "    y = df.iloc[lowest_indices[0]][\"class\"]\n",
    "    correct = 0\n",
    "    for ind in lowest_indices[1:]:\n",
    "        if df.iloc[ind][\"class\"] == y:\n",
    "            correct += 1 \n",
    "    totalcorrect += correct\n",
    "    total += len(lowest_indices[1:])"
   ]
  },
  {
   "cell_type": "code",
   "execution_count": 150,
   "metadata": {},
   "outputs": [
    {
     "data": {
      "text/plain": [
       "(335, 1380, 0.2427536231884058)"
      ]
     },
     "execution_count": 150,
     "metadata": {},
     "output_type": "execute_result"
    }
   ],
   "source": [
    "totalcorrect, total, totalcorrect/ total # with new df"
   ]
  },
  {
   "cell_type": "code",
   "execution_count": 105,
   "metadata": {},
   "outputs": [
    {
     "data": {
      "text/plain": [
       "(307, 1380, 0.22246376811594204)"
      ]
     },
     "execution_count": 105,
     "metadata": {},
     "output_type": "execute_result"
    }
   ],
   "source": [
    "totalcorrect, total, totalcorrect/ total # with euclid"
   ]
  },
  {
   "cell_type": "code",
   "execution_count": 102,
   "metadata": {},
   "outputs": [
    {
     "data": {
      "text/plain": [
       "(287, 1380, 0.20797101449275363)"
      ]
     },
     "execution_count": 102,
     "metadata": {},
     "output_type": "execute_result"
    }
   ],
   "source": [
    "totalcorrect, total, totalcorrect/ total # with cosine"
   ]
  },
  {
   "cell_type": "code",
   "execution_count": 199,
   "metadata": {},
   "outputs": [
    {
     "data": {
      "text/plain": [
       "(209, 1380, 0.15144927536231884)"
      ]
     },
     "execution_count": 199,
     "metadata": {},
     "output_type": "execute_result"
    }
   ],
   "source": [
    "totalcorrect, total, totalcorrect/ total"
   ]
  },
  {
   "cell_type": "code",
   "execution_count": 192,
   "metadata": {},
   "outputs": [
    {
     "data": {
      "text/plain": [
       "(238, 1380, 0.17246376811594202)"
      ]
     },
     "execution_count": 192,
     "metadata": {},
     "output_type": "execute_result"
    }
   ],
   "source": [
    "totalcorrect, total, totalcorrect/ total"
   ]
  },
  {
   "cell_type": "code",
   "execution_count": 188,
   "metadata": {},
   "outputs": [
    {
     "data": {
      "text/html": [
       "<div>\n",
       "<style scoped>\n",
       "    .dataframe tbody tr th:only-of-type {\n",
       "        vertical-align: middle;\n",
       "    }\n",
       "\n",
       "    .dataframe tbody tr th {\n",
       "        vertical-align: top;\n",
       "    }\n",
       "\n",
       "    .dataframe thead th {\n",
       "        text-align: right;\n",
       "    }\n",
       "</style>\n",
       "<table border=\"1\" class=\"dataframe\">\n",
       "  <thead>\n",
       "    <tr style=\"text-align: right;\">\n",
       "      <th></th>\n",
       "      <th>class</th>\n",
       "      <th>path</th>\n",
       "      <th>V</th>\n",
       "      <th>S</th>\n",
       "      <th>c</th>\n",
       "      <th>D</th>\n",
       "      <th>R</th>\n",
       "      <th>E</th>\n",
       "      <th>C</th>\n",
       "      <th>A3</th>\n",
       "      <th>D1</th>\n",
       "      <th>D2</th>\n",
       "      <th>D3</th>\n",
       "      <th>D4</th>\n",
       "    </tr>\n",
       "  </thead>\n",
       "  <tbody>\n",
       "    <tr>\n",
       "      <th>100</th>\n",
       "      <td>Bicycle</td>\n",
       "      <td>./features/Bicycle\\D00462</td>\n",
       "      <td>0.015860</td>\n",
       "      <td>-0.558199</td>\n",
       "      <td>-0.021151</td>\n",
       "      <td>-0.530023</td>\n",
       "      <td>-0.014967</td>\n",
       "      <td>-0.675910</td>\n",
       "      <td>-0.021856</td>\n",
       "      <td>[0.013414, 0.021464, 0.02267, 0.022876, 0.0231...</td>\n",
       "      <td>[0.0, 0.0001, 0.0001, 0.0001, 0.0001, 0.0001, ...</td>\n",
       "      <td>[0.00175, 0.00451, 0.00605, 0.00585, 0.00708, ...</td>\n",
       "      <td>[0.00012, 0.000591, 0.001199, 0.001893, 0.0027...</td>\n",
       "      <td>[0.000103, 0.000612, 0.001531, 0.002789, 0.004...</td>\n",
       "    </tr>\n",
       "    <tr>\n",
       "      <th>102</th>\n",
       "      <td>Bicycle</td>\n",
       "      <td>./features/Bicycle\\D00536</td>\n",
       "      <td>-0.003958</td>\n",
       "      <td>-0.594845</td>\n",
       "      <td>-0.021151</td>\n",
       "      <td>-0.509049</td>\n",
       "      <td>-0.024217</td>\n",
       "      <td>-0.458325</td>\n",
       "      <td>-0.038430</td>\n",
       "      <td>[0.011727, 0.017246, 0.021203, 0.021615, 0.021...</td>\n",
       "      <td>[0.0, 0.0001, 0.0001, 0.0001, 0.0002, 0.0001, ...</td>\n",
       "      <td>[0.00227, 0.0065, 0.00635, 0.00573, 0.00592, 0...</td>\n",
       "      <td>[0.00015, 0.000766, 0.001386, 0.002328, 0.0032...</td>\n",
       "      <td>[0.000144, 0.000953, 0.002239, 0.003976, 0.006...</td>\n",
       "    </tr>\n",
       "    <tr>\n",
       "      <th>1465</th>\n",
       "      <td>Monitor</td>\n",
       "      <td>./features/Monitor\\D00391</td>\n",
       "      <td>-0.179488</td>\n",
       "      <td>1.204441</td>\n",
       "      <td>-0.021151</td>\n",
       "      <td>0.852796</td>\n",
       "      <td>-0.389738</td>\n",
       "      <td>-0.702152</td>\n",
       "      <td>-0.545376</td>\n",
       "      <td>[0.009992, 0.01945, 0.021982, 0.022273, 0.0224...</td>\n",
       "      <td>[0.0, 0.001, 0.0011, 0.0019, 0.001, 0.0011, 0....</td>\n",
       "      <td>[0.00073, 0.002, 0.00271, 0.0033, 0.00487, 0.0...</td>\n",
       "      <td>[3.2e-05, 0.000166, 0.000468, 0.000992, 0.0016...</td>\n",
       "      <td>[0.000744, 0.000818, 0.001055, 0.001956, 0.002...</td>\n",
       "    </tr>\n",
       "    <tr>\n",
       "      <th>108</th>\n",
       "      <td>Bicycle</td>\n",
       "      <td>./features/Bicycle\\D00750</td>\n",
       "      <td>0.100926</td>\n",
       "      <td>-0.272764</td>\n",
       "      <td>-0.021151</td>\n",
       "      <td>-0.372126</td>\n",
       "      <td>0.098439</td>\n",
       "      <td>-0.604313</td>\n",
       "      <td>0.151024</td>\n",
       "      <td>[0.009781, 0.019754, 0.023327, 0.023564, 0.023...</td>\n",
       "      <td>[0.0, 0.0001, 0.0001, 0.0001, 0.0001, 0.0001, ...</td>\n",
       "      <td>[0.00054, 0.00234, 0.00401, 0.00534, 0.00647, ...</td>\n",
       "      <td>[1.4e-05, 0.000117, 0.000433, 0.001004, 0.0017...</td>\n",
       "      <td>[6.6e-05, 0.000416, 0.001103, 0.001944, 0.0033...</td>\n",
       "    </tr>\n",
       "    <tr>\n",
       "      <th>114</th>\n",
       "      <td>Bicycle</td>\n",
       "      <td>./features/Bicycle\\D00974</td>\n",
       "      <td>-0.024465</td>\n",
       "      <td>-0.548177</td>\n",
       "      <td>-0.021151</td>\n",
       "      <td>-0.498631</td>\n",
       "      <td>-0.117300</td>\n",
       "      <td>-0.688648</td>\n",
       "      <td>-0.187253</td>\n",
       "      <td>[0.011226, 0.021829, 0.026766, 0.02798, 0.0269...</td>\n",
       "      <td>[0.0, 0.0001, 0.0001, 0.0001, 0.0001, 0.0001, ...</td>\n",
       "      <td>[0.00158, 0.00473, 0.00715, 0.00809, 0.00925, ...</td>\n",
       "      <td>[3.7e-05, 0.000395, 0.000988, 0.001959, 0.0030...</td>\n",
       "      <td>[7.6e-05, 0.000494, 0.001341, 0.002521, 0.0039...</td>\n",
       "    </tr>\n",
       "    <tr>\n",
       "      <th>96</th>\n",
       "      <td>Bicycle</td>\n",
       "      <td>./features/Bicycle\\D00033</td>\n",
       "      <td>0.011966</td>\n",
       "      <td>-0.672358</td>\n",
       "      <td>-0.021151</td>\n",
       "      <td>-0.687026</td>\n",
       "      <td>-0.021327</td>\n",
       "      <td>-0.704064</td>\n",
       "      <td>-0.034429</td>\n",
       "      <td>[0.012993, 0.022425, 0.024989, 0.025044, 0.026...</td>\n",
       "      <td>[0.0, 0.0001, 0.0001, 0.0004, 0.0002, 0.0003, ...</td>\n",
       "      <td>[0.00169, 0.00331, 0.00459, 0.00462, 0.00762, ...</td>\n",
       "      <td>[8.7e-05, 0.00057, 0.001067, 0.001509, 0.00225...</td>\n",
       "      <td>[0.000108, 0.000687, 0.001729, 0.00331, 0.0050...</td>\n",
       "    </tr>\n",
       "    <tr>\n",
       "      <th>115</th>\n",
       "      <td>Bicycle</td>\n",
       "      <td>./features/Bicycle\\m1472</td>\n",
       "      <td>0.001595</td>\n",
       "      <td>-0.627271</td>\n",
       "      <td>-0.021151</td>\n",
       "      <td>-0.647436</td>\n",
       "      <td>-0.019638</td>\n",
       "      <td>-0.642163</td>\n",
       "      <td>-0.038314</td>\n",
       "      <td>[0.011378, 0.022022, 0.024566, 0.024305, 0.023...</td>\n",
       "      <td>[0.0, 0.0001, 0.0001, 0.0001, 0.0012, 0.0005, ...</td>\n",
       "      <td>[0.00138, 0.00399, 0.00619, 0.00623, 0.00645, ...</td>\n",
       "      <td>[2.6e-05, 0.000247, 0.000791, 0.00152, 0.00252...</td>\n",
       "      <td>[0.000117, 0.000755, 0.001949, 0.003755, 0.005...</td>\n",
       "    </tr>\n",
       "    <tr>\n",
       "      <th>106</th>\n",
       "      <td>Bicycle</td>\n",
       "      <td>./features/Bicycle\\D00621</td>\n",
       "      <td>0.045538</td>\n",
       "      <td>-0.656544</td>\n",
       "      <td>-0.021151</td>\n",
       "      <td>-0.634887</td>\n",
       "      <td>0.044704</td>\n",
       "      <td>-0.723747</td>\n",
       "      <td>0.060357</td>\n",
       "      <td>[0.016849, 0.026814, 0.029573, 0.028311, 0.027...</td>\n",
       "      <td>[0.0, 0.0001, 0.0001, 0.0001, 0.0005, 0.0009, ...</td>\n",
       "      <td>[0.00165, 0.00388, 0.00539, 0.00654, 0.00796, ...</td>\n",
       "      <td>[0.000116, 0.000666, 0.001466, 0.00253, 0.0038...</td>\n",
       "      <td>[0.000143, 0.001057, 0.002642, 0.004558, 0.007...</td>\n",
       "    </tr>\n",
       "    <tr>\n",
       "      <th>104</th>\n",
       "      <td>Bicycle</td>\n",
       "      <td>./features/Bicycle\\D00558</td>\n",
       "      <td>-0.014542</td>\n",
       "      <td>-0.538586</td>\n",
       "      <td>-0.021151</td>\n",
       "      <td>-0.656887</td>\n",
       "      <td>-0.077964</td>\n",
       "      <td>-0.676072</td>\n",
       "      <td>-0.103970</td>\n",
       "      <td>[0.009977, 0.019977, 0.023832, 0.024862, 0.024...</td>\n",
       "      <td>[0.0, 0.0001, 0.0001, 0.0001, 0.0001, 0.0001, ...</td>\n",
       "      <td>[0.00107, 0.00332, 0.00505, 0.006, 0.00729, 0....</td>\n",
       "      <td>[3.2e-05, 0.000223, 0.00072, 0.001249, 0.00209...</td>\n",
       "      <td>[7e-05, 0.00045, 0.001221, 0.002446, 0.00398, ...</td>\n",
       "    </tr>\n",
       "    <tr>\n",
       "      <th>99</th>\n",
       "      <td>Bicycle</td>\n",
       "      <td>./features/Bicycle\\D00078</td>\n",
       "      <td>0.067563</td>\n",
       "      <td>-0.551459</td>\n",
       "      <td>-0.021151</td>\n",
       "      <td>-0.280044</td>\n",
       "      <td>0.052743</td>\n",
       "      <td>-0.578388</td>\n",
       "      <td>0.088031</td>\n",
       "      <td>[0.008261, 0.015829, 0.019215, 0.021177, 0.021...</td>\n",
       "      <td>[0.0, 0.0001, 0.0001, 0.0001, 0.0001, 0.0001, ...</td>\n",
       "      <td>[0.00165, 0.00433, 0.00711, 0.00694, 0.00803, ...</td>\n",
       "      <td>[4.8e-05, 0.000358, 0.000952, 0.001911, 0.0029...</td>\n",
       "      <td>[7.2e-05, 0.000499, 0.001296, 0.002559, 0.0040...</td>\n",
       "    </tr>\n",
       "    <tr>\n",
       "      <th>95</th>\n",
       "      <td>Bicycle</td>\n",
       "      <td>./features/Bicycle\\D00016</td>\n",
       "      <td>0.013289</td>\n",
       "      <td>-0.658291</td>\n",
       "      <td>-0.021151</td>\n",
       "      <td>-0.644503</td>\n",
       "      <td>-0.026673</td>\n",
       "      <td>-0.723745</td>\n",
       "      <td>-0.026728</td>\n",
       "      <td>[0.017352, 0.027657, 0.030311, 0.028882, 0.027...</td>\n",
       "      <td>[0.0, 0.0003, 0.0004, 0.0009, 0.0004, 0.0002, ...</td>\n",
       "      <td>[0.00167, 0.00406, 0.00534, 0.00686, 0.00906, ...</td>\n",
       "      <td>[0.00011, 0.000712, 0.001696, 0.002875, 0.0041...</td>\n",
       "      <td>[0.000173, 0.00119, 0.003027, 0.00522, 0.00820...</td>\n",
       "    </tr>\n",
       "  </tbody>\n",
       "</table>\n",
       "</div>"
      ],
      "text/plain": [
       "        class                       path         V         S         c  \\\n",
       "100   Bicycle  ./features/Bicycle\\D00462  0.015860 -0.558199 -0.021151   \n",
       "102   Bicycle  ./features/Bicycle\\D00536 -0.003958 -0.594845 -0.021151   \n",
       "1465  Monitor  ./features/Monitor\\D00391 -0.179488  1.204441 -0.021151   \n",
       "108   Bicycle  ./features/Bicycle\\D00750  0.100926 -0.272764 -0.021151   \n",
       "114   Bicycle  ./features/Bicycle\\D00974 -0.024465 -0.548177 -0.021151   \n",
       "96    Bicycle  ./features/Bicycle\\D00033  0.011966 -0.672358 -0.021151   \n",
       "115   Bicycle   ./features/Bicycle\\m1472  0.001595 -0.627271 -0.021151   \n",
       "106   Bicycle  ./features/Bicycle\\D00621  0.045538 -0.656544 -0.021151   \n",
       "104   Bicycle  ./features/Bicycle\\D00558 -0.014542 -0.538586 -0.021151   \n",
       "99    Bicycle  ./features/Bicycle\\D00078  0.067563 -0.551459 -0.021151   \n",
       "95    Bicycle  ./features/Bicycle\\D00016  0.013289 -0.658291 -0.021151   \n",
       "\n",
       "             D         R         E         C  \\\n",
       "100  -0.530023 -0.014967 -0.675910 -0.021856   \n",
       "102  -0.509049 -0.024217 -0.458325 -0.038430   \n",
       "1465  0.852796 -0.389738 -0.702152 -0.545376   \n",
       "108  -0.372126  0.098439 -0.604313  0.151024   \n",
       "114  -0.498631 -0.117300 -0.688648 -0.187253   \n",
       "96   -0.687026 -0.021327 -0.704064 -0.034429   \n",
       "115  -0.647436 -0.019638 -0.642163 -0.038314   \n",
       "106  -0.634887  0.044704 -0.723747  0.060357   \n",
       "104  -0.656887 -0.077964 -0.676072 -0.103970   \n",
       "99   -0.280044  0.052743 -0.578388  0.088031   \n",
       "95   -0.644503 -0.026673 -0.723745 -0.026728   \n",
       "\n",
       "                                                     A3  \\\n",
       "100   [0.013414, 0.021464, 0.02267, 0.022876, 0.0231...   \n",
       "102   [0.011727, 0.017246, 0.021203, 0.021615, 0.021...   \n",
       "1465  [0.009992, 0.01945, 0.021982, 0.022273, 0.0224...   \n",
       "108   [0.009781, 0.019754, 0.023327, 0.023564, 0.023...   \n",
       "114   [0.011226, 0.021829, 0.026766, 0.02798, 0.0269...   \n",
       "96    [0.012993, 0.022425, 0.024989, 0.025044, 0.026...   \n",
       "115   [0.011378, 0.022022, 0.024566, 0.024305, 0.023...   \n",
       "106   [0.016849, 0.026814, 0.029573, 0.028311, 0.027...   \n",
       "104   [0.009977, 0.019977, 0.023832, 0.024862, 0.024...   \n",
       "99    [0.008261, 0.015829, 0.019215, 0.021177, 0.021...   \n",
       "95    [0.017352, 0.027657, 0.030311, 0.028882, 0.027...   \n",
       "\n",
       "                                                     D1  \\\n",
       "100   [0.0, 0.0001, 0.0001, 0.0001, 0.0001, 0.0001, ...   \n",
       "102   [0.0, 0.0001, 0.0001, 0.0001, 0.0002, 0.0001, ...   \n",
       "1465  [0.0, 0.001, 0.0011, 0.0019, 0.001, 0.0011, 0....   \n",
       "108   [0.0, 0.0001, 0.0001, 0.0001, 0.0001, 0.0001, ...   \n",
       "114   [0.0, 0.0001, 0.0001, 0.0001, 0.0001, 0.0001, ...   \n",
       "96    [0.0, 0.0001, 0.0001, 0.0004, 0.0002, 0.0003, ...   \n",
       "115   [0.0, 0.0001, 0.0001, 0.0001, 0.0012, 0.0005, ...   \n",
       "106   [0.0, 0.0001, 0.0001, 0.0001, 0.0005, 0.0009, ...   \n",
       "104   [0.0, 0.0001, 0.0001, 0.0001, 0.0001, 0.0001, ...   \n",
       "99    [0.0, 0.0001, 0.0001, 0.0001, 0.0001, 0.0001, ...   \n",
       "95    [0.0, 0.0003, 0.0004, 0.0009, 0.0004, 0.0002, ...   \n",
       "\n",
       "                                                     D2  \\\n",
       "100   [0.00175, 0.00451, 0.00605, 0.00585, 0.00708, ...   \n",
       "102   [0.00227, 0.0065, 0.00635, 0.00573, 0.00592, 0...   \n",
       "1465  [0.00073, 0.002, 0.00271, 0.0033, 0.00487, 0.0...   \n",
       "108   [0.00054, 0.00234, 0.00401, 0.00534, 0.00647, ...   \n",
       "114   [0.00158, 0.00473, 0.00715, 0.00809, 0.00925, ...   \n",
       "96    [0.00169, 0.00331, 0.00459, 0.00462, 0.00762, ...   \n",
       "115   [0.00138, 0.00399, 0.00619, 0.00623, 0.00645, ...   \n",
       "106   [0.00165, 0.00388, 0.00539, 0.00654, 0.00796, ...   \n",
       "104   [0.00107, 0.00332, 0.00505, 0.006, 0.00729, 0....   \n",
       "99    [0.00165, 0.00433, 0.00711, 0.00694, 0.00803, ...   \n",
       "95    [0.00167, 0.00406, 0.00534, 0.00686, 0.00906, ...   \n",
       "\n",
       "                                                     D3  \\\n",
       "100   [0.00012, 0.000591, 0.001199, 0.001893, 0.0027...   \n",
       "102   [0.00015, 0.000766, 0.001386, 0.002328, 0.0032...   \n",
       "1465  [3.2e-05, 0.000166, 0.000468, 0.000992, 0.0016...   \n",
       "108   [1.4e-05, 0.000117, 0.000433, 0.001004, 0.0017...   \n",
       "114   [3.7e-05, 0.000395, 0.000988, 0.001959, 0.0030...   \n",
       "96    [8.7e-05, 0.00057, 0.001067, 0.001509, 0.00225...   \n",
       "115   [2.6e-05, 0.000247, 0.000791, 0.00152, 0.00252...   \n",
       "106   [0.000116, 0.000666, 0.001466, 0.00253, 0.0038...   \n",
       "104   [3.2e-05, 0.000223, 0.00072, 0.001249, 0.00209...   \n",
       "99    [4.8e-05, 0.000358, 0.000952, 0.001911, 0.0029...   \n",
       "95    [0.00011, 0.000712, 0.001696, 0.002875, 0.0041...   \n",
       "\n",
       "                                                     D4  \n",
       "100   [0.000103, 0.000612, 0.001531, 0.002789, 0.004...  \n",
       "102   [0.000144, 0.000953, 0.002239, 0.003976, 0.006...  \n",
       "1465  [0.000744, 0.000818, 0.001055, 0.001956, 0.002...  \n",
       "108   [6.6e-05, 0.000416, 0.001103, 0.001944, 0.0033...  \n",
       "114   [7.6e-05, 0.000494, 0.001341, 0.002521, 0.0039...  \n",
       "96    [0.000108, 0.000687, 0.001729, 0.00331, 0.0050...  \n",
       "115   [0.000117, 0.000755, 0.001949, 0.003755, 0.005...  \n",
       "106   [0.000143, 0.001057, 0.002642, 0.004558, 0.007...  \n",
       "104   [7e-05, 0.00045, 0.001221, 0.002446, 0.00398, ...  \n",
       "99    [7.2e-05, 0.000499, 0.001296, 0.002559, 0.0040...  \n",
       "95    [0.000173, 0.00119, 0.003027, 0.00522, 0.00820...  "
      ]
     },
     "execution_count": 188,
     "metadata": {},
     "output_type": "execute_result"
    }
   ],
   "source": [
    "df.iloc[lowest_indices]"
   ]
  },
  {
   "cell_type": "code",
   "execution_count": 11,
   "metadata": {},
   "outputs": [],
   "source": [
    "df2 = df"
   ]
  },
  {
   "cell_type": "code",
   "execution_count": 21,
   "metadata": {},
   "outputs": [
    {
     "data": {
      "text/plain": [
       "12"
      ]
     },
     "execution_count": 21,
     "metadata": {},
     "output_type": "execute_result"
    }
   ],
   "source": [
    "min(df[['A3', 'D1', 'D2', 'D3', 'D4']].applymap(len).min())"
   ]
  },
  {
   "cell_type": "code",
   "execution_count": 148,
   "metadata": {},
   "outputs": [
    {
     "name": "stdout",
     "output_type": "stream",
     "text": [
      "Row with the highest list length (Row Index: 0 )\n",
      "class                                      AircraftBuoyant\n",
      "path                      ./features/AircraftBuoyant\\m1337\n",
      "V                                                 4.100846\n",
      "S                                                 0.214806\n",
      "c                                                -0.021151\n",
      "D                                                -0.431171\n",
      "R                                                 1.524371\n",
      "E                                                 4.945361\n",
      "C                                                 1.790998\n",
      "A3       [0.000719, 0.002245, 0.003637, 0.004885, 0.006...\n",
      "D1       [0.0, 0.0, 0.0, 0.0, 0.0, 0.0, 0.0, 0.0, 0.0, ...\n",
      "D2       [0.0, 0.00048, 0.00051, 0.00104, 0.00095, 0.00...\n",
      "D3       [1e-06, 5e-06, 1.9e-05, 5.4e-05, 0.000111, 0.0...\n",
      "D4       [1e-05, 3.7e-05, 0.000109, 0.000236, 0.000379,...\n",
      "Name: 0, dtype: object\n",
      "Columns with the highest list length: A3\n",
      "Length: 100\n",
      "\n",
      "Row with the lowest list length (Row Index: 0 )\n",
      "class                                      AircraftBuoyant\n",
      "path                      ./features/AircraftBuoyant\\m1337\n",
      "V                                                 4.100846\n",
      "S                                                 0.214806\n",
      "c                                                -0.021151\n",
      "D                                                -0.431171\n",
      "R                                                 1.524371\n",
      "E                                                 4.945361\n",
      "C                                                 1.790998\n",
      "A3       [0.000719, 0.002245, 0.003637, 0.004885, 0.006...\n",
      "D1       [0.0, 0.0, 0.0, 0.0, 0.0, 0.0, 0.0, 0.0, 0.0, ...\n",
      "D2       [0.0, 0.00048, 0.00051, 0.00104, 0.00095, 0.00...\n",
      "D3       [1e-06, 5e-06, 1.9e-05, 5.4e-05, 0.000111, 0.0...\n",
      "D4       [1e-05, 3.7e-05, 0.000109, 0.000236, 0.000379,...\n",
      "Name: 0, dtype: object\n",
      "Columns with the lowest list length: A3\n",
      "Length: 100\n"
     ]
    }
   ],
   "source": [
    "list_lengths = df[['A3', 'D1', 'D2', 'D3', 'D4']].applymap(len)\n",
    "\n",
    "# Find the row indices with the maximum and minimum list lengths\n",
    "row_with_max_length = list_lengths.sum(axis=1).idxmax()\n",
    "row_with_min_length = list_lengths.sum(axis=1).idxmin()\n",
    "\n",
    "# Get the corresponding rows from the original DataFrame\n",
    "row_with_max_length_data = df.iloc[row_with_max_length]\n",
    "row_with_min_length_data = df.iloc[row_with_min_length]\n",
    "\n",
    "# Find the columns with the maximum and minimum list lengths\n",
    "max_length_columns = list_lengths.loc[row_with_max_length].idxmax()\n",
    "min_length_columns = list_lengths.loc[row_with_min_length].idxmin()\n",
    "\n",
    "# Get the respective lengths of the maximum and minimum list lengths\n",
    "max_length = list_lengths.loc[row_with_max_length, max_length_columns]\n",
    "min_length = list_lengths.loc[row_with_min_length, min_length_columns]\n",
    "\n",
    "print(\"Row with the highest list length (Row Index:\", row_with_max_length, \")\")\n",
    "print(row_with_max_length_data)\n",
    "print(\"Columns with the highest list length:\", max_length_columns)\n",
    "print(\"Length:\", max_length)\n",
    "\n",
    "print(\"\\nRow with the lowest list length (Row Index:\", row_with_min_length, \")\")\n",
    "print(row_with_min_length_data)\n",
    "print(\"Columns with the lowest list length:\", min_length_columns)\n",
    "print(\"Length:\", min_length)"
   ]
  },
  {
   "cell_type": "code",
   "execution_count": 37,
   "metadata": {},
   "outputs": [
    {
     "data": {
      "text/plain": [
       "array([0.000e+00, 2.040e-02, 7.110e-02, 1.141e-01, 1.147e-01, 1.297e-01,\n",
       "       1.772e-01, 1.856e-01, 1.369e-01, 3.200e-02, 1.340e-02, 3.800e-03,\n",
       "       1.000e-04, 1.000e-04, 1.000e-04, 1.000e-04, 1.000e-04, 1.000e-04,\n",
       "       1.000e-04, 1.000e-04, 1.000e-04, 1.000e-04, 1.000e-04])"
      ]
     },
     "execution_count": 37,
     "metadata": {},
     "output_type": "execute_result"
    },
    {
     "ename": "",
     "evalue": "",
     "output_type": "error",
     "traceback": [
      "\u001b[1;31mThe Kernel crashed while executing code in the the current cell or a previous cell. Please review the code in the cell(s) to identify a possible cause of the failure. Click <a href='https://aka.ms/vscodeJupyterKernelCrash'>here</a> for more info. View Jupyter <a href='command:jupyter.viewOutput'>log</a> for further details."
     ]
    }
   ],
   "source": [
    "df[df[\"path\"] == \"./features/Car\\m1510\"][\"D1\"].iloc[0]"
   ]
  },
  {
   "cell_type": "code",
   "execution_count": 16,
   "metadata": {},
   "outputs": [
    {
     "ename": "TypeError",
     "evalue": "can only concatenate str (not \"list\") to str",
     "output_type": "error",
     "traceback": [
      "\u001b[1;31m---------------------------------------------------------------------------\u001b[0m",
      "\u001b[1;31mTypeError\u001b[0m                                 Traceback (most recent call last)",
      "\u001b[1;32mg:\\Meine Ablage\\UU\\MR\\Project\\Multimedia-Retrieval\\querying\\querying.ipynb Cell 34\u001b[0m line \u001b[0;36m6\n\u001b[0;32m      <a href='vscode-notebook-cell:/g%3A/Meine%20Ablage/UU/MR/Project/Multimedia-Retrieval/querying/querying.ipynb#Y104sZmlsZQ%3D%3D?line=3'>4</a>\u001b[0m \u001b[39m# Expand lists to have the same length\u001b[39;00m\n\u001b[0;32m      <a href='vscode-notebook-cell:/g%3A/Meine%20Ablage/UU/MR/Project/Multimedia-Retrieval/querying/querying.ipynb#Y104sZmlsZQ%3D%3D?line=4'>5</a>\u001b[0m \u001b[39mfor\u001b[39;00m col \u001b[39min\u001b[39;00m df\u001b[39m.\u001b[39mcolumns:\n\u001b[1;32m----> <a href='vscode-notebook-cell:/g%3A/Meine%20Ablage/UU/MR/Project/Multimedia-Retrieval/querying/querying.ipynb#Y104sZmlsZQ%3D%3D?line=5'>6</a>\u001b[0m     df[col] \u001b[39m=\u001b[39m df[col]\u001b[39m.\u001b[39;49mapply(\u001b[39mlambda\u001b[39;49;00m x: x \u001b[39m+\u001b[39;49m [\u001b[39mNone\u001b[39;49;00m] \u001b[39m*\u001b[39;49m (max_length \u001b[39m-\u001b[39;49m \u001b[39mlen\u001b[39;49m(x)))\n\u001b[0;32m      <a href='vscode-notebook-cell:/g%3A/Meine%20Ablage/UU/MR/Project/Multimedia-Retrieval/querying/querying.ipynb#Y104sZmlsZQ%3D%3D?line=7'>8</a>\u001b[0m \u001b[39m# Create new columns for each element in the lists\u001b[39;00m\n\u001b[0;32m      <a href='vscode-notebook-cell:/g%3A/Meine%20Ablage/UU/MR/Project/Multimedia-Retrieval/querying/querying.ipynb#Y104sZmlsZQ%3D%3D?line=8'>9</a>\u001b[0m \u001b[39mfor\u001b[39;00m i \u001b[39min\u001b[39;00m \u001b[39mrange\u001b[39m(max_length):\n",
      "File \u001b[1;32mc:\\Users\\marce\\anaconda3\\envs\\mrproject\\lib\\site-packages\\pandas\\core\\series.py:4630\u001b[0m, in \u001b[0;36mSeries.apply\u001b[1;34m(self, func, convert_dtype, args, **kwargs)\u001b[0m\n\u001b[0;32m   4520\u001b[0m \u001b[39mdef\u001b[39;00m \u001b[39mapply\u001b[39m(\n\u001b[0;32m   4521\u001b[0m     \u001b[39mself\u001b[39m,\n\u001b[0;32m   4522\u001b[0m     func: AggFuncType,\n\u001b[1;32m   (...)\u001b[0m\n\u001b[0;32m   4525\u001b[0m     \u001b[39m*\u001b[39m\u001b[39m*\u001b[39mkwargs,\n\u001b[0;32m   4526\u001b[0m ) \u001b[39m-\u001b[39m\u001b[39m>\u001b[39m DataFrame \u001b[39m|\u001b[39m Series:\n\u001b[0;32m   4527\u001b[0m \u001b[39m    \u001b[39m\u001b[39m\"\"\"\u001b[39;00m\n\u001b[0;32m   4528\u001b[0m \u001b[39m    Invoke function on values of Series.\u001b[39;00m\n\u001b[0;32m   4529\u001b[0m \n\u001b[1;32m   (...)\u001b[0m\n\u001b[0;32m   4628\u001b[0m \u001b[39m    dtype: float64\u001b[39;00m\n\u001b[0;32m   4629\u001b[0m \u001b[39m    \"\"\"\u001b[39;00m\n\u001b[1;32m-> 4630\u001b[0m     \u001b[39mreturn\u001b[39;00m SeriesApply(\u001b[39mself\u001b[39;49m, func, convert_dtype, args, kwargs)\u001b[39m.\u001b[39;49mapply()\n",
      "File \u001b[1;32mc:\\Users\\marce\\anaconda3\\envs\\mrproject\\lib\\site-packages\\pandas\\core\\apply.py:1025\u001b[0m, in \u001b[0;36mSeriesApply.apply\u001b[1;34m(self)\u001b[0m\n\u001b[0;32m   1022\u001b[0m     \u001b[39mreturn\u001b[39;00m \u001b[39mself\u001b[39m\u001b[39m.\u001b[39mapply_str()\n\u001b[0;32m   1024\u001b[0m \u001b[39m# self.f is Callable\u001b[39;00m\n\u001b[1;32m-> 1025\u001b[0m \u001b[39mreturn\u001b[39;00m \u001b[39mself\u001b[39;49m\u001b[39m.\u001b[39;49mapply_standard()\n",
      "File \u001b[1;32mc:\\Users\\marce\\anaconda3\\envs\\mrproject\\lib\\site-packages\\pandas\\core\\apply.py:1076\u001b[0m, in \u001b[0;36mSeriesApply.apply_standard\u001b[1;34m(self)\u001b[0m\n\u001b[0;32m   1074\u001b[0m     \u001b[39melse\u001b[39;00m:\n\u001b[0;32m   1075\u001b[0m         values \u001b[39m=\u001b[39m obj\u001b[39m.\u001b[39mastype(\u001b[39mobject\u001b[39m)\u001b[39m.\u001b[39m_values\n\u001b[1;32m-> 1076\u001b[0m         mapped \u001b[39m=\u001b[39m lib\u001b[39m.\u001b[39;49mmap_infer(\n\u001b[0;32m   1077\u001b[0m             values,\n\u001b[0;32m   1078\u001b[0m             f,\n\u001b[0;32m   1079\u001b[0m             convert\u001b[39m=\u001b[39;49m\u001b[39mself\u001b[39;49m\u001b[39m.\u001b[39;49mconvert_dtype,\n\u001b[0;32m   1080\u001b[0m         )\n\u001b[0;32m   1082\u001b[0m \u001b[39mif\u001b[39;00m \u001b[39mlen\u001b[39m(mapped) \u001b[39mand\u001b[39;00m \u001b[39misinstance\u001b[39m(mapped[\u001b[39m0\u001b[39m], ABCSeries):\n\u001b[0;32m   1083\u001b[0m     \u001b[39m# GH#43986 Need to do list(mapped) in order to get treated as nested\u001b[39;00m\n\u001b[0;32m   1084\u001b[0m     \u001b[39m#  See also GH#25959 regarding EA support\u001b[39;00m\n\u001b[0;32m   1085\u001b[0m     \u001b[39mreturn\u001b[39;00m obj\u001b[39m.\u001b[39m_constructor_expanddim(\u001b[39mlist\u001b[39m(mapped), index\u001b[39m=\u001b[39mobj\u001b[39m.\u001b[39mindex)\n",
      "File \u001b[1;32mc:\\Users\\marce\\anaconda3\\envs\\mrproject\\lib\\site-packages\\pandas\\_libs\\lib.pyx:2834\u001b[0m, in \u001b[0;36mpandas._libs.lib.map_infer\u001b[1;34m()\u001b[0m\n",
      "\u001b[1;32mg:\\Meine Ablage\\UU\\MR\\Project\\Multimedia-Retrieval\\querying\\querying.ipynb Cell 34\u001b[0m line \u001b[0;36m6\n\u001b[0;32m      <a href='vscode-notebook-cell:/g%3A/Meine%20Ablage/UU/MR/Project/Multimedia-Retrieval/querying/querying.ipynb#Y104sZmlsZQ%3D%3D?line=3'>4</a>\u001b[0m \u001b[39m# Expand lists to have the same length\u001b[39;00m\n\u001b[0;32m      <a href='vscode-notebook-cell:/g%3A/Meine%20Ablage/UU/MR/Project/Multimedia-Retrieval/querying/querying.ipynb#Y104sZmlsZQ%3D%3D?line=4'>5</a>\u001b[0m \u001b[39mfor\u001b[39;00m col \u001b[39min\u001b[39;00m df\u001b[39m.\u001b[39mcolumns:\n\u001b[1;32m----> <a href='vscode-notebook-cell:/g%3A/Meine%20Ablage/UU/MR/Project/Multimedia-Retrieval/querying/querying.ipynb#Y104sZmlsZQ%3D%3D?line=5'>6</a>\u001b[0m     df[col] \u001b[39m=\u001b[39m df[col]\u001b[39m.\u001b[39mapply(\u001b[39mlambda\u001b[39;00m x: x \u001b[39m+\u001b[39;49m [\u001b[39mNone\u001b[39;49;00m] \u001b[39m*\u001b[39;49m (max_length \u001b[39m-\u001b[39;49m \u001b[39mlen\u001b[39;49m(x)))\n\u001b[0;32m      <a href='vscode-notebook-cell:/g%3A/Meine%20Ablage/UU/MR/Project/Multimedia-Retrieval/querying/querying.ipynb#Y104sZmlsZQ%3D%3D?line=7'>8</a>\u001b[0m \u001b[39m# Create new columns for each element in the lists\u001b[39;00m\n\u001b[0;32m      <a href='vscode-notebook-cell:/g%3A/Meine%20Ablage/UU/MR/Project/Multimedia-Retrieval/querying/querying.ipynb#Y104sZmlsZQ%3D%3D?line=8'>9</a>\u001b[0m \u001b[39mfor\u001b[39;00m i \u001b[39min\u001b[39;00m \u001b[39mrange\u001b[39m(max_length):\n",
      "\u001b[1;31mTypeError\u001b[0m: can only concatenate str (not \"list\") to str"
     ]
    }
   ],
   "source": [
    "# Determine the maximum number of elements in any list\n",
    "max_length = 100#max(df.applymap(len).max())\n",
    "\n",
    "# Expand lists to have the same length\n",
    "for col in df.columns:\n",
    "    df[col] = df[col].apply(lambda x: x + [None] * (max_length - len(x)))\n",
    "\n",
    "# Create new columns for each element in the lists\n",
    "for i in range(max_length):\n",
    "    df[f\"A3_{i+1}\"] = df['A3'].apply(lambda x: x[i])\n",
    "    df[f\"D1_{i+1}\"] = df['D1'].apply(lambda x: x[i])\n",
    "    df[f\"D2_{i+1}\"] = df['D2'].apply(lambda x: x[i])\n",
    "    df[f\"D3_{i+1}\"] = df['D3'].apply(lambda x: x[i])\n",
    "    df[f\"D4_{i+1}\"] = df['D4'].apply(lambda x: x[i])\n",
    "\n",
    "# Drop the original columns with lists\n",
    "df = df.drop(columns=['A3', 'D1', 'D2', 'D3', 'D4'])"
   ]
  },
  {
   "cell_type": "code",
   "execution_count": 52,
   "metadata": {},
   "outputs": [],
   "source": [
    "#computes euclidean distance between 2 vectors\n",
    "def euclidean_distance(vector1, vector2):\n",
    "    euclidean = np.linalg.norm(np.asarray(vector1[2:9]) - np.asarray(vector2[2:9]))\n",
    "    return euclidean\n",
    "\n",
    "#computes cosine distance between 2 vectors\n",
    "def cosine_distance(vector1, vector2):\n",
    "    one_arr = np.asarray(vector1[2:9])\n",
    "    two_arr = np.asarray(vector2[2:9])\n",
    "    cosine = 1 - ((one_arr @ two_arr) / (np.linalg.norm(one_arr) * np.linalg.norm(two_arr)))\n",
    "    return cosine"
   ]
  },
  {
   "cell_type": "code",
   "execution_count": 125,
   "metadata": {},
   "outputs": [
    {
     "ename": "ValueError",
     "evalue": "all input arrays must have the same shape",
     "output_type": "error",
     "traceback": [
      "\u001b[1;31m---------------------------------------------------------------------------\u001b[0m",
      "\u001b[1;31mValueError\u001b[0m                                Traceback (most recent call last)",
      "\u001b[1;32mg:\\Meine Ablage\\UU\\MR\\Project\\Multimedia-Retrieval\\querying\\querying.ipynb Cell 43\u001b[0m line \u001b[0;36m5\n\u001b[0;32m      <a href='vscode-notebook-cell:/g%3A/Meine%20Ablage/UU/MR/Project/Multimedia-Retrieval/querying/querying.ipynb#X52sZmlsZQ%3D%3D?line=1'>2</a>\u001b[0m data \u001b[39m=\u001b[39m np\u001b[39m.\u001b[39marray([\u001b[39m1.0\u001b[39m,\u001b[39m2\u001b[39m,\u001b[39m3\u001b[39m,\u001b[39m4\u001b[39m,\u001b[39m5\u001b[39m,\u001b[39m6\u001b[39m,\u001b[39m7\u001b[39m])\n\u001b[0;32m      <a href='vscode-notebook-cell:/g%3A/Meine%20Ablage/UU/MR/Project/Multimedia-Retrieval/querying/querying.ipynb#X52sZmlsZQ%3D%3D?line=2'>3</a>\u001b[0m \u001b[39mfor\u001b[39;00m index, row \u001b[39min\u001b[39;00m df\u001b[39m.\u001b[39miterrows():\n\u001b[0;32m      <a href='vscode-notebook-cell:/g%3A/Meine%20Ablage/UU/MR/Project/Multimedia-Retrieval/querying/querying.ipynb#X52sZmlsZQ%3D%3D?line=3'>4</a>\u001b[0m     \u001b[39m# datarow = \u001b[39;00m\n\u001b[1;32m----> <a href='vscode-notebook-cell:/g%3A/Meine%20Ablage/UU/MR/Project/Multimedia-Retrieval/querying/querying.ipynb#X52sZmlsZQ%3D%3D?line=4'>5</a>\u001b[0m     data \u001b[39m=\u001b[39m np\u001b[39m.\u001b[39;49mstack((data,row[\u001b[39m2\u001b[39;49m:\u001b[39m9\u001b[39;49m]),axis\u001b[39m=\u001b[39;49m\u001b[39m0\u001b[39;49m)\n",
      "File \u001b[1;32m<__array_function__ internals>:200\u001b[0m, in \u001b[0;36mstack\u001b[1;34m(*args, **kwargs)\u001b[0m\n",
      "File \u001b[1;32mc:\\Users\\marce\\anaconda3\\envs\\mrproject\\lib\\site-packages\\numpy\\core\\shape_base.py:464\u001b[0m, in \u001b[0;36mstack\u001b[1;34m(arrays, axis, out, dtype, casting)\u001b[0m\n\u001b[0;32m    462\u001b[0m shapes \u001b[39m=\u001b[39m {arr\u001b[39m.\u001b[39mshape \u001b[39mfor\u001b[39;00m arr \u001b[39min\u001b[39;00m arrays}\n\u001b[0;32m    463\u001b[0m \u001b[39mif\u001b[39;00m \u001b[39mlen\u001b[39m(shapes) \u001b[39m!=\u001b[39m \u001b[39m1\u001b[39m:\n\u001b[1;32m--> 464\u001b[0m     \u001b[39mraise\u001b[39;00m \u001b[39mValueError\u001b[39;00m(\u001b[39m'\u001b[39m\u001b[39mall input arrays must have the same shape\u001b[39m\u001b[39m'\u001b[39m)\n\u001b[0;32m    466\u001b[0m result_ndim \u001b[39m=\u001b[39m arrays[\u001b[39m0\u001b[39m]\u001b[39m.\u001b[39mndim \u001b[39m+\u001b[39m \u001b[39m1\u001b[39m\n\u001b[0;32m    467\u001b[0m axis \u001b[39m=\u001b[39m normalize_axis_index(axis, result_ndim)\n",
      "\u001b[1;31mValueError\u001b[0m: all input arrays must have the same shape"
     ]
    }
   ],
   "source": [
    "data = np.array([])\n",
    "data = np.array([1.0,2,3,4,5,6,7])\n",
    "for index, row in df.iterrows():\n",
    "    # datarow = \n",
    "    data = np.stack((data,row[2:9]),axis=0)"
   ]
  },
  {
   "cell_type": "code",
   "execution_count": 109,
   "metadata": {},
   "outputs": [
    {
     "data": {
      "text/plain": [
       "(17325,)"
      ]
     },
     "execution_count": 109,
     "metadata": {},
     "output_type": "execute_result"
    }
   ],
   "source": [
    "data.shape"
   ]
  },
  {
   "cell_type": "code",
   "execution_count": 128,
   "metadata": {},
   "outputs": [
    {
     "data": {
      "text/plain": [
       "0       AircraftBuoyant\n",
       "1       AircraftBuoyant\n",
       "2       AircraftBuoyant\n",
       "3       AircraftBuoyant\n",
       "4       AircraftBuoyant\n",
       "             ...       \n",
       "2470         WheelChair\n",
       "2471         WheelChair\n",
       "2472         WheelChair\n",
       "2473         WheelChair\n",
       "2474         WheelChair\n",
       "Name: class, Length: 2475, dtype: object"
      ]
     },
     "execution_count": 128,
     "metadata": {},
     "output_type": "execute_result"
    }
   ],
   "source": [
    "\n",
    "df[\"class\"]"
   ]
  },
  {
   "cell_type": "code",
   "execution_count": 184,
   "metadata": {},
   "outputs": [],
   "source": [
    "npdata = df[df.columns[2:9]].to_numpy()"
   ]
  },
  {
   "cell_type": "code",
   "execution_count": 131,
   "metadata": {},
   "outputs": [
    {
     "data": {
      "text/plain": [
       "(2475, 7)"
      ]
     },
     "execution_count": 131,
     "metadata": {},
     "output_type": "execute_result"
    }
   ],
   "source": [
    "df[df.columns[2:9]].to_numpy().shape"
   ]
  },
  {
   "cell_type": "code",
   "execution_count": null,
   "metadata": {},
   "outputs": [],
   "source": [
    "npdata.hstack(npdata, df[df.columns[9]].to_numpy().flatten)"
   ]
  },
  {
   "cell_type": "code",
   "execution_count": 157,
   "metadata": {},
   "outputs": [
    {
     "data": {
      "text/plain": [
       "(100,)"
      ]
     },
     "execution_count": 157,
     "metadata": {},
     "output_type": "execute_result"
    }
   ],
   "source": [
    "df[df.columns[9]].to_numpy()[0].shape"
   ]
  },
  {
   "cell_type": "code",
   "execution_count": 173,
   "metadata": {},
   "outputs": [],
   "source": [
    "npcol = df[df.columns[9]].to_numpy()"
   ]
  },
  {
   "cell_type": "code",
   "execution_count": 174,
   "metadata": {},
   "outputs": [
    {
     "data": {
      "text/plain": [
       "(2475, 100)"
      ]
     },
     "execution_count": 174,
     "metadata": {},
     "output_type": "execute_result"
    }
   ],
   "source": [
    "np.array([a for a in npcol]).shape"
   ]
  },
  {
   "cell_type": "code",
   "execution_count": 180,
   "metadata": {},
   "outputs": [],
   "source": [
    "npdata = np.hstack((npdata,np.array([a for a in npcol])))"
   ]
  },
  {
   "cell_type": "code",
   "execution_count": 185,
   "metadata": {},
   "outputs": [],
   "source": [
    "\n",
    "for col in df.columns[9:]:\n",
    "    npcol = df[col].to_numpy()\n",
    "    npdata = np.hstack((npdata,np.array([a for a in npcol])))"
   ]
  },
  {
   "cell_type": "code",
   "execution_count": 285,
   "metadata": {},
   "outputs": [
    {
     "data": {
      "text/plain": [
       "(2475, 507)"
      ]
     },
     "execution_count": 285,
     "metadata": {},
     "output_type": "execute_result"
    }
   ],
   "source": [
    "npdata.shape"
   ]
  },
  {
   "cell_type": "code",
   "execution_count": 204,
   "metadata": {},
   "outputs": [
    {
     "data": {
      "text/plain": [
       "(2475,)"
      ]
     },
     "execution_count": 204,
     "metadata": {},
     "output_type": "execute_result"
    }
   ],
   "source": [
    "labels = df[\"class\"]\n",
    "labels.shape"
   ]
  },
  {
   "cell_type": "code",
   "execution_count": 233,
   "metadata": {},
   "outputs": [],
   "source": [
    "scalar_features = df[df.columns[2:9]].to_numpy()"
   ]
  },
  {
   "cell_type": "code",
   "execution_count": 306,
   "metadata": {},
   "outputs": [],
   "source": [
    "from sklearn.model_selection import train_test_split\n",
    "from sklearn.preprocessing import LabelEncoder\n",
    "from tensorflow.keras.utils import to_categorical\n",
    "\n",
    "# Assuming 'labels' is your string label array\n",
    "label_encoder = LabelEncoder()\n",
    "labels_encoded = label_encoder.fit_transform(labels)\n",
    "\n",
    "# Now, you can one-hot encode the integer labels\n",
    "labels_one_hot = to_categorical(labels_encoded)\n",
    "\n",
    "from sklearn.model_selection import train_test_split\n",
    "\n",
    "X_train, X_test, y_train, y_test = train_test_split(npdata, labels_one_hot, test_size=0.2, random_state=42)\n",
    "X_test, X_val, y_test, y_val = train_test_split(X_test, y_test, test_size=0.5, random_state=42)\n",
    "\n",
    "# X_train, X_test, y_train, y_test = train_test_split(scalar_features, labels_one_hot, test_size=0.2, random_state=42)\n",
    "# X_test, X_val, y_test, y_val = train_test_split(X_test, y_test, test_size=0.5, random_state=42)"
   ]
  },
  {
   "cell_type": "code",
   "execution_count": 307,
   "metadata": {},
   "outputs": [],
   "source": [
    "import tensorflow as tf\n"
   ]
  },
  {
   "cell_type": "code",
   "execution_count": 308,
   "metadata": {},
   "outputs": [
    {
     "data": {
      "text/plain": [
       "507"
      ]
     },
     "execution_count": 308,
     "metadata": {},
     "output_type": "execute_result"
    }
   ],
   "source": [
    "X_train.shape[1]"
   ]
  },
  {
   "cell_type": "code",
   "execution_count": 318,
   "metadata": {},
   "outputs": [],
   "source": [
    "model = tf.keras.Sequential([\n",
    "    tf.keras.layers.Dense(256, activation='relu', input_shape=(X_train.shape[1],)),\n",
    "    tf.keras.layers.Dense(512, activation='relu'),\n",
    "    tf.keras.layers.Dense(128, activation='relu'),\n",
    "    tf.keras.layers.Dense(y_train.shape[1], activation=\"softmax\")\n",
    "])\n"
   ]
  },
  {
   "cell_type": "code",
   "execution_count": 319,
   "metadata": {},
   "outputs": [],
   "source": [
    "model.compile(optimizer='adam', loss='binary_crossentropy', metrics=['accuracy'])\n"
   ]
  },
  {
   "cell_type": "code",
   "execution_count": 320,
   "metadata": {},
   "outputs": [
    {
     "data": {
      "text/plain": [
       "258065"
      ]
     },
     "execution_count": 320,
     "metadata": {},
     "output_type": "execute_result"
    }
   ],
   "source": [
    "np.argmax(X_train)"
   ]
  },
  {
   "cell_type": "code",
   "execution_count": 321,
   "metadata": {},
   "outputs": [
    {
     "name": "stdout",
     "output_type": "stream",
     "text": [
      "Epoch 1/60\n",
      "42/42 [==============================] - 3s 20ms/step - loss: 0.2487 - accuracy: 0.0237 - val_loss: 0.0885 - val_accuracy: 0.0242\n",
      "Epoch 2/60\n",
      "42/42 [==============================] - 0s 7ms/step - loss: 0.0776 - accuracy: 0.0561 - val_loss: 0.0764 - val_accuracy: 0.0363\n",
      "Epoch 3/60\n",
      "42/42 [==============================] - 0s 7ms/step - loss: 0.0725 - accuracy: 0.0828 - val_loss: 0.0729 - val_accuracy: 0.0565\n",
      "Epoch 4/60\n",
      "42/42 [==============================] - 0s 7ms/step - loss: 0.0693 - accuracy: 0.1086 - val_loss: 0.0693 - val_accuracy: 0.0927\n",
      "Epoch 5/60\n",
      "42/42 [==============================] - 0s 7ms/step - loss: 0.0662 - accuracy: 0.1258 - val_loss: 0.0669 - val_accuracy: 0.1048\n",
      "Epoch 6/60\n",
      "42/42 [==============================] - 0s 10ms/step - loss: 0.0634 - accuracy: 0.1697 - val_loss: 0.0641 - val_accuracy: 0.1250\n",
      "Epoch 7/60\n",
      "42/42 [==============================] - 0s 7ms/step - loss: 0.0613 - accuracy: 0.1737 - val_loss: 0.0630 - val_accuracy: 0.1411\n",
      "Epoch 8/60\n",
      "42/42 [==============================] - 0s 7ms/step - loss: 0.0592 - accuracy: 0.1975 - val_loss: 0.0611 - val_accuracy: 0.1250\n",
      "Epoch 9/60\n",
      "42/42 [==============================] - 0s 7ms/step - loss: 0.0576 - accuracy: 0.2202 - val_loss: 0.0595 - val_accuracy: 0.1935\n",
      "Epoch 10/60\n",
      "42/42 [==============================] - 0s 7ms/step - loss: 0.0565 - accuracy: 0.2369 - val_loss: 0.0582 - val_accuracy: 0.2218\n",
      "Epoch 11/60\n",
      "42/42 [==============================] - 0s 7ms/step - loss: 0.0549 - accuracy: 0.2465 - val_loss: 0.0579 - val_accuracy: 0.1935\n",
      "Epoch 12/60\n",
      "42/42 [==============================] - 0s 7ms/step - loss: 0.0536 - accuracy: 0.2768 - val_loss: 0.0564 - val_accuracy: 0.2016\n",
      "Epoch 13/60\n",
      "42/42 [==============================] - 0s 7ms/step - loss: 0.0527 - accuracy: 0.2843 - val_loss: 0.0571 - val_accuracy: 0.2298\n",
      "Epoch 14/60\n",
      "42/42 [==============================] - 0s 7ms/step - loss: 0.0512 - accuracy: 0.3030 - val_loss: 0.0544 - val_accuracy: 0.2621\n",
      "Epoch 15/60\n",
      "42/42 [==============================] - 0s 7ms/step - loss: 0.0501 - accuracy: 0.3182 - val_loss: 0.0542 - val_accuracy: 0.2500\n",
      "Epoch 16/60\n",
      "42/42 [==============================] - 0s 7ms/step - loss: 0.0493 - accuracy: 0.3172 - val_loss: 0.0535 - val_accuracy: 0.2581\n",
      "Epoch 17/60\n",
      "42/42 [==============================] - 0s 7ms/step - loss: 0.0482 - accuracy: 0.3389 - val_loss: 0.0528 - val_accuracy: 0.2782\n",
      "Epoch 18/60\n",
      "42/42 [==============================] - 0s 7ms/step - loss: 0.0476 - accuracy: 0.3364 - val_loss: 0.0529 - val_accuracy: 0.2661\n",
      "Epoch 19/60\n",
      "42/42 [==============================] - 0s 7ms/step - loss: 0.0471 - accuracy: 0.3480 - val_loss: 0.0516 - val_accuracy: 0.2984\n",
      "Epoch 20/60\n",
      "42/42 [==============================] - 0s 7ms/step - loss: 0.0459 - accuracy: 0.3631 - val_loss: 0.0514 - val_accuracy: 0.2823\n",
      "Epoch 21/60\n",
      "42/42 [==============================] - 0s 7ms/step - loss: 0.0451 - accuracy: 0.3712 - val_loss: 0.0506 - val_accuracy: 0.2823\n",
      "Epoch 22/60\n",
      "42/42 [==============================] - 0s 10ms/step - loss: 0.0443 - accuracy: 0.3859 - val_loss: 0.0497 - val_accuracy: 0.3105\n",
      "Epoch 23/60\n",
      "42/42 [==============================] - 0s 7ms/step - loss: 0.0440 - accuracy: 0.3975 - val_loss: 0.0501 - val_accuracy: 0.2903\n",
      "Epoch 24/60\n",
      "42/42 [==============================] - 0s 7ms/step - loss: 0.0433 - accuracy: 0.4101 - val_loss: 0.0493 - val_accuracy: 0.3387\n",
      "Epoch 25/60\n",
      "42/42 [==============================] - 0s 7ms/step - loss: 0.0429 - accuracy: 0.4157 - val_loss: 0.0506 - val_accuracy: 0.2903\n",
      "Epoch 26/60\n",
      "42/42 [==============================] - 0s 7ms/step - loss: 0.0422 - accuracy: 0.4162 - val_loss: 0.0489 - val_accuracy: 0.3589\n",
      "Epoch 27/60\n",
      "42/42 [==============================] - 0s 7ms/step - loss: 0.0414 - accuracy: 0.4389 - val_loss: 0.0495 - val_accuracy: 0.3105\n",
      "Epoch 28/60\n",
      "42/42 [==============================] - 0s 7ms/step - loss: 0.0409 - accuracy: 0.4389 - val_loss: 0.0499 - val_accuracy: 0.3266\n",
      "Epoch 29/60\n",
      "42/42 [==============================] - 0s 7ms/step - loss: 0.0403 - accuracy: 0.4556 - val_loss: 0.0493 - val_accuracy: 0.3226\n",
      "Epoch 30/60\n",
      "42/42 [==============================] - 0s 7ms/step - loss: 0.0397 - accuracy: 0.4571 - val_loss: 0.0499 - val_accuracy: 0.3024\n",
      "Epoch 31/60\n",
      "42/42 [==============================] - 0s 7ms/step - loss: 0.0395 - accuracy: 0.4591 - val_loss: 0.0487 - val_accuracy: 0.3669\n",
      "Epoch 32/60\n",
      "42/42 [==============================] - 0s 7ms/step - loss: 0.0388 - accuracy: 0.4667 - val_loss: 0.0477 - val_accuracy: 0.3508\n",
      "Epoch 33/60\n",
      "42/42 [==============================] - 0s 10ms/step - loss: 0.0383 - accuracy: 0.4747 - val_loss: 0.0486 - val_accuracy: 0.3427\n",
      "Epoch 34/60\n",
      "42/42 [==============================] - 0s 7ms/step - loss: 0.0379 - accuracy: 0.4955 - val_loss: 0.0500 - val_accuracy: 0.3266\n",
      "Epoch 35/60\n",
      "42/42 [==============================] - 0s 7ms/step - loss: 0.0372 - accuracy: 0.5025 - val_loss: 0.0473 - val_accuracy: 0.3629\n",
      "Epoch 36/60\n",
      "42/42 [==============================] - 0s 7ms/step - loss: 0.0370 - accuracy: 0.5111 - val_loss: 0.0477 - val_accuracy: 0.3427\n",
      "Epoch 37/60\n",
      "42/42 [==============================] - 0s 7ms/step - loss: 0.0365 - accuracy: 0.5000 - val_loss: 0.0474 - val_accuracy: 0.3548\n",
      "Epoch 38/60\n",
      "42/42 [==============================] - 0s 7ms/step - loss: 0.0358 - accuracy: 0.5106 - val_loss: 0.0480 - val_accuracy: 0.3226\n",
      "Epoch 39/60\n",
      "42/42 [==============================] - 0s 7ms/step - loss: 0.0353 - accuracy: 0.5263 - val_loss: 0.0473 - val_accuracy: 0.3548\n",
      "Epoch 40/60\n",
      "42/42 [==============================] - 0s 7ms/step - loss: 0.0350 - accuracy: 0.5374 - val_loss: 0.0474 - val_accuracy: 0.3790\n",
      "Epoch 41/60\n",
      "42/42 [==============================] - 0s 7ms/step - loss: 0.0345 - accuracy: 0.5409 - val_loss: 0.0475 - val_accuracy: 0.3790\n",
      "Epoch 42/60\n",
      "42/42 [==============================] - 0s 7ms/step - loss: 0.0343 - accuracy: 0.5470 - val_loss: 0.0467 - val_accuracy: 0.3710\n",
      "Epoch 43/60\n",
      "42/42 [==============================] - 0s 10ms/step - loss: 0.0340 - accuracy: 0.5495 - val_loss: 0.0474 - val_accuracy: 0.4032\n",
      "Epoch 44/60\n",
      "42/42 [==============================] - 0s 7ms/step - loss: 0.0337 - accuracy: 0.5687 - val_loss: 0.0469 - val_accuracy: 0.3750\n",
      "Epoch 45/60\n",
      "42/42 [==============================] - 0s 7ms/step - loss: 0.0330 - accuracy: 0.5646 - val_loss: 0.0478 - val_accuracy: 0.3710\n",
      "Epoch 46/60\n",
      "42/42 [==============================] - 0s 7ms/step - loss: 0.0331 - accuracy: 0.5540 - val_loss: 0.0468 - val_accuracy: 0.3911\n",
      "Epoch 47/60\n",
      "42/42 [==============================] - 0s 7ms/step - loss: 0.0327 - accuracy: 0.5586 - val_loss: 0.0471 - val_accuracy: 0.3790\n",
      "Epoch 48/60\n",
      "42/42 [==============================] - 0s 7ms/step - loss: 0.0324 - accuracy: 0.5682 - val_loss: 0.0468 - val_accuracy: 0.3992\n",
      "Epoch 49/60\n",
      "42/42 [==============================] - 0s 7ms/step - loss: 0.0321 - accuracy: 0.5778 - val_loss: 0.0472 - val_accuracy: 0.3710\n",
      "Epoch 50/60\n",
      "42/42 [==============================] - 0s 7ms/step - loss: 0.0316 - accuracy: 0.5960 - val_loss: 0.0465 - val_accuracy: 0.3871\n",
      "Epoch 51/60\n",
      "42/42 [==============================] - 0s 8ms/step - loss: 0.0311 - accuracy: 0.5919 - val_loss: 0.0459 - val_accuracy: 0.4073\n",
      "Epoch 52/60\n",
      "42/42 [==============================] - 0s 7ms/step - loss: 0.0311 - accuracy: 0.5990 - val_loss: 0.0455 - val_accuracy: 0.3831\n",
      "Epoch 53/60\n",
      "42/42 [==============================] - 0s 8ms/step - loss: 0.0304 - accuracy: 0.6096 - val_loss: 0.0459 - val_accuracy: 0.3548\n",
      "Epoch 54/60\n",
      "42/42 [==============================] - 0s 7ms/step - loss: 0.0302 - accuracy: 0.6051 - val_loss: 0.0470 - val_accuracy: 0.3911\n",
      "Epoch 55/60\n",
      "42/42 [==============================] - 0s 7ms/step - loss: 0.0297 - accuracy: 0.6247 - val_loss: 0.0445 - val_accuracy: 0.4274\n",
      "Epoch 56/60\n",
      "42/42 [==============================] - 0s 7ms/step - loss: 0.0293 - accuracy: 0.6258 - val_loss: 0.0477 - val_accuracy: 0.3911\n",
      "Epoch 57/60\n",
      "42/42 [==============================] - 0s 7ms/step - loss: 0.0299 - accuracy: 0.6152 - val_loss: 0.0465 - val_accuracy: 0.3952\n",
      "Epoch 58/60\n",
      "42/42 [==============================] - 0s 12ms/step - loss: 0.0291 - accuracy: 0.6273 - val_loss: 0.0457 - val_accuracy: 0.3992\n",
      "Epoch 59/60\n",
      "42/42 [==============================] - 0s 8ms/step - loss: 0.0284 - accuracy: 0.6455 - val_loss: 0.0465 - val_accuracy: 0.4153\n",
      "Epoch 60/60\n",
      "42/42 [==============================] - 0s 7ms/step - loss: 0.0281 - accuracy: 0.6500 - val_loss: 0.0487 - val_accuracy: 0.3629\n"
     ]
    }
   ],
   "source": [
    "history = model.fit(X_train, y_train, epochs=60, batch_size=48, validation_data=(X_val, y_val))\n"
   ]
  },
  {
   "cell_type": "code",
   "execution_count": 298,
   "metadata": {},
   "outputs": [
    {
     "name": "stdout",
     "output_type": "stream",
     "text": [
      "8/8 [==============================] - 0s 3ms/step - loss: 0.0482 - accuracy: 0.5263\n"
     ]
    },
    {
     "data": {
      "text/plain": [
       "[0.048181045800447464, 0.5263158082962036]"
      ]
     },
     "execution_count": 298,
     "metadata": {},
     "output_type": "execute_result"
    }
   ],
   "source": [
    "model.evaluate(X_test,y_test)"
   ]
  },
  {
   "cell_type": "code",
   "execution_count": 302,
   "metadata": {},
   "outputs": [
    {
     "name": "stdout",
     "output_type": "stream",
     "text": [
      "Epoch 1/90\n",
      "42/42 [==============================] - 2s 18ms/step - loss: 0.2648 - accuracy: 0.0263 - val_loss: 0.0883 - val_accuracy: 0.1012\n",
      "Epoch 2/90\n",
      "42/42 [==============================] - 0s 7ms/step - loss: 0.0854 - accuracy: 0.0687 - val_loss: 0.0794 - val_accuracy: 0.1498\n",
      "Epoch 3/90\n",
      "42/42 [==============================] - 0s 11ms/step - loss: 0.0769 - accuracy: 0.0975 - val_loss: 0.0733 - val_accuracy: 0.1619\n",
      "Epoch 4/90\n",
      "42/42 [==============================] - 0s 7ms/step - loss: 0.0707 - accuracy: 0.1313 - val_loss: 0.0685 - val_accuracy: 0.1943\n",
      "Epoch 5/90\n",
      "42/42 [==============================] - 0s 7ms/step - loss: 0.0663 - accuracy: 0.1631 - val_loss: 0.0645 - val_accuracy: 0.1984\n",
      "Epoch 6/90\n",
      "42/42 [==============================] - 0s 7ms/step - loss: 0.0634 - accuracy: 0.1586 - val_loss: 0.0627 - val_accuracy: 0.1619\n",
      "Epoch 7/90\n",
      "42/42 [==============================] - 0s 7ms/step - loss: 0.0609 - accuracy: 0.1753 - val_loss: 0.0609 - val_accuracy: 0.2227\n",
      "Epoch 8/90\n",
      "42/42 [==============================] - 0s 8ms/step - loss: 0.0593 - accuracy: 0.1899 - val_loss: 0.0600 - val_accuracy: 0.2105\n",
      "Epoch 9/90\n",
      "42/42 [==============================] - 0s 7ms/step - loss: 0.0579 - accuracy: 0.2167 - val_loss: 0.0586 - val_accuracy: 0.2186\n",
      "Epoch 10/90\n",
      "42/42 [==============================] - 0s 7ms/step - loss: 0.0567 - accuracy: 0.2131 - val_loss: 0.0576 - val_accuracy: 0.2348\n",
      "Epoch 11/90\n",
      "42/42 [==============================] - 0s 7ms/step - loss: 0.0561 - accuracy: 0.2152 - val_loss: 0.0583 - val_accuracy: 0.2227\n",
      "Epoch 12/90\n",
      "42/42 [==============================] - 0s 7ms/step - loss: 0.0554 - accuracy: 0.2308 - val_loss: 0.0570 - val_accuracy: 0.2389\n",
      "Epoch 13/90\n",
      "42/42 [==============================] - 0s 10ms/step - loss: 0.0545 - accuracy: 0.2343 - val_loss: 0.0564 - val_accuracy: 0.2308\n",
      "Epoch 14/90\n",
      "42/42 [==============================] - 0s 11ms/step - loss: 0.0542 - accuracy: 0.2333 - val_loss: 0.0567 - val_accuracy: 0.2591\n",
      "Epoch 15/90\n",
      "42/42 [==============================] - 0s 7ms/step - loss: 0.0532 - accuracy: 0.2495 - val_loss: 0.0560 - val_accuracy: 0.2470\n",
      "Epoch 16/90\n",
      "42/42 [==============================] - 0s 6ms/step - loss: 0.0529 - accuracy: 0.2626 - val_loss: 0.0547 - val_accuracy: 0.2672\n",
      "Epoch 17/90\n",
      "42/42 [==============================] - 0s 7ms/step - loss: 0.0524 - accuracy: 0.2697 - val_loss: 0.0561 - val_accuracy: 0.2348\n",
      "Epoch 18/90\n",
      "42/42 [==============================] - 0s 7ms/step - loss: 0.0520 - accuracy: 0.2641 - val_loss: 0.0541 - val_accuracy: 0.3239\n",
      "Epoch 19/90\n",
      "42/42 [==============================] - 0s 7ms/step - loss: 0.0515 - accuracy: 0.2707 - val_loss: 0.0548 - val_accuracy: 0.2753\n",
      "Epoch 20/90\n",
      "42/42 [==============================] - 0s 7ms/step - loss: 0.0510 - accuracy: 0.2763 - val_loss: 0.0543 - val_accuracy: 0.2672\n",
      "Epoch 21/90\n",
      "42/42 [==============================] - 0s 7ms/step - loss: 0.0508 - accuracy: 0.2783 - val_loss: 0.0536 - val_accuracy: 0.2834\n",
      "Epoch 22/90\n",
      "42/42 [==============================] - 0s 10ms/step - loss: 0.0504 - accuracy: 0.2808 - val_loss: 0.0540 - val_accuracy: 0.2510\n",
      "Epoch 23/90\n",
      "42/42 [==============================] - 0s 7ms/step - loss: 0.0499 - accuracy: 0.2899 - val_loss: 0.0537 - val_accuracy: 0.2794\n",
      "Epoch 24/90\n",
      "42/42 [==============================] - 0s 7ms/step - loss: 0.0494 - accuracy: 0.3045 - val_loss: 0.0529 - val_accuracy: 0.2794\n",
      "Epoch 25/90\n",
      "42/42 [==============================] - 0s 7ms/step - loss: 0.0491 - accuracy: 0.3020 - val_loss: 0.0527 - val_accuracy: 0.3158\n",
      "Epoch 26/90\n",
      "42/42 [==============================] - 0s 7ms/step - loss: 0.0486 - accuracy: 0.3207 - val_loss: 0.0527 - val_accuracy: 0.2996\n",
      "Epoch 27/90\n",
      "42/42 [==============================] - 0s 7ms/step - loss: 0.0483 - accuracy: 0.3308 - val_loss: 0.0523 - val_accuracy: 0.3036\n",
      "Epoch 28/90\n",
      "42/42 [==============================] - 0s 7ms/step - loss: 0.0481 - accuracy: 0.3152 - val_loss: 0.0511 - val_accuracy: 0.3360\n",
      "Epoch 29/90\n",
      "42/42 [==============================] - 0s 7ms/step - loss: 0.0473 - accuracy: 0.3172 - val_loss: 0.0523 - val_accuracy: 0.3117\n",
      "Epoch 30/90\n",
      "42/42 [==============================] - 0s 7ms/step - loss: 0.0471 - accuracy: 0.3258 - val_loss: 0.0520 - val_accuracy: 0.2915\n",
      "Epoch 31/90\n",
      "42/42 [==============================] - 0s 7ms/step - loss: 0.0468 - accuracy: 0.3429 - val_loss: 0.0520 - val_accuracy: 0.2955\n",
      "Epoch 32/90\n",
      "42/42 [==============================] - 0s 7ms/step - loss: 0.0464 - accuracy: 0.3409 - val_loss: 0.0514 - val_accuracy: 0.2551\n",
      "Epoch 33/90\n",
      "42/42 [==============================] - 0s 10ms/step - loss: 0.0462 - accuracy: 0.3323 - val_loss: 0.0510 - val_accuracy: 0.3036\n",
      "Epoch 34/90\n",
      "42/42 [==============================] - 0s 7ms/step - loss: 0.0458 - accuracy: 0.3530 - val_loss: 0.0518 - val_accuracy: 0.2996\n",
      "Epoch 35/90\n",
      "42/42 [==============================] - 0s 7ms/step - loss: 0.0455 - accuracy: 0.3424 - val_loss: 0.0515 - val_accuracy: 0.3117\n",
      "Epoch 36/90\n",
      "42/42 [==============================] - 0s 7ms/step - loss: 0.0451 - accuracy: 0.3652 - val_loss: 0.0520 - val_accuracy: 0.2915\n",
      "Epoch 37/90\n",
      "42/42 [==============================] - 0s 7ms/step - loss: 0.0451 - accuracy: 0.3631 - val_loss: 0.0508 - val_accuracy: 0.3239\n",
      "Epoch 38/90\n",
      "42/42 [==============================] - 0s 6ms/step - loss: 0.0446 - accuracy: 0.3667 - val_loss: 0.0516 - val_accuracy: 0.3117\n",
      "Epoch 39/90\n",
      "42/42 [==============================] - 0s 7ms/step - loss: 0.0445 - accuracy: 0.3667 - val_loss: 0.0506 - val_accuracy: 0.3158\n",
      "Epoch 40/90\n",
      "42/42 [==============================] - 0s 7ms/step - loss: 0.0441 - accuracy: 0.3672 - val_loss: 0.0503 - val_accuracy: 0.3158\n",
      "Epoch 41/90\n",
      "42/42 [==============================] - 0s 7ms/step - loss: 0.0438 - accuracy: 0.3773 - val_loss: 0.0511 - val_accuracy: 0.3239\n",
      "Epoch 42/90\n",
      "42/42 [==============================] - 0s 9ms/step - loss: 0.0438 - accuracy: 0.3753 - val_loss: 0.0505 - val_accuracy: 0.3036\n",
      "Epoch 43/90\n",
      "42/42 [==============================] - 0s 7ms/step - loss: 0.0435 - accuracy: 0.3838 - val_loss: 0.0512 - val_accuracy: 0.3239\n",
      "Epoch 44/90\n",
      "42/42 [==============================] - 0s 7ms/step - loss: 0.0432 - accuracy: 0.3869 - val_loss: 0.0502 - val_accuracy: 0.3360\n",
      "Epoch 45/90\n",
      "42/42 [==============================] - 0s 7ms/step - loss: 0.0428 - accuracy: 0.3909 - val_loss: 0.0522 - val_accuracy: 0.3279\n",
      "Epoch 46/90\n",
      "42/42 [==============================] - 0s 6ms/step - loss: 0.0428 - accuracy: 0.3924 - val_loss: 0.0510 - val_accuracy: 0.3401\n",
      "Epoch 47/90\n",
      "42/42 [==============================] - 0s 7ms/step - loss: 0.0425 - accuracy: 0.4051 - val_loss: 0.0503 - val_accuracy: 0.3441\n",
      "Epoch 48/90\n",
      "42/42 [==============================] - 0s 7ms/step - loss: 0.0423 - accuracy: 0.4051 - val_loss: 0.0514 - val_accuracy: 0.3279\n",
      "Epoch 49/90\n",
      "42/42 [==============================] - 0s 6ms/step - loss: 0.0423 - accuracy: 0.4066 - val_loss: 0.0509 - val_accuracy: 0.3441\n",
      "Epoch 50/90\n",
      "42/42 [==============================] - 0s 7ms/step - loss: 0.0416 - accuracy: 0.4146 - val_loss: 0.0510 - val_accuracy: 0.3441\n",
      "Epoch 51/90\n",
      "42/42 [==============================] - 0s 6ms/step - loss: 0.0415 - accuracy: 0.4020 - val_loss: 0.0504 - val_accuracy: 0.3563\n",
      "Epoch 52/90\n",
      "42/42 [==============================] - 0s 10ms/step - loss: 0.0412 - accuracy: 0.4116 - val_loss: 0.0506 - val_accuracy: 0.3522\n",
      "Epoch 53/90\n",
      "42/42 [==============================] - 0s 7ms/step - loss: 0.0409 - accuracy: 0.4268 - val_loss: 0.0512 - val_accuracy: 0.3320\n",
      "Epoch 54/90\n",
      "42/42 [==============================] - 0s 6ms/step - loss: 0.0408 - accuracy: 0.4293 - val_loss: 0.0504 - val_accuracy: 0.3644\n",
      "Epoch 55/90\n",
      "42/42 [==============================] - 0s 7ms/step - loss: 0.0404 - accuracy: 0.4263 - val_loss: 0.0518 - val_accuracy: 0.3360\n",
      "Epoch 56/90\n",
      "42/42 [==============================] - 0s 6ms/step - loss: 0.0402 - accuracy: 0.4253 - val_loss: 0.0520 - val_accuracy: 0.3360\n",
      "Epoch 57/90\n",
      "42/42 [==============================] - 0s 7ms/step - loss: 0.0398 - accuracy: 0.4449 - val_loss: 0.0511 - val_accuracy: 0.3644\n",
      "Epoch 58/90\n",
      "42/42 [==============================] - 0s 7ms/step - loss: 0.0398 - accuracy: 0.4455 - val_loss: 0.0513 - val_accuracy: 0.3806\n",
      "Epoch 59/90\n",
      "42/42 [==============================] - 0s 7ms/step - loss: 0.0398 - accuracy: 0.4313 - val_loss: 0.0509 - val_accuracy: 0.3765\n",
      "Epoch 60/90\n",
      "42/42 [==============================] - 0s 6ms/step - loss: 0.0394 - accuracy: 0.4384 - val_loss: 0.0506 - val_accuracy: 0.3482\n",
      "Epoch 61/90\n",
      "42/42 [==============================] - 0s 7ms/step - loss: 0.0391 - accuracy: 0.4616 - val_loss: 0.0515 - val_accuracy: 0.3360\n",
      "Epoch 62/90\n",
      "42/42 [==============================] - 0s 10ms/step - loss: 0.0392 - accuracy: 0.4379 - val_loss: 0.0508 - val_accuracy: 0.3644\n",
      "Epoch 63/90\n",
      "42/42 [==============================] - 0s 7ms/step - loss: 0.0390 - accuracy: 0.4485 - val_loss: 0.0514 - val_accuracy: 0.3522\n",
      "Epoch 64/90\n",
      "42/42 [==============================] - 0s 6ms/step - loss: 0.0388 - accuracy: 0.4581 - val_loss: 0.0520 - val_accuracy: 0.3684\n",
      "Epoch 65/90\n",
      "42/42 [==============================] - 0s 7ms/step - loss: 0.0381 - accuracy: 0.4697 - val_loss: 0.0521 - val_accuracy: 0.3765\n",
      "Epoch 66/90\n",
      "42/42 [==============================] - 0s 7ms/step - loss: 0.0381 - accuracy: 0.4712 - val_loss: 0.0518 - val_accuracy: 0.3644\n",
      "Epoch 67/90\n",
      "42/42 [==============================] - 0s 6ms/step - loss: 0.0382 - accuracy: 0.4737 - val_loss: 0.0519 - val_accuracy: 0.3603\n",
      "Epoch 68/90\n",
      "42/42 [==============================] - 0s 7ms/step - loss: 0.0379 - accuracy: 0.4692 - val_loss: 0.0512 - val_accuracy: 0.3765\n",
      "Epoch 69/90\n",
      "42/42 [==============================] - 0s 7ms/step - loss: 0.0377 - accuracy: 0.4854 - val_loss: 0.0519 - val_accuracy: 0.3725\n",
      "Epoch 70/90\n",
      "42/42 [==============================] - 0s 7ms/step - loss: 0.0371 - accuracy: 0.4848 - val_loss: 0.0518 - val_accuracy: 0.3927\n",
      "Epoch 71/90\n",
      "42/42 [==============================] - 0s 10ms/step - loss: 0.0373 - accuracy: 0.4732 - val_loss: 0.0515 - val_accuracy: 0.3968\n",
      "Epoch 72/90\n",
      "42/42 [==============================] - 0s 7ms/step - loss: 0.0368 - accuracy: 0.4864 - val_loss: 0.0531 - val_accuracy: 0.3441\n",
      "Epoch 73/90\n",
      "42/42 [==============================] - 0s 7ms/step - loss: 0.0369 - accuracy: 0.4894 - val_loss: 0.0522 - val_accuracy: 0.3846\n",
      "Epoch 74/90\n",
      "42/42 [==============================] - 0s 7ms/step - loss: 0.0369 - accuracy: 0.4763 - val_loss: 0.0509 - val_accuracy: 0.4008\n",
      "Epoch 75/90\n",
      "42/42 [==============================] - 0s 7ms/step - loss: 0.0366 - accuracy: 0.4818 - val_loss: 0.0524 - val_accuracy: 0.3765\n",
      "Epoch 76/90\n",
      "42/42 [==============================] - 0s 7ms/step - loss: 0.0365 - accuracy: 0.4838 - val_loss: 0.0520 - val_accuracy: 0.3968\n",
      "Epoch 77/90\n",
      "42/42 [==============================] - 0s 7ms/step - loss: 0.0359 - accuracy: 0.4949 - val_loss: 0.0530 - val_accuracy: 0.3806\n",
      "Epoch 78/90\n",
      "42/42 [==============================] - 0s 7ms/step - loss: 0.0355 - accuracy: 0.5081 - val_loss: 0.0514 - val_accuracy: 0.4251\n",
      "Epoch 79/90\n",
      "42/42 [==============================] - 0s 7ms/step - loss: 0.0354 - accuracy: 0.5167 - val_loss: 0.0535 - val_accuracy: 0.3887\n",
      "Epoch 80/90\n",
      "42/42 [==============================] - 0s 9ms/step - loss: 0.0354 - accuracy: 0.5051 - val_loss: 0.0525 - val_accuracy: 0.3765\n",
      "Epoch 81/90\n",
      "42/42 [==============================] - 0s 6ms/step - loss: 0.0349 - accuracy: 0.5035 - val_loss: 0.0529 - val_accuracy: 0.4130\n",
      "Epoch 82/90\n",
      "42/42 [==============================] - 0s 7ms/step - loss: 0.0350 - accuracy: 0.5136 - val_loss: 0.0533 - val_accuracy: 0.3968\n",
      "Epoch 83/90\n",
      "42/42 [==============================] - 0s 7ms/step - loss: 0.0348 - accuracy: 0.5177 - val_loss: 0.0525 - val_accuracy: 0.4130\n",
      "Epoch 84/90\n",
      "42/42 [==============================] - 0s 7ms/step - loss: 0.0349 - accuracy: 0.5116 - val_loss: 0.0528 - val_accuracy: 0.3684\n",
      "Epoch 85/90\n",
      "42/42 [==============================] - 0s 7ms/step - loss: 0.0343 - accuracy: 0.5232 - val_loss: 0.0531 - val_accuracy: 0.4130\n",
      "Epoch 86/90\n",
      "42/42 [==============================] - 0s 6ms/step - loss: 0.0343 - accuracy: 0.5237 - val_loss: 0.0533 - val_accuracy: 0.3927\n",
      "Epoch 87/90\n",
      "42/42 [==============================] - 0s 7ms/step - loss: 0.0345 - accuracy: 0.5172 - val_loss: 0.0564 - val_accuracy: 0.3846\n",
      "Epoch 88/90\n",
      "42/42 [==============================] - 0s 7ms/step - loss: 0.0344 - accuracy: 0.5157 - val_loss: 0.0546 - val_accuracy: 0.3806\n",
      "Epoch 89/90\n",
      "42/42 [==============================] - 0s 9ms/step - loss: 0.0337 - accuracy: 0.5409 - val_loss: 0.0537 - val_accuracy: 0.3927\n",
      "Epoch 90/90\n",
      "42/42 [==============================] - 0s 7ms/step - loss: 0.0336 - accuracy: 0.5348 - val_loss: 0.0537 - val_accuracy: 0.4170\n"
     ]
    }
   ],
   "source": [
    "history = model.fit(X_train, y_train, epochs=90, batch_size=48, validation_data=(X_test, y_test))\n"
   ]
  },
  {
   "cell_type": "code",
   "execution_count": 303,
   "metadata": {},
   "outputs": [
    {
     "name": "stdout",
     "output_type": "stream",
     "text": [
      "8/8 [==============================] - 0s 16ms/step - loss: 0.0537 - accuracy: 0.4170\n"
     ]
    },
    {
     "data": {
      "text/plain": [
       "[0.05372247099876404, 0.4170040488243103]"
      ]
     },
     "execution_count": 303,
     "metadata": {},
     "output_type": "execute_result"
    }
   ],
   "source": [
    "model.evaluate(X_test,y_test)"
   ]
  },
  {
   "cell_type": "code",
   "execution_count": 327,
   "metadata": {},
   "outputs": [
    {
     "name": "stdout",
     "output_type": "stream",
     "text": [
      "1/1 [==============================] - 0s 180ms/step\n"
     ]
    },
    {
     "data": {
      "text/plain": [
       "array([[6.0881739e-05, 4.3477281e-04, 2.2154581e-02, 4.7904081e-12,\n",
       "        3.2821693e-16, 3.6386155e-11, 1.4119927e-04, 2.4687927e-06,\n",
       "        2.6710299e-05, 1.6515616e-02, 2.6358837e-05, 1.0057652e-03,\n",
       "        2.7855140e-01, 6.1845974e-05, 1.2478083e-06, 1.4544706e-10,\n",
       "        1.9738731e-09, 2.6238002e-05, 9.9166853e-10, 2.8255085e-08,\n",
       "        3.5686286e-03, 1.0884575e-03, 1.3306445e-06, 3.4942225e-04,\n",
       "        5.0180535e-07, 2.5484384e-10, 1.9093989e-04, 1.6568938e-02,\n",
       "        1.7639359e-02, 6.4821370e-09, 1.8718160e-06, 1.8253517e-05,\n",
       "        2.0747775e-07, 4.0796649e-01, 1.6899501e-04, 6.3728926e-06,\n",
       "        1.0762562e-01, 1.1452646e-05, 3.5945442e-07, 4.3839838e-09,\n",
       "        2.2869667e-08, 4.8971437e-14, 2.9637561e-09, 1.2207456e-04,\n",
       "        1.3900997e-09, 1.2865679e-07, 5.1810851e-08, 1.9817989e-09,\n",
       "        2.4666749e-02, 1.4335315e-09, 5.7258783e-04, 1.4539042e-11,\n",
       "        1.7628191e-10, 1.4385607e-03, 2.6540773e-04, 6.8807121e-06,\n",
       "        7.6398783e-07, 9.2081139e-03, 2.0491474e-03, 3.3928535e-07,\n",
       "        8.3087653e-02, 9.1535971e-05, 2.2978576e-05, 6.5589002e-06,\n",
       "        5.2945080e-07, 1.2937542e-04, 4.1141212e-03, 4.8314970e-09,\n",
       "        3.9569496e-14]], dtype=float32)"
      ]
     },
     "execution_count": 327,
     "metadata": {},
     "output_type": "execute_result"
    }
   ],
   "source": [
    "model.predict(np.expand_dims(X_test[1],axis=0))"
   ]
  },
  {
   "cell_type": "code",
   "execution_count": 218,
   "metadata": {},
   "outputs": [
    {
     "data": {
      "text/plain": [
       "<tf.Tensor: shape=(256,), dtype=float32, numpy=\n",
       "array([ 0.08613849,  0.07744049,  0.07180903,  0.02806914,  0.10114263,\n",
       "       -0.02230318, -0.1398607 ,  0.05064769,  0.00559836,  0.00803112,\n",
       "       -0.08017083,  0.02782259,  0.09622506,  0.18158902,  0.01804393,\n",
       "       -0.06855448, -0.01076055,  0.00230659, -0.04053889, -0.10038995,\n",
       "       -0.03882802, -0.04569347, -0.1651528 , -0.11293713,  0.03648277,\n",
       "       -0.11257657, -0.05594034,  0.03915012, -0.07056753, -0.07857022,\n",
       "       -0.0224992 , -0.05083421, -0.09854107, -0.18424377, -0.01433188,\n",
       "       -0.08216736,  0.12628052,  0.07744896,  0.020603  ,  0.04129937,\n",
       "        0.02011634,  0.07948047, -0.09051403,  0.11207553, -0.04068328,\n",
       "       -0.03597231,  0.11256795,  0.08580583, -0.0542618 , -0.00412015,\n",
       "       -0.09311806,  0.08624953,  0.03870631,  0.03619569, -0.03944309,\n",
       "        0.09944654,  0.11194292,  0.08082122,  0.00340634, -0.07702353,\n",
       "        0.06261089,  0.00846741, -0.08012781, -0.01725913,  0.0533587 ,\n",
       "       -0.03188667, -0.08033274,  0.05418707, -0.01193202, -0.05897284,\n",
       "       -0.11484607, -0.16609624,  0.04150359, -0.02937494,  0.01340928,\n",
       "        0.06067426, -0.12887296,  0.01915815, -0.12283912, -0.00157092,\n",
       "        0.03555099,  0.00741185,  0.1422844 ,  0.03672604, -0.10222878,\n",
       "        0.10118818,  0.02191972, -0.0077527 , -0.09907749,  0.05211245,\n",
       "        0.08164081, -0.02787835, -0.02081177,  0.01788536, -0.06656156,\n",
       "       -0.00270131, -0.01582355,  0.01788512, -0.01717927, -0.07935911,\n",
       "       -0.1239737 ,  0.04631796,  0.05142505,  0.01362674,  0.11914768,\n",
       "       -0.10800762, -0.03441012, -0.06157118,  0.12337774,  0.00705852,\n",
       "       -0.02235931, -0.10686482,  0.02715787,  0.00972759, -0.00179616,\n",
       "        0.07505427, -0.00727245, -0.03676108,  0.0709279 ,  0.0733401 ,\n",
       "        0.05165858,  0.02477095, -0.09813046,  0.04969653, -0.074968  ,\n",
       "       -0.1594764 ,  0.06599625,  0.0032573 , -0.09408049,  0.10467426,\n",
       "        0.00870743,  0.00332583,  0.02613781,  0.03485845,  0.08540054,\n",
       "        0.00749468,  0.0130014 , -0.16912773,  0.00492269,  0.00810743,\n",
       "        0.04977509,  0.09627809, -0.00561167,  0.05249846, -0.07733779,\n",
       "        0.05610469, -0.06879974,  0.01224879,  0.00197693,  0.05787467,\n",
       "        0.04233049,  0.03067519,  0.02745736,  0.03904607,  0.00310092,\n",
       "       -0.12173984, -0.03202027,  0.04551374,  0.13039252,  0.0509795 ,\n",
       "        0.03196696, -0.05153665, -0.04176263,  0.04306567,  0.00946341,\n",
       "       -0.20848075,  0.02472284, -0.02045052, -0.05414592,  0.10542086,\n",
       "       -0.02804449, -0.06140793,  0.09827307, -0.05634282, -0.06299978,\n",
       "       -0.08715086, -0.03968847, -0.00056769,  0.00127307,  0.0786465 ,\n",
       "        0.00130357,  0.081676  ,  0.02791444,  0.01325938,  0.03418495,\n",
       "        0.02272409,  0.06045479,  0.08642156,  0.03606037,  0.03046476,\n",
       "       -0.09171122, -0.07786872, -0.04328071,  0.11716508, -0.01818361,\n",
       "       -0.04262557,  0.08467906,  0.17886621, -0.03835298, -0.038753  ,\n",
       "        0.04601632,  0.133903  , -0.03176571,  0.06094499,  0.01514432,\n",
       "        0.06604591,  0.07492676,  0.03002688,  0.06381761,  0.0588822 ,\n",
       "        0.07588425,  0.06776007,  0.0537977 , -0.09703869,  0.0059265 ,\n",
       "       -0.04734341, -0.03472339, -0.00712202,  0.02378835,  0.12558722,\n",
       "       -0.07139488,  0.0079493 , -0.07416962, -0.05536791, -0.03824148,\n",
       "       -0.00695016, -0.14121282,  0.01392973, -0.10517702,  0.05429366,\n",
       "       -0.01073307,  0.1114383 , -0.02921082,  0.04334421,  0.09552972,\n",
       "       -0.17295225,  0.10933483,  0.06201027,  0.09748501, -0.11617327,\n",
       "       -0.02019527, -0.06408066, -0.01973971, -0.05373363, -0.06684912,\n",
       "       -0.04413573,  0.10164168, -0.02100729, -0.02418817, -0.08761963,\n",
       "        0.03937623, -0.02631541,  0.03941151,  0.04816713,  0.00744215,\n",
       "        0.0858153 ], dtype=float32)>"
      ]
     },
     "execution_count": 218,
     "metadata": {},
     "output_type": "execute_result"
    }
   ],
   "source": [
    "model.weights[0][0]"
   ]
  },
  {
   "cell_type": "code",
   "execution_count": 328,
   "metadata": {},
   "outputs": [
    {
     "name": "stdout",
     "output_type": "stream",
     "text": [
      "Model: \"sequential_14\"\n",
      "_________________________________________________________________\n",
      " Layer (type)                Output Shape              Param #   \n",
      "=================================================================\n",
      " dense_55 (Dense)            (None, 256)               130048    \n",
      "                                                                 \n",
      " dense_56 (Dense)            (None, 512)               131584    \n",
      "                                                                 \n",
      " dense_57 (Dense)            (None, 128)               65664     \n",
      "                                                                 \n",
      " dense_58 (Dense)            (None, 69)                8901      \n",
      "                                                                 \n",
      "=================================================================\n",
      "Total params: 336,197\n",
      "Trainable params: 336,197\n",
      "Non-trainable params: 0\n",
      "_________________________________________________________________\n"
     ]
    }
   ],
   "source": [
    "model.summary()"
   ]
  }
 ],
 "metadata": {
  "kernelspec": {
   "display_name": "mrproject",
   "language": "python",
   "name": "python3"
  },
  "language_info": {
   "codemirror_mode": {
    "name": "ipython",
    "version": 3
   },
   "file_extension": ".py",
   "mimetype": "text/x-python",
   "name": "python",
   "nbconvert_exporter": "python",
   "pygments_lexer": "ipython3",
   "version": "3.8.0"
  }
 },
 "nbformat": 4,
 "nbformat_minor": 2
}
