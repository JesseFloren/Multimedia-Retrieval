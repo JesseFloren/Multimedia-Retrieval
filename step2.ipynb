{
 "cells": [
  {
   "cell_type": "code",
   "execution_count": 1,
   "metadata": {},
   "outputs": [
    {
     "name": "stdout",
     "output_type": "stream",
     "text": [
      "Jupyter environment detected. Enabling Open3D WebVisualizer.\n",
      "[Open3D INFO] WebRTC GUI backend enabled.\n",
      "[Open3D INFO] WebRTCWindowSystem: HTTP handshake server disabled.\n"
     ]
    }
   ],
   "source": [
    "import open3d as o3d\n",
    "import numpy as np\n",
    "import os\n",
    "import glob\n",
    "import pandas as pd\n"
   ]
  },
  {
   "cell_type": "code",
   "execution_count": null,
   "metadata": {},
   "outputs": [],
   "source": [
    "def o3d_to_pml(mesh):\n",
    "    mesh.save_current_mesh(\"temp.obj\")\n",
    "    mesh_pml.load_new_mesh(\"temp.obj\")\n",
    "    os.remove(\"temp.obj\")\n",
    "    return mesh_pml"
   ]
  },
  {
   "cell_type": "code",
   "execution_count": null,
   "metadata": {},
   "outputs": [],
   "source": [
    "def pml_to_o3d(mesh):\n",
    "    o3d.io.write_triangle_mesh(\"temp.obj\", mesh)\n",
    "    mesh_o3d = o3d.io.read_triangle_mesh(\"temp.obj\")\n",
    "    os.remove(\"temp.obj\")\n",
    "    return mesh_o3d"
   ]
  },
  {
   "cell_type": "markdown",
   "metadata": {},
   "source": [
    "Start building a simple tool that checks all shapes in the database. The tool should output, for each shape\n",
    "\n",
    "-   the class of the shape\n",
    "-   the number of faces and vertices of the shape\n",
    "-   the type of faces (e.g. only triangles, only quads, mixes of triangles and quads)\n",
    "-   the axis-aligned 3D bounding box of the shapes"
   ]
  },
  {
   "cell_type": "code",
   "execution_count": 2,
   "metadata": {},
   "outputs": [],
   "source": [
    "def viz_mesh(obj_file_path, vis_option = \"wireframe_on_shaded\"):   \n",
    "        \n",
    "        if isinstance(obj_file_path, str):\n",
    "            mesh = o3d.io.read_triangle_mesh(obj_file_path)\n",
    "        else:\n",
    "             mesh = obj_file_path\n",
    "        mesh.compute_vertex_normals() \n",
    "        if vis_option == \"smoothshade\":\n",
    "            o3d.visualization.draw_geometries([mesh], width=1280, height=720)\n",
    "        elif vis_option == \"wireframe_on_shaded\":\n",
    "            o3d.visualization.draw_geometries([mesh], width=1280, height=720, mesh_show_wireframe=True)\n",
    "        elif vis_option == \"wireframe\":\n",
    "            # We first need to obtain a lineset of the wireframe if we don't want to render the mesh itself\n",
    "            wireframe = o3d.geometry.LineSet.create_from_triangle_mesh(mesh) \n",
    "            o3d.visualization.draw_geometries([wireframe], width=1280, height=720)\n",
    "        elif vis_option == \"world_axes\":\n",
    "            # Display the mesh including a world axis system.\n",
    "\n",
    "            # Create the endpoints of each line. Each line is unit-length.\n",
    "            # For the world axes, the origin is shared by all lines. So we have 4 endpoints in total\n",
    "            line_endpoints = [\n",
    "                [0, 0, 0],\n",
    "                [1, 0, 0],\n",
    "                [0, 1, 0],\n",
    "                [0, 0, 1]\n",
    "            ]\n",
    "\n",
    "            # List of indices into the 'line_endpoints' list, which describes which endpoints form which line\n",
    "            line_indices = [[0, 1], [0, 2], [0, 3]]\n",
    "\n",
    "            # Create a line set from the endpoints and indices\n",
    "            world_axes = o3d.geometry.LineSet(\n",
    "                points=o3d.utility.Vector3dVector(line_endpoints),\n",
    "                lines=o3d.utility.Vector2iVector(line_indices),\n",
    "            )\n",
    "\n",
    "            # Render the line set and the mesh\n",
    "            o3d.visualization.draw_geometries([mesh, world_axes], width=1280, height=720)\n",
    "        elif vis_option == \"black_background\":\n",
    "            # Create visualizer\n",
    "            vis = o3d.visualization.Visualizer()\n",
    "            vis.create_window()\n",
    "            vis.add_geometry(mesh)\n",
    "\n",
    "            # Set render options (e.g. background color)\n",
    "            opt = vis.get_render_option()\n",
    "            opt.background_color = np.asarray([0, 0, 0])\n",
    "\n",
    "            # Run the visualizer\n",
    "            vis.run()\n",
    "            vis.destroy_window()\n"
   ]
  },
  {
   "cell_type": "code",
   "execution_count": 52,
   "metadata": {},
   "outputs": [],
   "source": [
    "def scale_unitcube(mesh):\n",
    "    \"\"\"\n",
    "    Scale mesh to fit in a unit-sized cube.\n",
    "    \"\"\"\n",
    "    center = mesh.get_center()\n",
    "\n",
    "    #test is mesh is centered at origin\n",
    "    if center[0] > 0.001 or center[1] > 0.001 or center[2] > 0.001:\n",
    "        raise ValueError(\n",
    "            f'Mesh must be centered at origin'\n",
    "        )\n",
    "    factor = 1 / max(mesh.get_max_bound() - mesh.get_min_bound())\n",
    "    mesh.scale(factor, center)\n",
    "    return mesh"
   ]
  },
  {
   "cell_type": "code",
   "execution_count": 3,
   "metadata": {},
   "outputs": [],
   "source": [
    "# dbpath = r\"./database/\"\n",
    "# mesh_path = dbpath + r\"Sign/m1675.obj\"\n",
    "\n",
    "# mesh_data = []\n",
    "\n",
    "# for class_folder in os.listdir(dbpath):\n",
    "#     # Construct the full path to the subfolder\n",
    "#     class_folder_path = os.path.join(dbpath, class_folder)\n",
    "    \n",
    "#     # Check if the item in the directory is a directory (to skip files)\n",
    "#     if os.path.isdir(class_folder_path):\n",
    "#         # Assuming the class folder name is the class name\n",
    "#         class_name = class_folder\n",
    "        \n",
    "#         # Iterate through .obj files in the subfolder\n",
    "#         for obj_file_path in glob.glob(os.path.join(class_folder_path, '*.obj')):\n",
    "#             # Read the .obj file using tripy\n",
    "#             mesh = o3d.io.read_triangle_mesh(obj_file_path)\n",
    "#             filename = obj_file_path.split(\"\\\\\")[-1]\n",
    "#             vertices = np.asarray(mesh.vertices)\n",
    "#             triangles = np.asarray(mesh.triangles)\n",
    "#             filepath = class_folder_path\n",
    "#             mesh_data.append([class_name, filename, len(vertices), len(triangles), obj_file_path])\n",
    "\n",
    "#             # print(f\"Class: {class_name}, Vertices: {len(vertices)}, Triangles: {len(triangles)}\")\n",
    "# df = pd.DataFrame(mesh_data, columns=[\"Class\", \"Filename\", \"Vertices\", \"Triangles\", \"Filepath\"])\n",
    "# print(df)\n",
    "# import pickle\n",
    "# df.to_pickle(\"dataframe.pkl\")"
   ]
  },
  {
   "cell_type": "code",
   "execution_count": 4,
   "metadata": {},
   "outputs": [],
   "source": [
    "df = pd.read_pickle(\"dataframe.pkl\")\n"
   ]
  },
  {
   "cell_type": "markdown",
   "metadata": {},
   "source": [
    "Min, Max and average Number of triangles and Vertices over the entire dataset"
   ]
  },
  {
   "cell_type": "code",
   "execution_count": 5,
   "metadata": {},
   "outputs": [
    {
     "data": {
      "text/plain": [
       "('Min. Vertices:',\n",
       " 16,\n",
       " 'Max. Vertices:',\n",
       " 73440,\n",
       " 'Avg. Vertices',\n",
       " 5025.5453080950465)"
      ]
     },
     "execution_count": 5,
     "metadata": {},
     "output_type": "execute_result"
    }
   ],
   "source": [
    "\"Min. Vertices:\", df[\"Vertices\"].min(), \"Max. Vertices:\", df[\"Vertices\"].max(), \"Avg. Vertices\", df[\"Vertices\"].mean()"
   ]
  },
  {
   "cell_type": "code",
   "execution_count": 6,
   "metadata": {},
   "outputs": [
    {
     "data": {
      "text/plain": [
       "('Min. Triangles:',\n",
       " 16,\n",
       " 'Max. Triangles:',\n",
       " 129881,\n",
       " 'Avg. Triangles',\n",
       " 10691.52597664116)"
      ]
     },
     "execution_count": 6,
     "metadata": {},
     "output_type": "execute_result"
    }
   ],
   "source": [
    "\"Min. Triangles:\", df[\"Triangles\"].min(), \"Max. Triangles:\", df[\"Triangles\"].max(), \"Avg. Triangles\", df[\"Triangles\"].mean()"
   ]
  },
  {
   "cell_type": "markdown",
   "metadata": {},
   "source": [
    "### The type of faces (e.g. only triangles, only quads, mixes of triangles and quads)"
   ]
  },
  {
   "cell_type": "code",
   "execution_count": 7,
   "metadata": {},
   "outputs": [],
   "source": [
    "# dbpath = r\"./database/\"\n",
    "# mesh_path = dbpath + r\"Sign/m1675.obj\"\n",
    "\n",
    "# mesh_data = []\n",
    "\n",
    "# for class_folder in os.listdir(dbpath):\n",
    "#     # Construct the full path to the subfolder\n",
    "#     class_folder_path = os.path.join(dbpath, class_folder)\n",
    "    \n",
    "#     # Check if the item in the directory is a directory (to skip files)\n",
    "#     if os.path.isdir(class_folder_path):\n",
    "#         # Assuming the class folder name is the class name\n",
    "#         class_name = class_folder\n",
    "        \n",
    "#         # Iterate through .obj files in the subfolder\n",
    "#         for obj_file_path in glob.glob(os.path.join(class_folder_path, '*.obj')):\n",
    "#             # Read the .obj file using tripy\n",
    "#             # mesh = o3d.io.read_triangle_mesh(obj_file_path)\n",
    "#             with open(obj_file_path, 'r') as file:\n",
    "#             # Iterate through each line in the file\n",
    "#                 for line in file:\n",
    "#                     # Check if the line starts with 'f' (case-sensitive)\n",
    "#                     if line.startswith('f'):\n",
    "#                         if len(line.split(\" \"))!= 4:\n",
    "#                             print(len(line.split(\" \")))\n",
    "\n",
    "#             # print(f\"Class: {class_name}, Vertices: {len(vertices)}, Triangles: {len(triangles)}\")"
   ]
  },
  {
   "cell_type": "markdown",
   "metadata": {},
   "source": [
    "Only shapes of 3, otherwise it would have printed out something"
   ]
  },
  {
   "cell_type": "markdown",
   "metadata": {},
   "source": [
    "### Axis-aligned bouding box"
   ]
  },
  {
   "cell_type": "code",
   "execution_count": 10,
   "metadata": {},
   "outputs": [],
   "source": [
    "dbpath = r\"./database/\"\n",
    "\n",
    "mesh_path = dbpath + r\"Sign/m1675.obj\"\n",
    "mesh = o3d.io.read_triangle_mesh(mesh_path)\n",
    "mesh.compute_vertex_normals()\n",
    "aabb = mesh.get_axis_aligned_bounding_box()\n",
    "\n",
    "\n",
    "# Get the minimum and maximum coordinates of the AABB\n",
    "min_coords = aabb.get_min_bound()\n",
    "max_coords = aabb.get_max_bound()\n",
    "\n",
    "# Define the eight corners of the AABB\n",
    "vertices = [\n",
    "    min_coords,\n",
    "    [max_coords[0], min_coords[1], min_coords[2]],\n",
    "    [max_coords[0], max_coords[1], min_coords[2]],\n",
    "    [min_coords[0], max_coords[1], min_coords[2]],\n",
    "    [min_coords[0], min_coords[1], max_coords[2]],\n",
    "    [max_coords[0], min_coords[1], max_coords[2]],\n",
    "    max_coords,\n",
    "    [min_coords[0], max_coords[1], max_coords[2]]\n",
    "]\n",
    "\n",
    "# Define the edges of the AABB\n",
    "lines = [\n",
    "    [0, 1],\n",
    "    [1, 2],\n",
    "    [2, 3],\n",
    "    [3, 0],\n",
    "    [4, 5],\n",
    "    [5, 6],\n",
    "    [6, 7],\n",
    "    [7, 4],\n",
    "    [0, 4],\n",
    "    [1, 5],\n",
    "    [2, 6],\n",
    "    [3, 7]\n",
    "]\n",
    "\n",
    "# Create a LineSet to visualize the AABB\n",
    "aabb_line_set = o3d.geometry.LineSet()\n",
    "aabb_line_set.points = o3d.utility.Vector3dVector(vertices)\n",
    "aabb_line_set.lines = o3d.utility.Vector2iVector(lines)\n",
    "\n",
    "# Customize the bounding box appearance\n",
    "line_set_color = np.array([1.0, 0.0, 0.0])  # Red color (R, G, B)\n",
    "line_set_line_width = 5.0  # Adjust line width as needed\n",
    "\n",
    "# Set the line set's color and line width\n",
    "aabb_line_set.paint_uniform_color(line_set_color)\n",
    "# aabb_line_set.line_width = line_set_line_width\n",
    "\n",
    "# Visualize the object and its AABB\n",
    "o3d.visualization.draw_geometries([mesh, aabb_line_set])"
   ]
  },
  {
   "cell_type": "markdown",
   "metadata": {},
   "source": [
    "### Histogram"
   ]
  },
  {
   "cell_type": "code",
   "execution_count": 11,
   "metadata": {},
   "outputs": [
    {
     "data": {
      "image/png": "[encoded data removed]",
      "text/plain": [
       "<Figure size 640x480 with 1 Axes>"
      ]
     },
     "metadata": {},
     "output_type": "display_data"
    }
   ],
   "source": [
    "import matplotlib.pyplot  as plt\n",
    "# Create a histogram\n",
    "plt.hist(df[df['Vertices'] < 2000]['Vertices'], bins=100, edgecolor='k')  # Adjust the number of bins as needed\n",
    "plt.xlabel('Vertices')\n",
    "plt.ylabel('Frequency')\n",
    "plt.title('Histogram of Vertices')\n",
    "plt.grid(True)\n",
    "\n",
    "# Display the histogram\n",
    "plt.show()"
   ]
  },
  {
   "cell_type": "code",
   "execution_count": 12,
   "metadata": {},
   "outputs": [
    {
     "data": {
      "image/png": "[encoded data removed]",
      "text/plain": [
       "<Figure size 640x480 with 1 Axes>"
      ]
     },
     "metadata": {},
     "output_type": "display_data"
    }
   ],
   "source": [
    "import matplotlib.pyplot  as plt\n",
    "# Create a histogram\n",
    "plt.hist(df['Vertices'], bins=100, edgecolor='k')  # Adjust the number of bins as needed\n",
    "plt.xlabel('Vertices')\n",
    "plt.ylabel('Frequency')\n",
    "plt.title('Histogram of Vertices')\n",
    "plt.grid(True)\n",
    "\n",
    "# Display the histogram\n",
    "plt.show()"
   ]
  },
  {
   "cell_type": "code",
   "execution_count": 13,
   "metadata": {},
   "outputs": [
    {
     "data": {
      "image/png": "[encoded data removed]",
      "text/plain": [
       "<Figure size 640x480 with 1 Axes>"
      ]
     },
     "metadata": {},
     "output_type": "display_data"
    }
   ],
   "source": [
    "# Create a histogram\n",
    "plt.hist(df[\"Triangles\"], bins=100, edgecolor='k')  # Adjust the number of bins as needed\n",
    "plt.xlabel('Triangles')\n",
    "plt.ylabel('Frequency')\n",
    "plt.title('Histogram of Triangles')\n",
    "plt.grid(True)\n",
    "\n",
    "# Display the histogram\n",
    "plt.show()"
   ]
  },
  {
   "cell_type": "code",
   "execution_count": 14,
   "metadata": {},
   "outputs": [
    {
     "data": {
      "image/png": "[encoded data removed]",
      "text/plain": [
       "<Figure size 640x480 with 1 Axes>"
      ]
     },
     "metadata": {},
     "output_type": "display_data"
    }
   ],
   "source": [
    "import matplotlib.pyplot  as plt\n",
    "# Create a histogram\n",
    "plt.hist(df[df['Triangles'] < 2000][\"Triangles\"], bins=100, edgecolor='k')  # Adjust the number of bins as needed\n",
    "plt.xlabel('Triangles')\n",
    "plt.ylabel('Frequency')\n",
    "plt.title('Histogram of Triangles')\n",
    "plt.grid(True)\n",
    "\n",
    "# Display the histogram\n",
    "plt.show()"
   ]
  },
  {
   "cell_type": "markdown",
   "metadata": {},
   "source": [
    "### Outliers"
   ]
  },
  {
   "cell_type": "code",
   "execution_count": 10,
   "metadata": {},
   "outputs": [
    {
     "data": {
      "text/html": [
       "<div>\n",
       "<style scoped>\n",
       "    .dataframe tbody tr th:only-of-type {\n",
       "        vertical-align: middle;\n",
       "    }\n",
       "\n",
       "    .dataframe tbody tr th {\n",
       "        vertical-align: top;\n",
       "    }\n",
       "\n",
       "    .dataframe thead th {\n",
       "        text-align: right;\n",
       "    }\n",
       "</style>\n",
       "<table border=\"1\" class=\"dataframe\">\n",
       "  <thead>\n",
       "    <tr style=\"text-align: right;\">\n",
       "      <th></th>\n",
       "      <th>Class</th>\n",
       "      <th>Filename</th>\n",
       "      <th>Vertices</th>\n",
       "      <th>Triangles</th>\n",
       "      <th>Filepath</th>\n",
       "    </tr>\n",
       "  </thead>\n",
       "  <tbody>\n",
       "    <tr>\n",
       "      <th>100</th>\n",
       "      <td>Bicycle</td>\n",
       "      <td>D00462.obj</td>\n",
       "      <td>56754</td>\n",
       "      <td>111471</td>\n",
       "      <td>./database/Bicycle\\D00462.obj</td>\n",
       "    </tr>\n",
       "    <tr>\n",
       "      <th>143</th>\n",
       "      <td>Biplane</td>\n",
       "      <td>m1120.obj</td>\n",
       "      <td>65722</td>\n",
       "      <td>129881</td>\n",
       "      <td>./database/Biplane\\m1120.obj</td>\n",
       "    </tr>\n",
       "    <tr>\n",
       "      <th>366</th>\n",
       "      <td>Car</td>\n",
       "      <td>m1510.obj</td>\n",
       "      <td>54710</td>\n",
       "      <td>109357</td>\n",
       "      <td>./database/Car\\m1510.obj</td>\n",
       "    </tr>\n",
       "    <tr>\n",
       "      <th>396</th>\n",
       "      <td>Car</td>\n",
       "      <td>m1544.obj</td>\n",
       "      <td>60326</td>\n",
       "      <td>116378</td>\n",
       "      <td>./database/Car\\m1544.obj</td>\n",
       "    </tr>\n",
       "    <tr>\n",
       "      <th>457</th>\n",
       "      <td>Chess</td>\n",
       "      <td>m1595.obj</td>\n",
       "      <td>60667</td>\n",
       "      <td>121343</td>\n",
       "      <td>./database/Chess\\m1595.obj</td>\n",
       "    </tr>\n",
       "    <tr>\n",
       "      <th>944</th>\n",
       "      <td>Helicopter</td>\n",
       "      <td>m1308.obj</td>\n",
       "      <td>58392</td>\n",
       "      <td>116773</td>\n",
       "      <td>./database/Helicopter\\m1308.obj</td>\n",
       "    </tr>\n",
       "    <tr>\n",
       "      <th>1705</th>\n",
       "      <td>PlantIndoors</td>\n",
       "      <td>D00080.obj</td>\n",
       "      <td>64126</td>\n",
       "      <td>34887</td>\n",
       "      <td>./database/PlantIndoors\\D00080.obj</td>\n",
       "    </tr>\n",
       "    <tr>\n",
       "      <th>1791</th>\n",
       "      <td>PlantWildNonTree</td>\n",
       "      <td>m985.obj</td>\n",
       "      <td>50833</td>\n",
       "      <td>88945</td>\n",
       "      <td>./database/PlantWildNonTree\\m985.obj</td>\n",
       "    </tr>\n",
       "    <tr>\n",
       "      <th>2095</th>\n",
       "      <td>Skyscraper</td>\n",
       "      <td>D00058.obj</td>\n",
       "      <td>73440</td>\n",
       "      <td>53448</td>\n",
       "      <td>./database/Skyscraper\\D00058.obj</td>\n",
       "    </tr>\n",
       "    <tr>\n",
       "      <th>2103</th>\n",
       "      <td>Skyscraper</td>\n",
       "      <td>D00520.obj</td>\n",
       "      <td>51626</td>\n",
       "      <td>52041</td>\n",
       "      <td>./database/Skyscraper\\D00520.obj</td>\n",
       "    </tr>\n",
       "    <tr>\n",
       "      <th>2315</th>\n",
       "      <td>Tree</td>\n",
       "      <td>D00223.obj</td>\n",
       "      <td>58763</td>\n",
       "      <td>54644</td>\n",
       "      <td>./database/Tree\\D00223.obj</td>\n",
       "    </tr>\n",
       "    <tr>\n",
       "      <th>2329</th>\n",
       "      <td>Tree</td>\n",
       "      <td>D00834.obj</td>\n",
       "      <td>52078</td>\n",
       "      <td>73042</td>\n",
       "      <td>./database/Tree\\D00834.obj</td>\n",
       "    </tr>\n",
       "  </tbody>\n",
       "</table>\n",
       "</div>"
      ],
      "text/plain": [
       "                 Class    Filename  Vertices  Triangles  \\\n",
       "100            Bicycle  D00462.obj     56754     111471   \n",
       "143            Biplane   m1120.obj     65722     129881   \n",
       "366                Car   m1510.obj     54710     109357   \n",
       "396                Car   m1544.obj     60326     116378   \n",
       "457              Chess   m1595.obj     60667     121343   \n",
       "944         Helicopter   m1308.obj     58392     116773   \n",
       "1705      PlantIndoors  D00080.obj     64126      34887   \n",
       "1791  PlantWildNonTree    m985.obj     50833      88945   \n",
       "2095        Skyscraper  D00058.obj     73440      53448   \n",
       "2103        Skyscraper  D00520.obj     51626      52041   \n",
       "2315              Tree  D00223.obj     58763      54644   \n",
       "2329              Tree  D00834.obj     52078      73042   \n",
       "\n",
       "                                  Filepath  \n",
       "100          ./database/Bicycle\\D00462.obj  \n",
       "143           ./database/Biplane\\m1120.obj  \n",
       "366               ./database/Car\\m1510.obj  \n",
       "396               ./database/Car\\m1544.obj  \n",
       "457             ./database/Chess\\m1595.obj  \n",
       "944        ./database/Helicopter\\m1308.obj  \n",
       "1705    ./database/PlantIndoors\\D00080.obj  \n",
       "1791  ./database/PlantWildNonTree\\m985.obj  \n",
       "2095      ./database/Skyscraper\\D00058.obj  \n",
       "2103      ./database/Skyscraper\\D00520.obj  \n",
       "2315            ./database/Tree\\D00223.obj  \n",
       "2329            ./database/Tree\\D00834.obj  "
      ]
     },
     "execution_count": 10,
     "metadata": {},
     "output_type": "execute_result"
    }
   ],
   "source": [
    "highVertexDf = df[df['Vertices'] > 50000]\n",
    "highVertexDf"
   ]
  },
  {
   "cell_type": "code",
   "execution_count": 11,
   "metadata": {},
   "outputs": [
    {
     "data": {
      "text/html": [
       "<div>\n",
       "<style scoped>\n",
       "    .dataframe tbody tr th:only-of-type {\n",
       "        vertical-align: middle;\n",
       "    }\n",
       "\n",
       "    .dataframe tbody tr th {\n",
       "        vertical-align: top;\n",
       "    }\n",
       "\n",
       "    .dataframe thead th {\n",
       "        text-align: right;\n",
       "    }\n",
       "</style>\n",
       "<table border=\"1\" class=\"dataframe\">\n",
       "  <thead>\n",
       "    <tr style=\"text-align: right;\">\n",
       "      <th></th>\n",
       "      <th>Class</th>\n",
       "      <th>Filename</th>\n",
       "      <th>Vertices</th>\n",
       "      <th>Triangles</th>\n",
       "      <th>Filepath</th>\n",
       "    </tr>\n",
       "  </thead>\n",
       "  <tbody>\n",
       "    <tr>\n",
       "      <th>100</th>\n",
       "      <td>Bicycle</td>\n",
       "      <td>D00462.obj</td>\n",
       "      <td>56754</td>\n",
       "      <td>111471</td>\n",
       "      <td>./database/Bicycle\\D00462.obj</td>\n",
       "    </tr>\n",
       "    <tr>\n",
       "      <th>143</th>\n",
       "      <td>Biplane</td>\n",
       "      <td>m1120.obj</td>\n",
       "      <td>65722</td>\n",
       "      <td>129881</td>\n",
       "      <td>./database/Biplane\\m1120.obj</td>\n",
       "    </tr>\n",
       "    <tr>\n",
       "      <th>366</th>\n",
       "      <td>Car</td>\n",
       "      <td>m1510.obj</td>\n",
       "      <td>54710</td>\n",
       "      <td>109357</td>\n",
       "      <td>./database/Car\\m1510.obj</td>\n",
       "    </tr>\n",
       "    <tr>\n",
       "      <th>396</th>\n",
       "      <td>Car</td>\n",
       "      <td>m1544.obj</td>\n",
       "      <td>60326</td>\n",
       "      <td>116378</td>\n",
       "      <td>./database/Car\\m1544.obj</td>\n",
       "    </tr>\n",
       "    <tr>\n",
       "      <th>406</th>\n",
       "      <td>Car</td>\n",
       "      <td>m1556.obj</td>\n",
       "      <td>35131</td>\n",
       "      <td>119540</td>\n",
       "      <td>./database/Car\\m1556.obj</td>\n",
       "    </tr>\n",
       "    <tr>\n",
       "      <th>457</th>\n",
       "      <td>Chess</td>\n",
       "      <td>m1595.obj</td>\n",
       "      <td>60667</td>\n",
       "      <td>121343</td>\n",
       "      <td>./database/Chess\\m1595.obj</td>\n",
       "    </tr>\n",
       "    <tr>\n",
       "      <th>944</th>\n",
       "      <td>Helicopter</td>\n",
       "      <td>m1308.obj</td>\n",
       "      <td>58392</td>\n",
       "      <td>116773</td>\n",
       "      <td>./database/Helicopter\\m1308.obj</td>\n",
       "    </tr>\n",
       "  </tbody>\n",
       "</table>\n",
       "</div>"
      ],
      "text/plain": [
       "          Class    Filename  Vertices  Triangles  \\\n",
       "100     Bicycle  D00462.obj     56754     111471   \n",
       "143     Biplane   m1120.obj     65722     129881   \n",
       "366         Car   m1510.obj     54710     109357   \n",
       "396         Car   m1544.obj     60326     116378   \n",
       "406         Car   m1556.obj     35131     119540   \n",
       "457       Chess   m1595.obj     60667     121343   \n",
       "944  Helicopter   m1308.obj     58392     116773   \n",
       "\n",
       "                            Filepath  \n",
       "100    ./database/Bicycle\\D00462.obj  \n",
       "143     ./database/Biplane\\m1120.obj  \n",
       "366         ./database/Car\\m1510.obj  \n",
       "396         ./database/Car\\m1544.obj  \n",
       "406         ./database/Car\\m1556.obj  \n",
       "457       ./database/Chess\\m1595.obj  \n",
       "944  ./database/Helicopter\\m1308.obj  "
      ]
     },
     "execution_count": 11,
     "metadata": {},
     "output_type": "execute_result"
    }
   ],
   "source": [
    "highTrianglesDf = df[df['Triangles'] > 100000]\n",
    "highTrianglesDf"
   ]
  },
  {
   "cell_type": "code",
   "execution_count": 12,
   "metadata": {},
   "outputs": [
    {
     "data": {
      "text/html": [
       "<div>\n",
       "<style scoped>\n",
       "    .dataframe tbody tr th:only-of-type {\n",
       "        vertical-align: middle;\n",
       "    }\n",
       "\n",
       "    .dataframe tbody tr th {\n",
       "        vertical-align: top;\n",
       "    }\n",
       "\n",
       "    .dataframe thead th {\n",
       "        text-align: right;\n",
       "    }\n",
       "</style>\n",
       "<table border=\"1\" class=\"dataframe\">\n",
       "  <thead>\n",
       "    <tr style=\"text-align: right;\">\n",
       "      <th></th>\n",
       "      <th>Class</th>\n",
       "      <th>Filename</th>\n",
       "      <th>Vertices</th>\n",
       "      <th>Triangles</th>\n",
       "      <th>Filepath</th>\n",
       "    </tr>\n",
       "  </thead>\n",
       "  <tbody>\n",
       "    <tr>\n",
       "      <th>665</th>\n",
       "      <td>Door</td>\n",
       "      <td>D01121.obj</td>\n",
       "      <td>16</td>\n",
       "      <td>16</td>\n",
       "      <td>./database/Door\\D01121.obj</td>\n",
       "    </tr>\n",
       "    <tr>\n",
       "      <th>676</th>\n",
       "      <td>Door</td>\n",
       "      <td>D01194.obj</td>\n",
       "      <td>18</td>\n",
       "      <td>18</td>\n",
       "      <td>./database/Door\\D01194.obj</td>\n",
       "    </tr>\n",
       "    <tr>\n",
       "      <th>678</th>\n",
       "      <td>Door</td>\n",
       "      <td>m1708.obj</td>\n",
       "      <td>16</td>\n",
       "      <td>16</td>\n",
       "      <td>./database/Door\\m1708.obj</td>\n",
       "    </tr>\n",
       "    <tr>\n",
       "      <th>716</th>\n",
       "      <td>Drum</td>\n",
       "      <td>D00709.obj</td>\n",
       "      <td>24</td>\n",
       "      <td>132</td>\n",
       "      <td>./database/Drum\\D00709.obj</td>\n",
       "    </tr>\n",
       "    <tr>\n",
       "      <th>996</th>\n",
       "      <td>House</td>\n",
       "      <td>m434.obj</td>\n",
       "      <td>22</td>\n",
       "      <td>26</td>\n",
       "      <td>./database/House\\m434.obj</td>\n",
       "    </tr>\n",
       "    <tr>\n",
       "      <th>1587</th>\n",
       "      <td>MultiSeat</td>\n",
       "      <td>m784.obj</td>\n",
       "      <td>24</td>\n",
       "      <td>36</td>\n",
       "      <td>./database/MultiSeat\\m784.obj</td>\n",
       "    </tr>\n",
       "    <tr>\n",
       "      <th>2261</th>\n",
       "      <td>Tool</td>\n",
       "      <td>m1102.obj</td>\n",
       "      <td>24</td>\n",
       "      <td>52</td>\n",
       "      <td>./database/Tool\\m1102.obj</td>\n",
       "    </tr>\n",
       "  </tbody>\n",
       "</table>\n",
       "</div>"
      ],
      "text/plain": [
       "          Class    Filename  Vertices  Triangles  \\\n",
       "665        Door  D01121.obj        16         16   \n",
       "676        Door  D01194.obj        18         18   \n",
       "678        Door   m1708.obj        16         16   \n",
       "716        Drum  D00709.obj        24        132   \n",
       "996       House    m434.obj        22         26   \n",
       "1587  MultiSeat    m784.obj        24         36   \n",
       "2261       Tool   m1102.obj        24         52   \n",
       "\n",
       "                           Filepath  \n",
       "665      ./database/Door\\D01121.obj  \n",
       "676      ./database/Door\\D01194.obj  \n",
       "678       ./database/Door\\m1708.obj  \n",
       "716      ./database/Drum\\D00709.obj  \n",
       "996       ./database/House\\m434.obj  \n",
       "1587  ./database/MultiSeat\\m784.obj  \n",
       "2261      ./database/Tool\\m1102.obj  "
      ]
     },
     "execution_count": 12,
     "metadata": {},
     "output_type": "execute_result"
    }
   ],
   "source": [
    "lowVertexDf = df[df['Vertices'] < 25]\n",
    "lowVertexDf"
   ]
  },
  {
   "cell_type": "code",
   "execution_count": 13,
   "metadata": {},
   "outputs": [
    {
     "data": {
      "text/html": [
       "<div>\n",
       "<style scoped>\n",
       "    .dataframe tbody tr th:only-of-type {\n",
       "        vertical-align: middle;\n",
       "    }\n",
       "\n",
       "    .dataframe tbody tr th {\n",
       "        vertical-align: top;\n",
       "    }\n",
       "\n",
       "    .dataframe thead th {\n",
       "        text-align: right;\n",
       "    }\n",
       "</style>\n",
       "<table border=\"1\" class=\"dataframe\">\n",
       "  <thead>\n",
       "    <tr style=\"text-align: right;\">\n",
       "      <th></th>\n",
       "      <th>Class</th>\n",
       "      <th>Filename</th>\n",
       "      <th>Vertices</th>\n",
       "      <th>Triangles</th>\n",
       "      <th>Filepath</th>\n",
       "    </tr>\n",
       "  </thead>\n",
       "  <tbody>\n",
       "    <tr>\n",
       "      <th>665</th>\n",
       "      <td>Door</td>\n",
       "      <td>D01121.obj</td>\n",
       "      <td>16</td>\n",
       "      <td>16</td>\n",
       "      <td>./database/Door\\D01121.obj</td>\n",
       "    </tr>\n",
       "    <tr>\n",
       "      <th>676</th>\n",
       "      <td>Door</td>\n",
       "      <td>D01194.obj</td>\n",
       "      <td>18</td>\n",
       "      <td>18</td>\n",
       "      <td>./database/Door\\D01194.obj</td>\n",
       "    </tr>\n",
       "    <tr>\n",
       "      <th>678</th>\n",
       "      <td>Door</td>\n",
       "      <td>m1708.obj</td>\n",
       "      <td>16</td>\n",
       "      <td>16</td>\n",
       "      <td>./database/Door\\m1708.obj</td>\n",
       "    </tr>\n",
       "    <tr>\n",
       "      <th>1015</th>\n",
       "      <td>House</td>\n",
       "      <td>m462.obj</td>\n",
       "      <td>25</td>\n",
       "      <td>22</td>\n",
       "      <td>./database/House\\m462.obj</td>\n",
       "    </tr>\n",
       "  </tbody>\n",
       "</table>\n",
       "</div>"
      ],
      "text/plain": [
       "      Class    Filename  Vertices  Triangles                    Filepath\n",
       "665    Door  D01121.obj        16         16  ./database/Door\\D01121.obj\n",
       "676    Door  D01194.obj        18         18  ./database/Door\\D01194.obj\n",
       "678    Door   m1708.obj        16         16   ./database/Door\\m1708.obj\n",
       "1015  House    m462.obj        25         22   ./database/House\\m462.obj"
      ]
     },
     "execution_count": 13,
     "metadata": {},
     "output_type": "execute_result"
    }
   ],
   "source": [
    "lowTrianglesDf = df[df['Triangles'] < 25]\n",
    "lowTrianglesDf"
   ]
  },
  {
   "cell_type": "code",
   "execution_count": 14,
   "metadata": {},
   "outputs": [
    {
     "data": {
      "text/plain": [
       "Class           Chess\n",
       "Filename    m1595.obj\n",
       "Vertices        60667\n",
       "Name: 457, dtype: object"
      ]
     },
     "execution_count": 14,
     "metadata": {},
     "output_type": "execute_result"
    }
   ],
   "source": [
    "highVertexDf.iloc[4,[0,1,2]]"
   ]
  },
  {
   "cell_type": "code",
   "execution_count": 20,
   "metadata": {},
   "outputs": [],
   "source": [
    "viz_mesh(highVertexDf.iloc[4][\"Filepath\"])"
   ]
  },
  {
   "cell_type": "code",
   "execution_count": null,
   "metadata": {},
   "outputs": [],
   "source": [
    "viz_mesh(lowVertexDf.iloc[5][\"Filepath\"])"
   ]
  },
  {
   "cell_type": "code",
   "execution_count": null,
   "metadata": {},
   "outputs": [],
   "source": [
    "viz_mesh(\"./database/House\\D00001.obj\")"
   ]
  },
  {
   "cell_type": "code",
   "execution_count": null,
   "metadata": {},
   "outputs": [],
   "source": [
    "viz_mesh(\"./database/House\\m423.obj\")"
   ]
  },
  {
   "cell_type": "code",
   "execution_count": null,
   "metadata": {},
   "outputs": [
    {
     "data": {
      "text/html": [
       "<div>\n",
       "<style scoped>\n",
       "    .dataframe tbody tr th:only-of-type {\n",
       "        vertical-align: middle;\n",
       "    }\n",
       "\n",
       "    .dataframe tbody tr th {\n",
       "        vertical-align: top;\n",
       "    }\n",
       "\n",
       "    .dataframe thead th {\n",
       "        text-align: right;\n",
       "    }\n",
       "</style>\n",
       "<table border=\"1\" class=\"dataframe\">\n",
       "  <thead>\n",
       "    <tr style=\"text-align: right;\">\n",
       "      <th></th>\n",
       "      <th>Class</th>\n",
       "      <th>Filename</th>\n",
       "      <th>Vertices</th>\n",
       "      <th>Triangles</th>\n",
       "      <th>Filepath</th>\n",
       "    </tr>\n",
       "  </thead>\n",
       "  <tbody>\n",
       "    <tr>\n",
       "      <th>305</th>\n",
       "      <td>Bus</td>\n",
       "      <td>D00084.obj</td>\n",
       "      <td>12919</td>\n",
       "      <td>75870</td>\n",
       "      <td>./database/Bus\\D00084.obj</td>\n",
       "    </tr>\n",
       "    <tr>\n",
       "      <th>306</th>\n",
       "      <td>Bus</td>\n",
       "      <td>D00114.obj</td>\n",
       "      <td>7643</td>\n",
       "      <td>53259</td>\n",
       "      <td>./database/Bus\\D00114.obj</td>\n",
       "    </tr>\n",
       "    <tr>\n",
       "      <th>307</th>\n",
       "      <td>Bus</td>\n",
       "      <td>D00151.obj</td>\n",
       "      <td>9415</td>\n",
       "      <td>54282</td>\n",
       "      <td>./database/Bus\\D00151.obj</td>\n",
       "    </tr>\n",
       "    <tr>\n",
       "      <th>308</th>\n",
       "      <td>Bus</td>\n",
       "      <td>D00179.obj</td>\n",
       "      <td>5976</td>\n",
       "      <td>42567</td>\n",
       "      <td>./database/Bus\\D00179.obj</td>\n",
       "    </tr>\n",
       "    <tr>\n",
       "      <th>309</th>\n",
       "      <td>Bus</td>\n",
       "      <td>D00182.obj</td>\n",
       "      <td>13436</td>\n",
       "      <td>86502</td>\n",
       "      <td>./database/Bus\\D00182.obj</td>\n",
       "    </tr>\n",
       "    <tr>\n",
       "      <th>310</th>\n",
       "      <td>Bus</td>\n",
       "      <td>D00264.obj</td>\n",
       "      <td>11096</td>\n",
       "      <td>67185</td>\n",
       "      <td>./database/Bus\\D00264.obj</td>\n",
       "    </tr>\n",
       "    <tr>\n",
       "      <th>311</th>\n",
       "      <td>Bus</td>\n",
       "      <td>D00411.obj</td>\n",
       "      <td>4964</td>\n",
       "      <td>34821</td>\n",
       "      <td>./database/Bus\\D00411.obj</td>\n",
       "    </tr>\n",
       "    <tr>\n",
       "      <th>312</th>\n",
       "      <td>Bus</td>\n",
       "      <td>D00436.obj</td>\n",
       "      <td>4587</td>\n",
       "      <td>29118</td>\n",
       "      <td>./database/Bus\\D00436.obj</td>\n",
       "    </tr>\n",
       "    <tr>\n",
       "      <th>313</th>\n",
       "      <td>Bus</td>\n",
       "      <td>D00446.obj</td>\n",
       "      <td>4915</td>\n",
       "      <td>28227</td>\n",
       "      <td>./database/Bus\\D00446.obj</td>\n",
       "    </tr>\n",
       "    <tr>\n",
       "      <th>314</th>\n",
       "      <td>Bus</td>\n",
       "      <td>D00448.obj</td>\n",
       "      <td>7367</td>\n",
       "      <td>42369</td>\n",
       "      <td>./database/Bus\\D00448.obj</td>\n",
       "    </tr>\n",
       "    <tr>\n",
       "      <th>315</th>\n",
       "      <td>Bus</td>\n",
       "      <td>D00483.obj</td>\n",
       "      <td>6082</td>\n",
       "      <td>25650</td>\n",
       "      <td>./database/Bus\\D00483.obj</td>\n",
       "    </tr>\n",
       "    <tr>\n",
       "      <th>316</th>\n",
       "      <td>Bus</td>\n",
       "      <td>D00516.obj</td>\n",
       "      <td>4096</td>\n",
       "      <td>24888</td>\n",
       "      <td>./database/Bus\\D00516.obj</td>\n",
       "    </tr>\n",
       "    <tr>\n",
       "      <th>317</th>\n",
       "      <td>Bus</td>\n",
       "      <td>D00677.obj</td>\n",
       "      <td>11964</td>\n",
       "      <td>65712</td>\n",
       "      <td>./database/Bus\\D00677.obj</td>\n",
       "    </tr>\n",
       "    <tr>\n",
       "      <th>318</th>\n",
       "      <td>Bus</td>\n",
       "      <td>D00754.obj</td>\n",
       "      <td>8861</td>\n",
       "      <td>59982</td>\n",
       "      <td>./database/Bus\\D00754.obj</td>\n",
       "    </tr>\n",
       "    <tr>\n",
       "      <th>319</th>\n",
       "      <td>Bus</td>\n",
       "      <td>D00769.obj</td>\n",
       "      <td>8963</td>\n",
       "      <td>56925</td>\n",
       "      <td>./database/Bus\\D00769.obj</td>\n",
       "    </tr>\n",
       "    <tr>\n",
       "      <th>320</th>\n",
       "      <td>Bus</td>\n",
       "      <td>D00775.obj</td>\n",
       "      <td>9506</td>\n",
       "      <td>65670</td>\n",
       "      <td>./database/Bus\\D00775.obj</td>\n",
       "    </tr>\n",
       "    <tr>\n",
       "      <th>321</th>\n",
       "      <td>Bus</td>\n",
       "      <td>D00815.obj</td>\n",
       "      <td>7063</td>\n",
       "      <td>40023</td>\n",
       "      <td>./database/Bus\\D00815.obj</td>\n",
       "    </tr>\n",
       "    <tr>\n",
       "      <th>322</th>\n",
       "      <td>Bus</td>\n",
       "      <td>D00823.obj</td>\n",
       "      <td>7367</td>\n",
       "      <td>45333</td>\n",
       "      <td>./database/Bus\\D00823.obj</td>\n",
       "    </tr>\n",
       "    <tr>\n",
       "      <th>323</th>\n",
       "      <td>Bus</td>\n",
       "      <td>D00832.obj</td>\n",
       "      <td>3137</td>\n",
       "      <td>18774</td>\n",
       "      <td>./database/Bus\\D00832.obj</td>\n",
       "    </tr>\n",
       "    <tr>\n",
       "      <th>324</th>\n",
       "      <td>Bus</td>\n",
       "      <td>D00857.obj</td>\n",
       "      <td>5220</td>\n",
       "      <td>28053</td>\n",
       "      <td>./database/Bus\\D00857.obj</td>\n",
       "    </tr>\n",
       "  </tbody>\n",
       "</table>\n",
       "</div>"
      ],
      "text/plain": [
       "    Class    Filename  Vertices  Triangles                   Filepath\n",
       "305   Bus  D00084.obj     12919      75870  ./database/Bus\\D00084.obj\n",
       "306   Bus  D00114.obj      7643      53259  ./database/Bus\\D00114.obj\n",
       "307   Bus  D00151.obj      9415      54282  ./database/Bus\\D00151.obj\n",
       "308   Bus  D00179.obj      5976      42567  ./database/Bus\\D00179.obj\n",
       "309   Bus  D00182.obj     13436      86502  ./database/Bus\\D00182.obj\n",
       "310   Bus  D00264.obj     11096      67185  ./database/Bus\\D00264.obj\n",
       "311   Bus  D00411.obj      4964      34821  ./database/Bus\\D00411.obj\n",
       "312   Bus  D00436.obj      4587      29118  ./database/Bus\\D00436.obj\n",
       "313   Bus  D00446.obj      4915      28227  ./database/Bus\\D00446.obj\n",
       "314   Bus  D00448.obj      7367      42369  ./database/Bus\\D00448.obj\n",
       "315   Bus  D00483.obj      6082      25650  ./database/Bus\\D00483.obj\n",
       "316   Bus  D00516.obj      4096      24888  ./database/Bus\\D00516.obj\n",
       "317   Bus  D00677.obj     11964      65712  ./database/Bus\\D00677.obj\n",
       "318   Bus  D00754.obj      8861      59982  ./database/Bus\\D00754.obj\n",
       "319   Bus  D00769.obj      8963      56925  ./database/Bus\\D00769.obj\n",
       "320   Bus  D00775.obj      9506      65670  ./database/Bus\\D00775.obj\n",
       "321   Bus  D00815.obj      7063      40023  ./database/Bus\\D00815.obj\n",
       "322   Bus  D00823.obj      7367      45333  ./database/Bus\\D00823.obj\n",
       "323   Bus  D00832.obj      3137      18774  ./database/Bus\\D00832.obj\n",
       "324   Bus  D00857.obj      5220      28053  ./database/Bus\\D00857.obj"
      ]
     },
     "execution_count": 87,
     "metadata": {},
     "output_type": "execute_result"
    }
   ],
   "source": [
    "df[df['Class']==\"Bus\"]"
   ]
  },
  {
   "cell_type": "code",
   "execution_count": null,
   "metadata": {},
   "outputs": [],
   "source": [
    "# path = \"./database/House\\D00001.obj\"\n",
    "# mesh_lowpoly = pml.MeshSet()\n",
    "# mesh_lowpoly.load_new_mesh(path)\n",
    "# print(f\"Vertices before: {mesh_lowpoly.current_mesh().vertex_number()}, Faces before: {mesh_lowpoly.current_mesh().face_number()}\")\n",
    "\n",
    "# mesh_lowpoly.meshing_isotropic_explicit_remeshing(\n",
    "#         targetlen=pml.AbsoluteValue(0.02), iterations=4)\n",
    "\n",
    "\n",
    "# vAfter = mesh_lowpoly.current_mesh().vertex_number()\n",
    "# fAfter = mesh_lowpoly.current_mesh().face_number()\n",
    "# print(f\"Vertices after: {vAfter}, Faces after: {fAfter}\")"
   ]
  },
  {
   "cell_type": "markdown",
   "metadata": {},
   "source": [
    "### Resampling outliers"
   ]
  },
  {
   "cell_type": "markdown",
   "metadata": {},
   "source": [
    "Next, if outliers contain poorly-sampled shapes (having under 100 vertices and/or faces), you need to refine these, so that feature extraction (next step) will work well. Refinement means splitting large faces into smaller ones. There are several ways to refine a mesh:"
   ]
  },
  {
   "cell_type": "code",
   "execution_count": 8,
   "metadata": {},
   "outputs": [],
   "source": [
    "import pymeshlab as pml"
   ]
  },
  {
   "cell_type": "code",
   "execution_count": 15,
   "metadata": {},
   "outputs": [],
   "source": [
    "# Parameters\n",
    "path = lowTrianglesDf.iloc[3][\"Filepath\"]\n",
    "\n",
    "def resample_mesh(path, filename, target_edge_length = 0.02, iterations = 7):\n",
    "         \n",
    "    mesh_lowpoly = pml.MeshSet()\n",
    "    mesh_lowpoly.load_new_mesh(path)\n",
    "\n",
    "    # Create refined (i.e. high-poly) versions of it\n",
    "    print(f\"Vertices before: {mesh_lowpoly.current_mesh().vertex_number()}, Faces before: {mesh_lowpoly.current_mesh().face_number()}\")\n",
    "    print(f\"Refining mesh ({iterations} iterations)... \")\n",
    "    mesh_lowpoly.meshing_isotropic_explicit_remeshing(\n",
    "        targetlen=pml.AbsoluteValue(target_edge_length), iterations=iterations)\n",
    "    newFilePath = f\"./resampled/{filename}\"\n",
    "    mesh_lowpoly.save_current_mesh(newFilePath)\n",
    "    print(\"Finished.\")\n",
    "    vAfter = mesh_lowpoly.current_mesh().vertex_number()\n",
    "    fAfter = mesh_lowpoly.current_mesh().face_number()\n",
    "    print(f\"Vertices after: {vAfter}, Faces after: {fAfter}\")\n",
    "    return vAfter, fAfter, newFilePath\n",
    "\n"
   ]
  },
  {
   "cell_type": "code",
   "execution_count": 58,
   "metadata": {},
   "outputs": [
    {
     "data": {
      "text/plain": [
       "True"
      ]
     },
     "execution_count": 58,
     "metadata": {},
     "output_type": "execute_result"
    }
   ],
   "source": [
    "o3d.io.write_triangle_mesh(\"temp.obj\", input_mesh)"
   ]
  },
  {
   "cell_type": "code",
   "execution_count": 74,
   "metadata": {},
   "outputs": [],
   "source": [
    "mesh_lowpoly = pml.MeshSet()\n",
    "mesh_lowpoly.load_new_mesh(\"temp.obj\")"
   ]
  },
  {
   "cell_type": "code",
   "execution_count": 75,
   "metadata": {},
   "outputs": [
    {
     "data": {
      "text/plain": [
       "<pymeshlab.pmeshlab.MeshSet at 0x16bad18d0b0>"
      ]
     },
     "execution_count": 75,
     "metadata": {},
     "output_type": "execute_result"
    }
   ],
   "source": [
    "mesh_lowpoly"
   ]
  },
  {
   "cell_type": "code",
   "execution_count": 81,
   "metadata": {},
   "outputs": [],
   "source": [
    "objj = o3d_to_pml(input_mesh)"
   ]
  },
  {
   "cell_type": "code",
   "execution_count": 82,
   "metadata": {},
   "outputs": [
    {
     "data": {
      "text/plain": [
       "<pymeshlab.pmeshlab.MeshSet at 0x16bad19fbb0>"
      ]
     },
     "execution_count": 82,
     "metadata": {},
     "output_type": "execute_result"
    }
   ],
   "source": [
    "objj"
   ]
  },
  {
   "cell_type": "code",
   "execution_count": 16,
   "metadata": {},
   "outputs": [
    {
     "data": {
      "text/plain": [
       "TriangleMesh with 72 points and 363 triangles."
      ]
     },
     "execution_count": 16,
     "metadata": {},
     "output_type": "execute_result"
    }
   ],
   "source": [
    "input_mesh = o3d.io.read_triangle_mesh(\"./database/House\\D00001.obj\")\n",
    "input_mesh = o3d.io.read_triangle_mesh(\"./database/Spoon/D00474.obj\")\n",
    "\n",
    "target_triangles = 10000  # Adjust this to your desired triangle count\n",
    "input_mesh.simplify_quadric_decimation(target_triangles)\n",
    "\n",
    "# input_mesh.simplify_vertex_clustering(0.03)"
   ]
  },
  {
   "cell_type": "code",
   "execution_count": 17,
   "metadata": {},
   "outputs": [
    {
     "data": {
      "text/plain": [
       "TriangleMesh with 72 points and 363 triangles."
      ]
     },
     "execution_count": 17,
     "metadata": {},
     "output_type": "execute_result"
    }
   ],
   "source": [
    "input_mesh"
   ]
  },
  {
   "cell_type": "code",
   "execution_count": 55,
   "metadata": {},
   "outputs": [],
   "source": [
    "newpath = \"./database/House\\D00001.obj\"\n",
    "newpath = \"./database/Spoon/D00474.obj\"\n",
    "# newpath = \"./database/Door\\D01194.obj\"\n",
    "\n",
    "mesh = o3d.io.read_triangle_mesh(newpath)\n",
    "mesh.compute_vertex_normals()\n",
    "aabb = mesh.get_axis_aligned_bounding_box()\n",
    "\n",
    "\n",
    "# Get the minimum and maximum coordinates of the AABB\n",
    "min_coords = aabb.get_min_bound()\n",
    "max_coords = aabb.get_max_bound()"
   ]
  },
  {
   "cell_type": "code",
   "execution_count": 56,
   "metadata": {},
   "outputs": [
    {
     "data": {
      "text/plain": [
       "(array([-0.15025599,  0.020605  ,  0.        ]),\n",
       " array([-0.01698,  0.04325,  0.00685]),\n",
       " 0.162770991679281)"
      ]
     },
     "execution_count": 56,
     "metadata": {},
     "output_type": "execute_result"
    }
   ],
   "source": [
    "min_coords, max_coords, np.sum(max_coords - min_coords)"
   ]
  },
  {
   "cell_type": "code",
   "execution_count": 57,
   "metadata": {},
   "outputs": [
    {
     "name": "stdout",
     "output_type": "stream",
     "text": [
      "0.02\n"
     ]
    },
    {
     "ename": "AttributeError",
     "evalue": "'pymeshlab.pmeshlab.MeshSet' object has no attribute 'get_center'",
     "output_type": "error",
     "traceback": [
      "\u001b[1;31m---------------------------------------------------------------------------\u001b[0m",
      "\u001b[1;31mAttributeError\u001b[0m                            Traceback (most recent call last)",
      "\u001b[1;32mg:\\Meine Ablage\\UU\\MR\\Project\\Multimedia-Retrieval\\step2.ipynb Cell 40\u001b[0m line \u001b[0;36m6\n\u001b[0;32m      <a href='vscode-notebook-cell:/g%3A/Meine%20Ablage/UU/MR/Project/Multimedia-Retrieval/step2.ipynb#Y111sZmlsZQ%3D%3D?line=3'>4</a>\u001b[0m mesh_lowpoly \u001b[39m=\u001b[39m pml\u001b[39m.\u001b[39mMeshSet()\n\u001b[0;32m      <a href='vscode-notebook-cell:/g%3A/Meine%20Ablage/UU/MR/Project/Multimedia-Retrieval/step2.ipynb#Y111sZmlsZQ%3D%3D?line=4'>5</a>\u001b[0m mesh_lowpoly\u001b[39m.\u001b[39mload_new_mesh(newpath)\n\u001b[1;32m----> <a href='vscode-notebook-cell:/g%3A/Meine%20Ablage/UU/MR/Project/Multimedia-Retrieval/step2.ipynb#Y111sZmlsZQ%3D%3D?line=5'>6</a>\u001b[0m mesh_lowpoly \u001b[39m=\u001b[39m scale_unitcube(mesh_lowpoly)\n\u001b[0;32m      <a href='vscode-notebook-cell:/g%3A/Meine%20Ablage/UU/MR/Project/Multimedia-Retrieval/step2.ipynb#Y111sZmlsZQ%3D%3D?line=7'>8</a>\u001b[0m \u001b[39m# Create refined (i.e. high-poly) versions of it\u001b[39;00m\n\u001b[0;32m      <a href='vscode-notebook-cell:/g%3A/Meine%20Ablage/UU/MR/Project/Multimedia-Retrieval/step2.ipynb#Y111sZmlsZQ%3D%3D?line=8'>9</a>\u001b[0m \u001b[39mprint\u001b[39m(\u001b[39mf\u001b[39m\u001b[39m\"\u001b[39m\u001b[39mVertices before: \u001b[39m\u001b[39m{\u001b[39;00mmesh_lowpoly\u001b[39m.\u001b[39mcurrent_mesh()\u001b[39m.\u001b[39mvertex_number()\u001b[39m}\u001b[39;00m\u001b[39m, Faces before: \u001b[39m\u001b[39m{\u001b[39;00mmesh_lowpoly\u001b[39m.\u001b[39mcurrent_mesh()\u001b[39m.\u001b[39mface_number()\u001b[39m}\u001b[39;00m\u001b[39m\"\u001b[39m)\n",
      "\u001b[1;32mg:\\Meine Ablage\\UU\\MR\\Project\\Multimedia-Retrieval\\step2.ipynb Cell 40\u001b[0m line \u001b[0;36m5\n\u001b[0;32m      <a href='vscode-notebook-cell:/g%3A/Meine%20Ablage/UU/MR/Project/Multimedia-Retrieval/step2.ipynb#Y111sZmlsZQ%3D%3D?line=0'>1</a>\u001b[0m \u001b[39mdef\u001b[39;00m \u001b[39mscale_unitcube\u001b[39m(mesh):\n\u001b[0;32m      <a href='vscode-notebook-cell:/g%3A/Meine%20Ablage/UU/MR/Project/Multimedia-Retrieval/step2.ipynb#Y111sZmlsZQ%3D%3D?line=1'>2</a>\u001b[0m \u001b[39m    \u001b[39m\u001b[39m\"\"\"\u001b[39;00m\n\u001b[0;32m      <a href='vscode-notebook-cell:/g%3A/Meine%20Ablage/UU/MR/Project/Multimedia-Retrieval/step2.ipynb#Y111sZmlsZQ%3D%3D?line=2'>3</a>\u001b[0m \u001b[39m    Scale mesh to fit in a unit-sized cube.\u001b[39;00m\n\u001b[0;32m      <a href='vscode-notebook-cell:/g%3A/Meine%20Ablage/UU/MR/Project/Multimedia-Retrieval/step2.ipynb#Y111sZmlsZQ%3D%3D?line=3'>4</a>\u001b[0m \u001b[39m    \"\"\"\u001b[39;00m\n\u001b[1;32m----> <a href='vscode-notebook-cell:/g%3A/Meine%20Ablage/UU/MR/Project/Multimedia-Retrieval/step2.ipynb#Y111sZmlsZQ%3D%3D?line=4'>5</a>\u001b[0m     center \u001b[39m=\u001b[39m mesh\u001b[39m.\u001b[39;49mget_center()\n\u001b[0;32m      <a href='vscode-notebook-cell:/g%3A/Meine%20Ablage/UU/MR/Project/Multimedia-Retrieval/step2.ipynb#Y111sZmlsZQ%3D%3D?line=6'>7</a>\u001b[0m     \u001b[39m#test is mesh is centered at origin\u001b[39;00m\n\u001b[0;32m      <a href='vscode-notebook-cell:/g%3A/Meine%20Ablage/UU/MR/Project/Multimedia-Retrieval/step2.ipynb#Y111sZmlsZQ%3D%3D?line=7'>8</a>\u001b[0m     \u001b[39mif\u001b[39;00m center[\u001b[39m0\u001b[39m] \u001b[39m>\u001b[39m \u001b[39m0.001\u001b[39m \u001b[39mor\u001b[39;00m center[\u001b[39m1\u001b[39m] \u001b[39m>\u001b[39m \u001b[39m0.001\u001b[39m \u001b[39mor\u001b[39;00m center[\u001b[39m2\u001b[39m] \u001b[39m>\u001b[39m \u001b[39m0.001\u001b[39m:\n",
      "\u001b[1;31mAttributeError\u001b[0m: 'pymeshlab.pmeshlab.MeshSet' object has no attribute 'get_center'"
     ]
    }
   ],
   "source": [
    "# targetlen = np.sum(max_coords - min_coords)/100\n",
    "targetlen = 0.02\n",
    "print(targetlen)\n",
    "mesh_lowpoly = pml.MeshSet()\n",
    "mesh_lowpoly.load_new_mesh(newpath)\n",
    "mesh_lowpoly = scale_unitcube(mesh_lowpoly)\n",
    "\n",
    "# Create refined (i.e. high-poly) versions of it\n",
    "print(f\"Vertices before: {mesh_lowpoly.current_mesh().vertex_number()}, Faces before: {mesh_lowpoly.current_mesh().face_number()}\")\n",
    "print(f\"Refining mesh ({4} iterations)... \")\n",
    "mesh_lowpoly.meshing_isotropic_explicit_remeshing(\n",
    "    targetlen=pml.AbsoluteValue(targetlen), iterations=3)\n",
    "\n",
    "vAfter = mesh_lowpoly.current_mesh().vertex_number()\n",
    "fAfter = mesh_lowpoly.current_mesh().face_number()\n",
    "print(f\"Vertices after: {vAfter}, Faces after: {fAfter}\")"
   ]
  },
  {
   "cell_type": "code",
   "execution_count": 54,
   "metadata": {},
   "outputs": [
    {
     "data": {
      "text/plain": [
       "518"
      ]
     },
     "execution_count": 54,
     "metadata": {},
     "output_type": "execute_result"
    }
   ],
   "source": [
    "mesh_lowpoly.current_mesh().vertex_number()"
   ]
  },
  {
   "cell_type": "code",
   "execution_count": 64,
   "metadata": {},
   "outputs": [
    {
     "ename": "TypeError",
     "evalue": "__init__(): incompatible constructor arguments. The following argument types are supported:\n    1. pymeshlab.pmeshlab.Mesh(vertex_matrix: numpy.ndarray[numpy.float64[m, 3]] = array([], shape=(0, 3), dtype=float64), face_matrix: numpy.ndarray[numpy.int32[m, 3]] = array([], shape=(0, 3), dtype=int32), edge_matrix: numpy.ndarray[numpy.int32[m, 2]] = array([], shape=(0, 2), dtype=int32), v_normals_matrix: numpy.ndarray[numpy.float64[m, 3]] = array([], shape=(0, 3), dtype=float64), f_normals_matrix: numpy.ndarray[numpy.float64[m, 3]] = array([], shape=(0, 3), dtype=float64), v_scalar_array: numpy.ndarray[numpy.float64[m, 1]] = array([], dtype=float64), f_scalar_array: numpy.ndarray[numpy.float64[m, 1]] = array([], dtype=float64), v_color_matrix: numpy.ndarray[numpy.float64[m, 4]] = array([], shape=(0, 4), dtype=float64), f_color_matrix: numpy.ndarray[numpy.float64[m, 4]] = array([], shape=(0, 4), dtype=float64))\n    2. pymeshlab.pmeshlab.Mesh(vertex_matrix: numpy.ndarray[numpy.float64[m, 3]], face_list_of_indices: List[numpy.ndarray[numpy.uint32[m, 1]]], v_normals_matrix: numpy.ndarray[numpy.float64[m, 3]] = array([], shape=(0, 3), dtype=float64), f_normals_matrix: numpy.ndarray[numpy.float64[m, 3]] = array([], shape=(0, 3), dtype=float64), v_scalar_array: numpy.ndarray[numpy.float64[m, 1]] = array([], dtype=float64), f_scalar_array: numpy.ndarray[numpy.float64[m, 1]] = array([], dtype=float64), v_color_matrix: numpy.ndarray[numpy.float64[m, 4]] = array([], shape=(0, 4), dtype=float64), f_color_matrix: numpy.ndarray[numpy.float64[m, 4]] = array([], shape=(0, 4), dtype=float64))\n\nInvoked with: <pymeshlab.pmeshlab.MeshSet object at 0x000001E0015A6130>",
     "output_type": "error",
     "traceback": [
      "\u001b[1;31m---------------------------------------------------------------------------\u001b[0m",
      "\u001b[1;31mTypeError\u001b[0m                                 Traceback (most recent call last)",
      "\u001b[1;32mg:\\Meine Ablage\\UU\\MR\\Project\\Multimedia-Retrieval\\step2.ipynb Cell 38\u001b[0m line \u001b[0;36m2\n\u001b[0;32m      <a href='vscode-notebook-cell:/g%3A/Meine%20Ablage/UU/MR/Project/Multimedia-Retrieval/step2.ipynb#Y114sZmlsZQ%3D%3D?line=0'>1</a>\u001b[0m mesh_lowpoly \u001b[39m=\u001b[39m pml\u001b[39m.\u001b[39mMeshSet()\n\u001b[1;32m----> <a href='vscode-notebook-cell:/g%3A/Meine%20Ablage/UU/MR/Project/Multimedia-Retrieval/step2.ipynb#Y114sZmlsZQ%3D%3D?line=1'>2</a>\u001b[0m mesh_lowpoly \u001b[39m=\u001b[39m pml\u001b[39m.\u001b[39;49mMesh(mesh_lowpoly)\n\u001b[0;32m      <a href='vscode-notebook-cell:/g%3A/Meine%20Ablage/UU/MR/Project/Multimedia-Retrieval/step2.ipynb#Y114sZmlsZQ%3D%3D?line=2'>3</a>\u001b[0m mesh_lowpoly\u001b[39m.\u001b[39mload_new_mesh(\u001b[39m\"\u001b[39m\u001b[39m./database/Spoon/D00474.obj\u001b[39m\u001b[39m\"\u001b[39m)\n\u001b[0;32m      <a href='vscode-notebook-cell:/g%3A/Meine%20Ablage/UU/MR/Project/Multimedia-Retrieval/step2.ipynb#Y114sZmlsZQ%3D%3D?line=3'>4</a>\u001b[0m mesh_lowpoly\u001b[39m.\u001b[39mbounding_box()\n",
      "\u001b[1;31mTypeError\u001b[0m: __init__(): incompatible constructor arguments. The following argument types are supported:\n    1. pymeshlab.pmeshlab.Mesh(vertex_matrix: numpy.ndarray[numpy.float64[m, 3]] = array([], shape=(0, 3), dtype=float64), face_matrix: numpy.ndarray[numpy.int32[m, 3]] = array([], shape=(0, 3), dtype=int32), edge_matrix: numpy.ndarray[numpy.int32[m, 2]] = array([], shape=(0, 2), dtype=int32), v_normals_matrix: numpy.ndarray[numpy.float64[m, 3]] = array([], shape=(0, 3), dtype=float64), f_normals_matrix: numpy.ndarray[numpy.float64[m, 3]] = array([], shape=(0, 3), dtype=float64), v_scalar_array: numpy.ndarray[numpy.float64[m, 1]] = array([], dtype=float64), f_scalar_array: numpy.ndarray[numpy.float64[m, 1]] = array([], dtype=float64), v_color_matrix: numpy.ndarray[numpy.float64[m, 4]] = array([], shape=(0, 4), dtype=float64), f_color_matrix: numpy.ndarray[numpy.float64[m, 4]] = array([], shape=(0, 4), dtype=float64))\n    2. pymeshlab.pmeshlab.Mesh(vertex_matrix: numpy.ndarray[numpy.float64[m, 3]], face_list_of_indices: List[numpy.ndarray[numpy.uint32[m, 1]]], v_normals_matrix: numpy.ndarray[numpy.float64[m, 3]] = array([], shape=(0, 3), dtype=float64), f_normals_matrix: numpy.ndarray[numpy.float64[m, 3]] = array([], shape=(0, 3), dtype=float64), v_scalar_array: numpy.ndarray[numpy.float64[m, 1]] = array([], dtype=float64), f_scalar_array: numpy.ndarray[numpy.float64[m, 1]] = array([], dtype=float64), v_color_matrix: numpy.ndarray[numpy.float64[m, 4]] = array([], shape=(0, 4), dtype=float64), f_color_matrix: numpy.ndarray[numpy.float64[m, 4]] = array([], shape=(0, 4), dtype=float64))\n\nInvoked with: <pymeshlab.pmeshlab.MeshSet object at 0x000001E0015A6130>"
     ]
    }
   ],
   "source": [
    "mesh_lowpoly = pml.MeshSet()\n",
    "mesh_lowpoly = pml.Mesh(mesh_lowpoly)\n",
    "mesh_lowpoly.load_new_mesh(\"./database/Spoon/D00474.obj\")\n",
    "mesh_lowpoly.bounding_box()"
   ]
  },
  {
   "cell_type": "code",
   "execution_count": 25,
   "metadata": {},
   "outputs": [
    {
     "data": {
      "text/plain": [
       "TriangleMesh with 46252 points and 90161 triangles."
      ]
     },
     "execution_count": 25,
     "metadata": {},
     "output_type": "execute_result"
    }
   ],
   "source": [
    "input_mesh"
   ]
  },
  {
   "cell_type": "code",
   "execution_count": 24,
   "metadata": {},
   "outputs": [
    {
     "data": {
      "text/plain": [
       "TriangleMesh with 5821 points and 10000 triangles."
      ]
     },
     "execution_count": 24,
     "metadata": {},
     "output_type": "execute_result"
    }
   ],
   "source": [
    "output_mesh"
   ]
  },
  {
   "cell_type": "code",
   "execution_count": 48,
   "metadata": {},
   "outputs": [],
   "source": [
    "viz_mesh(input_mesh)"
   ]
  },
  {
   "cell_type": "code",
   "execution_count": 29,
   "metadata": {},
   "outputs": [
    {
     "ename": "KeyboardInterrupt",
     "evalue": "",
     "output_type": "error",
     "traceback": [
      "\u001b[1;31m---------------------------------------------------------------------------\u001b[0m",
      "\u001b[1;31mKeyboardInterrupt\u001b[0m                         Traceback (most recent call last)",
      "\u001b[1;32mg:\\Meine Ablage\\UU\\MR\\Project\\Multimedia-Retrieval\\step2.ipynb Cell 39\u001b[0m line \u001b[0;36m1\n\u001b[1;32m----> <a href='vscode-notebook-cell:/g%3A/Meine%20Ablage/UU/MR/Project/Multimedia-Retrieval/step2.ipynb#Y106sZmlsZQ%3D%3D?line=0'>1</a>\u001b[0m viz_mesh(output_mesh)\n",
      "\u001b[1;31mKeyboardInterrupt\u001b[0m: "
     ]
    }
   ],
   "source": [
    "viz_mesh(output_mesh)"
   ]
  },
  {
   "cell_type": "code",
   "execution_count": 73,
   "metadata": {},
   "outputs": [
    {
     "name": "stdout",
     "output_type": "stream",
     "text": [
      "Vertices before: 44, Faces before: 1680\n",
      "Refining mesh (7 iterations)... \n",
      "Finished.\n",
      "Vertices after: 927, Faces after: 1849\n",
      "Vertices before: 41, Faces before: 54\n",
      "Refining mesh (7 iterations)... \n",
      "Finished.\n",
      "Vertices after: 803, Faces after: 1444\n",
      "Vertices before: 93, Faces before: 182\n",
      "Refining mesh (7 iterations)... \n",
      "Finished.\n",
      "Vertices after: 2359, Faces after: 4714\n",
      "Vertices before: 40, Faces before: 45\n",
      "Refining mesh (7 iterations)... \n",
      "Finished.\n",
      "Vertices after: 4575, Faces after: 8534\n",
      "Vertices before: 33, Faces before: 80\n",
      "Refining mesh (7 iterations)... \n",
      "Finished.\n",
      "Vertices after: 6212, Faces after: 12528\n",
      "Vertices before: 89, Faces before: 168\n",
      "Refining mesh (7 iterations)... \n",
      "Finished.\n",
      "Vertices after: 4205, Faces after: 8312\n",
      "Vertices before: 89, Faces before: 168\n",
      "Refining mesh (7 iterations)... \n",
      "Finished.\n",
      "Vertices after: 4199, Faces after: 8300\n",
      "Vertices before: 29, Faces before: 43\n",
      "Refining mesh (7 iterations)... \n",
      "Finished.\n",
      "Vertices after: 7348, Faces after: 14465\n",
      "Vertices before: 46, Faces before: 76\n",
      "Refining mesh (7 iterations)... \n",
      "Finished.\n",
      "Vertices after: 13769, Faces after: 27522\n",
      "Vertices before: 28, Faces before: 30\n",
      "Refining mesh (7 iterations)... \n",
      "Finished.\n",
      "Vertices after: 6674, Faces after: 13078\n",
      "Vertices before: 28, Faces before: 30\n",
      "Refining mesh (7 iterations)... \n",
      "Finished.\n",
      "Vertices after: 6675, Faces after: 13080\n",
      "Vertices before: 29, Faces before: 43\n",
      "Refining mesh (7 iterations)... \n",
      "Finished.\n",
      "Vertices after: 7350, Faces after: 14469\n",
      "Vertices before: 46, Faces before: 76\n",
      "Refining mesh (7 iterations)... \n",
      "Finished.\n",
      "Vertices after: 13711, Faces after: 27406\n",
      "Vertices before: 71, Faces before: 138\n",
      "Refining mesh (7 iterations)... \n",
      "Finished.\n",
      "Vertices after: 8420, Faces after: 16836\n",
      "Vertices before: 69, Faces before: 116\n",
      "Refining mesh (7 iterations)... \n",
      "Finished.\n",
      "Vertices after: 7645, Faces after: 15249\n",
      "Vertices before: 87, Faces before: 145\n",
      "Refining mesh (7 iterations)... \n",
      "Finished.\n",
      "Vertices after: 2879, Faces after: 5726\n",
      "Vertices before: 87, Faces before: 200\n",
      "Refining mesh (7 iterations)... \n",
      "Finished.\n",
      "Vertices after: 2787, Faces after: 5542\n",
      "Vertices before: 16, Faces before: 16\n",
      "Refining mesh (7 iterations)... \n",
      "Finished.\n",
      "Vertices after: 6723, Faces after: 13116\n",
      "Vertices before: 31, Faces before: 29\n",
      "Refining mesh (7 iterations)... \n",
      "Finished.\n",
      "Vertices after: 1371, Faces after: 2573\n",
      "Vertices before: 48, Faces before: 72\n",
      "Refining mesh (7 iterations)... \n",
      "Finished.\n",
      "Vertices after: 3405, Faces after: 6786\n",
      "Vertices before: 68, Faces before: 132\n",
      "Refining mesh (7 iterations)... \n",
      "Finished.\n",
      "Vertices after: 3608, Faces after: 7826\n",
      "Vertices before: 88, Faces before: 98\n",
      "Refining mesh (7 iterations)... \n",
      "Finished.\n",
      "Vertices after: 3262, Faces after: 6261\n",
      "Vertices before: 18, Faces before: 18\n",
      "Refining mesh (7 iterations)... \n",
      "Finished.\n",
      "Vertices after: 2343, Faces after: 4422\n",
      "Vertices before: 16, Faces before: 16\n",
      "Refining mesh (7 iterations)... \n",
      "Finished.\n",
      "Vertices after: 6721, Faces after: 13112\n",
      "Vertices before: 68, Faces before: 132\n",
      "Refining mesh (7 iterations)... \n",
      "Finished.\n",
      "Vertices after: 3622, Faces after: 7854\n",
      "Vertices before: 36, Faces before: 204\n",
      "Refining mesh (7 iterations)... \n",
      "Finished.\n",
      "Vertices after: 8648, Faces after: 17292\n",
      "Vertices before: 102, Faces before: 132\n",
      "Refining mesh (7 iterations)... \n",
      "Finished.\n",
      "Vertices after: 472, Faces after: 940\n",
      "Vertices before: 54, Faces before: 88\n",
      "Refining mesh (7 iterations)... \n",
      "Finished.\n",
      "Vertices after: 406, Faces after: 792\n",
      "Vertices before: 78, Faces before: 120\n",
      "Refining mesh (7 iterations)... \n",
      "Finished.\n",
      "Vertices after: 1311, Faces after: 2604\n",
      "Vertices before: 46, Faces before: 76\n",
      "Refining mesh (7 iterations)... \n",
      "Finished.\n",
      "Vertices after: 712, Faces after: 1408\n",
      "Vertices before: 91, Faces before: 130\n",
      "Refining mesh (7 iterations)... \n",
      "Finished.\n",
      "Vertices after: 2821, Faces after: 5462\n",
      "Vertices before: 35, Faces before: 48\n",
      "Refining mesh (7 iterations)... \n",
      "Finished.\n",
      "Vertices after: 2650, Faces after: 5118\n",
      "Vertices before: 22, Faces before: 26\n",
      "Refining mesh (7 iterations)... \n",
      "Finished.\n",
      "Vertices after: 10558, Faces after: 20783\n",
      "Vertices before: 25, Faces before: 22\n",
      "Refining mesh (7 iterations)... \n",
      "Finished.\n",
      "Vertices after: 6446, Faces after: 12335\n",
      "Vertices before: 79, Faces before: 130\n",
      "Refining mesh (7 iterations)... \n",
      "Finished.\n",
      "Vertices after: 1598, Faces after: 2944\n",
      "Vertices before: 39, Faces before: 76\n",
      "Refining mesh (7 iterations)... \n",
      "Finished.\n",
      "Vertices after: 2124, Faces after: 3942\n",
      "Vertices before: 74, Faces before: 144\n",
      "Refining mesh (7 iterations)... \n",
      "Finished.\n",
      "Vertices after: 1529, Faces after: 3054\n",
      "Vertices before: 87, Faces before: 498\n",
      "Refining mesh (7 iterations)... \n",
      "Finished.\n",
      "Vertices after: 434, Faces after: 860\n",
      "Vertices before: 46, Faces before: 90\n",
      "Refining mesh (7 iterations)... \n",
      "Finished.\n",
      "Vertices after: 9574, Faces after: 19367\n",
      "Vertices before: 40, Faces before: 46\n",
      "Refining mesh (7 iterations)... \n",
      "Finished.\n",
      "Vertices after: 2799, Faces after: 5206\n",
      "Vertices before: 66, Faces before: 120\n",
      "Refining mesh (7 iterations)... \n",
      "Finished.\n",
      "Vertices after: 3118, Faces after: 6224\n",
      "Vertices before: 24, Faces before: 36\n",
      "Refining mesh (7 iterations)... \n",
      "Finished.\n",
      "Vertices after: 4668, Faces after: 9324\n",
      "Vertices before: 28, Faces before: 44\n",
      "Refining mesh (7 iterations)... \n",
      "Finished.\n",
      "Vertices after: 5126, Faces after: 9934\n",
      "Vertices before: 94, Faces before: 180\n",
      "Refining mesh (7 iterations)... \n",
      "Finished.\n",
      "Vertices after: 12740, Faces after: 25006\n",
      "Vertices before: 36, Faces before: 68\n",
      "Refining mesh (7 iterations)... \n",
      "Finished.\n",
      "Vertices after: 7209, Faces after: 14414\n",
      "Vertices before: 81, Faces before: 98\n",
      "Refining mesh (7 iterations)... \n",
      "Finished.\n",
      "Vertices after: 5543, Faces after: 10472\n",
      "Vertices before: 76, Faces before: 120\n",
      "Refining mesh (7 iterations)... \n",
      "Finished.\n",
      "Vertices after: 5239, Faces after: 10450\n",
      "Vertices before: 88, Faces before: 132\n",
      "Refining mesh (7 iterations)... \n",
      "Finished.\n",
      "Vertices after: 2209, Faces after: 4374\n",
      "Vertices before: 96, Faces before: 156\n",
      "Refining mesh (7 iterations)... \n",
      "Finished.\n",
      "Vertices after: 3483, Faces after: 6930\n",
      "Vertices before: 70, Faces before: 74\n",
      "Refining mesh (7 iterations)... \n",
      "Finished.\n",
      "Vertices after: 3453, Faces after: 6427\n",
      "Vertices before: 240, Faces before: 120\n",
      "Refining mesh (7 iterations)... \n",
      "Finished.\n",
      "Vertices after: 16557, Faces after: 33074\n",
      "Vertices before: 99, Faces before: 166\n",
      "Refining mesh (7 iterations)... \n",
      "Finished.\n",
      "Vertices after: 15228, Faces after: 30432\n",
      "Vertices before: 72, Faces before: 121\n",
      "Refining mesh (7 iterations)... \n",
      "Finished.\n",
      "Vertices after: 5784, Faces after: 11275\n",
      "Vertices before: 48, Faces before: 92\n",
      "Refining mesh (7 iterations)... \n",
      "Finished.\n",
      "Vertices after: 4410, Faces after: 8816\n",
      "Vertices before: 60, Faces before: 184\n",
      "Refining mesh (7 iterations)... \n",
      "Finished.\n",
      "Vertices after: 19642, Faces after: 42150\n",
      "Vertices before: 68, Faces before: 88\n",
      "Refining mesh (7 iterations)... \n",
      "Finished.\n",
      "Vertices after: 6283, Faces after: 12254\n",
      "Vertices before: 44, Faces before: 52\n",
      "Refining mesh (7 iterations)... \n",
      "Finished.\n",
      "Vertices after: 8345, Faces after: 16500\n",
      "Vertices before: 56, Faces before: 84\n",
      "Refining mesh (7 iterations)... \n",
      "Finished.\n",
      "Vertices after: 8419, Faces after: 16810\n",
      "Vertices before: 60, Faces before: 86\n",
      "Refining mesh (7 iterations)... \n",
      "Finished.\n",
      "Vertices after: 4529, Faces after: 8700\n",
      "Vertices before: 96, Faces before: 172\n",
      "Refining mesh (7 iterations)... \n",
      "Finished.\n",
      "Vertices after: 13066, Faces after: 26112\n",
      "Vertices before: 36, Faces before: 60\n",
      "Refining mesh (7 iterations)... \n",
      "Finished.\n",
      "Vertices after: 4780, Faces after: 9548\n",
      "Vertices before: 80, Faces before: 100\n",
      "Refining mesh (7 iterations)... \n",
      "Finished.\n",
      "Vertices after: 8932, Faces after: 17724\n",
      "Vertices before: 80, Faces before: 100\n",
      "Refining mesh (7 iterations)... \n",
      "Finished.\n",
      "Vertices after: 5320, Faces after: 10512\n",
      "Vertices before: 48, Faces before: 67\n",
      "Refining mesh (7 iterations)... \n",
      "Finished.\n",
      "Vertices after: 9319, Faces after: 18145\n",
      "Vertices before: 36, Faces before: 60\n",
      "Refining mesh (7 iterations)... \n",
      "Finished.\n",
      "Vertices after: 3545, Faces after: 7078\n",
      "Vertices before: 40, Faces before: 60\n",
      "Refining mesh (7 iterations)... \n",
      "Finished.\n",
      "Vertices after: 3811, Faces after: 7602\n",
      "Vertices before: 96, Faces before: 172\n",
      "Refining mesh (7 iterations)... \n",
      "Finished.\n",
      "Vertices after: 4526, Faces after: 9032\n",
      "Vertices before: 78, Faces before: 124\n",
      "Refining mesh (7 iterations)... \n",
      "Finished.\n",
      "Vertices after: 9645, Faces after: 19272\n",
      "Vertices before: 88, Faces before: 156\n",
      "Refining mesh (7 iterations)... \n",
      "Finished.\n",
      "Vertices after: 3190, Faces after: 6360\n",
      "Vertices before: 36, Faces before: 56\n",
      "Refining mesh (7 iterations)... \n",
      "Finished.\n",
      "Vertices after: 3811, Faces after: 7498\n",
      "Vertices before: 93, Faces before: 108\n",
      "Refining mesh (7 iterations)... \n",
      "Finished.\n",
      "Vertices after: 5043, Faces after: 9942\n",
      "Vertices before: 54, Faces before: 88\n",
      "Refining mesh (7 iterations)... \n",
      "Finished.\n",
      "Vertices after: 6291, Faces after: 12562\n",
      "Vertices before: 54, Faces before: 88\n",
      "Refining mesh (7 iterations)... \n",
      "Finished.\n",
      "Vertices after: 6079, Faces after: 12138\n",
      "Vertices before: 55, Faces before: 100\n",
      "Refining mesh (7 iterations)... \n",
      "Finished.\n",
      "Vertices after: 5632, Faces after: 11254\n",
      "Vertices before: 72, Faces before: 140\n",
      "Refining mesh (7 iterations)... \n",
      "Finished.\n",
      "Vertices after: 9298, Faces after: 18592\n",
      "Vertices before: 74, Faces before: 106\n",
      "Refining mesh (7 iterations)... \n",
      "Finished.\n",
      "Vertices after: 32880, Faces after: 65724\n",
      "Vertices before: 60, Faces before: 88\n",
      "Refining mesh (7 iterations)... \n",
      "Finished.\n",
      "Vertices after: 13181, Faces after: 26078\n",
      "Vertices before: 68, Faces before: 120\n",
      "Refining mesh (7 iterations)... \n",
      "Finished.\n",
      "Vertices after: 15791, Faces after: 31940\n",
      "Vertices before: 96, Faces before: 204\n",
      "Refining mesh (7 iterations)... \n",
      "Finished.\n",
      "Vertices after: 14784, Faces after: 30136\n",
      "Vertices before: 46, Faces before: 44\n",
      "Refining mesh (7 iterations)... \n",
      "Finished.\n",
      "Vertices after: 12461, Faces after: 24256\n",
      "Vertices before: 64, Faces before: 96\n",
      "Refining mesh (7 iterations)... \n",
      "Finished.\n",
      "Vertices after: 18986, Faces after: 37940\n",
      "Vertices before: 48, Faces before: 28\n",
      "Refining mesh (7 iterations)... \n",
      "Finished.\n",
      "Vertices after: 2198, Faces after: 3688\n",
      "Vertices before: 56, Faces before: 84\n",
      "Refining mesh (7 iterations)... \n",
      "Finished.\n",
      "Vertices after: 6993, Faces after: 13958\n",
      "Vertices before: 98, Faces before: 156\n",
      "Refining mesh (7 iterations)... \n",
      "Finished.\n",
      "Vertices after: 2998, Faces after: 5885\n",
      "Vertices before: 80, Faces before: 86\n",
      "Refining mesh (7 iterations)... \n",
      "Finished.\n",
      "Vertices after: 643, Faces after: 1132\n",
      "Vertices before: 50, Faces before: 78\n",
      "Refining mesh (7 iterations)... \n",
      "Finished.\n",
      "Vertices after: 1767, Faces after: 3502\n",
      "Vertices before: 40, Faces before: 52\n",
      "Refining mesh (7 iterations)... \n",
      "Finished.\n",
      "Vertices after: 759, Faces after: 1408\n",
      "Vertices before: 44, Faces before: 76\n",
      "Refining mesh (7 iterations)... \n",
      "Finished.\n",
      "Vertices after: 4098, Faces after: 8184\n",
      "Vertices before: 72, Faces before: 363\n",
      "Refining mesh (7 iterations)... \n",
      "Finished.\n",
      "Vertices after: 47, Faces after: 78\n",
      "Vertices before: 24, Faces before: 52\n",
      "Refining mesh (7 iterations)... \n",
      "Finished.\n",
      "Vertices after: 449, Faces after: 861\n",
      "Vertices before: 82, Faces before: 140\n",
      "Refining mesh (7 iterations)... \n",
      "Finished.\n",
      "Vertices after: 3592, Faces after: 7160\n",
      "Vertices before: 35, Faces before: 31\n",
      "Refining mesh (7 iterations)... \n",
      "Finished.\n",
      "Vertices after: 447, Faces after: 710\n",
      "Vertices before: 32, Faces before: 68\n",
      "Refining mesh (7 iterations)... \n",
      "Finished.\n",
      "Vertices after: 8423, Faces after: 16970\n",
      "Vertices before: 80, Faces before: 128\n",
      "Refining mesh (7 iterations)... \n",
      "Finished.\n",
      "Vertices after: 8363, Faces after: 16526\n",
      "Edited 94 Elements\n"
     ]
    }
   ],
   "source": [
    "count = 0\n",
    "for i, row in df.iterrows():\n",
    "    if row['Vertices'] < 100 or row['Triangles'] < 100 or row['Vertices'] < 100: #or row['Vertices'] > 25000:\n",
    "        vAfter, fAfter, newFilePath = resample_mesh(row[\"Filepath\"], row[\"Filename\"] )\n",
    "        df.at[i, \"Vertices\"] = vAfter\n",
    "        df.at[i, \"Triangles\"] = fAfter\n",
    "        df.at[i, \"Filepath\"] = newFilePath\n",
    "        count += 1\n",
    "print(f\"Edited {count} Elements\")"
   ]
  },
  {
   "cell_type": "code",
   "execution_count": 25,
   "metadata": {},
   "outputs": [
    {
     "data": {
      "text/html": [
       "<div>\n",
       "<style scoped>\n",
       "    .dataframe tbody tr th:only-of-type {\n",
       "        vertical-align: middle;\n",
       "    }\n",
       "\n",
       "    .dataframe tbody tr th {\n",
       "        vertical-align: top;\n",
       "    }\n",
       "\n",
       "    .dataframe thead th {\n",
       "        text-align: right;\n",
       "    }\n",
       "</style>\n",
       "<table border=\"1\" class=\"dataframe\">\n",
       "  <thead>\n",
       "    <tr style=\"text-align: right;\">\n",
       "      <th></th>\n",
       "      <th>Class</th>\n",
       "      <th>Filename</th>\n",
       "      <th>Vertices</th>\n",
       "      <th>Triangles</th>\n",
       "      <th>Filepath</th>\n",
       "    </tr>\n",
       "  </thead>\n",
       "  <tbody>\n",
       "    <tr>\n",
       "      <th>204</th>\n",
       "      <td>Bird</td>\n",
       "      <td>m47.obj</td>\n",
       "      <td>101</td>\n",
       "      <td>165</td>\n",
       "      <td>./database/Bird\\m47.obj</td>\n",
       "    </tr>\n",
       "    <tr>\n",
       "      <th>222</th>\n",
       "      <td>Bookset</td>\n",
       "      <td>D01122.obj</td>\n",
       "      <td>108</td>\n",
       "      <td>624</td>\n",
       "      <td>./database/Bookset\\D01122.obj</td>\n",
       "    </tr>\n",
       "    <tr>\n",
       "      <th>1662</th>\n",
       "      <td>NonWheelChair</td>\n",
       "      <td>m807.obj</td>\n",
       "      <td>104</td>\n",
       "      <td>184</td>\n",
       "      <td>./database/NonWheelChair\\m807.obj</td>\n",
       "    </tr>\n",
       "    <tr>\n",
       "      <th>1910</th>\n",
       "      <td>RectangleTable</td>\n",
       "      <td>m913.obj</td>\n",
       "      <td>104</td>\n",
       "      <td>188</td>\n",
       "      <td>./database/RectangleTable\\m913.obj</td>\n",
       "    </tr>\n",
       "    <tr>\n",
       "      <th>2000</th>\n",
       "      <td>Shelf</td>\n",
       "      <td>m852.obj</td>\n",
       "      <td>104</td>\n",
       "      <td>228</td>\n",
       "      <td>./database/Shelf\\m852.obj</td>\n",
       "    </tr>\n",
       "    <tr>\n",
       "      <th>2001</th>\n",
       "      <td>Shelf</td>\n",
       "      <td>m853.obj</td>\n",
       "      <td>100</td>\n",
       "      <td>228</td>\n",
       "      <td>./database/Shelf\\m853.obj</td>\n",
       "    </tr>\n",
       "    <tr>\n",
       "      <th>2120</th>\n",
       "      <td>Spoon</td>\n",
       "      <td>D00422.obj</td>\n",
       "      <td>109</td>\n",
       "      <td>528</td>\n",
       "      <td>./database/Spoon\\D00422.obj</td>\n",
       "    </tr>\n",
       "    <tr>\n",
       "      <th>2121</th>\n",
       "      <td>Spoon</td>\n",
       "      <td>D00474.obj</td>\n",
       "      <td>47</td>\n",
       "      <td>78</td>\n",
       "      <td>./resampled/D00474.obj</td>\n",
       "    </tr>\n",
       "  </tbody>\n",
       "</table>\n",
       "</div>"
      ],
      "text/plain": [
       "               Class    Filename  Vertices  Triangles  \\\n",
       "204             Bird     m47.obj       101        165   \n",
       "222          Bookset  D01122.obj       108        624   \n",
       "1662   NonWheelChair    m807.obj       104        184   \n",
       "1910  RectangleTable    m913.obj       104        188   \n",
       "2000           Shelf    m852.obj       104        228   \n",
       "2001           Shelf    m853.obj       100        228   \n",
       "2120           Spoon  D00422.obj       109        528   \n",
       "2121           Spoon  D00474.obj        47         78   \n",
       "\n",
       "                                Filepath  \n",
       "204              ./database/Bird\\m47.obj  \n",
       "222        ./database/Bookset\\D01122.obj  \n",
       "1662   ./database/NonWheelChair\\m807.obj  \n",
       "1910  ./database/RectangleTable\\m913.obj  \n",
       "2000           ./database/Shelf\\m852.obj  \n",
       "2001           ./database/Shelf\\m853.obj  \n",
       "2120         ./database/Spoon\\D00422.obj  \n",
       "2121              ./resampled/D00474.obj  "
      ]
     },
     "execution_count": 25,
     "metadata": {},
     "output_type": "execute_result"
    }
   ],
   "source": [
    "df[df['Vertices']<111]"
   ]
  },
  {
   "cell_type": "markdown",
   "metadata": {},
   "source": [
    "Vertices before: 72, Faces before: 363\n",
    "Refining mesh (7 iterations)... \n",
    "Finished.\n",
    "Vertices after: 43, Faces after: 70"
   ]
  },
  {
   "cell_type": "code",
   "execution_count": 109,
   "metadata": {},
   "outputs": [
    {
     "data": {
      "text/html": [
       "<div>\n",
       "<style scoped>\n",
       "    .dataframe tbody tr th:only-of-type {\n",
       "        vertical-align: middle;\n",
       "    }\n",
       "\n",
       "    .dataframe tbody tr th {\n",
       "        vertical-align: top;\n",
       "    }\n",
       "\n",
       "    .dataframe thead th {\n",
       "        text-align: right;\n",
       "    }\n",
       "</style>\n",
       "<table border=\"1\" class=\"dataframe\">\n",
       "  <thead>\n",
       "    <tr style=\"text-align: right;\">\n",
       "      <th></th>\n",
       "      <th>Class</th>\n",
       "      <th>Triangles</th>\n",
       "    </tr>\n",
       "  </thead>\n",
       "  <tbody>\n",
       "    <tr>\n",
       "      <th>49</th>\n",
       "      <td>RectangleTable</td>\n",
       "      <td>1615.171875</td>\n",
       "    </tr>\n",
       "    <tr>\n",
       "      <th>52</th>\n",
       "      <td>Shelf</td>\n",
       "      <td>1685.511628</td>\n",
       "    </tr>\n",
       "    <tr>\n",
       "      <th>65</th>\n",
       "      <td>Vase</td>\n",
       "      <td>1935.550000</td>\n",
       "    </tr>\n",
       "    <tr>\n",
       "      <th>35</th>\n",
       "      <td>Jet</td>\n",
       "      <td>2098.300699</td>\n",
       "    </tr>\n",
       "    <tr>\n",
       "      <th>21</th>\n",
       "      <td>Door</td>\n",
       "      <td>2171.181818</td>\n",
       "    </tr>\n",
       "    <tr>\n",
       "      <th>...</th>\n",
       "      <td>...</td>\n",
       "      <td>...</td>\n",
       "    </tr>\n",
       "    <tr>\n",
       "      <th>20</th>\n",
       "      <td>DeskPhone</td>\n",
       "      <td>29362.850000</td>\n",
       "    </tr>\n",
       "    <tr>\n",
       "      <th>4</th>\n",
       "      <td>Bicycle</td>\n",
       "      <td>30098.615385</td>\n",
       "    </tr>\n",
       "    <tr>\n",
       "      <th>63</th>\n",
       "      <td>Truck</td>\n",
       "      <td>31413.185185</td>\n",
       "    </tr>\n",
       "    <tr>\n",
       "      <th>64</th>\n",
       "      <td>TruckNonContainer</td>\n",
       "      <td>33820.500000</td>\n",
       "    </tr>\n",
       "    <tr>\n",
       "      <th>10</th>\n",
       "      <td>Bus</td>\n",
       "      <td>47260.500000</td>\n",
       "    </tr>\n",
       "  </tbody>\n",
       "</table>\n",
       "<p>69 rows × 2 columns</p>\n",
       "</div>"
      ],
      "text/plain": [
       "                Class     Triangles\n",
       "49     RectangleTable   1615.171875\n",
       "52              Shelf   1685.511628\n",
       "65               Vase   1935.550000\n",
       "35                Jet   2098.300699\n",
       "21               Door   2171.181818\n",
       "..                ...           ...\n",
       "20          DeskPhone  29362.850000\n",
       "4             Bicycle  30098.615385\n",
       "63              Truck  31413.185185\n",
       "64  TruckNonContainer  33820.500000\n",
       "10                Bus  47260.500000\n",
       "\n",
       "[69 rows x 2 columns]"
      ]
     },
     "execution_count": 109,
     "metadata": {},
     "output_type": "execute_result"
    }
   ],
   "source": [
    "average_triangles"
   ]
  },
  {
   "cell_type": "code",
   "execution_count": 108,
   "metadata": {},
   "outputs": [
    {
     "data": {
      "image/png": "[encoded data removed]",
      "text/plain": [
       "<Figure size 1400x600 with 1 Axes>"
      ]
     },
     "metadata": {},
     "output_type": "display_data"
    }
   ],
   "source": [
    "average_triangles = df.groupby('Class')['Triangles'].mean().reset_index()\n",
    "\n",
    "# Sort the DataFrame by average Triangles in descending order\n",
    "average_triangles = average_triangles.sort_values(by='Triangles', ascending=True)\n",
    "\n",
    "\n",
    "# Create a bar chart with angled x-axis labels\n",
    "plt.figure(figsize=(14, 6))\n",
    "plt.bar(average_triangles['Class'], average_triangles['Triangles'])\n",
    "plt.xlabel('Class', ha='right')  # Angle the x-axis labels\n",
    "plt.xticks(rotation=90)\n",
    "plt.ylabel('Average Triangles')\n",
    "plt.title('Average Number of Triangles by Class (Ordered by Size)')\n",
    "plt.show()"
   ]
  },
  {
   "cell_type": "code",
   "execution_count": 77,
   "metadata": {},
   "outputs": [
    {
     "data": {
      "image/png": "[encoded data removed]",
      "text/plain": [
       "<Figure size 1000x600 with 1 Axes>"
      ]
     },
     "metadata": {},
     "output_type": "display_data"
    }
   ],
   "source": [
    "plt.figure(figsize=(10, 6))\n",
    "plt.bar(df['Class'], df['Triangles'])\n",
    "plt.xlabel('Class Name')\n",
    "plt.ylabel('Average Triangles')2\n",
    "plt.title('Average Number of Triangles by Class Name')\n",
    "plt.show()"
   ]
  },
  {
   "cell_type": "code",
   "execution_count": 26,
   "metadata": {},
   "outputs": [],
   "source": [
    "# viz_mesh('./resampled/D00474.obj')"
   ]
  },
  {
   "cell_type": "code",
   "execution_count": 27,
   "metadata": {},
   "outputs": [],
   "source": [
    "# viz_mesh('./database/Spoon/D00474.obj')"
   ]
  },
  {
   "cell_type": "code",
   "execution_count": 28,
   "metadata": {},
   "outputs": [
    {
     "data": {
      "text/html": [
       "<div>\n",
       "<style scoped>\n",
       "    .dataframe tbody tr th:only-of-type {\n",
       "        vertical-align: middle;\n",
       "    }\n",
       "\n",
       "    .dataframe tbody tr th {\n",
       "        vertical-align: top;\n",
       "    }\n",
       "\n",
       "    .dataframe thead th {\n",
       "        text-align: right;\n",
       "    }\n",
       "</style>\n",
       "<table border=\"1\" class=\"dataframe\">\n",
       "  <thead>\n",
       "    <tr style=\"text-align: right;\">\n",
       "      <th></th>\n",
       "      <th>Class</th>\n",
       "      <th>Filename</th>\n",
       "      <th>Vertices</th>\n",
       "      <th>Triangles</th>\n",
       "      <th>Filepath</th>\n",
       "    </tr>\n",
       "  </thead>\n",
       "  <tbody>\n",
       "    <tr>\n",
       "      <th>665</th>\n",
       "      <td>Door</td>\n",
       "      <td>D01121.obj</td>\n",
       "      <td>16</td>\n",
       "      <td>16</td>\n",
       "      <td>./database/Door\\D01121.obj</td>\n",
       "    </tr>\n",
       "    <tr>\n",
       "      <th>676</th>\n",
       "      <td>Door</td>\n",
       "      <td>D01194.obj</td>\n",
       "      <td>18</td>\n",
       "      <td>18</td>\n",
       "      <td>./database/Door\\D01194.obj</td>\n",
       "    </tr>\n",
       "    <tr>\n",
       "      <th>678</th>\n",
       "      <td>Door</td>\n",
       "      <td>m1708.obj</td>\n",
       "      <td>16</td>\n",
       "      <td>16</td>\n",
       "      <td>./database/Door\\m1708.obj</td>\n",
       "    </tr>\n",
       "    <tr>\n",
       "      <th>1015</th>\n",
       "      <td>House</td>\n",
       "      <td>m462.obj</td>\n",
       "      <td>25</td>\n",
       "      <td>22</td>\n",
       "      <td>./database/House\\m462.obj</td>\n",
       "    </tr>\n",
       "  </tbody>\n",
       "</table>\n",
       "</div>"
      ],
      "text/plain": [
       "      Class    Filename  Vertices  Triangles                    Filepath\n",
       "665    Door  D01121.obj        16         16  ./database/Door\\D01121.obj\n",
       "676    Door  D01194.obj        18         18  ./database/Door\\D01194.obj\n",
       "678    Door   m1708.obj        16         16   ./database/Door\\m1708.obj\n",
       "1015  House    m462.obj        25         22   ./database/House\\m462.obj"
      ]
     },
     "execution_count": 28,
     "metadata": {},
     "output_type": "execute_result"
    }
   ],
   "source": [
    "lowTrianglesDf"
   ]
  },
  {
   "cell_type": "code",
   "execution_count": null,
   "metadata": {},
   "outputs": [],
   "source": [
    "viz_mesh(path)"
   ]
  },
  {
   "cell_type": "code",
   "execution_count": null,
   "metadata": {},
   "outputs": [],
   "source": [
    "viz_mesh(\"refined_iter4.obj\")"
   ]
  },
  {
   "cell_type": "markdown",
   "metadata": {},
   "source": [
    "### Statistics after resampling"
   ]
  },
  {
   "cell_type": "code",
   "execution_count": 30,
   "metadata": {},
   "outputs": [
    {
     "data": {
      "image/png": "[encoded data removed]",
      "text/plain": [
       "<Figure size 640x480 with 1 Axes>"
      ]
     },
     "metadata": {},
     "output_type": "display_data"
    }
   ],
   "source": [
    "import matplotlib.pyplot  as plt\n",
    "# Create a histogram\n",
    "plt.hist(df['Vertices'], bins=100, edgecolor='k')  # Adjust the number of bins as needed\n",
    "plt.xlabel('Vertices')\n",
    "plt.ylabel('Frequency')\n",
    "plt.title('Histogram of Vertices')\n",
    "plt.grid(True)\n",
    "\n",
    "# Display the histogram\n",
    "plt.show()"
   ]
  },
  {
   "cell_type": "code",
   "execution_count": 31,
   "metadata": {},
   "outputs": [
    {
     "data": {
      "text/plain": [
       "('Min. Vertices:',\n",
       " 47,\n",
       " 'Max. Vertices:',\n",
       " 73440,\n",
       " 'Avg. Vertices',\n",
       " 5255.640757148611)"
      ]
     },
     "execution_count": 31,
     "metadata": {},
     "output_type": "execute_result"
    }
   ],
   "source": [
    "\"Min. Vertices:\", df[\"Vertices\"].min(), \"Max. Vertices:\", df[\"Vertices\"].max(), \"Avg. Vertices\", df[\"Vertices\"].mean()"
   ]
  },
  {
   "cell_type": "code",
   "execution_count": 32,
   "metadata": {},
   "outputs": [
    {
     "data": {
      "text/plain": [
       "('Min. Triangles:',\n",
       " 78,\n",
       " 'Max. Triangles:',\n",
       " 129881,\n",
       " 'Avg. Triangles',\n",
       " 11148.592025775271)"
      ]
     },
     "execution_count": 32,
     "metadata": {},
     "output_type": "execute_result"
    }
   ],
   "source": [
    "\"Min. Triangles:\", df[\"Triangles\"].min(), \"Max. Triangles:\", df[\"Triangles\"].max(), \"Avg. Triangles\", df[\"Triangles\"].mean()"
   ]
  },
  {
   "cell_type": "code",
   "execution_count": 118,
   "metadata": {},
   "outputs": [],
   "source": [
    "viz_mesh(\"./resampled/D00015.obj\")"
   ]
  },
  {
   "cell_type": "code",
   "execution_count": 119,
   "metadata": {},
   "outputs": [],
   "source": [
    "viz_mesh(\"./database/Rocket/D00015.obj\")"
   ]
  }
 ],
 "metadata": {
  "kernelspec": {
   "display_name": "mrproject",
   "language": "python",
   "name": "python3"
  },
  "language_info": {
   "codemirror_mode": {
    "name": "ipython",
    "version": 3
   },
   "file_extension": ".py",
   "mimetype": "text/x-python",
   "name": "python",
   "nbconvert_exporter": "python",
   "pygments_lexer": "ipython3",
   "version": "3.8.0"
  },
  "orig_nbformat": 4
 },
 "nbformat": 4,
 "nbformat_minor": 2
}
