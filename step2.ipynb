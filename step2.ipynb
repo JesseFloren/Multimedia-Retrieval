{
 "cells": [
  {
   "cell_type": "code",
   "execution_count": 1,
   "metadata": {},
   "outputs": [
    {
     "name": "stdout",
     "output_type": "stream",
     "text": [
      "Jupyter environment detected. Enabling Open3D WebVisualizer.\n",
      "[Open3D INFO] WebRTC GUI backend enabled.\n",
      "[Open3D INFO] WebRTCWindowSystem: HTTP handshake server disabled.\n"
     ]
    }
   ],
   "source": [
    "import open3d as o3d\n",
    "import numpy as np\n",
    "import os\n",
    "import glob\n",
    "import pandas as pd\n"
   ]
  },
  {
   "cell_type": "markdown",
   "metadata": {},
   "source": [
    "Start building a simple tool that checks all shapes in the database. The tool should output, for each shape\n",
    "\n",
    "-   the class of the shape\n",
    "-   the number of faces and vertices of the shape\n",
    "-   the type of faces (e.g. only triangles, only quads, mixes of triangles and quads)\n",
    "-   the axis-aligned 3D bounding box of the shapes"
   ]
  },
  {
   "cell_type": "code",
   "execution_count": 20,
   "metadata": {},
   "outputs": [],
   "source": [
    "dbpath = r\"./database/\"\n",
    "mesh_path = dbpath + r\"Sign/m1675.obj\"\n",
    "\n",
    "mesh_data = []\n",
    "\n",
    "for class_folder in os.listdir(dbpath):\n",
    "    # Construct the full path to the subfolder\n",
    "    class_folder_path = os.path.join(dbpath, class_folder)\n",
    "    \n",
    "    # Check if the item in the directory is a directory (to skip files)\n",
    "    if os.path.isdir(class_folder_path):\n",
    "        # Assuming the class folder name is the class name\n",
    "        class_name = class_folder\n",
    "        \n",
    "        # Iterate through .obj files in the subfolder\n",
    "        for obj_file_path in glob.glob(os.path.join(class_folder_path, '*.obj')):\n",
    "            # Read the .obj file using tripy\n",
    "            obj = obj_file_path.split(\"\\\\\")[-1]\n",
    "            mesh = o3d.io.read_triangle_mesh(obj_file_path)\n",
    "            vertices = np.asarray(mesh.vertices)\n",
    "            triangles = np.asarray(mesh.triangles)\n",
    "            mesh_data.append([class_name, obj, len(vertices), len(triangles), mesh])\n",
    "\n",
    "            # print(f\"Class: {class_name}, Vertices: {len(vertices)}, Triangles: {len(triangles)}\")"
   ]
  },
  {
   "cell_type": "code",
   "execution_count": 21,
   "metadata": {},
   "outputs": [
    {
     "name": "stdout",
     "output_type": "stream",
     "text": [
      "                Class      Object  Vertices  Triangles  \\\n",
      "0     AircraftBuoyant   m1337.obj       201        340   \n",
      "1     AircraftBuoyant   m1338.obj      8761      16960   \n",
      "2     AircraftBuoyant   m1339.obj      1878       6173   \n",
      "3     AircraftBuoyant   m1340.obj       778       1457   \n",
      "4     AircraftBuoyant   m1341.obj       425        824   \n",
      "...               ...         ...       ...        ...   \n",
      "2478       WheelChair  D00687.obj      8188      16268   \n",
      "2479       WheelChair  D00720.obj     43912      83378   \n",
      "2480       WheelChair  D00782.obj      1134       1940   \n",
      "2481       WheelChair  D00821.obj      8188      16268   \n",
      "2482       WheelChair  D00846.obj      8834      17196   \n",
      "\n",
      "                                                   data  \n",
      "0       TriangleMesh with 201 points and 340 triangles.  \n",
      "1     TriangleMesh with 8761 points and 16960 triang...  \n",
      "2     TriangleMesh with 1878 points and 6173 triangles.  \n",
      "3      TriangleMesh with 778 points and 1457 triangles.  \n",
      "4       TriangleMesh with 425 points and 824 triangles.  \n",
      "...                                                 ...  \n",
      "2478  TriangleMesh with 8188 points and 16268 triang...  \n",
      "2479  TriangleMesh with 43912 points and 83378 trian...  \n",
      "2480  TriangleMesh with 1134 points and 1940 triangles.  \n",
      "2481  TriangleMesh with 8188 points and 16268 triang...  \n",
      "2482  TriangleMesh with 8834 points and 17196 triang...  \n",
      "\n",
      "[2483 rows x 5 columns]\n"
     ]
    }
   ],
   "source": [
    "df = pd.DataFrame(mesh_data, columns=[\"Class\", \"Object\", \"Vertices\", \"Triangles\", \"data\"])\n",
    "print(df)"
   ]
  },
  {
   "cell_type": "code",
   "execution_count": 10,
   "metadata": {},
   "outputs": [],
   "source": [
    "dfmesh = df.iloc[0][\"data\"]"
   ]
  },
  {
   "cell_type": "code",
   "execution_count": 11,
   "metadata": {},
   "outputs": [],
   "source": [
    "o3d.visualization.draw_geometries([dfmesh])"
   ]
  },
  {
   "cell_type": "code",
   "execution_count": 12,
   "metadata": {},
   "outputs": [
    {
     "data": {
      "text/plain": [
       "(16, 73440, 5025.5453080950465)"
      ]
     },
     "execution_count": 12,
     "metadata": {},
     "output_type": "execute_result"
    }
   ],
   "source": [
    "df[\"Vertices\"].min(), df[\"Vertices\"].max(), df[\"Vertices\"].mean()"
   ]
  },
  {
   "cell_type": "code",
   "execution_count": 13,
   "metadata": {},
   "outputs": [
    {
     "data": {
      "text/plain": [
       "(16, 129881, 10691.52597664116)"
      ]
     },
     "execution_count": 13,
     "metadata": {},
     "output_type": "execute_result"
    }
   ],
   "source": [
    "df[\"Triangles\"].min(), df[\"Triangles\"].max(), df[\"Triangles\"].mean()"
   ]
  },
  {
   "cell_type": "markdown",
   "metadata": {},
   "source": [
    "### The type of faces (e.g. only triangles, only quads, mixes of triangles and quads)"
   ]
  },
  {
   "cell_type": "code",
   "execution_count": 14,
   "metadata": {},
   "outputs": [],
   "source": [
    "dbpath = r\"./database/\"\n",
    "mesh_path = dbpath + r\"Sign/m1675.obj\"\n",
    "\n",
    "mesh_data = []\n",
    "\n",
    "for class_folder in os.listdir(dbpath):\n",
    "    # Construct the full path to the subfolder\n",
    "    class_folder_path = os.path.join(dbpath, class_folder)\n",
    "    \n",
    "    # Check if the item in the directory is a directory (to skip files)\n",
    "    if os.path.isdir(class_folder_path):\n",
    "        # Assuming the class folder name is the class name\n",
    "        class_name = class_folder\n",
    "        \n",
    "        # Iterate through .obj files in the subfolder\n",
    "        for obj_file_path in glob.glob(os.path.join(class_folder_path, '*.obj')):\n",
    "            # Read the .obj file using tripy\n",
    "            # mesh = o3d.io.read_triangle_mesh(obj_file_path)\n",
    "            with open(obj_file_path, 'r') as file:\n",
    "            # Iterate through each line in the file\n",
    "                for line in file:\n",
    "                    # Check if the line starts with 'f' (case-sensitive)\n",
    "                    if line.startswith('f'):\n",
    "                        if len(line.split(\" \"))!= 4:\n",
    "                            print(len(line.split(\" \")))\n",
    "\n",
    "            # print(f\"Class: {class_name}, Vertices: {len(vertices)}, Triangles: {len(triangles)}\")"
   ]
  },
  {
   "cell_type": "markdown",
   "metadata": {},
   "source": [
    "Only shapes of 3, otherwise it would have printed out something"
   ]
  },
  {
   "cell_type": "markdown",
   "metadata": {},
   "source": [
    "### Axis-aligned bouding box"
   ]
  },
  {
   "cell_type": "code",
   "execution_count": null,
   "metadata": {},
   "outputs": [],
   "source": [
    "mesh = o3d.io.read_triangle_mesh(mesh_path)\n",
    "mesh.compute_vertex_normals()\n",
    "aabb = mesh.get_axis_aligned_bounding_box()\n",
    "\n",
    "\n",
    "# Get the minimum and maximum coordinates of the AABB\n",
    "min_coords = aabb.get_min_bound()\n",
    "max_coords = aabb.get_max_bound()\n",
    "\n",
    "# Define the eight corners of the AABB\n",
    "vertices = [\n",
    "    min_coords,\n",
    "    [max_coords[0], min_coords[1], min_coords[2]],\n",
    "    [max_coords[0], max_coords[1], min_coords[2]],\n",
    "    [min_coords[0], max_coords[1], min_coords[2]],\n",
    "    [min_coords[0], min_coords[1], max_coords[2]],\n",
    "    [max_coords[0], min_coords[1], max_coords[2]],\n",
    "    max_coords,\n",
    "    [min_coords[0], max_coords[1], max_coords[2]]\n",
    "]\n",
    "\n",
    "# Define the edges of the AABB\n",
    "lines = [\n",
    "    [0, 1],\n",
    "    [1, 2],\n",
    "    [2, 3],\n",
    "    [3, 0],\n",
    "    [4, 5],\n",
    "    [5, 6],\n",
    "    [6, 7],\n",
    "    [7, 4],\n",
    "    [0, 4],\n",
    "    [1, 5],\n",
    "    [2, 6],\n",
    "    [3, 7]\n",
    "]\n",
    "\n",
    "# Create a LineSet to visualize the AABB\n",
    "aabb_line_set = o3d.geometry.LineSet()\n",
    "aabb_line_set.points = o3d.utility.Vector3dVector(vertices)\n",
    "aabb_line_set.lines = o3d.utility.Vector2iVector(lines)\n",
    "\n",
    "# Customize the bounding box appearance\n",
    "line_set_color = np.array([1.0, 0.0, 0.0])  # Red color (R, G, B)\n",
    "line_set_line_width = 5.0  # Adjust line width as needed\n",
    "\n",
    "# Set the line set's color and line width\n",
    "aabb_line_set.paint_uniform_color(line_set_color)\n",
    "# aabb_line_set.line_width = line_set_line_width\n",
    "\n",
    "# Visualize the object and its AABB\n",
    "o3d.visualization.draw_geometries([mesh, aabb_line_set])"
   ]
  }
 ],
 "metadata": {
  "kernelspec": {
   "display_name": "mrproject",
   "language": "python",
   "name": "python3"
  },
  "language_info": {
   "codemirror_mode": {
    "name": "ipython",
    "version": 3
   },
   "file_extension": ".py",
   "mimetype": "text/x-python",
   "name": "python",
   "nbconvert_exporter": "python",
   "pygments_lexer": "ipython3",
   "version": "3.8.0"
  },
  "orig_nbformat": 4
 },
 "nbformat": 4,
 "nbformat_minor": 2
}
