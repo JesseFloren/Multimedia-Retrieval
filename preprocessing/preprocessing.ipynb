{
 "cells": [
  {
   "cell_type": "code",
   "execution_count": null,
   "metadata": {},
   "outputs": [],
   "source": [
    "import open3d as o3d\n",
    "import numpy as np\n",
    "import os\n",
    "import glob\n",
    "import pandas as pd\n",
    "import pymeshlab as pml\n",
    "import time\n",
    "import matplotlib as plt"
   ]
  },
  {
   "cell_type": "code",
   "execution_count": null,
   "metadata": {},
   "outputs": [],
   "source": [
    "database_stats_pkl = \"dataframe.pkl\""
   ]
  },
  {
   "cell_type": "code",
   "execution_count": null,
   "metadata": {},
   "outputs": [],
   "source": [
    "from stats import getstatistics_o3d, getstatistics_pml"
   ]
  },
  {
   "cell_type": "code",
   "execution_count": null,
   "metadata": {},
   "outputs": [],
   "source": [
    "original_dbpath = \"../database\"\n",
    "if not os.path.exists(database_stats_pkl):\n",
    "    getstatistics_o3d(original_dbpath,pkl_path=database_stats_pkl)"
   ]
  },
  {
   "cell_type": "code",
   "execution_count": null,
   "metadata": {},
   "outputs": [],
   "source": [
    "df = pd.read_pickle(database_stats_pkl)\n"
   ]
  },
  {
   "cell_type": "markdown",
   "metadata": {},
   "source": [
    "Min, Max and average Number of triangles and Vertices over the entire dataset"
   ]
  },
  {
   "cell_type": "code",
   "execution_count": null,
   "metadata": {},
   "outputs": [
    {
     "data": {
      "text/plain": [
       "('Min. Vertices:',\n",
       " 16,\n",
       " 'Max. Vertices:',\n",
       " 73440,\n",
       " 'Avg. Vertices',\n",
       " 5025.5453080950465)"
      ]
     },
     "metadata": {},
     "output_type": "display_data"
    }
   ],
   "source": [
    "\"Min. Vertices:\", df[\"Vertices\"].min(), \"Max. Vertices:\", df[\"Vertices\"].max(), \"Avg. Vertices\", df[\"Vertices\"].mean()"
   ]
  }
 ],
 "metadata": {
  "kernelspec": {
   "display_name": "mrproject",
   "language": "python",
   "name": "python3"
  },
  "language_info": {
   "name": "python",
   "version": "3.8.0"
  }
 },
 "nbformat": 4,
 "nbformat_minor": 2
}
