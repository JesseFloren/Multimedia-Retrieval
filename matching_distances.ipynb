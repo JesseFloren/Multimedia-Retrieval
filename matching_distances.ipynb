{
 "cells": [
  {
   "cell_type": "code",
   "execution_count": 1,
   "metadata": {},
   "outputs": [],
   "source": [
    "import numpy as np\n",
    "import math\n",
    "import matplotlib as plt\n",
    "import pickle\n",
    "import statistics\n",
    "import os\n",
    "import glob\n",
    "import pandas as pd"
   ]
  },
  {
   "cell_type": "code",
   "execution_count": 91,
   "metadata": {},
   "outputs": [],
   "source": [
    "data = pd.read_pickle(\"normalized_features_final.pkl\")\n",
    "#data\n",
    "\n",
    "data2 = pd.read_pickle(\"features_final_no_norm.pkl\")\n",
    "#data2"
   ]
  },
  {
   "cell_type": "code",
   "execution_count": 44,
   "metadata": {},
   "outputs": [],
   "source": [
    "#computes euclidean distance between 2 vectors\n",
    "def euclidean_distance(vector1, vector2):\n",
    "    euclidean = np.linalg.norm(np.asarray(vector1[2:9]) - np.asarray(vector2[2:9]))\n",
    "    return euclidean\n",
    "\n",
    "#computes cosine distance between 2 vectors\n",
    "def cosine_distance(vector1, vector2):\n",
    "    one_arr = np.asarray(vector1)\n",
    "    two_arr = np.asarray(vector2)\n",
    "\n",
    "    #scalar_weight = 1 / 12\n",
    "    #weights = np.append(np.full(shape=7, fill_value=(scalar_weight)), np.full(shape=500, fill_value=(scalar_weight / 100)))\n",
    "    #one_arr = one_arr * weights\n",
    "    #two_arr = two_arr * weights\n",
    "    cosine = 1 - ((one_arr @ two_arr) / (np.linalg.norm(one_arr) * np.linalg.norm(two_arr)))\n",
    "    return cosine"
   ]
  },
  {
   "cell_type": "code",
   "execution_count": 88,
   "metadata": {},
   "outputs": [],
   "source": [
    "def scale_dict(my_dict, max_val):\n",
    "    for i in my_dict:\n",
    "        my_dict[i] = float(my_dict[i]/max_val)\n",
    "    return my_dict \n",
    "\n",
    "def combine_dicts(dict1, dict2):\n",
    "    new_dict = {}\n",
    "    for i in dict1:\n",
    "        mean_distance = (dict1[i] + dict2[i])/2\n",
    "        new_dict[i] = mean_distance \n",
    "    return new_dict\n",
    "\n",
    "#returns top k matches\n",
    "def match(vector1, k):\n",
    "    distance_dictionary = {}\n",
    "    distance_dictionary_2 = {}\n",
    "    for i in range(len(data)):\n",
    "        vector2 = data.iloc[i]\n",
    "        match_path = vector2[1]\n",
    "        distance = cosine_distance(vector1[2:9], vector2[2:9])\n",
    "        distance_dictionary[match_path] = distance\n",
    "\n",
    "        distance_2 = euclidean_distance(vector1[2:9], vector2[2:9])\n",
    "        distance_dictionary_2[match_path] = distance_2\n",
    "\n",
    "    #combining the two distance dicts\n",
    "    max_value = max(distance_dictionary_2, key=distance_dictionary_2.get)\n",
    "    maximum = distance_dictionary_2[max_value]\n",
    "    distance_dictionary_2 = scale_dict(distance_dictionary_2, maximum)\n",
    "    new_dict = combine_dicts(distance_dictionary, distance_dictionary_2)\n",
    "\n",
    "    # Sort the dictionary by value using a lambda function to extract the values\n",
    "    result = dict(sorted(distance_dictionary.items(), key = lambda x: x[1], reverse = False)[:k])\n",
    "    return result\n"
   ]
  },
  {
   "cell_type": "code",
   "execution_count": 95,
   "metadata": {},
   "outputs": [
    {
     "name": "stdout",
     "output_type": "stream",
     "text": [
      "input object path: ./features/AircraftBuoyant\\m1339\n",
      "top k closest matches in database (paths+cosine distance):\n",
      "('./features/AircraftBuoyant\\\\m1339', -2.220446049250313e-16)\n",
      "('./features/Insect\\\\D00109', 0.011747381260536871)\n",
      "('./features/Hat\\\\m1640', 0.042311048282604236)\n",
      "('./features/AircraftBuoyant\\\\m1345', 0.05316887771273271)\n",
      "('./features/RoundTable\\\\D00649', 0.05655049073037477)\n",
      "('./features/Starship\\\\m1383', 0.057071643244073655)\n",
      "('./features/Hat\\\\m1629', 0.07086972725311957)\n",
      "('./features/Tree\\\\D00096', 0.07403415485066367)\n",
      "('./features/HumanHead\\\\m367', 0.07491248074400703)\n",
      "('./features/Insect\\\\D00102', 0.07592997278520575)\n"
     ]
    }
   ],
   "source": [
    "vector1 = data.iloc[2]\n",
    "print(\"input object path:\", vector1[1])\n",
    "result = match(vector1, 10)\n",
    "print(\"top k closest matches in database (paths+cosine distance):\")\n",
    "for i in list(result.items()):\n",
    "    print(i)"
   ]
  },
  {
   "cell_type": "code",
   "execution_count": 29,
   "metadata": {},
   "outputs": [
    {
     "name": "stdout",
     "output_type": "stream",
     "text": [
      "100\n",
      "507\n"
     ]
    }
   ],
   "source": [
    "def flatten(vec):\n",
    "    output = [vec[2], vec[3], vec[4], vec[5], vec[6], vec[7], vec[8]]\n",
    "    output.extend(vec[9])\n",
    "    output.extend(vec[10])\n",
    "    output.extend(vec[11])\n",
    "    output.extend(vec[12])\n",
    "    output.extend(vec[13])\n",
    "    return output"
   ]
  },
  {
   "cell_type": "code",
   "execution_count": 47,
   "metadata": {},
   "outputs": [
    {
     "data": {
      "text/plain": [
       "{'./features/House\\\\m448': 0.0,\n",
       " './features/Musical_Instrument\\\\m644': 0.12238787259691584,\n",
       " './features/FloorLamp\\\\D00093': 0.2932603932248084,\n",
       " './features/Mug\\\\m508': 0.36045628313698785,\n",
       " './features/Vase\\\\m544': 0.3853557551368405,\n",
       " './features/NonWheelChair\\\\m799': 0.45013940731346797,\n",
       " './features/PlantWildNonTree\\\\m1052': 0.4614051862866583,\n",
       " './features/PlantIndoors\\\\m1027': 0.46755340133572737,\n",
       " './features/NonWheelChair\\\\m796': 0.4880073933374033,\n",
       " './features/BuildingNonResidential\\\\m415': 0.496067330305771}"
      ]
     },
     "execution_count": 47,
     "metadata": {},
     "output_type": "execute_result"
    }
   ],
   "source": [
    "#returns top k matches\n",
    "def match_test(vector1, k):\n",
    "    vector1 = flatten(vector1)\n",
    "    distance_dictionary = {}\n",
    "    for i in range(len(data)):\n",
    "        vector2 = data.iloc[i]\n",
    "        match_path = vector2[1]\n",
    "        vector2 = flatten(vector2)\n",
    "        \n",
    "        distance = euclidean_distance(vector1, vector2)\n",
    "        distance_dictionary[match_path] = distance\n",
    "        \n",
    "    # Sort the dictionary by value using a lambda function to extract the values\n",
    "    result = dict(sorted(distance_dictionary.items(), key = lambda x: x[1], reverse = False)[:k])\n",
    "    return result\n",
    "\n",
    "vector1 = data.iloc[1000]\n",
    "match_test(vector1, 10)"
   ]
  }
 ],
 "metadata": {
  "kernelspec": {
   "display_name": "mrproject",
   "language": "python",
   "name": "python3"
  },
  "language_info": {
   "codemirror_mode": {
    "name": "ipython",
    "version": 3
   },
   "file_extension": ".py",
   "mimetype": "text/x-python",
   "name": "python",
   "nbconvert_exporter": "python",
   "pygments_lexer": "ipython3",
   "version": "3.8.0"
  },
  "orig_nbformat": 4
 },
 "nbformat": 4,
 "nbformat_minor": 2
}
