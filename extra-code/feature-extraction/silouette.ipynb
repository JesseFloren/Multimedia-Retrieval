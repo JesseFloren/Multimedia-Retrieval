{
 "cells": [
  {
   "cell_type": "code",
   "execution_count": 1,
   "metadata": {},
   "outputs": [],
   "source": [
    "def compress_vector(vector, count):\n",
    "    for _ in range(count):\n",
    "        new_vector = []\n",
    "        for i in range(0, len(vector) - 1, 2):\n",
    "            new_vector.append((vector[i] + vector[i + 1]) / 2)\n",
    "        vector = new_vector\n",
    "    return vector\n"
   ]
  },
  {
   "cell_type": "code",
   "execution_count": 2,
   "metadata": {},
   "outputs": [
    {
     "name": "stdout",
     "output_type": "stream",
     "text": [
      "Jupyter environment detected. Enabling Open3D WebVisualizer.\n",
      "[Open3D INFO] WebRTC GUI backend enabled.\n",
      "[Open3D INFO] WebRTCWindowSystem: HTTP handshake server disabled.\n"
     ]
    }
   ],
   "source": [
    "import open3d as o3d\n",
    "import os\n",
    "import time\n",
    "import pymeshlab as pml\n",
    "import numpy as np\n",
    "\n",
    "def o3d_to_pml(mesh):\n",
    "    tmp_file_name = \"temp.obj\"\n",
    "    o3d.io.write_triangle_mesh(tmp_file_name, mesh)\n",
    "    if not os.path.exists(tmp_file_name):\n",
    "        print(f\"File '{tmp_file_name}' doesn't exist. Waiting for 1 second...\")\n",
    "        time.sleep(1)    \n",
    "    mesh_pml = pml.MeshSet()\n",
    "    mesh_pml.load_new_mesh(tmp_file_name)\n",
    "    os.remove(tmp_file_name)\n",
    "    return mesh_pml\n",
    "\n",
    "def pml_to_o3d(mesh):\n",
    "    tmp_file_name = \"temp.obj\"\n",
    "\n",
    "    mesh.save_current_mesh(tmp_file_name)\n",
    "    if not os.path.exists(tmp_file_name):\n",
    "        print(f\"File '{tmp_file_name}' doesn't exist. Waiting for 1 second...\")\n",
    "        time.sleep(1)   \n",
    "    mesh_o3d = o3d.io.read_triangle_mesh(tmp_file_name)\n",
    "    os.remove(tmp_file_name)\n",
    "    return mesh_o3d"
   ]
  },
  {
   "cell_type": "code",
   "execution_count": 3,
   "metadata": {},
   "outputs": [],
   "source": [
    "def get_object_image(mesh):\n",
    "    vertices = np.asarray(mesh.vertices)\n",
    "\n",
    "    grid1 = np.zeros((150, 150))\n",
    "    grid2 = np.zeros((150, 150))\n",
    "    grid3 = np.zeros((150, 150))\n",
    "\n",
    "    for x1, y1, z1 in vertices:\n",
    "        x = round(75 + x1 * 100)\n",
    "        y = round(75 + y1 * 100)\n",
    "        z = round(75 + z1 * 100)\n",
    "        \n",
    "        if x < 150 and y < 150:\n",
    "            grid1[x][y] = 1\n",
    "        if y < 150 and z < 150:\n",
    "            grid2[y][z] = 1\n",
    "        if x < 150 and z < 150:\n",
    "            grid3[x][z] = 1\n",
    "\n",
    "    return grid1, grid2, grid3"
   ]
  },
  {
   "cell_type": "code",
   "execution_count": 6,
   "metadata": {},
   "outputs": [
    {
     "data": {
      "image/png": "[encoded data removed]",
      "text/plain": [
       "<Figure size 640x480 with 3 Axes>"
      ]
     },
     "metadata": {},
     "output_type": "display_data"
    }
   ],
   "source": [
    "import matplotlib.pyplot as plt\n",
    "import open3d as o3d\n",
    "import glob\n",
    "\n",
    "paths = glob.glob(os.path.join(\"../../resampledDatabase/Jet\", '*'))[:3]\n",
    "\n",
    "f, axarr = plt.subplots(1,len(paths))\n",
    "\n",
    "for i in range(len(paths)):\n",
    "    mesh = o3d.io.read_triangle_mesh(paths[i])\n",
    "\n",
    "    mesh = o3d_to_pml(mesh)\n",
    "    mesh.meshing_isotropic_explicit_remeshing(targetlen=pml.AbsoluteValue(0.01), iterations=5)\n",
    "    mesh = pml_to_o3d(mesh)\n",
    "\n",
    "    grid1, _, _ = get_object_image(mesh)\n",
    "\n",
    "    axarr[i].imshow((grid1), interpolation='nearest')"
   ]
  }
 ],
 "metadata": {
  "kernelspec": {
   "display_name": "Python 3",
   "language": "python",
   "name": "python3"
  },
  "language_info": {
   "codemirror_mode": {
    "name": "ipython",
    "version": 3
   },
   "file_extension": ".py",
   "mimetype": "text/x-python",
   "name": "python",
   "nbconvert_exporter": "python",
   "pygments_lexer": "ipython3",
   "version": "3.8.10"
  }
 },
 "nbformat": 4,
 "nbformat_minor": 2
}
